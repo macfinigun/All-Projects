{
 "cells": [
  {
   "cell_type": "markdown",
   "id": "93dcd9a9-5b22-4c0c-9009-c6333685b30b",
   "metadata": {},
   "source": [
    "# Оглавление\n",
    "* [1. Описание проекта](#b1)\n",
    "* [1.1 Подготовка данных](#b2)\n",
    "* [2. Анализ данных](#b3)\n",
    "* [3. Простроение модели](#b4)\n",
    "* [4. Вывод](#b5)"
   ]
  },
  {
   "cell_type": "markdown",
   "id": "87c1a466-faba-45f5-acbe-30ad20e6b6d5",
   "metadata": {},
   "source": [
    "# Повышение эффективности процесса обогащения золота."
   ]
  },
  {
   "cell_type": "markdown",
   "id": "373f01bd-5ebf-4ddc-8873-41cee8dd7bde",
   "metadata": {},
   "source": [
    "# 1. Описание проекта.<a class=\"anchor\" id=\"b1\"></a>"
   ]
  },
  {
   "cell_type": "markdown",
   "id": "6fac2868-f6e3-4412-b4a2-583c5c7c843b",
   "metadata": {},
   "source": [
    "## 1.1 Цель исследования."
   ]
  },
  {
   "cell_type": "markdown",
   "id": "45ac171b-245b-4c35-8299-0581058e4675",
   "metadata": {},
   "source": [
    "Необходимо подготовить прототип модели машинного обучения для компании «Цифры». Компания разрабатывает решения для эффективной работы промышленных предприятий.\\\n",
    "Модель должна предсказать коэффициент восстановления золота из золотосодержащей руды. В вашем распоряжении данные с параметрами добычи и очистки.\\\n",
    "Модель поможет оптимизировать производство, чтобы не запускать предприятие с убыточными характеристиками.\n",
    "\n",
    "**Необходимо:**\n",
    "1) Подготовить данные;\n",
    "2) Провести исследовательский анализ данных;\n",
    "3) Построить и обучить модель.\n",
    "\n",
    "**Данные находятся в трёх файлах:** \\\n",
    "gold_industry_train.csv — обучающая выборка;\\\n",
    "gold_industry_test.csv — тестовая выборка;\\\n",
    "gold_industry_full.csv — исходные данные.\n",
    "\n",
    "Данные индексируются датой и временем получения информации (признак date). Соседние по времени параметры часто похожи.\n",
    "\n",
    "Некоторые параметры недоступны, потому что замеряются и/или рассчитываются значительно позже. Из-за этого в тестовой выборке отсутствуют некоторые признаки, которые могут быть в обучающей. Также в тестовом наборе нет целевых признаков.\n",
    "\n",
    "Исходный датасет содержит обучающую и тестовую выборки со всеми признаками.\n",
    "\n",
    "В нашем распоряжении сырые данные: их просто выгрузили из хранилища. Прежде чем приступить к построению модели, проверим их по инструкции на корректность.\n",
    "\n",
    "Далее описан технологический процесс очистки руды. Самостоятельно определим, какие детали нужны для построения модели, а какие — нет."
   ]
  },
  {
   "cell_type": "markdown",
   "id": "f432f796-6c53-4fe3-82d3-9c7f178b32a5",
   "metadata": {},
   "source": [
    "## 1.2 Описание технологического процесса."
   ]
  },
  {
   "cell_type": "markdown",
   "id": "421fb1c0-a461-4415-a309-587809ff78e5",
   "metadata": {},
   "source": [
    "Когда добытая руда проходит первичную обработку, получается дроблёная смесь. Её отправляют на флотацию (обогащение) и двухэтапную очистку.\n",
    "\n",
    "**Описание каждой стадии:**\n",
    "\n",
    "**1. Флотация** \\\n",
    "Во флотационную установку подаётся смесь золотосодержащей руды. После обогащения получается черновой концентрат и «отвальные хвосты», то есть остатки продукта с низкой концентрацией ценных металлов.\n",
    "На стабильность этого процесса влияет непостоянное и неоптимальное физико-химическое состояние флотационной пульпы (смеси твёрдых частиц и жидкости).\n",
    "\n",
    "**2. Очистка** \\\n",
    "Черновой концентрат проходит две очистки. На выходе получается финальный концентрат и новые отвальные хвосты."
   ]
  },
  {
   "cell_type": "markdown",
   "id": "953e8519-8ee4-450f-af7b-433452ee9419",
   "metadata": {},
   "source": [
    "## 1.3 Описание данных."
   ]
  },
  {
   "cell_type": "markdown",
   "id": "eb0d5af1-d374-4536-b4ef-11a868563190",
   "metadata": {},
   "source": [
    "**Технологический процесс**\n",
    "\n",
    "* Rougher feed — исходное сырье\n",
    "* Rougher additions (или reagent additions) — флотационные реагенты: Xanthate, Sulphate, Depressant\n",
    "* Xanthate — ксантогенат (промотер, или активатор флотации);\n",
    "* Sulphate — сульфат (на данном производстве сульфид натрия);\n",
    "* Depressant — депрессант (силикат натрия).\n",
    "* Rougher process (англ. «грубый процесс») — флотация\n",
    "* Rougher tails — отвальные хвосты\n",
    "* Float banks — флотационная установка\n",
    "* Cleaner process — очистка\n",
    "* Rougher Au — черновой концентрат золота\n",
    "* Final Au — финальный концентрат золота\n",
    "\n",
    "**Параметры этапов**\n",
    "\n",
    "* air amount — объём воздуха\n",
    "* fluid levels — уровень жидкости\n",
    "* feed size — размер гранул сырья\n",
    "* feed rate — скорость подачи\n",
    "\n",
    "**Наименование признаков**\n",
    "\n",
    "Наименование признаков должно быть такое:\\\n",
    "[этап].[тип_параметра].[название_параметра]\\\n",
    "**Пример:** rougher.input.feed_ag\n",
    "\n",
    "**Возможные значения для блока [этап]:**\n",
    "\n",
    "* rougher — флотация\n",
    "* primary_cleaner — первичная очистка\n",
    "* secondary_cleaner — вторичная очистка\n",
    "* final — финальные характеристики\n",
    "\n",
    "**Возможные значения для блока** [тип_параметра]:\n",
    "\n",
    "* input — параметры сырья\n",
    "* output — параметры продукта\n",
    "* state — параметры, характеризующие текущее состояние этапа\n",
    "* calculation — расчётные характеристики"
   ]
  },
  {
   "cell_type": "markdown",
   "id": "472fdc79-42ab-47b5-921e-5ed8fc8334d0",
   "metadata": {},
   "source": [
    "## 1.4 Расчёт эффективности."
   ]
  },
  {
   "cell_type": "markdown",
   "id": "7c30d435-f4c4-410b-b372-b4469a163c2b",
   "metadata": {},
   "source": [
    "Нам нужно смоделировать процесс восстановления золота из золотосодержащей руды. \n",
    "Эффективность обогащения рассчитывается по формуле\n",
    "\n",
    "\n",
    "$$ Recovery = \\frac{C * (F - T)}{F * (C - T)} * 100\\%, $$\n",
    "\n",
    "где:\n",
    "* C — доля золота в концентрате после флотации/очистки;\n",
    "* F — доля золота в сырье/концентрате до флотации/очистки;\n",
    "* T — доля золота в отвальных хвостах после флотации/очистки.\n",
    "\n",
    "**Для прогноза коэффициента нужно найти долю золота в концентратах и хвостах.** Причём важен не только финальный продукт, но и черновой концентрат.\n",
    "\n",
    "**Метрика качества**\n",
    "\n",
    "sMAPE (англ. Symmetric Mean Absolute Percentage Error, «симметричное среднее абсолютное процентное отклонение»).\n",
    "\n",
    "$$ \\text{sMAPE}=\\frac{100\\%}{N}\\sum_{i=1}^{N}\\frac{\\left|y_{i}-\\hat{y_{i}}\\right|}{(|y_{i}|+|\\hat{y_{i}}|)/2}. $$\n",
    "\n",
    "Нужно спрогнозировать сразу две величины:\n",
    "1. эффективность обогащения чернового концентрата rougher.output.recovery;\n",
    "2. эффективность обогащения финального концентрата final.output.recovery.\n",
    "\n",
    "Итоговая метрика складывается из двух величин:\n",
    "\n",
    "$$ \\text{final_sMAPE}= 25\\% * \\text{sMAPE(rougher)} + 75\\% * \\text{sMAPE(final)}$$\n",
    "\n",
    "\n",
    "**Исследование пройдет в четыре этапа:**\n",
    "\n",
    "1) Описание данных и подготовка их к исследованию.\n",
    "2) Анализ данных.\n",
    "3) Построение модели.\n",
    "4) Общий вывод."
   ]
  },
  {
   "cell_type": "code",
   "execution_count": 1,
   "id": "85cdccd7",
   "metadata": {},
   "outputs": [],
   "source": [
    "! pip install sweetviz -q"
   ]
  },
  {
   "cell_type": "code",
   "execution_count": 2,
   "id": "ba03912c-c9f6-4121-a6fe-3ec8d11f75b4",
   "metadata": {
    "tags": []
   },
   "outputs": [],
   "source": [
    "# импортируем необходимые библиотеки\n",
    "import pandas as pd\n",
    "import seaborn as sns\n",
    "import matplotlib.pyplot as plt\n",
    "\n",
    "from scipy import stats as st\n",
    "import numpy as np\n",
    "from IPython.display import display\n",
    "\n",
    "from sklearn.model_selection import train_test_split\n",
    "from sklearn.metrics import mean_absolute_error, mean_squared_error, make_scorer\n",
    "from sklearn.model_selection import cross_val_score, ShuffleSplit\n",
    "\n",
    "from sklearn.linear_model import LinearRegression\n",
    "from sklearn.tree import DecisionTreeRegressor\n",
    "from sklearn.ensemble import RandomForestRegressor\n",
    "import sweetviz as sv\n",
    "\n",
    "RANDOM_FIX_NUMBER = 12345  # Введем глобальную переменную для значения random_state\n",
    "STATE = np.random.RandomState(RANDOM_FIX_NUMBER)\n",
    "NUM_CIRCLE_BOOTSTRAP = 1000 \n",
    "\n",
    "# Настроим, чтобы числа в датасетах отражались с 3 знаками после запятой;\n",
    "pd.set_option('display.float_format', '{:.3f}'.format)\n",
    "\n",
    "# Создадим функцию для печати строки символов. \n",
    "# Так будем разделять информацию между различными датасетами.\n",
    "def Separating_line():\n",
    "    print('-' * 80)"
   ]
  },
  {
   "cell_type": "code",
   "execution_count": 3,
   "id": "71bf8906-c80e-47a7-908b-3a50dcea0739",
   "metadata": {
    "tags": []
   },
   "outputs": [],
   "source": [
    "# загрузим файлы и веведем всю необходимую информацию о данных для изучения\n",
    "try:  \n",
    "    data_train = pd.read_csv('/Users/Slava/Desktop/Яндекс Практикум учебные материалы/Проекты/Проект9./gold_industry_train.csv', sep=',')  \n",
    "except: \n",
    "    data_train = pd.read_csv('/datasets/gold_industry_train.csv', sep=',')\n",
    "\n",
    "try:  \n",
    "    data_test =  pd.read_csv('/Users/Slava/Desktop/Яндекс Практикум учебные материалы/Проекты/Проект9./gold_industry_test.csv', sep=',')     \n",
    "except: \n",
    "    data_test = pd.read_csv('/datasets/gold_industry_test.csv', sep=',')\n",
    "    \n",
    "try: \n",
    "    data_full = pd.read_csv('/Users/Slava/Desktop/Яндекс Практикум учебные материалы/Проекты/Проект9./gold_industry_full.csv', sep=',')       \n",
    "except:\n",
    "    data_full = pd.read_csv('/datasets/gold_industry_full.csv', sep=',')"
   ]
  },
  {
   "cell_type": "code",
   "execution_count": 4,
   "id": "6c3fa428-bf66-45a2-820c-87ffca5bf2fd",
   "metadata": {
    "tags": []
   },
   "outputs": [
    {
     "name": "stdout",
     "output_type": "stream",
     "text": [
      "Размеры исходных выборок: в тренировочной 14579, в тестовой 4860, в исходной 19439 записей\n"
     ]
    }
   ],
   "source": [
    "# оценим размеры исходных выборок\n",
    "print(f'Размеры исходных выборок: в тренировочной {len(data_train)}, в тестовой {len(data_test)}, в исходной {len(data_full)} записей')"
   ]
  },
  {
   "cell_type": "markdown",
   "id": "601169c7-36a1-4668-beed-a2dfcb26f03a",
   "metadata": {
    "tags": []
   },
   "source": [
    "Выборки разделены корректно, 75% в тренировочной и 25% в тестовой.\n",
    "\n",
    "Посмотрим на общий вид данных на примере исходных данных 'gold_industry_full'."
   ]
  },
  {
   "cell_type": "code",
   "execution_count": 5,
   "id": "44fd3329-9f32-4fcd-b6bb-a1cfba3bc571",
   "metadata": {
    "tags": []
   },
   "outputs": [
    {
     "data": {
      "text/html": [
       "<div>\n",
       "<style scoped>\n",
       "    .dataframe tbody tr th:only-of-type {\n",
       "        vertical-align: middle;\n",
       "    }\n",
       "\n",
       "    .dataframe tbody tr th {\n",
       "        vertical-align: top;\n",
       "    }\n",
       "\n",
       "    .dataframe thead th {\n",
       "        text-align: right;\n",
       "    }\n",
       "</style>\n",
       "<table border=\"1\" class=\"dataframe\">\n",
       "  <thead>\n",
       "    <tr style=\"text-align: right;\">\n",
       "      <th></th>\n",
       "      <th>date</th>\n",
       "      <th>rougher.input.feed_au</th>\n",
       "      <th>rougher.input.feed_ag</th>\n",
       "      <th>rougher.input.feed_pb</th>\n",
       "      <th>rougher.input.feed_sol</th>\n",
       "      <th>rougher.input.feed_rate</th>\n",
       "      <th>rougher.input.feed_size</th>\n",
       "      <th>rougher.input.floatbank10_sulfate</th>\n",
       "      <th>rougher.input.floatbank10_xanthate</th>\n",
       "      <th>rougher.state.floatbank10_a_air</th>\n",
       "      <th>...</th>\n",
       "      <th>secondary_cleaner.output.tail_sol</th>\n",
       "      <th>final.output.concentrate_au</th>\n",
       "      <th>final.output.concentrate_ag</th>\n",
       "      <th>final.output.concentrate_pb</th>\n",
       "      <th>final.output.concentrate_sol</th>\n",
       "      <th>final.output.recovery</th>\n",
       "      <th>final.output.tail_au</th>\n",
       "      <th>final.output.tail_ag</th>\n",
       "      <th>final.output.tail_pb</th>\n",
       "      <th>final.output.tail_sol</th>\n",
       "    </tr>\n",
       "  </thead>\n",
       "  <tbody>\n",
       "    <tr>\n",
       "      <th>0</th>\n",
       "      <td>2016-01-15 00:00:00</td>\n",
       "      <td>6.486</td>\n",
       "      <td>6.100</td>\n",
       "      <td>2.285</td>\n",
       "      <td>36.809</td>\n",
       "      <td>523.546</td>\n",
       "      <td>55.487</td>\n",
       "      <td>11.987</td>\n",
       "      <td>6.008</td>\n",
       "      <td>999.707</td>\n",
       "      <td>...</td>\n",
       "      <td>8.765</td>\n",
       "      <td>42.192</td>\n",
       "      <td>6.055</td>\n",
       "      <td>9.890</td>\n",
       "      <td>5.507</td>\n",
       "      <td>70.541</td>\n",
       "      <td>2.143</td>\n",
       "      <td>10.412</td>\n",
       "      <td>0.895</td>\n",
       "      <td>16.904</td>\n",
       "    </tr>\n",
       "    <tr>\n",
       "      <th>1</th>\n",
       "      <td>2016-01-15 01:00:00</td>\n",
       "      <td>6.479</td>\n",
       "      <td>6.161</td>\n",
       "      <td>2.266</td>\n",
       "      <td>35.753</td>\n",
       "      <td>525.291</td>\n",
       "      <td>57.279</td>\n",
       "      <td>11.971</td>\n",
       "      <td>6.006</td>\n",
       "      <td>1000.286</td>\n",
       "      <td>...</td>\n",
       "      <td>9.001</td>\n",
       "      <td>42.702</td>\n",
       "      <td>6.029</td>\n",
       "      <td>9.969</td>\n",
       "      <td>5.258</td>\n",
       "      <td>69.266</td>\n",
       "      <td>2.225</td>\n",
       "      <td>10.463</td>\n",
       "      <td>0.927</td>\n",
       "      <td>16.635</td>\n",
       "    </tr>\n",
       "    <tr>\n",
       "      <th>2</th>\n",
       "      <td>2016-01-15 02:00:00</td>\n",
       "      <td>6.362</td>\n",
       "      <td>6.116</td>\n",
       "      <td>2.160</td>\n",
       "      <td>35.972</td>\n",
       "      <td>530.027</td>\n",
       "      <td>57.511</td>\n",
       "      <td>11.921</td>\n",
       "      <td>6.197</td>\n",
       "      <td>999.720</td>\n",
       "      <td>...</td>\n",
       "      <td>8.843</td>\n",
       "      <td>42.658</td>\n",
       "      <td>6.056</td>\n",
       "      <td>10.214</td>\n",
       "      <td>5.384</td>\n",
       "      <td>68.116</td>\n",
       "      <td>2.258</td>\n",
       "      <td>10.507</td>\n",
       "      <td>0.954</td>\n",
       "      <td>16.209</td>\n",
       "    </tr>\n",
       "    <tr>\n",
       "      <th>3</th>\n",
       "      <td>2016-01-15 03:00:00</td>\n",
       "      <td>6.118</td>\n",
       "      <td>6.043</td>\n",
       "      <td>2.038</td>\n",
       "      <td>36.862</td>\n",
       "      <td>542.590</td>\n",
       "      <td>57.793</td>\n",
       "      <td>11.630</td>\n",
       "      <td>6.203</td>\n",
       "      <td>999.815</td>\n",
       "      <td>...</td>\n",
       "      <td>9.123</td>\n",
       "      <td>42.690</td>\n",
       "      <td>6.048</td>\n",
       "      <td>9.977</td>\n",
       "      <td>4.859</td>\n",
       "      <td>68.348</td>\n",
       "      <td>2.147</td>\n",
       "      <td>10.423</td>\n",
       "      <td>0.884</td>\n",
       "      <td>16.533</td>\n",
       "    </tr>\n",
       "    <tr>\n",
       "      <th>4</th>\n",
       "      <td>2016-01-15 04:00:00</td>\n",
       "      <td>5.664</td>\n",
       "      <td>6.061</td>\n",
       "      <td>1.787</td>\n",
       "      <td>34.348</td>\n",
       "      <td>540.532</td>\n",
       "      <td>56.047</td>\n",
       "      <td>10.958</td>\n",
       "      <td>6.199</td>\n",
       "      <td>999.679</td>\n",
       "      <td>...</td>\n",
       "      <td>8.871</td>\n",
       "      <td>42.774</td>\n",
       "      <td>6.149</td>\n",
       "      <td>10.143</td>\n",
       "      <td>4.939</td>\n",
       "      <td>66.927</td>\n",
       "      <td>2.055</td>\n",
       "      <td>10.360</td>\n",
       "      <td>0.793</td>\n",
       "      <td>16.526</td>\n",
       "    </tr>\n",
       "  </tbody>\n",
       "</table>\n",
       "<p>5 rows × 87 columns</p>\n",
       "</div>"
      ],
      "text/plain": [
       "                  date  rougher.input.feed_au  rougher.input.feed_ag  \\\n",
       "0  2016-01-15 00:00:00                  6.486                  6.100   \n",
       "1  2016-01-15 01:00:00                  6.479                  6.161   \n",
       "2  2016-01-15 02:00:00                  6.362                  6.116   \n",
       "3  2016-01-15 03:00:00                  6.118                  6.043   \n",
       "4  2016-01-15 04:00:00                  5.664                  6.061   \n",
       "\n",
       "   rougher.input.feed_pb  rougher.input.feed_sol  rougher.input.feed_rate  \\\n",
       "0                  2.285                  36.809                  523.546   \n",
       "1                  2.266                  35.753                  525.291   \n",
       "2                  2.160                  35.972                  530.027   \n",
       "3                  2.038                  36.862                  542.590   \n",
       "4                  1.787                  34.348                  540.532   \n",
       "\n",
       "   rougher.input.feed_size  rougher.input.floatbank10_sulfate  \\\n",
       "0                   55.487                             11.987   \n",
       "1                   57.279                             11.971   \n",
       "2                   57.511                             11.921   \n",
       "3                   57.793                             11.630   \n",
       "4                   56.047                             10.958   \n",
       "\n",
       "   rougher.input.floatbank10_xanthate  rougher.state.floatbank10_a_air  ...  \\\n",
       "0                               6.008                          999.707  ...   \n",
       "1                               6.006                         1000.286  ...   \n",
       "2                               6.197                          999.720  ...   \n",
       "3                               6.203                          999.815  ...   \n",
       "4                               6.199                          999.679  ...   \n",
       "\n",
       "   secondary_cleaner.output.tail_sol  final.output.concentrate_au  \\\n",
       "0                              8.765                       42.192   \n",
       "1                              9.001                       42.702   \n",
       "2                              8.843                       42.658   \n",
       "3                              9.123                       42.690   \n",
       "4                              8.871                       42.774   \n",
       "\n",
       "   final.output.concentrate_ag  final.output.concentrate_pb  \\\n",
       "0                        6.055                        9.890   \n",
       "1                        6.029                        9.969   \n",
       "2                        6.056                       10.214   \n",
       "3                        6.048                        9.977   \n",
       "4                        6.149                       10.143   \n",
       "\n",
       "   final.output.concentrate_sol  final.output.recovery  final.output.tail_au  \\\n",
       "0                         5.507                 70.541                 2.143   \n",
       "1                         5.258                 69.266                 2.225   \n",
       "2                         5.384                 68.116                 2.258   \n",
       "3                         4.859                 68.348                 2.147   \n",
       "4                         4.939                 66.927                 2.055   \n",
       "\n",
       "   final.output.tail_ag  final.output.tail_pb  final.output.tail_sol  \n",
       "0                10.412                 0.895                 16.904  \n",
       "1                10.463                 0.927                 16.635  \n",
       "2                10.507                 0.954                 16.209  \n",
       "3                10.423                 0.884                 16.533  \n",
       "4                10.360                 0.793                 16.526  \n",
       "\n",
       "[5 rows x 87 columns]"
      ]
     },
     "execution_count": 5,
     "metadata": {},
     "output_type": "execute_result"
    }
   ],
   "source": [
    "data_full.head()"
   ]
  },
  {
   "cell_type": "code",
   "execution_count": 6,
   "id": "9eb14a97-a51c-449e-ba6d-c17b51f69e38",
   "metadata": {
    "tags": []
   },
   "outputs": [
    {
     "data": {
      "text/html": [
       "<div>\n",
       "<style scoped>\n",
       "    .dataframe tbody tr th:only-of-type {\n",
       "        vertical-align: middle;\n",
       "    }\n",
       "\n",
       "    .dataframe tbody tr th {\n",
       "        vertical-align: top;\n",
       "    }\n",
       "\n",
       "    .dataframe thead th {\n",
       "        text-align: right;\n",
       "    }\n",
       "</style>\n",
       "<table border=\"1\" class=\"dataframe\">\n",
       "  <thead>\n",
       "    <tr style=\"text-align: right;\">\n",
       "      <th></th>\n",
       "      <th>rougher.input.feed_au</th>\n",
       "      <th>rougher.input.feed_ag</th>\n",
       "      <th>rougher.input.feed_pb</th>\n",
       "      <th>rougher.input.feed_sol</th>\n",
       "      <th>rougher.input.feed_rate</th>\n",
       "      <th>rougher.input.feed_size</th>\n",
       "      <th>rougher.input.floatbank10_sulfate</th>\n",
       "      <th>rougher.input.floatbank10_xanthate</th>\n",
       "      <th>rougher.state.floatbank10_a_air</th>\n",
       "      <th>rougher.state.floatbank10_a_level</th>\n",
       "      <th>...</th>\n",
       "      <th>secondary_cleaner.output.tail_sol</th>\n",
       "      <th>final.output.concentrate_au</th>\n",
       "      <th>final.output.concentrate_ag</th>\n",
       "      <th>final.output.concentrate_pb</th>\n",
       "      <th>final.output.concentrate_sol</th>\n",
       "      <th>final.output.recovery</th>\n",
       "      <th>final.output.tail_au</th>\n",
       "      <th>final.output.tail_ag</th>\n",
       "      <th>final.output.tail_pb</th>\n",
       "      <th>final.output.tail_sol</th>\n",
       "    </tr>\n",
       "  </thead>\n",
       "  <tbody>\n",
       "    <tr>\n",
       "      <th>count</th>\n",
       "      <td>19439.000</td>\n",
       "      <td>19439.000</td>\n",
       "      <td>19339.000</td>\n",
       "      <td>19340.000</td>\n",
       "      <td>19428.000</td>\n",
       "      <td>19294.000</td>\n",
       "      <td>19405.000</td>\n",
       "      <td>19431.000</td>\n",
       "      <td>19438.000</td>\n",
       "      <td>19438.000</td>\n",
       "      <td>...</td>\n",
       "      <td>17691.000</td>\n",
       "      <td>19439.000</td>\n",
       "      <td>19438.000</td>\n",
       "      <td>19438.000</td>\n",
       "      <td>19228.000</td>\n",
       "      <td>19439.000</td>\n",
       "      <td>19439.000</td>\n",
       "      <td>19438.000</td>\n",
       "      <td>19338.000</td>\n",
       "      <td>19433.000</td>\n",
       "    </tr>\n",
       "    <tr>\n",
       "      <th>mean</th>\n",
       "      <td>8.266</td>\n",
       "      <td>8.795</td>\n",
       "      <td>3.598</td>\n",
       "      <td>36.695</td>\n",
       "      <td>478.320</td>\n",
       "      <td>58.970</td>\n",
       "      <td>12.334</td>\n",
       "      <td>6.021</td>\n",
       "      <td>1105.315</td>\n",
       "      <td>-376.611</td>\n",
       "      <td>...</td>\n",
       "      <td>7.167</td>\n",
       "      <td>44.077</td>\n",
       "      <td>5.168</td>\n",
       "      <td>9.979</td>\n",
       "      <td>9.501</td>\n",
       "      <td>67.050</td>\n",
       "      <td>3.042</td>\n",
       "      <td>9.689</td>\n",
       "      <td>2.706</td>\n",
       "      <td>10.584</td>\n",
       "    </tr>\n",
       "    <tr>\n",
       "      <th>std</th>\n",
       "      <td>1.955</td>\n",
       "      <td>1.937</td>\n",
       "      <td>1.049</td>\n",
       "      <td>5.145</td>\n",
       "      <td>105.374</td>\n",
       "      <td>21.634</td>\n",
       "      <td>3.427</td>\n",
       "      <td>1.127</td>\n",
       "      <td>160.827</td>\n",
       "      <td>93.910</td>\n",
       "      <td>...</td>\n",
       "      <td>3.916</td>\n",
       "      <td>5.130</td>\n",
       "      <td>1.372</td>\n",
       "      <td>1.669</td>\n",
       "      <td>2.788</td>\n",
       "      <td>10.126</td>\n",
       "      <td>0.923</td>\n",
       "      <td>2.329</td>\n",
       "      <td>0.949</td>\n",
       "      <td>2.869</td>\n",
       "    </tr>\n",
       "    <tr>\n",
       "      <th>min</th>\n",
       "      <td>0.010</td>\n",
       "      <td>0.010</td>\n",
       "      <td>0.010</td>\n",
       "      <td>0.010</td>\n",
       "      <td>0.003</td>\n",
       "      <td>0.046</td>\n",
       "      <td>0.001</td>\n",
       "      <td>0.001</td>\n",
       "      <td>-0.042</td>\n",
       "      <td>-657.950</td>\n",
       "      <td>...</td>\n",
       "      <td>0.000</td>\n",
       "      <td>0.000</td>\n",
       "      <td>0.000</td>\n",
       "      <td>0.000</td>\n",
       "      <td>0.000</td>\n",
       "      <td>0.000</td>\n",
       "      <td>0.000</td>\n",
       "      <td>0.000</td>\n",
       "      <td>0.000</td>\n",
       "      <td>0.000</td>\n",
       "    </tr>\n",
       "    <tr>\n",
       "      <th>25%</th>\n",
       "      <td>6.854</td>\n",
       "      <td>7.238</td>\n",
       "      <td>2.887</td>\n",
       "      <td>34.208</td>\n",
       "      <td>416.525</td>\n",
       "      <td>47.435</td>\n",
       "      <td>10.000</td>\n",
       "      <td>5.399</td>\n",
       "      <td>999.662</td>\n",
       "      <td>-499.835</td>\n",
       "      <td>...</td>\n",
       "      <td>3.845</td>\n",
       "      <td>43.402</td>\n",
       "      <td>4.251</td>\n",
       "      <td>9.137</td>\n",
       "      <td>7.723</td>\n",
       "      <td>63.300</td>\n",
       "      <td>2.461</td>\n",
       "      <td>8.063</td>\n",
       "      <td>2.040</td>\n",
       "      <td>8.939</td>\n",
       "    </tr>\n",
       "    <tr>\n",
       "      <th>50%</th>\n",
       "      <td>8.126</td>\n",
       "      <td>8.594</td>\n",
       "      <td>3.535</td>\n",
       "      <td>37.203</td>\n",
       "      <td>499.416</td>\n",
       "      <td>54.610</td>\n",
       "      <td>12.001</td>\n",
       "      <td>6.008</td>\n",
       "      <td>1001.073</td>\n",
       "      <td>-300.264</td>\n",
       "      <td>...</td>\n",
       "      <td>7.686</td>\n",
       "      <td>45.011</td>\n",
       "      <td>5.066</td>\n",
       "      <td>10.102</td>\n",
       "      <td>9.219</td>\n",
       "      <td>68.173</td>\n",
       "      <td>2.985</td>\n",
       "      <td>9.744</td>\n",
       "      <td>2.749</td>\n",
       "      <td>10.622</td>\n",
       "    </tr>\n",
       "    <tr>\n",
       "      <th>75%</th>\n",
       "      <td>9.770</td>\n",
       "      <td>10.214</td>\n",
       "      <td>4.244</td>\n",
       "      <td>40.039</td>\n",
       "      <td>550.172</td>\n",
       "      <td>65.023</td>\n",
       "      <td>14.717</td>\n",
       "      <td>6.798</td>\n",
       "      <td>1205.621</td>\n",
       "      <td>-299.982</td>\n",
       "      <td>...</td>\n",
       "      <td>10.411</td>\n",
       "      <td>46.275</td>\n",
       "      <td>5.896</td>\n",
       "      <td>11.036</td>\n",
       "      <td>10.948</td>\n",
       "      <td>72.687</td>\n",
       "      <td>3.571</td>\n",
       "      <td>11.134</td>\n",
       "      <td>3.333</td>\n",
       "      <td>12.104</td>\n",
       "    </tr>\n",
       "    <tr>\n",
       "      <th>max</th>\n",
       "      <td>13.731</td>\n",
       "      <td>14.596</td>\n",
       "      <td>7.143</td>\n",
       "      <td>53.478</td>\n",
       "      <td>717.509</td>\n",
       "      <td>484.967</td>\n",
       "      <td>36.118</td>\n",
       "      <td>9.703</td>\n",
       "      <td>1521.980</td>\n",
       "      <td>-273.776</td>\n",
       "      <td>...</td>\n",
       "      <td>26.001</td>\n",
       "      <td>52.757</td>\n",
       "      <td>16.002</td>\n",
       "      <td>17.032</td>\n",
       "      <td>19.616</td>\n",
       "      <td>100.000</td>\n",
       "      <td>8.245</td>\n",
       "      <td>19.552</td>\n",
       "      <td>5.804</td>\n",
       "      <td>22.318</td>\n",
       "    </tr>\n",
       "  </tbody>\n",
       "</table>\n",
       "<p>8 rows × 86 columns</p>\n",
       "</div>"
      ],
      "text/plain": [
       "       rougher.input.feed_au  rougher.input.feed_ag  rougher.input.feed_pb  \\\n",
       "count              19439.000              19439.000              19339.000   \n",
       "mean                   8.266                  8.795                  3.598   \n",
       "std                    1.955                  1.937                  1.049   \n",
       "min                    0.010                  0.010                  0.010   \n",
       "25%                    6.854                  7.238                  2.887   \n",
       "50%                    8.126                  8.594                  3.535   \n",
       "75%                    9.770                 10.214                  4.244   \n",
       "max                   13.731                 14.596                  7.143   \n",
       "\n",
       "       rougher.input.feed_sol  rougher.input.feed_rate  \\\n",
       "count               19340.000                19428.000   \n",
       "mean                   36.695                  478.320   \n",
       "std                     5.145                  105.374   \n",
       "min                     0.010                    0.003   \n",
       "25%                    34.208                  416.525   \n",
       "50%                    37.203                  499.416   \n",
       "75%                    40.039                  550.172   \n",
       "max                    53.478                  717.509   \n",
       "\n",
       "       rougher.input.feed_size  rougher.input.floatbank10_sulfate  \\\n",
       "count                19294.000                          19405.000   \n",
       "mean                    58.970                             12.334   \n",
       "std                     21.634                              3.427   \n",
       "min                      0.046                              0.001   \n",
       "25%                     47.435                             10.000   \n",
       "50%                     54.610                             12.001   \n",
       "75%                     65.023                             14.717   \n",
       "max                    484.967                             36.118   \n",
       "\n",
       "       rougher.input.floatbank10_xanthate  rougher.state.floatbank10_a_air  \\\n",
       "count                           19431.000                        19438.000   \n",
       "mean                                6.021                         1105.315   \n",
       "std                                 1.127                          160.827   \n",
       "min                                 0.001                           -0.042   \n",
       "25%                                 5.399                          999.662   \n",
       "50%                                 6.008                         1001.073   \n",
       "75%                                 6.798                         1205.621   \n",
       "max                                 9.703                         1521.980   \n",
       "\n",
       "       rougher.state.floatbank10_a_level  ...  \\\n",
       "count                          19438.000  ...   \n",
       "mean                            -376.611  ...   \n",
       "std                               93.910  ...   \n",
       "min                             -657.950  ...   \n",
       "25%                             -499.835  ...   \n",
       "50%                             -300.264  ...   \n",
       "75%                             -299.982  ...   \n",
       "max                             -273.776  ...   \n",
       "\n",
       "       secondary_cleaner.output.tail_sol  final.output.concentrate_au  \\\n",
       "count                          17691.000                    19439.000   \n",
       "mean                               7.167                       44.077   \n",
       "std                                3.916                        5.130   \n",
       "min                                0.000                        0.000   \n",
       "25%                                3.845                       43.402   \n",
       "50%                                7.686                       45.011   \n",
       "75%                               10.411                       46.275   \n",
       "max                               26.001                       52.757   \n",
       "\n",
       "       final.output.concentrate_ag  final.output.concentrate_pb  \\\n",
       "count                    19438.000                    19438.000   \n",
       "mean                         5.168                        9.979   \n",
       "std                          1.372                        1.669   \n",
       "min                          0.000                        0.000   \n",
       "25%                          4.251                        9.137   \n",
       "50%                          5.066                       10.102   \n",
       "75%                          5.896                       11.036   \n",
       "max                         16.002                       17.032   \n",
       "\n",
       "       final.output.concentrate_sol  final.output.recovery  \\\n",
       "count                     19228.000              19439.000   \n",
       "mean                          9.501                 67.050   \n",
       "std                           2.788                 10.126   \n",
       "min                           0.000                  0.000   \n",
       "25%                           7.723                 63.300   \n",
       "50%                           9.219                 68.173   \n",
       "75%                          10.948                 72.687   \n",
       "max                          19.616                100.000   \n",
       "\n",
       "       final.output.tail_au  final.output.tail_ag  final.output.tail_pb  \\\n",
       "count             19439.000             19438.000             19338.000   \n",
       "mean                  3.042                 9.689                 2.706   \n",
       "std                   0.923                 2.329                 0.949   \n",
       "min                   0.000                 0.000                 0.000   \n",
       "25%                   2.461                 8.063                 2.040   \n",
       "50%                   2.985                 9.744                 2.749   \n",
       "75%                   3.571                11.134                 3.333   \n",
       "max                   8.245                19.552                 5.804   \n",
       "\n",
       "       final.output.tail_sol  \n",
       "count              19433.000  \n",
       "mean                  10.584  \n",
       "std                    2.869  \n",
       "min                    0.000  \n",
       "25%                    8.939  \n",
       "50%                   10.622  \n",
       "75%                   12.104  \n",
       "max                   22.318  \n",
       "\n",
       "[8 rows x 86 columns]"
      ]
     },
     "execution_count": 6,
     "metadata": {},
     "output_type": "execute_result"
    }
   ],
   "source": [
    "# ознакомимся с описательной статистикой набора данных\n",
    "data_full.describe()"
   ]
  },
  {
   "cell_type": "markdown",
   "id": "a31a2ed1-5db4-4b3b-a750-b258002f1063",
   "metadata": {},
   "source": [
    "## 1.5 Проверим, что эффективность обогащения рассчитана правильно.<a class=\"anchor\" id=\"b2\"></a>"
   ]
  },
  {
   "cell_type": "markdown",
   "id": "a9524052-9fb6-463d-ac19-bfcb706d47ae",
   "metadata": {},
   "source": [
    "Вычислим эффективность на обучающей выборке для признака rougher.output.recovery. Найдем MAE между нашими расчётами и значением признака."
   ]
  },
  {
   "cell_type": "code",
   "execution_count": 7,
   "id": "a557b81b-0011-4876-a7d1-a990fb7d628a",
   "metadata": {
    "tags": []
   },
   "outputs": [
    {
     "name": "stdout",
     "output_type": "stream",
     "text": [
      "MAE: 9.83758577644259e-15\n"
     ]
    }
   ],
   "source": [
    "def recovery(data_row, stage_name):\n",
    "    C = data_row[f'{stage_name}.output.concentrate_au']\n",
    "    F = data_row[f'{stage_name}.input.feed_au']\n",
    "    T = data_row[f'{stage_name}.output.tail_au']\n",
    "    \n",
    "    return ((C * (F - T)) / (F * (C - T))) * 100\n",
    "\n",
    "counted_recovery_rougher_train = data_train.apply(lambda row: recovery(row, 'rougher'), axis=1)\n",
    "mae_recovery_rougher_train = mean_absolute_error(data_train['rougher.output.recovery'], counted_recovery_rougher_train)\n",
    "print('MAE:', mae_recovery_rougher_train)"
   ]
  },
  {
   "cell_type": "markdown",
   "id": "3fa39553-047a-46d8-a092-10a57c9567ec",
   "metadata": {},
   "source": [
    "Значение MAE очень мало, а значит можно судить, что эффективность обогащения рассчитана правильно."
   ]
  },
  {
   "cell_type": "markdown",
   "id": "9f6f8199-d148-45ef-9081-0ce9dfd562ff",
   "metadata": {},
   "source": [
    "## 1.6. Проанализируем различия признаков тестовой и тренировочной выборок. "
   ]
  },
  {
   "cell_type": "code",
   "execution_count": 8,
   "id": "b78e22ce-ad37-43b0-bbf0-af2db633ce2a",
   "metadata": {
    "tags": []
   },
   "outputs": [
    {
     "name": "stdout",
     "output_type": "stream",
     "text": [
      "['final.output.concentrate_ag', 'final.output.concentrate_au', 'final.output.concentrate_pb', 'final.output.concentrate_sol', 'final.output.recovery', 'final.output.tail_ag', 'final.output.tail_au', 'final.output.tail_pb', 'final.output.tail_sol', 'primary_cleaner.output.concentrate_ag', 'primary_cleaner.output.concentrate_au', 'primary_cleaner.output.concentrate_pb', 'primary_cleaner.output.concentrate_sol', 'primary_cleaner.output.tail_ag', 'primary_cleaner.output.tail_au', 'primary_cleaner.output.tail_pb', 'primary_cleaner.output.tail_sol', 'rougher.calculation.au_pb_ratio', 'rougher.calculation.floatbank10_sulfate_to_au_feed', 'rougher.calculation.floatbank11_sulfate_to_au_feed', 'rougher.calculation.sulfate_to_au_concentrate', 'rougher.output.concentrate_ag', 'rougher.output.concentrate_au', 'rougher.output.concentrate_pb', 'rougher.output.concentrate_sol', 'rougher.output.recovery', 'rougher.output.tail_ag', 'rougher.output.tail_au', 'rougher.output.tail_pb', 'rougher.output.tail_sol', 'secondary_cleaner.output.tail_ag', 'secondary_cleaner.output.tail_au', 'secondary_cleaner.output.tail_pb', 'secondary_cleaner.output.tail_sol']\n",
      "Количсетво столбцов в test_data, содержащих этап \"output\": 0\n",
      "Количсетво столбцов в test_data, содержащих этап \"calculation\": 0\n"
     ]
    }
   ],
   "source": [
    "missing_columns = list(data_train.columns.difference(data_test.columns))\n",
    "print(missing_columns)\n",
    "\n",
    "print('Количсетво столбцов в test_data, содержащих этап \"output\":', data_test.columns.str.contains('output').sum())\n",
    "print('Количсетво столбцов в test_data, содержащих этап \"calculation\":', data_test.columns.str.contains('calculation').sum())        "
   ]
  },
  {
   "cell_type": "markdown",
   "id": "c44093a0-4799-4b38-b075-d715739e7faa",
   "metadata": {},
   "source": [
    "Можно заметить, что в тестовой выборке нет этапов типа .output и rougher.calculation. Соответственно это выходные процессы производства и не доступны в тестовой выборке.\n",
    "\n",
    "**По заданию необходимо спрогнозировать две величины:**\n",
    "\n",
    "* эффективность обогащения чернового концентрата rougher.output.recovery;\n",
    "* эффективность обогащения финального концентрата final.output.recovery.\n",
    "\n",
    "Соответственно, если обучать модель на тренировочной выборке с этими параметрами (и предсказывать, также зная эти параметры), то по ним будет возможно восстановить и целевые признаки.\n",
    "\n",
    "Таким образом, в тренировочной выборке необходимо избавиться от всех стобцов, которых нет в тестовой выборке, за исключением целевых (rougher.output.recovery и final.output.recovery): их мы позже отделим для обучения моделей."
   ]
  },
  {
   "cell_type": "code",
   "execution_count": 9,
   "id": "381947f0-3926-4885-8ada-cdfb8ac3ca60",
   "metadata": {
    "tags": []
   },
   "outputs": [
    {
     "data": {
      "text/plain": [
       "['final.output.concentrate_ag',\n",
       " 'final.output.concentrate_au',\n",
       " 'final.output.concentrate_pb',\n",
       " 'final.output.concentrate_sol',\n",
       " 'final.output.tail_ag',\n",
       " 'final.output.tail_au',\n",
       " 'final.output.tail_pb',\n",
       " 'final.output.tail_sol',\n",
       " 'primary_cleaner.output.concentrate_ag',\n",
       " 'primary_cleaner.output.concentrate_au',\n",
       " 'primary_cleaner.output.concentrate_pb',\n",
       " 'primary_cleaner.output.concentrate_sol',\n",
       " 'primary_cleaner.output.tail_ag',\n",
       " 'primary_cleaner.output.tail_au',\n",
       " 'primary_cleaner.output.tail_pb',\n",
       " 'primary_cleaner.output.tail_sol',\n",
       " 'rougher.calculation.au_pb_ratio',\n",
       " 'rougher.calculation.floatbank10_sulfate_to_au_feed',\n",
       " 'rougher.calculation.floatbank11_sulfate_to_au_feed',\n",
       " 'rougher.calculation.sulfate_to_au_concentrate',\n",
       " 'rougher.output.concentrate_ag',\n",
       " 'rougher.output.concentrate_au',\n",
       " 'rougher.output.concentrate_pb',\n",
       " 'rougher.output.concentrate_sol',\n",
       " 'rougher.output.tail_ag',\n",
       " 'rougher.output.tail_au',\n",
       " 'rougher.output.tail_pb',\n",
       " 'rougher.output.tail_sol',\n",
       " 'secondary_cleaner.output.tail_ag',\n",
       " 'secondary_cleaner.output.tail_au',\n",
       " 'secondary_cleaner.output.tail_pb',\n",
       " 'secondary_cleaner.output.tail_sol']"
      ]
     },
     "execution_count": 9,
     "metadata": {},
     "output_type": "execute_result"
    }
   ],
   "source": [
    "target_columns = ['rougher.output.recovery', 'final.output.recovery']\n",
    "for column in target_columns:\n",
    "    missing_columns.remove(column)\n",
    "missing_columns"
   ]
  },
  {
   "cell_type": "markdown",
   "id": "33e25fcc-1b5c-46cf-9a95-4fe908cb1cdd",
   "metadata": {},
   "source": [
    "## 1.7. Предобработка данных."
   ]
  },
  {
   "cell_type": "markdown",
   "id": "9ec3b796-6d4b-4d25-a481-f887287432ed",
   "metadata": {},
   "source": [
    "Посмотрим тип данных исходной таблицы 'data_full'."
   ]
  },
  {
   "cell_type": "code",
   "execution_count": 10,
   "id": "d2682dc6-d8ce-4de6-ba0f-9d29b970da76",
   "metadata": {
    "tags": []
   },
   "outputs": [
    {
     "name": "stdout",
     "output_type": "stream",
     "text": [
      "<class 'pandas.core.frame.DataFrame'>\n",
      "RangeIndex: 19439 entries, 0 to 19438\n",
      "Data columns (total 87 columns):\n",
      " #   Column                                              Non-Null Count  Dtype  \n",
      "---  ------                                              --------------  -----  \n",
      " 0   date                                                19439 non-null  object \n",
      " 1   rougher.input.feed_au                               19439 non-null  float64\n",
      " 2   rougher.input.feed_ag                               19439 non-null  float64\n",
      " 3   rougher.input.feed_pb                               19339 non-null  float64\n",
      " 4   rougher.input.feed_sol                              19340 non-null  float64\n",
      " 5   rougher.input.feed_rate                             19428 non-null  float64\n",
      " 6   rougher.input.feed_size                             19294 non-null  float64\n",
      " 7   rougher.input.floatbank10_sulfate                   19405 non-null  float64\n",
      " 8   rougher.input.floatbank10_xanthate                  19431 non-null  float64\n",
      " 9   rougher.state.floatbank10_a_air                     19438 non-null  float64\n",
      " 10  rougher.state.floatbank10_a_level                   19438 non-null  float64\n",
      " 11  rougher.state.floatbank10_b_air                     19438 non-null  float64\n",
      " 12  rougher.state.floatbank10_b_level                   19438 non-null  float64\n",
      " 13  rougher.state.floatbank10_c_air                     19438 non-null  float64\n",
      " 14  rougher.state.floatbank10_c_level                   19438 non-null  float64\n",
      " 15  rougher.state.floatbank10_d_air                     19439 non-null  float64\n",
      " 16  rougher.state.floatbank10_d_level                   19439 non-null  float64\n",
      " 17  rougher.state.floatbank10_e_air                     19003 non-null  float64\n",
      " 18  rougher.state.floatbank10_e_level                   19439 non-null  float64\n",
      " 19  rougher.state.floatbank10_f_air                     19439 non-null  float64\n",
      " 20  rougher.state.floatbank10_f_level                   19439 non-null  float64\n",
      " 21  rougher.input.floatbank11_sulfate                   19395 non-null  float64\n",
      " 22  rougher.input.floatbank11_xanthate                  18986 non-null  float64\n",
      " 23  rougher.calculation.sulfate_to_au_concentrate       19437 non-null  float64\n",
      " 24  rougher.calculation.floatbank10_sulfate_to_au_feed  19437 non-null  float64\n",
      " 25  rougher.calculation.floatbank11_sulfate_to_au_feed  19437 non-null  float64\n",
      " 26  rougher.calculation.au_pb_ratio                     19439 non-null  float64\n",
      " 27  rougher.output.concentrate_au                       19439 non-null  float64\n",
      " 28  rougher.output.concentrate_ag                       19439 non-null  float64\n",
      " 29  rougher.output.concentrate_pb                       19439 non-null  float64\n",
      " 30  rougher.output.concentrate_sol                      19416 non-null  float64\n",
      " 31  rougher.output.recovery                             19439 non-null  float64\n",
      " 32  rougher.output.tail_au                              19439 non-null  float64\n",
      " 33  rougher.output.tail_ag                              19438 non-null  float64\n",
      " 34  rougher.output.tail_pb                              19439 non-null  float64\n",
      " 35  rougher.output.tail_sol                             19439 non-null  float64\n",
      " 36  primary_cleaner.input.sulfate                       19415 non-null  float64\n",
      " 37  primary_cleaner.input.depressant                    19402 non-null  float64\n",
      " 38  primary_cleaner.input.feed_size                     19439 non-null  float64\n",
      " 39  primary_cleaner.input.xanthate                      19335 non-null  float64\n",
      " 40  primary_cleaner.state.floatbank8_a_air              19435 non-null  float64\n",
      " 41  primary_cleaner.state.floatbank8_a_level            19438 non-null  float64\n",
      " 42  primary_cleaner.state.floatbank8_b_air              19435 non-null  float64\n",
      " 43  primary_cleaner.state.floatbank8_b_level            19438 non-null  float64\n",
      " 44  primary_cleaner.state.floatbank8_c_air              19437 non-null  float64\n",
      " 45  primary_cleaner.state.floatbank8_c_level            19438 non-null  float64\n",
      " 46  primary_cleaner.state.floatbank8_d_air              19436 non-null  float64\n",
      " 47  primary_cleaner.state.floatbank8_d_level            19438 non-null  float64\n",
      " 48  primary_cleaner.output.concentrate_au               19439 non-null  float64\n",
      " 49  primary_cleaner.output.concentrate_ag               19439 non-null  float64\n",
      " 50  primary_cleaner.output.concentrate_pb               19323 non-null  float64\n",
      " 51  primary_cleaner.output.concentrate_sol              19069 non-null  float64\n",
      " 52  primary_cleaner.output.tail_au                      19439 non-null  float64\n",
      " 53  primary_cleaner.output.tail_ag                      19435 non-null  float64\n",
      " 54  primary_cleaner.output.tail_pb                      19418 non-null  float64\n",
      " 55  primary_cleaner.output.tail_sol                     19377 non-null  float64\n",
      " 56  secondary_cleaner.state.floatbank2_a_air            19219 non-null  float64\n",
      " 57  secondary_cleaner.state.floatbank2_a_level          19438 non-null  float64\n",
      " 58  secondary_cleaner.state.floatbank2_b_air            19416 non-null  float64\n",
      " 59  secondary_cleaner.state.floatbank2_b_level          19438 non-null  float64\n",
      " 60  secondary_cleaner.state.floatbank3_a_air            19426 non-null  float64\n",
      " 61  secondary_cleaner.state.floatbank3_a_level          19438 non-null  float64\n",
      " 62  secondary_cleaner.state.floatbank3_b_air            19438 non-null  float64\n",
      " 63  secondary_cleaner.state.floatbank3_b_level          19438 non-null  float64\n",
      " 64  secondary_cleaner.state.floatbank4_a_air            19433 non-null  float64\n",
      " 65  secondary_cleaner.state.floatbank4_a_level          19438 non-null  float64\n",
      " 66  secondary_cleaner.state.floatbank4_b_air            19438 non-null  float64\n",
      " 67  secondary_cleaner.state.floatbank4_b_level          19438 non-null  float64\n",
      " 68  secondary_cleaner.state.floatbank5_a_air            19438 non-null  float64\n",
      " 69  secondary_cleaner.state.floatbank5_a_level          19438 non-null  float64\n",
      " 70  secondary_cleaner.state.floatbank5_b_air            19438 non-null  float64\n",
      " 71  secondary_cleaner.state.floatbank5_b_level          19438 non-null  float64\n",
      " 72  secondary_cleaner.state.floatbank6_a_air            19437 non-null  float64\n",
      " 73  secondary_cleaner.state.floatbank6_a_level          19438 non-null  float64\n",
      " 74  secondary_cleaner.output.tail_au                    19439 non-null  float64\n",
      " 75  secondary_cleaner.output.tail_ag                    19437 non-null  float64\n",
      " 76  secondary_cleaner.output.tail_pb                    19427 non-null  float64\n",
      " 77  secondary_cleaner.output.tail_sol                   17691 non-null  float64\n",
      " 78  final.output.concentrate_au                         19439 non-null  float64\n",
      " 79  final.output.concentrate_ag                         19438 non-null  float64\n",
      " 80  final.output.concentrate_pb                         19438 non-null  float64\n",
      " 81  final.output.concentrate_sol                        19228 non-null  float64\n",
      " 82  final.output.recovery                               19439 non-null  float64\n",
      " 83  final.output.tail_au                                19439 non-null  float64\n",
      " 84  final.output.tail_ag                                19438 non-null  float64\n",
      " 85  final.output.tail_pb                                19338 non-null  float64\n",
      " 86  final.output.tail_sol                               19433 non-null  float64\n",
      "dtypes: float64(86), object(1)\n",
      "memory usage: 12.9+ MB\n"
     ]
    }
   ],
   "source": [
    "data_full.info()"
   ]
  },
  {
   "cell_type": "markdown",
   "id": "cffd59f5-a0db-47e9-bed5-5aecc3354ce3",
   "metadata": {},
   "source": [
    "Все признаки, за исключением даты, имеют тип float64, то есть для них тип данных подобран корректно. Необходимо преобразовать столбец с датой к нужному формату."
   ]
  },
  {
   "cell_type": "markdown",
   "id": "870a2c01-2e58-4f2e-a8af-22a31356d737",
   "metadata": {},
   "source": [
    "В данных наблюдается большое количество пропусков в различных столбцах. Мы не знаем их природу, но из условия известно, что соседние по времени параметры часто похожи. \n",
    "\n",
    "Заполним пропуски в каждом столбце предыдущим значением из этого же столбца."
   ]
  },
  {
   "cell_type": "code",
   "execution_count": 11,
   "id": "451a6a0e-cd89-436a-867b-c3cd7d011a49",
   "metadata": {},
   "outputs": [
    {
     "name": "stdout",
     "output_type": "stream",
     "text": [
      "<class 'pandas.core.frame.DataFrame'>\n",
      "Int64Index: 19439 entries, 0 to 19438\n",
      "Data columns (total 87 columns):\n",
      " #   Column                                              Non-Null Count  Dtype         \n",
      "---  ------                                              --------------  -----         \n",
      " 0   date                                                19439 non-null  datetime64[ns]\n",
      " 1   rougher.input.feed_au                               19439 non-null  float64       \n",
      " 2   rougher.input.feed_ag                               19439 non-null  float64       \n",
      " 3   rougher.input.feed_pb                               19439 non-null  float64       \n",
      " 4   rougher.input.feed_sol                              19439 non-null  float64       \n",
      " 5   rougher.input.feed_rate                             19439 non-null  float64       \n",
      " 6   rougher.input.feed_size                             19439 non-null  float64       \n",
      " 7   rougher.input.floatbank10_sulfate                   19439 non-null  float64       \n",
      " 8   rougher.input.floatbank10_xanthate                  19439 non-null  float64       \n",
      " 9   rougher.state.floatbank10_a_air                     19439 non-null  float64       \n",
      " 10  rougher.state.floatbank10_a_level                   19439 non-null  float64       \n",
      " 11  rougher.state.floatbank10_b_air                     19439 non-null  float64       \n",
      " 12  rougher.state.floatbank10_b_level                   19439 non-null  float64       \n",
      " 13  rougher.state.floatbank10_c_air                     19439 non-null  float64       \n",
      " 14  rougher.state.floatbank10_c_level                   19439 non-null  float64       \n",
      " 15  rougher.state.floatbank10_d_air                     19439 non-null  float64       \n",
      " 16  rougher.state.floatbank10_d_level                   19439 non-null  float64       \n",
      " 17  rougher.state.floatbank10_e_air                     19439 non-null  float64       \n",
      " 18  rougher.state.floatbank10_e_level                   19439 non-null  float64       \n",
      " 19  rougher.state.floatbank10_f_air                     19439 non-null  float64       \n",
      " 20  rougher.state.floatbank10_f_level                   19439 non-null  float64       \n",
      " 21  rougher.input.floatbank11_sulfate                   19439 non-null  float64       \n",
      " 22  rougher.input.floatbank11_xanthate                  19439 non-null  float64       \n",
      " 23  rougher.calculation.sulfate_to_au_concentrate       19439 non-null  float64       \n",
      " 24  rougher.calculation.floatbank10_sulfate_to_au_feed  19439 non-null  float64       \n",
      " 25  rougher.calculation.floatbank11_sulfate_to_au_feed  19439 non-null  float64       \n",
      " 26  rougher.calculation.au_pb_ratio                     19439 non-null  float64       \n",
      " 27  rougher.output.concentrate_au                       19439 non-null  float64       \n",
      " 28  rougher.output.concentrate_ag                       19439 non-null  float64       \n",
      " 29  rougher.output.concentrate_pb                       19439 non-null  float64       \n",
      " 30  rougher.output.concentrate_sol                      19439 non-null  float64       \n",
      " 31  rougher.output.recovery                             19439 non-null  float64       \n",
      " 32  rougher.output.tail_au                              19439 non-null  float64       \n",
      " 33  rougher.output.tail_ag                              19439 non-null  float64       \n",
      " 34  rougher.output.tail_pb                              19439 non-null  float64       \n",
      " 35  rougher.output.tail_sol                             19439 non-null  float64       \n",
      " 36  primary_cleaner.input.sulfate                       19439 non-null  float64       \n",
      " 37  primary_cleaner.input.depressant                    19439 non-null  float64       \n",
      " 38  primary_cleaner.input.feed_size                     19439 non-null  float64       \n",
      " 39  primary_cleaner.input.xanthate                      19439 non-null  float64       \n",
      " 40  primary_cleaner.state.floatbank8_a_air              19439 non-null  float64       \n",
      " 41  primary_cleaner.state.floatbank8_a_level            19439 non-null  float64       \n",
      " 42  primary_cleaner.state.floatbank8_b_air              19439 non-null  float64       \n",
      " 43  primary_cleaner.state.floatbank8_b_level            19439 non-null  float64       \n",
      " 44  primary_cleaner.state.floatbank8_c_air              19439 non-null  float64       \n",
      " 45  primary_cleaner.state.floatbank8_c_level            19439 non-null  float64       \n",
      " 46  primary_cleaner.state.floatbank8_d_air              19439 non-null  float64       \n",
      " 47  primary_cleaner.state.floatbank8_d_level            19439 non-null  float64       \n",
      " 48  primary_cleaner.output.concentrate_au               19439 non-null  float64       \n",
      " 49  primary_cleaner.output.concentrate_ag               19439 non-null  float64       \n",
      " 50  primary_cleaner.output.concentrate_pb               19439 non-null  float64       \n",
      " 51  primary_cleaner.output.concentrate_sol              19439 non-null  float64       \n",
      " 52  primary_cleaner.output.tail_au                      19439 non-null  float64       \n",
      " 53  primary_cleaner.output.tail_ag                      19439 non-null  float64       \n",
      " 54  primary_cleaner.output.tail_pb                      19439 non-null  float64       \n",
      " 55  primary_cleaner.output.tail_sol                     19439 non-null  float64       \n",
      " 56  secondary_cleaner.state.floatbank2_a_air            19439 non-null  float64       \n",
      " 57  secondary_cleaner.state.floatbank2_a_level          19439 non-null  float64       \n",
      " 58  secondary_cleaner.state.floatbank2_b_air            19439 non-null  float64       \n",
      " 59  secondary_cleaner.state.floatbank2_b_level          19439 non-null  float64       \n",
      " 60  secondary_cleaner.state.floatbank3_a_air            19439 non-null  float64       \n",
      " 61  secondary_cleaner.state.floatbank3_a_level          19439 non-null  float64       \n",
      " 62  secondary_cleaner.state.floatbank3_b_air            19439 non-null  float64       \n",
      " 63  secondary_cleaner.state.floatbank3_b_level          19439 non-null  float64       \n",
      " 64  secondary_cleaner.state.floatbank4_a_air            19439 non-null  float64       \n",
      " 65  secondary_cleaner.state.floatbank4_a_level          19439 non-null  float64       \n",
      " 66  secondary_cleaner.state.floatbank4_b_air            19439 non-null  float64       \n",
      " 67  secondary_cleaner.state.floatbank4_b_level          19439 non-null  float64       \n",
      " 68  secondary_cleaner.state.floatbank5_a_air            19439 non-null  float64       \n",
      " 69  secondary_cleaner.state.floatbank5_a_level          19439 non-null  float64       \n",
      " 70  secondary_cleaner.state.floatbank5_b_air            19439 non-null  float64       \n",
      " 71  secondary_cleaner.state.floatbank5_b_level          19439 non-null  float64       \n",
      " 72  secondary_cleaner.state.floatbank6_a_air            19439 non-null  float64       \n",
      " 73  secondary_cleaner.state.floatbank6_a_level          19439 non-null  float64       \n",
      " 74  secondary_cleaner.output.tail_au                    19439 non-null  float64       \n",
      " 75  secondary_cleaner.output.tail_ag                    19439 non-null  float64       \n",
      " 76  secondary_cleaner.output.tail_pb                    19439 non-null  float64       \n",
      " 77  secondary_cleaner.output.tail_sol                   19439 non-null  float64       \n",
      " 78  final.output.concentrate_au                         19439 non-null  float64       \n",
      " 79  final.output.concentrate_ag                         19439 non-null  float64       \n",
      " 80  final.output.concentrate_pb                         19439 non-null  float64       \n",
      " 81  final.output.concentrate_sol                        19439 non-null  float64       \n",
      " 82  final.output.recovery                               19439 non-null  float64       \n",
      " 83  final.output.tail_au                                19439 non-null  float64       \n",
      " 84  final.output.tail_ag                                19439 non-null  float64       \n",
      " 85  final.output.tail_pb                                19439 non-null  float64       \n",
      " 86  final.output.tail_sol                               19439 non-null  float64       \n",
      "dtypes: datetime64[ns](1), float64(86)\n",
      "memory usage: 13.1 MB\n",
      "None\n",
      "--------------------------------------------------------------------------------\n",
      "<class 'pandas.core.frame.DataFrame'>\n",
      "Int64Index: 14579 entries, 0 to 14578\n",
      "Data columns (total 87 columns):\n",
      " #   Column                                              Non-Null Count  Dtype         \n",
      "---  ------                                              --------------  -----         \n",
      " 0   date                                                14579 non-null  datetime64[ns]\n",
      " 1   rougher.input.feed_au                               14579 non-null  float64       \n",
      " 2   rougher.input.feed_ag                               14579 non-null  float64       \n",
      " 3   rougher.input.feed_pb                               14579 non-null  float64       \n",
      " 4   rougher.input.feed_sol                              14579 non-null  float64       \n",
      " 5   rougher.input.feed_rate                             14579 non-null  float64       \n",
      " 6   rougher.input.feed_size                             14579 non-null  float64       \n",
      " 7   rougher.input.floatbank10_sulfate                   14579 non-null  float64       \n",
      " 8   rougher.input.floatbank10_xanthate                  14579 non-null  float64       \n",
      " 9   rougher.state.floatbank10_a_air                     14579 non-null  float64       \n",
      " 10  rougher.state.floatbank10_a_level                   14579 non-null  float64       \n",
      " 11  rougher.state.floatbank10_b_air                     14579 non-null  float64       \n",
      " 12  rougher.state.floatbank10_b_level                   14579 non-null  float64       \n",
      " 13  rougher.state.floatbank10_c_air                     14579 non-null  float64       \n",
      " 14  rougher.state.floatbank10_c_level                   14579 non-null  float64       \n",
      " 15  rougher.state.floatbank10_d_air                     14579 non-null  float64       \n",
      " 16  rougher.state.floatbank10_d_level                   14579 non-null  float64       \n",
      " 17  rougher.state.floatbank10_e_air                     14579 non-null  float64       \n",
      " 18  rougher.state.floatbank10_e_level                   14579 non-null  float64       \n",
      " 19  rougher.state.floatbank10_f_air                     14579 non-null  float64       \n",
      " 20  rougher.state.floatbank10_f_level                   14579 non-null  float64       \n",
      " 21  rougher.input.floatbank11_sulfate                   14579 non-null  float64       \n",
      " 22  rougher.input.floatbank11_xanthate                  14579 non-null  float64       \n",
      " 23  rougher.calculation.sulfate_to_au_concentrate       14579 non-null  float64       \n",
      " 24  rougher.calculation.floatbank10_sulfate_to_au_feed  14579 non-null  float64       \n",
      " 25  rougher.calculation.floatbank11_sulfate_to_au_feed  14579 non-null  float64       \n",
      " 26  rougher.calculation.au_pb_ratio                     14579 non-null  float64       \n",
      " 27  rougher.output.concentrate_au                       14579 non-null  float64       \n",
      " 28  rougher.output.concentrate_ag                       14579 non-null  float64       \n",
      " 29  rougher.output.concentrate_pb                       14579 non-null  float64       \n",
      " 30  rougher.output.concentrate_sol                      14579 non-null  float64       \n",
      " 31  rougher.output.recovery                             14579 non-null  float64       \n",
      " 32  rougher.output.tail_au                              14579 non-null  float64       \n",
      " 33  rougher.output.tail_ag                              14579 non-null  float64       \n",
      " 34  rougher.output.tail_pb                              14579 non-null  float64       \n",
      " 35  rougher.output.tail_sol                             14579 non-null  float64       \n",
      " 36  primary_cleaner.input.sulfate                       14579 non-null  float64       \n",
      " 37  primary_cleaner.input.depressant                    14579 non-null  float64       \n",
      " 38  primary_cleaner.input.feed_size                     14579 non-null  float64       \n",
      " 39  primary_cleaner.input.xanthate                      14579 non-null  float64       \n",
      " 40  primary_cleaner.state.floatbank8_a_air              14579 non-null  float64       \n",
      " 41  primary_cleaner.state.floatbank8_a_level            14579 non-null  float64       \n",
      " 42  primary_cleaner.state.floatbank8_b_air              14579 non-null  float64       \n",
      " 43  primary_cleaner.state.floatbank8_b_level            14579 non-null  float64       \n",
      " 44  primary_cleaner.state.floatbank8_c_air              14579 non-null  float64       \n",
      " 45  primary_cleaner.state.floatbank8_c_level            14579 non-null  float64       \n",
      " 46  primary_cleaner.state.floatbank8_d_air              14579 non-null  float64       \n",
      " 47  primary_cleaner.state.floatbank8_d_level            14579 non-null  float64       \n",
      " 48  primary_cleaner.output.concentrate_au               14579 non-null  float64       \n",
      " 49  primary_cleaner.output.concentrate_ag               14579 non-null  float64       \n",
      " 50  primary_cleaner.output.concentrate_pb               14579 non-null  float64       \n",
      " 51  primary_cleaner.output.concentrate_sol              14579 non-null  float64       \n",
      " 52  primary_cleaner.output.tail_au                      14579 non-null  float64       \n",
      " 53  primary_cleaner.output.tail_ag                      14579 non-null  float64       \n",
      " 54  primary_cleaner.output.tail_pb                      14579 non-null  float64       \n",
      " 55  primary_cleaner.output.tail_sol                     14579 non-null  float64       \n",
      " 56  secondary_cleaner.state.floatbank2_a_air            14579 non-null  float64       \n",
      " 57  secondary_cleaner.state.floatbank2_a_level          14579 non-null  float64       \n",
      " 58  secondary_cleaner.state.floatbank2_b_air            14579 non-null  float64       \n",
      " 59  secondary_cleaner.state.floatbank2_b_level          14579 non-null  float64       \n",
      " 60  secondary_cleaner.state.floatbank3_a_air            14579 non-null  float64       \n",
      " 61  secondary_cleaner.state.floatbank3_a_level          14579 non-null  float64       \n",
      " 62  secondary_cleaner.state.floatbank3_b_air            14579 non-null  float64       \n",
      " 63  secondary_cleaner.state.floatbank3_b_level          14579 non-null  float64       \n",
      " 64  secondary_cleaner.state.floatbank4_a_air            14579 non-null  float64       \n",
      " 65  secondary_cleaner.state.floatbank4_a_level          14579 non-null  float64       \n",
      " 66  secondary_cleaner.state.floatbank4_b_air            14579 non-null  float64       \n",
      " 67  secondary_cleaner.state.floatbank4_b_level          14579 non-null  float64       \n",
      " 68  secondary_cleaner.state.floatbank5_a_air            14579 non-null  float64       \n",
      " 69  secondary_cleaner.state.floatbank5_a_level          14579 non-null  float64       \n",
      " 70  secondary_cleaner.state.floatbank5_b_air            14579 non-null  float64       \n",
      " 71  secondary_cleaner.state.floatbank5_b_level          14579 non-null  float64       \n",
      " 72  secondary_cleaner.state.floatbank6_a_air            14579 non-null  float64       \n",
      " 73  secondary_cleaner.state.floatbank6_a_level          14579 non-null  float64       \n",
      " 74  secondary_cleaner.output.tail_au                    14579 non-null  float64       \n",
      " 75  secondary_cleaner.output.tail_ag                    14579 non-null  float64       \n",
      " 76  secondary_cleaner.output.tail_pb                    14579 non-null  float64       \n",
      " 77  secondary_cleaner.output.tail_sol                   14579 non-null  float64       \n",
      " 78  final.output.concentrate_au                         14579 non-null  float64       \n",
      " 79  final.output.concentrate_ag                         14579 non-null  float64       \n",
      " 80  final.output.concentrate_pb                         14579 non-null  float64       \n",
      " 81  final.output.concentrate_sol                        14579 non-null  float64       \n",
      " 82  final.output.recovery                               14579 non-null  float64       \n",
      " 83  final.output.tail_au                                14579 non-null  float64       \n",
      " 84  final.output.tail_ag                                14579 non-null  float64       \n",
      " 85  final.output.tail_pb                                14579 non-null  float64       \n",
      " 86  final.output.tail_sol                               14579 non-null  float64       \n",
      "dtypes: datetime64[ns](1), float64(86)\n",
      "memory usage: 9.8 MB\n",
      "None\n",
      "--------------------------------------------------------------------------------\n",
      "<class 'pandas.core.frame.DataFrame'>\n",
      "Int64Index: 4860 entries, 0 to 4859\n",
      "Data columns (total 53 columns):\n",
      " #   Column                                      Non-Null Count  Dtype         \n",
      "---  ------                                      --------------  -----         \n",
      " 0   date                                        4860 non-null   datetime64[ns]\n",
      " 1   rougher.input.feed_au                       4860 non-null   float64       \n",
      " 2   rougher.input.feed_ag                       4860 non-null   float64       \n",
      " 3   rougher.input.feed_pb                       4860 non-null   float64       \n",
      " 4   rougher.input.feed_sol                      4860 non-null   float64       \n",
      " 5   rougher.input.feed_rate                     4860 non-null   float64       \n",
      " 6   rougher.input.feed_size                     4860 non-null   float64       \n",
      " 7   rougher.input.floatbank10_sulfate           4860 non-null   float64       \n",
      " 8   rougher.input.floatbank10_xanthate          4860 non-null   float64       \n",
      " 9   rougher.state.floatbank10_a_air             4860 non-null   float64       \n",
      " 10  rougher.state.floatbank10_a_level           4860 non-null   float64       \n",
      " 11  rougher.state.floatbank10_b_air             4860 non-null   float64       \n",
      " 12  rougher.state.floatbank10_b_level           4860 non-null   float64       \n",
      " 13  rougher.state.floatbank10_c_air             4860 non-null   float64       \n",
      " 14  rougher.state.floatbank10_c_level           4860 non-null   float64       \n",
      " 15  rougher.state.floatbank10_d_air             4860 non-null   float64       \n",
      " 16  rougher.state.floatbank10_d_level           4860 non-null   float64       \n",
      " 17  rougher.state.floatbank10_e_air             4860 non-null   float64       \n",
      " 18  rougher.state.floatbank10_e_level           4860 non-null   float64       \n",
      " 19  rougher.state.floatbank10_f_air             4860 non-null   float64       \n",
      " 20  rougher.state.floatbank10_f_level           4860 non-null   float64       \n",
      " 21  rougher.input.floatbank11_sulfate           4860 non-null   float64       \n",
      " 22  rougher.input.floatbank11_xanthate          4860 non-null   float64       \n",
      " 23  primary_cleaner.input.sulfate               4860 non-null   float64       \n",
      " 24  primary_cleaner.input.depressant            4860 non-null   float64       \n",
      " 25  primary_cleaner.input.feed_size             4860 non-null   float64       \n",
      " 26  primary_cleaner.input.xanthate              4860 non-null   float64       \n",
      " 27  primary_cleaner.state.floatbank8_a_air      4860 non-null   float64       \n",
      " 28  primary_cleaner.state.floatbank8_a_level    4860 non-null   float64       \n",
      " 29  primary_cleaner.state.floatbank8_b_air      4860 non-null   float64       \n",
      " 30  primary_cleaner.state.floatbank8_b_level    4860 non-null   float64       \n",
      " 31  primary_cleaner.state.floatbank8_c_air      4860 non-null   float64       \n",
      " 32  primary_cleaner.state.floatbank8_c_level    4860 non-null   float64       \n",
      " 33  primary_cleaner.state.floatbank8_d_air      4860 non-null   float64       \n",
      " 34  primary_cleaner.state.floatbank8_d_level    4860 non-null   float64       \n",
      " 35  secondary_cleaner.state.floatbank2_a_air    4860 non-null   float64       \n",
      " 36  secondary_cleaner.state.floatbank2_a_level  4860 non-null   float64       \n",
      " 37  secondary_cleaner.state.floatbank2_b_air    4860 non-null   float64       \n",
      " 38  secondary_cleaner.state.floatbank2_b_level  4860 non-null   float64       \n",
      " 39  secondary_cleaner.state.floatbank3_a_air    4860 non-null   float64       \n",
      " 40  secondary_cleaner.state.floatbank3_a_level  4860 non-null   float64       \n",
      " 41  secondary_cleaner.state.floatbank3_b_air    4860 non-null   float64       \n",
      " 42  secondary_cleaner.state.floatbank3_b_level  4860 non-null   float64       \n",
      " 43  secondary_cleaner.state.floatbank4_a_air    4860 non-null   float64       \n",
      " 44  secondary_cleaner.state.floatbank4_a_level  4860 non-null   float64       \n",
      " 45  secondary_cleaner.state.floatbank4_b_air    4860 non-null   float64       \n",
      " 46  secondary_cleaner.state.floatbank4_b_level  4860 non-null   float64       \n",
      " 47  secondary_cleaner.state.floatbank5_a_air    4860 non-null   float64       \n",
      " 48  secondary_cleaner.state.floatbank5_a_level  4860 non-null   float64       \n",
      " 49  secondary_cleaner.state.floatbank5_b_air    4860 non-null   float64       \n",
      " 50  secondary_cleaner.state.floatbank5_b_level  4860 non-null   float64       \n",
      " 51  secondary_cleaner.state.floatbank6_a_air    4860 non-null   float64       \n",
      " 52  secondary_cleaner.state.floatbank6_a_level  4860 non-null   float64       \n",
      "dtypes: datetime64[ns](1), float64(52)\n",
      "memory usage: 2.0 MB\n",
      "None\n"
     ]
    }
   ],
   "source": [
    "# используем функцию для форматирования всех наборов данных\n",
    "def preprocessing(df):\n",
    "    df['date'] = pd.to_datetime(df['date'], format='%Y-%m-%d %H:%M:%S', errors = 'coerce')\n",
    "    df.sort_values(by='date', inplace = True)\n",
    "    df.fillna(method = 'ffill', inplace = True)\n",
    "    return df\n",
    "\n",
    "preprocessing(data_full)\n",
    "preprocessing(data_train)\n",
    "preprocessing(data_test)\n",
    "\n",
    "print(data_full.info())\n",
    "Separating_line()\n",
    "print(data_train.info())\n",
    "Separating_line()\n",
    "print(data_test.info())"
   ]
  },
  {
   "cell_type": "markdown",
   "id": "84123420-81dd-4048-ac4c-9c11b394de7e",
   "metadata": {},
   "source": [
    "# 2. Анализ данных.<a class=\"anchor\" id=\"b3\"></a>"
   ]
  },
  {
   "cell_type": "markdown",
   "id": "c76fe4d8-f1fb-4020-b2ed-937504daa384",
   "metadata": {},
   "source": [
    "## 2.1. Исследование изменения концентрации металлов (Au, Ag, Pb) на различных этапах."
   ]
  },
  {
   "cell_type": "code",
   "execution_count": 12,
   "id": "7bffb9e4-7591-4b26-a94b-9ef1b31d4a38",
   "metadata": {
    "tags": []
   },
   "outputs": [
    {
     "data": {
      "image/png": "[encoded data removed]",
      "text/plain": [
       "<Figure size 1440x720 with 12 Axes>"
      ]
     },
     "metadata": {
      "needs_background": "light"
     },
     "output_type": "display_data"
    },
    {
     "data": {
      "image/png": "[encoded data removed]",
      "text/plain": [
       "<Figure size 1440x720 with 12 Axes>"
      ]
     },
     "metadata": {
      "needs_background": "light"
     },
     "output_type": "display_data"
    }
   ],
   "source": [
    "# создаем список интересующих металлов\n",
    "metals = ['au', 'ag', 'pb']\n",
    "# создаем список этапов\n",
    "stages = ['rougher.input.feed_', 'rougher.output.concentrate_', 'primary_cleaner.output.concentrate_' ,'final.output.concentrate_']\n",
    "# задаем параметры гистограмм\n",
    "fig1, ax1 = plt.subplots(figsize=(20,10), nrows=len(metals), ncols=len(stages))\n",
    "fig2, ax2 = plt.subplots(figsize=(20,10), nrows=len(metals), ncols=len(stages))\n",
    "# создаем подписи тайтлов\n",
    "fig1.suptitle('Гистограммы распределения концентрации металлов на различных этапах')\n",
    "fig2.suptitle('\"Ящики с усами\" для концентрации металлов на различных этапах')\n",
    "# создаем цикл вывода гистограмм и боксплотов\n",
    "for metal_index, metal in enumerate(metals):\n",
    "    for stage_index, stage in enumerate(stages):\n",
    "            column = (f'{stage}{metal}')\n",
    "            ax1[metal_index][stage_index].hist(data_full[column], bins = list(range(0, 60, 1)))\n",
    "            ax1[metal_index][stage_index].set_title(f'{metal} : stage - {stage}')\n",
    "            ax1[metal_index][stage_index].grid()\n",
    "\n",
    "            ax2[metal_index][stage_index].set_ylim(bottom=-1, top=55)\n",
    "            ax2[metal_index][stage_index].boxplot(data_full[column])\n",
    "            ax2[metal_index][stage_index].set_title(f'{metal} : stage - {stage}')\n",
    "            ax2[metal_index][stage_index].grid()"
   ]
  },
  {
   "cell_type": "markdown",
   "id": "08c614d1-d212-4384-be31-8652c496b894",
   "metadata": {},
   "source": [
    "По гистограммам видно, что все распределения концентраций распределены нормально. Что логично, на каждом этапе концентрация золота (au) стремительно растет по мере прохождения смесью стадий флотации и очисток, концентрация серебра (ag) - постепенно падает, а концентрация свинца (pb) немного возрастает после первичной очистки и почти не меняется после вторичной очистки.\n",
    "\n",
    "Также для всех металлов заметно достаточно большое количество значений в райное 0 после флотации, однако затем их количество снижается после следующих стадий. Возможно, такая низкая концентрация одного вещества компенсируется большей концентрацией другого. Вернемся к анализу данных значений в процессе исследования."
   ]
  },
  {
   "cell_type": "markdown",
   "id": "1878fb12-6381-4f88-844b-996c1f7bb4fe",
   "metadata": {},
   "source": [
    "## 2.2. Сравнение распределения размеров гранул исходного сырья на обучающей и тестовой выборках."
   ]
  },
  {
   "cell_type": "markdown",
   "id": "90dba809-749b-4620-9b7d-e80a5a9be9d7",
   "metadata": {},
   "source": [
    "При существенных различиях распределения размеров гранул, оценка модели будет неправильной."
   ]
  },
  {
   "cell_type": "code",
   "execution_count": 13,
   "id": "cd4e215e-0f79-4302-87f2-851af76292ea",
   "metadata": {
    "tags": []
   },
   "outputs": [
    {
     "data": {
      "image/png": "[encoded data removed]",
      "text/plain": [
       "<Figure size 432x288 with 1 Axes>"
      ]
     },
     "metadata": {
      "needs_background": "light"
     },
     "output_type": "display_data"
    }
   ],
   "source": [
    "# построим боксплот тестовой и обучающей выборок\n",
    "plt.boxplot([data_train['rougher.input.feed_size'], data_test['rougher.input.feed_size']], labels=['Тренировочная', 'Тестовая'])\n",
    "plt.title('Распределения размеров гранул исходного сырья на тренировочной и тестовой выборках')\n",
    "plt.grid()"
   ]
  },
  {
   "cell_type": "markdown",
   "id": "74413ca2-f935-4bd8-b2aa-52d185993e8b",
   "metadata": {},
   "source": [
    "В обеих выборках много выбросов по размерам гранул исходного сырья. При этом медианы находятся примерно на одном уровне (~ 60). Можно ожидать, что этот признак не будет приводить к большим ошибкам модели."
   ]
  },
  {
   "cell_type": "markdown",
   "id": "c4ab6f86-2548-426e-9281-b013ced3b3bc",
   "metadata": {},
   "source": [
    "## 2.3. Исследование суммарной концентрации металлов на разных стадиях: в сырье, в черновом и в финальном концентрате."
   ]
  },
  {
   "cell_type": "code",
   "execution_count": 14,
   "id": "e9c81832-e642-44cc-b111-57b306c8b921",
   "metadata": {
    "tags": []
   },
   "outputs": [],
   "source": [
    "# создаем список интересующих металлов\n",
    "def total_concentration_on_stage(row, stage_name):\n",
    "    columns = [f'{stage_name}{metal}' for metal in ['au', 'ag', 'pb', 'sol']]\n",
    "    res = sum([row[column] for column in columns])\n",
    "    return res\n",
    "# создаем цикл этапов\n",
    "def total_concentration(df):\n",
    "    stages = ['rougher.input.feed_', 'rougher.output.concentrate_', 'primary_cleaner.output.concentrate_' ,'final.output.concentrate_']\n",
    "    stages_names = ['в сырье', 'в черновом концентрате', 'концентрате после первой очистки', 'в финальном концентрате']\n",
    "# задаем параметры гистограмм\n",
    "    fig1, ax1 = plt.subplots(figsize=(10,14), nrows=len(stages), ncols=1)\n",
    "    fig2, ax2 = plt.subplots(figsize=(10,14), nrows=len(stages), ncols=1)\n",
    "# создаем подписи тайтлов\n",
    "    fig1.suptitle('Гистограммы распределения суммарной концентрации веществ на различных этапах')\n",
    "    fig2.suptitle('\"Ящики с усами\" для суммарной концентрации веществ на различных этапах')\n",
    "# создаем цикл вывода гистограмм и боксплотов\n",
    "    for stage_index, stage in enumerate(stages):\n",
    "        values = df.apply(lambda row: total_concentration_on_stage(row, stage), axis=1)        \n",
    "        ax1[stage_index].hist(values, bins = list(range(-10, 110, 1)))\n",
    "        ax1[stage_index].set_title(f'Суммарная концентрация {stages_names[stage_index]}')\n",
    "        ax1[stage_index].grid()\n",
    "\n",
    "        ax2[stage_index].set_ylim(bottom=-10, top=110)\n",
    "        ax2[stage_index].boxplot(values)\n",
    "        ax2[stage_index].set_title(f'Суммарная концентрация {stages_names[stage_index]}')\n",
    "        ax2[stage_index].grid()"
   ]
  },
  {
   "cell_type": "code",
   "execution_count": 15,
   "id": "431e3cf5-1493-4e3c-9693-76e74823d9c3",
   "metadata": {
    "tags": []
   },
   "outputs": [
    {
     "data": {
      "image/png": "[encoded data removed]",
      "text/plain": [
       "<Figure size 720x1008 with 4 Axes>"
      ]
     },
     "metadata": {
      "needs_background": "light"
     },
     "output_type": "display_data"
    },
    {
     "data": {
      "image/png": "[encoded data removed]",
      "text/plain": [
       "<Figure size 720x1008 with 4 Axes>"
      ]
     },
     "metadata": {
      "needs_background": "light"
     },
     "output_type": "display_data"
    }
   ],
   "source": [
    "total_concentration(data_full)"
   ]
  },
  {
   "cell_type": "markdown",
   "id": "2cef9a53-109c-4bf9-bc7b-cf2ce0f45a5e",
   "metadata": {},
   "source": [
    "Среднее и медианое значения суммарной концентрации для каждого этапа не сильно отличаются, а значит в этих данных мало выбросов. По мере прохождения этапов суммарная концентрация металлов скучивается (концентрируется).\n",
    "\n",
    "Вновь видим выбросы в райне 0, хоть их количество и уменьшается от этапа к этапу. Вероятно, это ошибки измерений, поэтому избавимся от данных записей, где концентрция одного из веществ на одной из стадий близка к 0 в тренировочной выборке, так как они негативно скажутся на алгоритмах моделей. Исходную выборку трогать не будем, тк на ней формируется тестовая."
   ]
  },
  {
   "cell_type": "code",
   "execution_count": 16,
   "id": "cbc33288-204c-40d3-a410-e5f44f57b3f4",
   "metadata": {
    "tags": []
   },
   "outputs": [
    {
     "name": "stdout",
     "output_type": "stream",
     "text": [
      "Размер выборки до удаления описанных записей: (14579, 87)\n",
      "Размеры выборки после удаления описанных записей: (13872, 87)\n"
     ]
    }
   ],
   "source": [
    "print(f'Размер выборки до удаления описанных записей: {data_train.shape}')\n",
    "\n",
    "metals = ['au', 'ag', 'pb', 'sol']\n",
    "stages = ['rougher', 'primary_cleaner', 'final']\n",
    "limit = 0.1\n",
    "\n",
    "for stage in stages:\n",
    "    for metal in metals:\n",
    "        column = f'{stage}.output.concentrate_{metal}'\n",
    "        data_train = data_train[data_train[column] > limit]\n",
    "                \n",
    "print(f'Размеры выборки после удаления описанных записей: {data_train.shape}')"
   ]
  },
  {
   "cell_type": "markdown",
   "id": "84a794b4-2901-4b29-a1f2-1891e71ec6c6",
   "metadata": {},
   "source": [
    "# 3. Построение модели.<a class=\"anchor\" id=\"b4\"></a>"
   ]
  },
  {
   "cell_type": "markdown",
   "id": "aa61eaa5-c31c-403e-a404-c527a31ec196",
   "metadata": {},
   "source": [
    "## 3.1. Написание функции для вычисления итоговой sMAPE."
   ]
  },
  {
   "cell_type": "markdown",
   "id": "bd3e9031-0f44-4222-a80f-dfa85c615c42",
   "metadata": {},
   "source": [
    "$$ \\text{sMAPE}=\\frac{100\\%}{N}\\sum_{i=1}^{N}\\frac{\\left|y_{i}-\\hat{y_{i}}\\right|}{(|y_{i}|+|\\hat{y_{i}}|)/2}. $$\n",
    "\n",
    "Необходимо спрогнозировать сразу две величины:\n",
    "1. эффективность обогащения чернового концентрата rougher.output.recovery;\n",
    "2. эффективность обогащения финального концентрата final.output.recovery.\n",
    "\n",
    "Итоговая метрика складывается из двух величин:\n",
    "\n",
    "$$ \\text{final_sMAPE}= 25\\% * \\text{sMAPE(rougher)} + 75\\% * \\text{sMAPE(final)}$$"
   ]
  },
  {
   "cell_type": "code",
   "execution_count": 17,
   "id": "ac5a8a7f-811d-4425-9ae0-5e65d59292d7",
   "metadata": {},
   "outputs": [],
   "source": [
    "def smape(y_true, y_pred):\n",
    "    assert len(y_true) == len(y_pred)\n",
    "    \n",
    "    return (abs(y_true - y_pred) / ((abs(y_true) + abs(y_pred)) / 2)).sum(axis=0) * 100 / len(y_true)\n",
    "\n",
    "smape_scorer = make_scorer(smape)\n",
    "\n",
    "def final_smape(y_rougher_true, y_rougher_pred, y_final_true, y_final_pred):\n",
    "    return 0.25 * smape(y_rougher_true, y_rougher_pred) + 0.75 * smape(y_final_true, y_final_pred)"
   ]
  },
  {
   "cell_type": "markdown",
   "id": "f0ad30e9-0c3f-49df-9133-762acc20f833",
   "metadata": {},
   "source": [
    "## 3.2. Подготовка признаков."
   ]
  },
  {
   "cell_type": "markdown",
   "id": "ab6e9670-16ed-4e47-9257-e5539dc0e654",
   "metadata": {},
   "source": [
    "Выделим целевые признаки из тренировочной выборки, так же возьмем целевые признаки для тестовой выборки из таблицы с исходными данными. Удалим из признаков всех выборок целевые и те, что рассчитываются вместе с целевыми."
   ]
  },
  {
   "cell_type": "code",
   "execution_count": 18,
   "id": "46b840ec-9ddc-4cf9-9173-da2bd6e383b0",
   "metadata": {
    "tags": []
   },
   "outputs": [],
   "source": [
    "# выделяем целевые признаки для тренировочной выборки используя ранее созданную переменную 'target_column'\n",
    "train_targets = [data_train[target_column] for target_column in target_columns]\n",
    "data_test = data_test.merge(data_full[['date'] + target_columns] , on='date', how='inner')\n",
    "# выделяем целевые признаки для тестовой выборки используя ранее созданную переменную 'target_column'\n",
    "test_targets = [data_test[target_column] for target_column in target_columns]\n",
    "\n",
    "data_train = data_train.drop(missing_columns + target_columns, axis=1, errors='ignore')\n",
    "data_test = data_test.drop(missing_columns + target_columns, axis=1, errors='ignore')"
   ]
  },
  {
   "cell_type": "code",
   "execution_count": 19,
   "id": "ee212226-363f-44d6-a4ba-23aa567909bd",
   "metadata": {
    "tags": []
   },
   "outputs": [
    {
     "name": "stdout",
     "output_type": "stream",
     "text": [
      "Размерность тренировочных: признаков: (13872, 53) целевых признаков: (13872, 2)\n",
      "Размерность тестовых: признаков: (4860, 53) целевых признаков: (4860, 2)\n"
     ]
    }
   ],
   "source": [
    "# выведем размерности получившихся признаков\n",
    "print('Размерность тренировочных: признаков:', data_train.shape, 'целевых признаков:', f'({len(train_targets[0])}, {len(train_targets)})')\n",
    "print('Размерность тестовых: признаков:', data_test.shape, 'целевых признаков:', f'({len(test_targets[0])}, {len(test_targets)})')"
   ]
  },
  {
   "cell_type": "code",
   "execution_count": 20,
   "id": "64cf8b71-ee7e-44f4-87b4-1b08e1904cf9",
   "metadata": {},
   "outputs": [
    {
     "name": "stdout",
     "output_type": "stream",
     "text": [
      "Все признаки:\n",
      "Index(['date', 'rougher.input.feed_au', 'rougher.input.feed_ag',\n",
      "       'rougher.input.feed_pb', 'rougher.input.feed_sol',\n",
      "       'rougher.input.feed_rate', 'rougher.input.feed_size',\n",
      "       'rougher.input.floatbank10_sulfate',\n",
      "       'rougher.input.floatbank10_xanthate', 'rougher.state.floatbank10_a_air',\n",
      "       'rougher.state.floatbank10_a_level', 'rougher.state.floatbank10_b_air',\n",
      "       'rougher.state.floatbank10_b_level', 'rougher.state.floatbank10_c_air',\n",
      "       'rougher.state.floatbank10_c_level', 'rougher.state.floatbank10_d_air',\n",
      "       'rougher.state.floatbank10_d_level', 'rougher.state.floatbank10_e_air',\n",
      "       'rougher.state.floatbank10_e_level', 'rougher.state.floatbank10_f_air',\n",
      "       'rougher.state.floatbank10_f_level',\n",
      "       'rougher.input.floatbank11_sulfate',\n",
      "       'rougher.input.floatbank11_xanthate', 'primary_cleaner.input.sulfate',\n",
      "       'primary_cleaner.input.depressant', 'primary_cleaner.input.feed_size',\n",
      "       'primary_cleaner.input.xanthate',\n",
      "       'primary_cleaner.state.floatbank8_a_air',\n",
      "       'primary_cleaner.state.floatbank8_a_level',\n",
      "       'primary_cleaner.state.floatbank8_b_air',\n",
      "       'primary_cleaner.state.floatbank8_b_level',\n",
      "       'primary_cleaner.state.floatbank8_c_air',\n",
      "       'primary_cleaner.state.floatbank8_c_level',\n",
      "       'primary_cleaner.state.floatbank8_d_air',\n",
      "       'primary_cleaner.state.floatbank8_d_level',\n",
      "       'secondary_cleaner.state.floatbank2_a_air',\n",
      "       'secondary_cleaner.state.floatbank2_a_level',\n",
      "       'secondary_cleaner.state.floatbank2_b_air',\n",
      "       'secondary_cleaner.state.floatbank2_b_level',\n",
      "       'secondary_cleaner.state.floatbank3_a_air',\n",
      "       'secondary_cleaner.state.floatbank3_a_level',\n",
      "       'secondary_cleaner.state.floatbank3_b_air',\n",
      "       'secondary_cleaner.state.floatbank3_b_level',\n",
      "       'secondary_cleaner.state.floatbank4_a_air',\n",
      "       'secondary_cleaner.state.floatbank4_a_level',\n",
      "       'secondary_cleaner.state.floatbank4_b_air',\n",
      "       'secondary_cleaner.state.floatbank4_b_level',\n",
      "       'secondary_cleaner.state.floatbank5_a_air',\n",
      "       'secondary_cleaner.state.floatbank5_a_level',\n",
      "       'secondary_cleaner.state.floatbank5_b_air',\n",
      "       'secondary_cleaner.state.floatbank5_b_level',\n",
      "       'secondary_cleaner.state.floatbank6_a_air',\n",
      "       'secondary_cleaner.state.floatbank6_a_level'],\n",
      "      dtype='object')\n"
     ]
    }
   ],
   "source": [
    "all_feature_columns = data_train.columns\n",
    "print('Все признаки:')\n",
    "print(all_feature_columns)"
   ]
  },
  {
   "cell_type": "markdown",
   "id": "da8b9c4c-0891-4654-9b2e-2881ce10574e",
   "metadata": {},
   "source": [
    "Выделим признаки, которые пригодятся для предсказывания каждого целевого признака. \n",
    "\n",
    "Для предсказания эффективности обогащения чернового концентрата rougher.output.recovery следует использовать только те признаки, которые известны до этапа rougher.output, то есть все параметры исходной смеси, которая поступает на стадию флотации (`rougher.input.\\*`), а также параметры, характеризующие текущее состояние этапа флотации (`rougher.state.\\*`).\n",
    "\n",
    "Для предсказания эффективности обогащения финального концентрата final.output.recovery следует использовать только те признаки, которые известны до этапа final.output , то есть все параметры для предсказания первого этапа, а также входные параметры и состояния этапов отчистки  (`primary_cleaner.input.\\*` и `secondary_cleaner.input.\\*`; `primary_cleaner.state.\\*` и `secondary_cleaner.state.\\*`). \n",
    "\n",
    "\n",
    "Также для второй модели в качестве признака можно было бы использовать предсказания первой модели. Если первая модель будет высокого каачества, то ее предсказания могут поднять качество второй модели за счет дополнительной информации, однако если первая модель будет сильно ошибаться, то некорректные предсказания испортят и вторую модель. Поэтому лучше передавать второй модели все признаки, которые были доступны первой, чтобы она их оценивала и учитывала самостоятельно."
   ]
  },
  {
   "cell_type": "code",
   "execution_count": 21,
   "id": "f1ca73eb-74ee-455d-9e57-c9f0750f3fd0",
   "metadata": {},
   "outputs": [
    {
     "name": "stdout",
     "output_type": "stream",
     "text": [
      "Признаки для первой модели: ['rougher.input.feed_au', 'rougher.input.feed_ag', 'rougher.input.feed_pb', 'rougher.input.feed_sol', 'rougher.input.feed_rate', 'rougher.input.feed_size', 'rougher.input.floatbank10_sulfate', 'rougher.input.floatbank10_xanthate', 'rougher.state.floatbank10_a_air', 'rougher.state.floatbank10_a_level', 'rougher.state.floatbank10_b_air', 'rougher.state.floatbank10_b_level', 'rougher.state.floatbank10_c_air', 'rougher.state.floatbank10_c_level', 'rougher.state.floatbank10_d_air', 'rougher.state.floatbank10_d_level', 'rougher.state.floatbank10_e_air', 'rougher.state.floatbank10_e_level', 'rougher.state.floatbank10_f_air', 'rougher.state.floatbank10_f_level', 'rougher.input.floatbank11_sulfate', 'rougher.input.floatbank11_xanthate']\n",
      "--------------------------------------------------------------------------------\n",
      "Признаки для второй модели: ['rougher.input.feed_au', 'rougher.input.feed_ag', 'rougher.input.feed_pb', 'rougher.input.feed_sol', 'rougher.input.feed_rate', 'rougher.input.feed_size', 'rougher.input.floatbank10_sulfate', 'rougher.input.floatbank10_xanthate', 'rougher.state.floatbank10_a_air', 'rougher.state.floatbank10_a_level', 'rougher.state.floatbank10_b_air', 'rougher.state.floatbank10_b_level', 'rougher.state.floatbank10_c_air', 'rougher.state.floatbank10_c_level', 'rougher.state.floatbank10_d_air', 'rougher.state.floatbank10_d_level', 'rougher.state.floatbank10_e_air', 'rougher.state.floatbank10_e_level', 'rougher.state.floatbank10_f_air', 'rougher.state.floatbank10_f_level', 'rougher.input.floatbank11_sulfate', 'rougher.input.floatbank11_xanthate', 'primary_cleaner.input.sulfate', 'primary_cleaner.input.depressant', 'primary_cleaner.input.feed_size', 'primary_cleaner.input.xanthate', 'primary_cleaner.state.floatbank8_a_air', 'primary_cleaner.state.floatbank8_a_level', 'primary_cleaner.state.floatbank8_b_air', 'primary_cleaner.state.floatbank8_b_level', 'primary_cleaner.state.floatbank8_c_air', 'primary_cleaner.state.floatbank8_c_level', 'primary_cleaner.state.floatbank8_d_air', 'primary_cleaner.state.floatbank8_d_level', 'secondary_cleaner.state.floatbank2_a_air', 'secondary_cleaner.state.floatbank2_a_level', 'secondary_cleaner.state.floatbank2_b_air', 'secondary_cleaner.state.floatbank2_b_level', 'secondary_cleaner.state.floatbank3_a_air', 'secondary_cleaner.state.floatbank3_a_level', 'secondary_cleaner.state.floatbank3_b_air', 'secondary_cleaner.state.floatbank3_b_level', 'secondary_cleaner.state.floatbank4_a_air', 'secondary_cleaner.state.floatbank4_a_level', 'secondary_cleaner.state.floatbank4_b_air', 'secondary_cleaner.state.floatbank4_b_level', 'secondary_cleaner.state.floatbank5_a_air', 'secondary_cleaner.state.floatbank5_a_level', 'secondary_cleaner.state.floatbank5_b_air', 'secondary_cleaner.state.floatbank5_b_level', 'secondary_cleaner.state.floatbank6_a_air', 'secondary_cleaner.state.floatbank6_a_level']\n"
     ]
    }
   ],
   "source": [
    "features_columns = [[], []]\n",
    "features_columns[0] = [column for column in all_feature_columns \n",
    "                       if 'rougher.input.' in column or 'rougher.state.' in column]\n",
    "features_columns[1] = features_columns[0] + [column for column in all_feature_columns \n",
    "                                             if 'primary_cleaner.input.' in column or 'secondary_cleaner.input.' in column\n",
    "                                             or 'primary_cleaner.state.' in column or 'secondary_cleaner.state.' in column]\n",
    "print('Признаки для первой модели:', features_columns[0])\n",
    "Separating_line()\n",
    "print('Признаки для второй модели:', features_columns[1])\n",
    "\n",
    "train_features = [data_train[feature_columns] for feature_columns in features_columns]\n",
    "test_features = [data_test[feature_columns] for feature_columns in features_columns]"
   ]
  },
  {
   "cell_type": "code",
   "execution_count": 22,
   "id": "2389e3fd",
   "metadata": {},
   "outputs": [
    {
     "name": "stdout",
     "output_type": "stream",
     "text": [
      "<class 'pandas.core.frame.DataFrame'>\n",
      "Int64Index: 13872 entries, 0 to 14578\n",
      "Data columns (total 22 columns):\n",
      " #   Column                              Non-Null Count  Dtype  \n",
      "---  ------                              --------------  -----  \n",
      " 0   rougher.input.feed_au               13872 non-null  float64\n",
      " 1   rougher.input.feed_ag               13872 non-null  float64\n",
      " 2   rougher.input.feed_pb               13872 non-null  float64\n",
      " 3   rougher.input.feed_sol              13872 non-null  float64\n",
      " 4   rougher.input.feed_rate             13872 non-null  float64\n",
      " 5   rougher.input.feed_size             13872 non-null  float64\n",
      " 6   rougher.input.floatbank10_sulfate   13872 non-null  float64\n",
      " 7   rougher.input.floatbank10_xanthate  13872 non-null  float64\n",
      " 8   rougher.state.floatbank10_a_air     13872 non-null  float64\n",
      " 9   rougher.state.floatbank10_a_level   13872 non-null  float64\n",
      " 10  rougher.state.floatbank10_b_air     13872 non-null  float64\n",
      " 11  rougher.state.floatbank10_b_level   13872 non-null  float64\n",
      " 12  rougher.state.floatbank10_c_air     13872 non-null  float64\n",
      " 13  rougher.state.floatbank10_c_level   13872 non-null  float64\n",
      " 14  rougher.state.floatbank10_d_air     13872 non-null  float64\n",
      " 15  rougher.state.floatbank10_d_level   13872 non-null  float64\n",
      " 16  rougher.state.floatbank10_e_air     13872 non-null  float64\n",
      " 17  rougher.state.floatbank10_e_level   13872 non-null  float64\n",
      " 18  rougher.state.floatbank10_f_air     13872 non-null  float64\n",
      " 19  rougher.state.floatbank10_f_level   13872 non-null  float64\n",
      " 20  rougher.input.floatbank11_sulfate   13872 non-null  float64\n",
      " 21  rougher.input.floatbank11_xanthate  13872 non-null  float64\n",
      "dtypes: float64(22)\n",
      "memory usage: 2.4 MB\n",
      "<class 'pandas.core.frame.DataFrame'>\n",
      "Int64Index: 13872 entries, 0 to 14578\n",
      "Data columns (total 30 columns):\n",
      " #   Column                                      Non-Null Count  Dtype  \n",
      "---  ------                                      --------------  -----  \n",
      " 0   primary_cleaner.input.sulfate               13872 non-null  float64\n",
      " 1   primary_cleaner.input.depressant            13872 non-null  float64\n",
      " 2   primary_cleaner.input.feed_size             13872 non-null  float64\n",
      " 3   primary_cleaner.input.xanthate              13872 non-null  float64\n",
      " 4   primary_cleaner.state.floatbank8_a_air      13872 non-null  float64\n",
      " 5   primary_cleaner.state.floatbank8_a_level    13872 non-null  float64\n",
      " 6   primary_cleaner.state.floatbank8_b_air      13872 non-null  float64\n",
      " 7   primary_cleaner.state.floatbank8_b_level    13872 non-null  float64\n",
      " 8   primary_cleaner.state.floatbank8_c_air      13872 non-null  float64\n",
      " 9   primary_cleaner.state.floatbank8_c_level    13872 non-null  float64\n",
      " 10  primary_cleaner.state.floatbank8_d_air      13872 non-null  float64\n",
      " 11  primary_cleaner.state.floatbank8_d_level    13872 non-null  float64\n",
      " 12  secondary_cleaner.state.floatbank2_a_air    13872 non-null  float64\n",
      " 13  secondary_cleaner.state.floatbank2_a_level  13872 non-null  float64\n",
      " 14  secondary_cleaner.state.floatbank2_b_air    13872 non-null  float64\n",
      " 15  secondary_cleaner.state.floatbank2_b_level  13872 non-null  float64\n",
      " 16  secondary_cleaner.state.floatbank3_a_air    13872 non-null  float64\n",
      " 17  secondary_cleaner.state.floatbank3_a_level  13872 non-null  float64\n",
      " 18  secondary_cleaner.state.floatbank3_b_air    13872 non-null  float64\n",
      " 19  secondary_cleaner.state.floatbank3_b_level  13872 non-null  float64\n",
      " 20  secondary_cleaner.state.floatbank4_a_air    13872 non-null  float64\n",
      " 21  secondary_cleaner.state.floatbank4_a_level  13872 non-null  float64\n",
      " 22  secondary_cleaner.state.floatbank4_b_air    13872 non-null  float64\n",
      " 23  secondary_cleaner.state.floatbank4_b_level  13872 non-null  float64\n",
      " 24  secondary_cleaner.state.floatbank5_a_air    13872 non-null  float64\n",
      " 25  secondary_cleaner.state.floatbank5_a_level  13872 non-null  float64\n",
      " 26  secondary_cleaner.state.floatbank5_b_air    13872 non-null  float64\n",
      " 27  secondary_cleaner.state.floatbank5_b_level  13872 non-null  float64\n",
      " 28  secondary_cleaner.state.floatbank6_a_air    13872 non-null  float64\n",
      " 29  secondary_cleaner.state.floatbank6_a_level  13872 non-null  float64\n",
      "dtypes: float64(30)\n",
      "memory usage: 3.3 MB\n"
     ]
    }
   ],
   "source": [
    "# Код ревьюера\n",
    "features_train_r = data_train.filter(regex='rougher', axis=1)\n",
    "features_train_f = data_train.filter(regex='secondary|primary', axis=1)\n",
    "features_train_r.info(), features_train_f.info();"
   ]
  },
  {
   "cell_type": "markdown",
   "id": "7e8874f7-472f-4643-86e9-49db30c32042",
   "metadata": {},
   "source": [
    "## 3.3. Обучим различные модели с различными гиперпараметрами."
   ]
  },
  {
   "cell_type": "markdown",
   "id": "162c46c0-8165-477f-b64f-c82c56b93961",
   "metadata": {},
   "source": [
    "Будем обучать 3 вида моделей (DecisionTreeRegressor, RandomForestRegressor и LinearRegression), варьируя их гиперпараметры  и оценивая качество кросс-валидацией. Выберем лучшие модели для каждого из 2 предсказаний."
   ]
  },
  {
   "cell_type": "markdown",
   "id": "6030bf5b-3758-4462-b43d-50310aafe66b",
   "metadata": {},
   "source": [
    "Найдем лучшие гиперпараметры для модели 'DecisionTreeRegressor'."
   ]
  },
  {
   "cell_type": "code",
   "execution_count": 23,
   "id": "85854cda-cdd8-46d8-8d4a-bfb8078c26f6",
   "metadata": {
    "tags": []
   },
   "outputs": [],
   "source": [
    "# используем блок случайной перекрестной проверки \n",
    "cv = ShuffleSplit(n_splits=5, test_size=0.2, random_state=STATE)\n",
    "\n",
    "def find_best_tree_params(train_features, train_target):\n",
    "    \n",
    "    print('Подбор лучших гиперпараметров модели DecisionTreeRegressor')\n",
    "    \n",
    "    tree_columns = ['max_depth', 'min_samples_split', 'min_samples_leaf', 'smape_score', 'mse_score']\n",
    "    print(tree_columns)\n",
    "    \n",
    "    cmp_tree = []\n",
    "    for max_depth in range(10, 18, 2):\n",
    "        for min_samples_split in [0.0001, 0.001]:\n",
    "            for min_samples_leaf in [0.0001, 0.001]:\n",
    "                model = DecisionTreeRegressor(\n",
    "                        max_depth=max_depth,\n",
    "                        min_samples_split=min_samples_split,\n",
    "                        min_samples_leaf=min_samples_leaf,\n",
    "                        random_state=STATE)\n",
    "                smape_score = cross_val_score(model, train_features, train_target, scoring=smape_scorer, cv=cv).mean()\n",
    "                mse_score = cross_val_score(model, train_features, train_target, scoring='neg_mean_squared_error', cv=cv).mean()\n",
    "\n",
    "                row = [max_depth, min_samples_split, min_samples_leaf, round(smape_score, 3), round(-mse_score, 3)]\n",
    "                cmp_tree.append(row)\n",
    "                print(row)\n",
    "\n",
    "    cmp_tree = pd.DataFrame(data=cmp_tree, columns=tree_columns).sort_values(by=['smape_score', 'mse_score'])\n",
    "    return cmp_tree"
   ]
  },
  {
   "cell_type": "markdown",
   "id": "cbc76963-c7c9-43aa-9eca-50bdcc59ae69",
   "metadata": {},
   "source": [
    "Найдем лучшие гиперпараметры для модели 'RandomForestRegressor'."
   ]
  },
  {
   "cell_type": "code",
   "execution_count": 24,
   "id": "0cd37796-1b19-46ae-896d-3108b15a30d0",
   "metadata": {
    "tags": []
   },
   "outputs": [],
   "source": [
    "def find_best_forest_params(train_features, train_target):\n",
    "    \n",
    "    print('Подбор лучших гиперпараметров модели RandomForestRegressor')\n",
    "    \n",
    "    forest_columns = ['n_estimators', 'max_depth',  'smape_score', 'mse_score']\n",
    "    print(forest_columns)\n",
    "    \n",
    "    cmp_forest = []\n",
    "\n",
    "    for n_estimators in range(20, 31, 5):\n",
    "        for max_depth in range(5, 15, 3):\n",
    "            model = RandomForestRegressor(\n",
    "                max_depth=max_depth,\n",
    "                n_estimators=n_estimators,\n",
    "                random_state=STATE)\n",
    "            smape_score = cross_val_score(model, train_features, train_target, scoring=smape_scorer, cv=cv).mean()\n",
    "            mse_score = cross_val_score(model, train_features, train_target, scoring='neg_mean_squared_error', cv=cv).mean()\n",
    "\n",
    "            row = [n_estimators, max_depth, round(smape_score, 3), round(-mse_score, 3)]\n",
    "            cmp_forest.append(row)\n",
    "            print(row)\n",
    "\n",
    "    cmp_forest = pd.DataFrame(data=cmp_forest, columns=forest_columns).sort_values(by=['smape_score', 'mse_score'])\n",
    "    return cmp_forest"
   ]
  },
  {
   "cell_type": "markdown",
   "id": "dd722cf8-9aa6-44d2-bb61-4703b0ea01e4",
   "metadata": {},
   "source": [
    "Оценим модель 'LinearRegression'."
   ]
  },
  {
   "cell_type": "code",
   "execution_count": 25,
   "id": "c9992765-4d7d-4ad1-a40a-7573fd36c600",
   "metadata": {
    "tags": []
   },
   "outputs": [],
   "source": [
    "def evaluate_regression(train_features, train_target):\n",
    "    print('Оценка модели LinearRegression')\n",
    "    model = LinearRegression()\n",
    "    smape_score = cross_val_score(model, train_features, train_target, scoring=smape_scorer, cv=cv).mean()\n",
    "    mse_score = cross_val_score(model, train_features, train_target, scoring='neg_mean_squared_error', cv=cv).mean()\n",
    "    return {'smape_score': round(smape_score, 3), 'mse_score': round(-mse_score, 3)}"
   ]
  },
  {
   "cell_type": "markdown",
   "id": "5feba856-f40e-4913-96c2-1cf8af2e6fab",
   "metadata": {},
   "source": [
    "### 3.3.1 Предсказание первой величины (эффективность обогащения чернового концентрата rougher.output.recovery)"
   ]
  },
  {
   "cell_type": "markdown",
   "id": "53d765f6-253d-43b0-a215-16bad2855147",
   "metadata": {},
   "source": [
    "В целях экономии времени результаты работы модели будут прописаны в маркдаунах, а сами модели закомментированны. При необходимости можно построить."
   ]
  },
  {
   "cell_type": "code",
   "execution_count": 26,
   "id": "1fc4544d-1d90-4622-92f8-65a3caf283db",
   "metadata": {
    "scrolled": true,
    "tags": []
   },
   "outputs": [
    {
     "name": "stdout",
     "output_type": "stream",
     "text": [
      "Подбор лучших гиперпараметров модели DecisionTreeRegressor\n",
      "['max_depth', 'min_samples_split', 'min_samples_leaf', 'smape_score', 'mse_score']\n",
      "[10, 0.0001, 0.0001, 3.853, 24.992]\n",
      "[10, 0.0001, 0.001, 3.786, 24.18]\n",
      "[10, 0.001, 0.0001, 3.656, 23.446]\n",
      "[10, 0.001, 0.001, 3.743, 22.158]\n",
      "[12, 0.0001, 0.0001, 3.762, 22.314]\n",
      "[12, 0.0001, 0.001, 3.58, 22.056]\n",
      "[12, 0.001, 0.0001, 3.625, 23.672]\n",
      "[12, 0.001, 0.001, 3.561, 24.021]\n",
      "[14, 0.0001, 0.0001, 3.679, 23.864]\n",
      "[14, 0.0001, 0.001, 3.532, 20.496]\n",
      "[14, 0.001, 0.0001, 3.628, 22.569]\n",
      "[14, 0.001, 0.001, 3.58, 22.919]\n",
      "[16, 0.0001, 0.0001, 3.758, 24.04]\n",
      "[16, 0.0001, 0.001, 3.573, 21.388]\n",
      "[16, 0.001, 0.0001, 3.618, 21.775]\n",
      "[16, 0.001, 0.001, 3.515, 20.209]\n",
      "Топ 5 наборов гиперпараметров для DecisionTreeRegressor\n",
      "CPU times: user 35.3 s, sys: 41.6 ms, total: 35.3 s\n",
      "Wall time: 35.4 s\n"
     ]
    },
    {
     "data": {
      "text/html": [
       "<div>\n",
       "<style scoped>\n",
       "    .dataframe tbody tr th:only-of-type {\n",
       "        vertical-align: middle;\n",
       "    }\n",
       "\n",
       "    .dataframe tbody tr th {\n",
       "        vertical-align: top;\n",
       "    }\n",
       "\n",
       "    .dataframe thead th {\n",
       "        text-align: right;\n",
       "    }\n",
       "</style>\n",
       "<table border=\"1\" class=\"dataframe\">\n",
       "  <thead>\n",
       "    <tr style=\"text-align: right;\">\n",
       "      <th></th>\n",
       "      <th>max_depth</th>\n",
       "      <th>min_samples_split</th>\n",
       "      <th>min_samples_leaf</th>\n",
       "      <th>smape_score</th>\n",
       "      <th>mse_score</th>\n",
       "    </tr>\n",
       "  </thead>\n",
       "  <tbody>\n",
       "    <tr>\n",
       "      <th>15</th>\n",
       "      <td>16</td>\n",
       "      <td>0.001</td>\n",
       "      <td>0.001</td>\n",
       "      <td>3.515</td>\n",
       "      <td>20.209</td>\n",
       "    </tr>\n",
       "    <tr>\n",
       "      <th>9</th>\n",
       "      <td>14</td>\n",
       "      <td>0.000</td>\n",
       "      <td>0.001</td>\n",
       "      <td>3.532</td>\n",
       "      <td>20.496</td>\n",
       "    </tr>\n",
       "    <tr>\n",
       "      <th>7</th>\n",
       "      <td>12</td>\n",
       "      <td>0.001</td>\n",
       "      <td>0.001</td>\n",
       "      <td>3.561</td>\n",
       "      <td>24.021</td>\n",
       "    </tr>\n",
       "    <tr>\n",
       "      <th>13</th>\n",
       "      <td>16</td>\n",
       "      <td>0.000</td>\n",
       "      <td>0.001</td>\n",
       "      <td>3.573</td>\n",
       "      <td>21.388</td>\n",
       "    </tr>\n",
       "    <tr>\n",
       "      <th>5</th>\n",
       "      <td>12</td>\n",
       "      <td>0.000</td>\n",
       "      <td>0.001</td>\n",
       "      <td>3.580</td>\n",
       "      <td>22.056</td>\n",
       "    </tr>\n",
       "  </tbody>\n",
       "</table>\n",
       "</div>"
      ],
      "text/plain": [
       "    max_depth  min_samples_split  min_samples_leaf  smape_score  mse_score\n",
       "15         16              0.001             0.001        3.515     20.209\n",
       "9          14              0.000             0.001        3.532     20.496\n",
       "7          12              0.001             0.001        3.561     24.021\n",
       "13         16              0.000             0.001        3.573     21.388\n",
       "5          12              0.000             0.001        3.580     22.056"
      ]
     },
     "execution_count": 26,
     "metadata": {},
     "output_type": "execute_result"
    }
   ],
   "source": [
    "%%time\n",
    "best_trees = find_best_tree_params(train_features[0], train_targets[0])\n",
    "best_tree = best_trees.iloc[0, :]\n",
    "\n",
    "print('Топ 5 наборов гиперпараметров для DecisionTreeRegressor')\n",
    "best_trees.head(5)"
   ]
  },
  {
   "cell_type": "code",
   "execution_count": 26,
   "id": "3a08ebe5-e47d-4884-8882-da161b61fe4e",
   "metadata": {
    "tags": []
   },
   "outputs": [
    {
     "data": {},
     "execution_count": 26,
     "metadata": {},
     "output_type": "execute_result"
    }
   ],
   "source": [
    "%%time\n",
    "best_forests = find_best_forest_params(train_features[0], train_targets[0])\n",
    "best_forest = best_forests.iloc[0, :]\n",
    "\n",
    "print('5 лучших наборов гиперпараметров для RandomForestRegressor')\n",
    "best_forests.head(5)"
   ]
  },
  {
   "cell_type": "code",
   "execution_count": 27,
   "id": "8c1808fa-8a0d-4560-9112-290445d2fd59",
   "metadata": {
    "scrolled": true
   },
   "outputs": [
    {
     "data": {},
     "execution_count": 27,
     "metadata": {},
     "output_type": "execute_result"
    }
   ],
   "source": [
    "best_regression = evaluate_regression(train_features[0], train_targets[0])\n",
    "print('Качество LinearRegression:')\n",
    "best_regression"
   ]
  },
  {
   "cell_type": "markdown",
   "id": "5ba029ab-ddd1-410e-9e65-bb66ba1efadb",
   "metadata": {},
   "source": [
    "Сравнение моделей для первого предсказания"
   ]
  },
  {
   "cell_type": "code",
   "execution_count": 28,
   "id": "7b919577-3f40-47a7-a551-fa433b181e6e",
   "metadata": {},
   "outputs": [],
   "source": [
    "print('Лучшей DecisionTreeRegressor')\n",
    "print(best_tree)\n",
    "print()\n",
    "\n",
    "print('Лучший RandomForestRegressor')\n",
    "print(best_forest)\n",
    "print()\n",
    "\n",
    "print('LinearRegression')\n",
    "print(best_regression)\n",
    "print()"
   ]
  },
  {
   "cell_type": "markdown",
   "id": "a3f5b903-2e99-4ce6-b187-d9850830d118",
   "metadata": {},
   "source": [
    "Таким образом, для предсказания первого признака (эффективность обогащения чернового концентрата rougher.output.recovery) будем использовать модель с наименьшим smape на кросс-валидации: RandomForestRegressor(n_estimators=25, max_depth=14, random_state=RANDOM) с smape=2.897."
   ]
  },
  {
   "cell_type": "markdown",
   "id": "b3bd25ad-3af3-477e-820c-f1f8602bdb35",
   "metadata": {},
   "source": [
    "### 3.3.2 Предсказание второй величины (эффективность обогащения финального концентрата final.output.recovery.)"
   ]
  },
  {
   "cell_type": "code",
   "execution_count": 29,
   "id": "22371011-1ac7-46a7-9053-7dbc41cb7cb8",
   "metadata": {},
   "outputs": [],
   "source": [
    "%%time\n",
    "best_trees2 = find_best_tree_params(train_features[1], train_targets[1])\n",
    "best_tree2 = best_trees2.iloc[0, :]\n",
    "print('5 лучших наборов гиперпараметров для DecisionTreeRegressor')\n",
    "print(best_trees2.head(5))"
   ]
  },
  {
   "cell_type": "code",
   "execution_count": 30,
   "id": "b78a2fee-940b-4692-ae99-e4909819ebff",
   "metadata": {},
   "outputs": [],
   "source": [
    "%%time\n",
    "best_forests2 = find_best_forest_params(train_features[1], train_targets[1])\n",
    "best_forest2 = best_forests2.iloc[0, :]\n",
    "print('5 лучших наборов гиперпараметров для RandomForestRegressor')\n",
    "print(best_forests2.head(5))"
   ]
  },
  {
   "cell_type": "code",
   "execution_count": 31,
   "id": "ad505f58-cdb9-4a61-8284-b9e879d15175",
   "metadata": {},
   "outputs": [
    {
     "data": {},
     "execution_count": 31,
     "metadata": {},
     "output_type": "execute_result"
    }
   ],
   "source": [
    "best_regression2 = evaluate_regression(train_features[1], train_targets[1])\n",
    "print('Качество LinearRegression:')\n",
    "best_regression2"
   ]
  },
  {
   "cell_type": "markdown",
   "id": "4d1795f6-7e42-4f3c-b37d-e1e7bedb4320",
   "metadata": {},
   "source": [
    "Сравнение моделей для второго предсказания"
   ]
  },
  {
   "cell_type": "code",
   "execution_count": 32,
   "id": "98c61bbe-52ec-4a53-a474-7ae08261d301",
   "metadata": {},
   "outputs": [],
   "source": [
    "print('Лучшей DecisionTreeRegressor')\n",
    "print(best_tree2)\n",
    "print()\n",
    "\n",
    "print('Лучший RandomForestRegressor')\n",
    "print(best_forest2)\n",
    "print()\n",
    "\n",
    "print('LinearRegression')\n",
    "print(best_regression2)\n",
    "print()"
   ]
  },
  {
   "cell_type": "markdown",
   "id": "d47dce0b-6c56-48cb-9517-6205a9f06b99",
   "metadata": {},
   "source": [
    "Таким образом, для предсказания первого признака (эффективность обогащения финального концентрата final.output.recovery) будем использовать модель с наименьшим smape на кросс-валидации: RandomForestRegressor(n_estimators=30, max_depth=14, random_state=RANDOM) с smape=6.014."
   ]
  },
  {
   "cell_type": "markdown",
   "id": "16aa7b07-7ce7-4a87-bef0-be3025c8eade",
   "metadata": {},
   "source": [
    "### 3.4. Оценим выбранные модели на тестовой выброке по итоговой метрике (final_sMAPE)"
   ]
  },
  {
   "cell_type": "markdown",
   "id": "d548d9b3-456a-4f74-a5a4-85f34c5524b3",
   "metadata": {},
   "source": [
    "Для сравнения рассчитаем, какие sMAPE для каждого предсказания и итоговый получатся на тестовой выборке, если вместо предсказаний модели всегда использовать соответствующие средние значения или медиану по тренировочной выборке."
   ]
  },
  {
   "cell_type": "code",
   "execution_count": 33,
   "id": "6afa6935-6351-4d6d-96f2-5e740fab1522",
   "metadata": {},
   "outputs": [],
   "source": [
    "n = len(test_features[0])\n",
    "\n",
    "answers_mean = [pd.Series([train_targets[0].mean()] * n), pd.Series([train_targets[1].mean()] * n)]\n",
    "answers_median = [pd.Series([train_targets[0].median()] * n), pd.Series([train_targets[1].median()] * n)]\n",
    "\n",
    "smapes_mean = [\n",
    "    smape(test_targets[0], answers_mean[0]), \n",
    "    smape(test_targets[1], answers_mean[1]), \n",
    "    final_smape(test_targets[0], answers_mean[0], test_targets[1], answers_mean[1])\n",
    "]\n",
    "smapes_median = [\n",
    "    smape(test_targets[0], answers_median[0]), \n",
    "    smape(test_targets[1], answers_median[1]), \n",
    "    final_smape(test_targets[0], answers_median[0], test_targets[1], answers_median[1])\n",
    "]"
   ]
  },
  {
   "cell_type": "markdown",
   "id": "7d020127-bb05-4918-ba23-3a2b3641ebd5",
   "metadata": {},
   "source": [
    "Теперь создадим и обучим на тренировочной выборке выбранные для обоих предсказаний модели, а затем вычислим их sMAPE для каждого предсказания и итоговый на тестовой выборке"
   ]
  },
  {
   "cell_type": "code",
   "execution_count": 34,
   "id": "19f1a66b-be63-4edb-8a14-d5ab6871d408",
   "metadata": {},
   "outputs": [],
   "source": [
    "models = [\n",
    "    \n",
    "    RandomForestRegressor(n_estimators=25, max_depth=14, random_state=STATE).fit(train_features[0], train_targets[0]), \n",
    "    RandomForestRegressor(n_estimators=30, max_depth=14, random_state=STATE).fit(train_features[1], train_targets[1]), \n",
    "]\n",
    "\n",
    "answers_model = [models[0].predict(test_features[0]), models[1].predict(test_features[1])]\n",
    "smapes_model = [\n",
    "    smape(test_targets[0], answers_model[0]), \n",
    "    smape(test_targets[1], answers_model[1]), \n",
    "    final_smape(test_targets[0], answers_model[0], test_targets[1], answers_model[1])\n",
    "]"
   ]
  },
  {
   "cell_type": "code",
   "execution_count": 35,
   "id": "9e26b485-d360-4ca3-a8cc-ea5e47ce69a9",
   "metadata": {},
   "outputs": [],
   "source": [
    "r = 3\n",
    "print('Результаты (sMAPE)')\n",
    "print(f\"Средними:  1) {round(smapes_mean[0], r)} 2) {round(smapes_mean[1], r)} final) {round(smapes_mean[2], r)}\")\n",
    "print(f\"Медианами: 1) {round(smapes_median[0], r)} 2) {round(smapes_median[1], r)} final) {round(smapes_median[2], r)}\")\n",
    "print(f\"Моделью:   1) {round(smapes_model[0], r)} 2) {round(smapes_model[1], r)} final) {round(smapes_model[2], r)}\")"
   ]
  },
  {
   "cell_type": "markdown",
   "id": "f68a5422-25d0-45fb-851a-0fb188abde92",
   "metadata": {},
   "source": [
    "**Результаты (sMAPE) после корректировки исследования.** \\\n",
    "Средними:  1) 6.101 2) 9.256 final) 8.467\\\n",
    "Медианами: 1) 5.835 2) 9.115 final) 8.295\\\n",
    "Моделью:   1) 2.995 2) 6.448 final) 5.584"
   ]
  },
  {
   "cell_type": "markdown",
   "id": "704385dc-85b5-4b3b-9b59-082b9583b7f3",
   "metadata": {
    "tags": []
   },
   "source": [
    "# 4. Выводы.<a class=\"anchor\" id=\"b5\"></a>"
   ]
  },
  {
   "cell_type": "markdown",
   "id": "1feb59b9-a2e8-4528-88ac-505ad88619f5",
   "metadata": {},
   "source": [
    "В ходе работы было выполнено:\n",
    "\n",
    "1) Подготовлены данные.\n",
    "2) Проведен исследовательский анализ данных.\n",
    "3) Построена и обучена модель.\n",
    "\n",
    "Работа над проектом велась в течении нескольких дней. Основная сложность - скорость прохождения кросс-валидации с поиском лучших гиперпараметров.\n",
    "\n",
    "Итог:\\\n",
    "Обученные модели превзошли константные (медианную и среднюю) по итоговой метрике, которая складывается из smape двух предсказаний, в 1.5 - 2 раза. \n",
    "\n",
    "Лучшая модель проверена на тестовой выборке. ‘Итоговое_sMAPE’ = 5.585.\\\n",
    "Для золотодобывающего горно-обогатительного комбината можно рекомендовать модель 'Cлучайного леса', она вероятнее всего обеспечит положительную работу с подобным набором данных."
   ]
  }
 ],
 "metadata": {
  "ExecuteTimeLog": [
   {
    "duration": 2833,
    "start_time": "2023-12-11T17:55:46.289Z"
   },
   {
    "duration": 0,
    "start_time": "2023-12-11T17:55:49.124Z"
   },
   {
    "duration": 0,
    "start_time": "2023-12-11T17:55:49.125Z"
   },
   {
    "duration": 0,
    "start_time": "2023-12-11T17:55:49.126Z"
   },
   {
    "duration": 0,
    "start_time": "2023-12-11T17:55:49.128Z"
   },
   {
    "duration": 0,
    "start_time": "2023-12-11T17:55:49.129Z"
   },
   {
    "duration": 0,
    "start_time": "2023-12-11T17:55:49.130Z"
   },
   {
    "duration": 0,
    "start_time": "2023-12-11T17:55:49.131Z"
   },
   {
    "duration": 0,
    "start_time": "2023-12-11T17:55:49.132Z"
   },
   {
    "duration": 0,
    "start_time": "2023-12-11T17:55:49.133Z"
   },
   {
    "duration": 0,
    "start_time": "2023-12-11T17:55:49.134Z"
   },
   {
    "duration": 0,
    "start_time": "2023-12-11T17:55:49.135Z"
   },
   {
    "duration": 0,
    "start_time": "2023-12-11T17:55:49.137Z"
   },
   {
    "duration": 0,
    "start_time": "2023-12-11T17:55:49.138Z"
   },
   {
    "duration": 0,
    "start_time": "2023-12-11T17:55:49.139Z"
   },
   {
    "duration": 0,
    "start_time": "2023-12-11T17:55:49.140Z"
   },
   {
    "duration": 0,
    "start_time": "2023-12-11T17:55:49.141Z"
   },
   {
    "duration": 0,
    "start_time": "2023-12-11T17:55:49.142Z"
   },
   {
    "duration": 0,
    "start_time": "2023-12-11T17:55:49.143Z"
   },
   {
    "duration": 0,
    "start_time": "2023-12-11T17:55:49.144Z"
   },
   {
    "duration": 0,
    "start_time": "2023-12-11T17:55:49.145Z"
   },
   {
    "duration": 0,
    "start_time": "2023-12-11T17:55:49.174Z"
   },
   {
    "duration": 0,
    "start_time": "2023-12-11T17:55:49.175Z"
   },
   {
    "duration": 0,
    "start_time": "2023-12-11T17:55:49.176Z"
   },
   {
    "duration": 4149,
    "start_time": "2023-12-11T17:57:16.512Z"
   },
   {
    "duration": 2780,
    "start_time": "2023-12-11T17:57:20.664Z"
   },
   {
    "duration": 3312,
    "start_time": "2023-12-11T17:57:23.445Z"
   },
   {
    "duration": 3,
    "start_time": "2023-12-11T17:57:26.759Z"
   },
   {
    "duration": 33,
    "start_time": "2023-12-11T17:57:26.764Z"
   },
   {
    "duration": 255,
    "start_time": "2023-12-11T17:57:26.799Z"
   },
   {
    "duration": 261,
    "start_time": "2023-12-11T17:57:27.056Z"
   },
   {
    "duration": 7,
    "start_time": "2023-12-11T17:57:27.319Z"
   },
   {
    "duration": 10,
    "start_time": "2023-12-11T17:57:27.328Z"
   },
   {
    "duration": 36,
    "start_time": "2023-12-11T17:57:27.339Z"
   },
   {
    "duration": 69,
    "start_time": "2023-12-11T17:57:27.377Z"
   },
   {
    "duration": 3117,
    "start_time": "2023-12-11T17:57:27.448Z"
   },
   {
    "duration": 133,
    "start_time": "2023-12-11T17:57:30.566Z"
   },
   {
    "duration": 20,
    "start_time": "2023-12-11T17:57:30.702Z"
   },
   {
    "duration": 3550,
    "start_time": "2023-12-11T17:57:30.724Z"
   },
   {
    "duration": 37,
    "start_time": "2023-12-11T17:57:34.276Z"
   },
   {
    "duration": 5,
    "start_time": "2023-12-11T17:57:34.315Z"
   },
   {
    "duration": 31,
    "start_time": "2023-12-11T17:57:34.322Z"
   },
   {
    "duration": 20,
    "start_time": "2023-12-11T17:57:34.354Z"
   },
   {
    "duration": 32,
    "start_time": "2023-12-11T17:57:34.375Z"
   },
   {
    "duration": 27,
    "start_time": "2023-12-11T17:57:34.409Z"
   },
   {
    "duration": 25,
    "start_time": "2023-12-11T17:57:34.437Z"
   },
   {
    "duration": 22,
    "start_time": "2023-12-11T17:57:34.464Z"
   },
   {
    "duration": 28,
    "start_time": "2023-12-11T17:57:34.488Z"
   },
   {
    "duration": 38533,
    "start_time": "2023-12-11T17:57:34.517Z"
   },
   {
    "duration": 4433,
    "start_time": "2023-12-12T06:35:52.939Z"
   },
   {
    "duration": 3072,
    "start_time": "2023-12-12T06:35:57.375Z"
   },
   {
    "duration": 2203,
    "start_time": "2023-12-12T06:36:00.448Z"
   },
   {
    "duration": 4,
    "start_time": "2023-12-12T06:36:02.652Z"
   },
   {
    "duration": 65,
    "start_time": "2023-12-12T06:36:02.658Z"
   },
   {
    "duration": 245,
    "start_time": "2023-12-12T06:36:02.724Z"
   },
   {
    "duration": 250,
    "start_time": "2023-12-12T06:36:02.970Z"
   },
   {
    "duration": 5,
    "start_time": "2023-12-12T06:36:03.222Z"
   },
   {
    "duration": 48,
    "start_time": "2023-12-12T06:36:03.228Z"
   },
   {
    "duration": 96,
    "start_time": "2023-12-12T06:36:03.277Z"
   },
   {
    "duration": 66,
    "start_time": "2023-12-12T06:36:03.375Z"
   },
   {
    "duration": 2899,
    "start_time": "2023-12-12T06:36:03.442Z"
   },
   {
    "duration": 119,
    "start_time": "2023-12-12T06:36:06.343Z"
   },
   {
    "duration": 6,
    "start_time": "2023-12-12T06:36:06.465Z"
   },
   {
    "duration": 3165,
    "start_time": "2023-12-12T06:36:06.472Z"
   },
   {
    "duration": 41,
    "start_time": "2023-12-12T06:36:09.639Z"
   },
   {
    "duration": 14,
    "start_time": "2023-12-12T06:36:09.682Z"
   },
   {
    "duration": 34,
    "start_time": "2023-12-12T06:36:09.697Z"
   },
   {
    "duration": 8,
    "start_time": "2023-12-12T06:36:09.733Z"
   },
   {
    "duration": 23,
    "start_time": "2023-12-12T06:36:09.742Z"
   },
   {
    "duration": 94,
    "start_time": "2023-12-12T06:36:09.766Z"
   },
   {
    "duration": 24,
    "start_time": "2023-12-12T06:36:09.862Z"
   },
   {
    "duration": 23,
    "start_time": "2023-12-12T06:39:41.978Z"
   },
   {
    "duration": 114,
    "start_time": "2023-12-12T06:40:10.700Z"
   },
   {
    "duration": 2319,
    "start_time": "2023-12-12T06:40:47.879Z"
   },
   {
    "duration": 6,
    "start_time": "2023-12-12T06:40:50.200Z"
   },
   {
    "duration": 830,
    "start_time": "2023-12-12T06:40:50.207Z"
   },
   {
    "duration": 3,
    "start_time": "2023-12-12T06:40:51.038Z"
   },
   {
    "duration": 32,
    "start_time": "2023-12-12T06:40:51.043Z"
   },
   {
    "duration": 243,
    "start_time": "2023-12-12T06:40:51.076Z"
   },
   {
    "duration": 228,
    "start_time": "2023-12-12T06:40:51.321Z"
   },
   {
    "duration": 5,
    "start_time": "2023-12-12T06:40:51.550Z"
   },
   {
    "duration": 31,
    "start_time": "2023-12-12T06:40:51.565Z"
   },
   {
    "duration": 36,
    "start_time": "2023-12-12T06:40:51.597Z"
   },
   {
    "duration": 61,
    "start_time": "2023-12-12T06:40:51.635Z"
   },
   {
    "duration": 2889,
    "start_time": "2023-12-12T06:40:51.697Z"
   },
   {
    "duration": 121,
    "start_time": "2023-12-12T06:40:54.588Z"
   },
   {
    "duration": 6,
    "start_time": "2023-12-12T06:40:54.711Z"
   },
   {
    "duration": 3103,
    "start_time": "2023-12-12T06:40:54.719Z"
   },
   {
    "duration": 45,
    "start_time": "2023-12-12T06:40:57.823Z"
   },
   {
    "duration": 4,
    "start_time": "2023-12-12T06:40:57.870Z"
   },
   {
    "duration": 36,
    "start_time": "2023-12-12T06:40:57.875Z"
   },
   {
    "duration": 26,
    "start_time": "2023-12-12T06:40:57.913Z"
   },
   {
    "duration": 28,
    "start_time": "2023-12-12T06:40:57.941Z"
   },
   {
    "duration": 41,
    "start_time": "2023-12-12T06:40:57.971Z"
   },
   {
    "duration": 30,
    "start_time": "2023-12-12T06:40:58.014Z"
   },
   {
    "duration": 24,
    "start_time": "2023-12-12T06:41:24.178Z"
   },
   {
    "duration": 3,
    "start_time": "2023-12-12T06:41:50.572Z"
   },
   {
    "duration": 4,
    "start_time": "2023-12-12T06:42:19.078Z"
   },
   {
    "duration": 4,
    "start_time": "2023-12-12T06:42:55.107Z"
   },
   {
    "duration": 66,
    "start_time": "2023-12-12T06:43:44.838Z"
   },
   {
    "duration": 3,
    "start_time": "2023-12-12T06:44:13.804Z"
   },
   {
    "duration": 22,
    "start_time": "2023-12-12T06:44:33.127Z"
   },
   {
    "duration": 25,
    "start_time": "2023-12-12T06:44:54.678Z"
   },
   {
    "duration": 2264,
    "start_time": "2023-12-12T06:46:00.560Z"
   },
   {
    "duration": 2615,
    "start_time": "2023-12-12T06:46:02.827Z"
   },
   {
    "duration": 849,
    "start_time": "2023-12-12T06:46:05.444Z"
   },
   {
    "duration": 3,
    "start_time": "2023-12-12T06:46:06.295Z"
   },
   {
    "duration": 41,
    "start_time": "2023-12-12T06:46:06.301Z"
   },
   {
    "duration": 231,
    "start_time": "2023-12-12T06:46:06.344Z"
   },
   {
    "duration": 245,
    "start_time": "2023-12-12T06:46:06.577Z"
   },
   {
    "duration": 6,
    "start_time": "2023-12-12T06:46:06.824Z"
   },
   {
    "duration": 27,
    "start_time": "2023-12-12T06:46:06.831Z"
   },
   {
    "duration": 37,
    "start_time": "2023-12-12T06:46:06.859Z"
   },
   {
    "duration": 62,
    "start_time": "2023-12-12T06:46:06.898Z"
   },
   {
    "duration": 2771,
    "start_time": "2023-12-12T06:46:06.962Z"
   },
   {
    "duration": 122,
    "start_time": "2023-12-12T06:46:09.735Z"
   },
   {
    "duration": 6,
    "start_time": "2023-12-12T06:46:09.861Z"
   },
   {
    "duration": 3091,
    "start_time": "2023-12-12T06:46:09.869Z"
   },
   {
    "duration": 37,
    "start_time": "2023-12-12T06:46:12.965Z"
   },
   {
    "duration": 4,
    "start_time": "2023-12-12T06:46:13.004Z"
   },
   {
    "duration": 46,
    "start_time": "2023-12-12T06:46:13.010Z"
   },
   {
    "duration": 10,
    "start_time": "2023-12-12T06:46:13.058Z"
   },
   {
    "duration": 30,
    "start_time": "2023-12-12T06:46:13.069Z"
   },
   {
    "duration": 10,
    "start_time": "2023-12-12T06:46:13.101Z"
   },
   {
    "duration": 22,
    "start_time": "2023-12-12T06:46:13.113Z"
   },
   {
    "duration": 13,
    "start_time": "2023-12-12T06:48:57.599Z"
   },
   {
    "duration": 2322,
    "start_time": "2023-12-12T06:50:29.938Z"
   },
   {
    "duration": 2620,
    "start_time": "2023-12-12T06:50:32.263Z"
   },
   {
    "duration": 811,
    "start_time": "2023-12-12T06:50:34.884Z"
   },
   {
    "duration": 3,
    "start_time": "2023-12-12T06:50:35.697Z"
   },
   {
    "duration": 24,
    "start_time": "2023-12-12T06:50:35.701Z"
   },
   {
    "duration": 270,
    "start_time": "2023-12-12T06:50:35.726Z"
   },
   {
    "duration": 254,
    "start_time": "2023-12-12T06:50:35.997Z"
   },
   {
    "duration": 5,
    "start_time": "2023-12-12T06:50:36.253Z"
   },
   {
    "duration": 14,
    "start_time": "2023-12-12T06:50:36.265Z"
   },
   {
    "duration": 27,
    "start_time": "2023-12-12T06:50:36.282Z"
   },
   {
    "duration": 63,
    "start_time": "2023-12-12T06:50:36.310Z"
   },
   {
    "duration": 2865,
    "start_time": "2023-12-12T06:50:36.375Z"
   },
   {
    "duration": 123,
    "start_time": "2023-12-12T06:50:39.242Z"
   },
   {
    "duration": 7,
    "start_time": "2023-12-12T06:50:39.367Z"
   },
   {
    "duration": 3144,
    "start_time": "2023-12-12T06:50:39.375Z"
   },
   {
    "duration": 47,
    "start_time": "2023-12-12T06:50:42.520Z"
   },
   {
    "duration": 4,
    "start_time": "2023-12-12T06:50:42.568Z"
   },
   {
    "duration": 15,
    "start_time": "2023-12-12T06:50:42.574Z"
   },
   {
    "duration": 4,
    "start_time": "2023-12-12T06:50:42.591Z"
   },
   {
    "duration": 12,
    "start_time": "2023-12-12T06:50:42.596Z"
   },
   {
    "duration": 31,
    "start_time": "2023-12-12T06:50:42.609Z"
   },
   {
    "duration": 34,
    "start_time": "2023-12-12T06:50:42.642Z"
   },
   {
    "duration": 23,
    "start_time": "2023-12-12T06:51:27.419Z"
   },
   {
    "duration": 2283,
    "start_time": "2023-12-12T06:51:47.491Z"
   },
   {
    "duration": 3265,
    "start_time": "2023-12-12T06:51:49.776Z"
   },
   {
    "duration": 801,
    "start_time": "2023-12-12T06:51:53.044Z"
   },
   {
    "duration": 3,
    "start_time": "2023-12-12T06:51:53.847Z"
   },
   {
    "duration": 21,
    "start_time": "2023-12-12T06:51:53.852Z"
   },
   {
    "duration": 237,
    "start_time": "2023-12-12T06:51:53.874Z"
   },
   {
    "duration": 253,
    "start_time": "2023-12-12T06:51:54.113Z"
   },
   {
    "duration": 6,
    "start_time": "2023-12-12T06:51:54.367Z"
   },
   {
    "duration": 15,
    "start_time": "2023-12-12T06:51:54.375Z"
   },
   {
    "duration": 19,
    "start_time": "2023-12-12T06:51:54.391Z"
   },
   {
    "duration": 69,
    "start_time": "2023-12-12T06:51:54.412Z"
   },
   {
    "duration": 2761,
    "start_time": "2023-12-12T06:51:54.482Z"
   },
   {
    "duration": 115,
    "start_time": "2023-12-12T06:51:57.245Z"
   },
   {
    "duration": 6,
    "start_time": "2023-12-12T06:51:57.366Z"
   },
   {
    "duration": 3077,
    "start_time": "2023-12-12T06:51:57.374Z"
   },
   {
    "duration": 41,
    "start_time": "2023-12-12T06:52:00.452Z"
   },
   {
    "duration": 19,
    "start_time": "2023-12-12T06:52:00.495Z"
   },
   {
    "duration": 52,
    "start_time": "2023-12-12T06:52:00.516Z"
   },
   {
    "duration": 41,
    "start_time": "2023-12-12T06:52:00.570Z"
   },
   {
    "duration": 55,
    "start_time": "2023-12-12T06:52:00.612Z"
   },
   {
    "duration": 47,
    "start_time": "2023-12-12T06:52:00.669Z"
   },
   {
    "duration": 40,
    "start_time": "2023-12-12T06:52:00.718Z"
   },
   {
    "duration": 5,
    "start_time": "2023-12-12T06:52:58.148Z"
   },
   {
    "duration": 5,
    "start_time": "2023-12-12T06:52:59.189Z"
   },
   {
    "duration": 4,
    "start_time": "2023-12-12T06:53:00.212Z"
   },
   {
    "duration": 2402,
    "start_time": "2023-12-12T06:55:24.618Z"
   },
   {
    "duration": 2972,
    "start_time": "2023-12-12T06:55:27.022Z"
   },
   {
    "duration": 839,
    "start_time": "2023-12-12T06:55:29.996Z"
   },
   {
    "duration": 3,
    "start_time": "2023-12-12T06:55:30.837Z"
   },
   {
    "duration": 62,
    "start_time": "2023-12-12T06:55:30.842Z"
   },
   {
    "duration": 275,
    "start_time": "2023-12-12T06:55:30.905Z"
   },
   {
    "duration": 242,
    "start_time": "2023-12-12T06:55:31.181Z"
   },
   {
    "duration": 6,
    "start_time": "2023-12-12T06:55:31.425Z"
   },
   {
    "duration": 87,
    "start_time": "2023-12-12T06:55:31.432Z"
   },
   {
    "duration": 45,
    "start_time": "2023-12-12T06:55:31.521Z"
   },
   {
    "duration": 62,
    "start_time": "2023-12-12T06:55:31.568Z"
   },
   {
    "duration": 2827,
    "start_time": "2023-12-12T06:55:31.631Z"
   },
   {
    "duration": 127,
    "start_time": "2023-12-12T06:55:34.459Z"
   },
   {
    "duration": 7,
    "start_time": "2023-12-12T06:55:34.588Z"
   },
   {
    "duration": 3176,
    "start_time": "2023-12-12T06:55:34.597Z"
   },
   {
    "duration": 34,
    "start_time": "2023-12-12T06:55:37.775Z"
   },
   {
    "duration": 4,
    "start_time": "2023-12-12T06:55:37.811Z"
   },
   {
    "duration": 16,
    "start_time": "2023-12-12T06:55:37.816Z"
   },
   {
    "duration": 4,
    "start_time": "2023-12-12T06:55:37.834Z"
   },
   {
    "duration": 27,
    "start_time": "2023-12-12T06:55:37.839Z"
   },
   {
    "duration": 13,
    "start_time": "2023-12-12T06:55:37.868Z"
   },
   {
    "duration": 20,
    "start_time": "2023-12-12T06:55:37.882Z"
   },
   {
    "duration": 5,
    "start_time": "2023-12-12T06:55:37.904Z"
   },
   {
    "duration": 8,
    "start_time": "2023-12-12T06:55:37.911Z"
   },
   {
    "duration": 13,
    "start_time": "2023-12-12T06:55:37.921Z"
   },
   {
    "duration": 35419,
    "start_time": "2023-12-12T06:55:37.935Z"
   }
  ],
  "kernelspec": {
   "display_name": "Python 3 (ipykernel)",
   "language": "python",
   "name": "python3"
  },
  "language_info": {
   "codemirror_mode": {
    "name": "ipython",
    "version": 3
   },
   "file_extension": ".py",
   "mimetype": "text/x-python",
   "name": "python",
   "nbconvert_exporter": "python",
   "pygments_lexer": "ipython3",
   "version": "3.11.5"
  },
  "toc": {
   "base_numbering": 1,
   "nav_menu": {},
   "number_sections": true,
   "sideBar": true,
   "skip_h1_title": true,
   "title_cell": "Table of Contents",
   "title_sidebar": "Contents",
   "toc_cell": false,
   "toc_position": {},
   "toc_section_display": true,
   "toc_window_display": false
  }
 },
 "nbformat": 4,
 "nbformat_minor": 5
}
