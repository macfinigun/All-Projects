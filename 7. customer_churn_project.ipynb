{
 "cells": [
  {
   "cell_type": "markdown",
   "id": "26ecd2ee-7105-4e6e-ae23-642ccbe7fdae",
   "metadata": {},
   "source": [
    "# Отток клиентов. "
   ]
  },
  {
   "cell_type": "markdown",
   "id": "d1078742-6c87-4b4b-948c-d515ce2ebea7",
   "metadata": {},
   "source": [
    "Из «Бета-Банка» стали уходить клиенты. Каждый месяц. Немного, но заметно. Банковские маркетологи посчитали: сохранять текущих клиентов дешевле, чем привлекать новых.\n",
    "Нужно спрогнозировать, уйдёт клиент из банка в ближайшее время или нет. \n",
    "\n",
    "Нам предоставлены исторические данные о поведении клиентов и расторжении договоров с банком.\\\n",
    "Необходимо построить модель с предельно большим значением F1-меры. Для успешного выполнениния задачи, нужно довести метрику до 0.59. Так же необходимо проверить F1-меру на тестовой выборке.\\\n",
    "Дополнительно необходимо измерять AUC-ROC и сравнивать её значение с F1-мерой.\n",
    "\n",
    "\n",
    "**Описание данных:** \\\n",
    "Данные находятся в файле /datasets/Churn.csv (англ. «отток клиентов»).\n",
    "\n",
    "**Признаки:** \n",
    "\n",
    "**RowNumber** — индекс строки в данных.\\\n",
    "**CustomerId** — уникальный идентификатор клиента.\\\n",
    "**Surname** — фамилия.\\\n",
    "**CreditScore** — кредитный рейтинг.\\\n",
    "**Geography** — страна проживания.\\\n",
    "**Gender** — пол.\\\n",
    "**Age** — возраст.\\\n",
    "**Tenure** — сколько лет человек является клиентом банка.\\\n",
    "**Balance** — баланс на счёте.\\\n",
    "**NumOfProducts** — количество продуктов банка, используемых клиентом.\\\n",
    "**HasCrCard** — наличие кредитной карты.\\\n",
    "**IsActiveMember** — активность клиента.\\\n",
    "**EstimatedSalary** — предполагаемая зарплата.\n",
    "\n",
    "**Целевой признак:** \n",
    "\n",
    "**Exited** — факт ухода клиента.\n",
    "\n",
    "\n",
    "**Цель исследования:** Нужно спрогнозировать, уйдёт клиент из банка в ближайшее время или нет. Построим модель с наибольшим значением F1-меры. Для успешного выполнениния задачи, доведем метрику до 0.59. Проверим F1-меру на тестовой выборке.\\\n",
    "Дополнительно будем измерять AUC-ROC и сравнивать её значение с F1-мерой.\n",
    "\n",
    "**Ход исследоввания:**\n",
    "Загрузим и подготовим данные.\n",
    "Исследуем баланс классов, обучим модель без учёта дисбаланса. Улучшим качество модели, учитывая дисбаланс классов. Обучим разные модели и найдем лучшую. Опишем выводы.\n",
    "Проведем финальное тестирование.\n",
    "\n",
    "**Исследование пройдет в пять этапов:**\n",
    "\n",
    "1) Изучение общей информации о данных и подготовим их.\n",
    "2) Исследование баланса классов. Обучение модели без учёта дисбаланса.\n",
    "   Улучшение качества модели, учитывая дисбаланс классов.\n",
    "3) Обучение разных моделей и поиск лучшей.\n",
    "4) Проведение финальнонго тестирования.\n",
    "5) Общий вывод."
   ]
  },
  {
   "cell_type": "markdown",
   "id": "b67ebcd8-ca3c-469b-8ab2-73f56b006ebb",
   "metadata": {},
   "source": [
    "# 1. Откроем файл с данными и изучим общую информацию. "
   ]
  },
  {
   "cell_type": "code",
   "execution_count": 1,
   "id": "b614c05d-0f36-4449-832a-8aa7a9976ffe",
   "metadata": {},
   "outputs": [],
   "source": [
    "# импортируем необходимые библиотеки\n",
    "import pandas as pd\n",
    "\n",
    "import seaborn as sns\n",
    "import matplotlib.pyplot as plt\n",
    "\n",
    "from scipy import stats as st\n",
    "import numpy as np\n",
    "from IPython.display import display\n",
    "\n",
    "from sklearn.model_selection import train_test_split\n",
    "from sklearn.preprocessing import StandardScaler\n",
    "from sklearn.utils import shuffle\n",
    "from sklearn.metrics import confusion_matrix, ConfusionMatrixDisplay\n",
    "from sklearn.linear_model import LogisticRegression\n",
    "from sklearn.tree import DecisionTreeClassifier\n",
    "from sklearn.ensemble import RandomForestClassifier\n",
    "from sklearn.model_selection import GridSearchCV\n",
    "\n",
    "from sklearn.metrics import (\n",
    "    precision_score, recall_score, f1_score, classification_report, \n",
    "    precision_recall_curve, roc_curve, roc_auc_score\n",
    ")"
   ]
  },
  {
   "cell_type": "code",
   "execution_count": 2,
   "id": "11239f58-f853-4637-9a65-41b49dbb9fc1",
   "metadata": {},
   "outputs": [],
   "source": [
    "# прочитаем данные из csv-файла в датафрейм и сохраним в переменную \n",
    "try:\n",
    "    data = pd.read_csv('/Users/Slava/Desktop/Яндекс Практикум учебные материалы/Проекты/Проект7./Churn.csv', sep = ',')\n",
    "except: \n",
    "     data = pd.read_csv('/datasets/Churn.csv', sep = ',') "
   ]
  },
  {
   "cell_type": "code",
   "execution_count": 3,
   "id": "37049d20-4c49-47b8-b12c-e2146f4279cc",
   "metadata": {},
   "outputs": [],
   "source": [
    "# ознакомимся с общей информацией о данных\n",
    "data.info()"
   ]
  },
  {
   "cell_type": "code",
   "execution_count": 4,
   "id": "1eb5447e-7ada-42c1-973b-0ef7690c9309",
   "metadata": {},
   "outputs": [
    {
     "data": {},
     "execution_count": 4,
     "metadata": {},
     "output_type": "execute_result"
    }
   ],
   "source": [
    "# выведем первые 10 строк набора данных, ознакомимся с признаками и объектами\n",
    "data.head(10)"
   ]
  },
  {
   "cell_type": "markdown",
   "id": "2b9fdea1-fac0-4677-aa27-ea0cc72c8d3b",
   "metadata": {},
   "source": [
    "Взглянув на данные мы сразу видим, что первые три стобца данных: 'RowNumber', 'CustomerId', 'Surname' не содержат в себе полезной информации для исследования. Отбросим их."
   ]
  },
  {
   "cell_type": "code",
   "execution_count": 5,
   "id": "fcc6abe0-c3ef-4b95-a7c2-eff666643fd7",
   "metadata": {},
   "outputs": [],
   "source": [
    "data = data.drop(['RowNumber', 'CustomerId', 'Surname'], axis=1)"
   ]
  },
  {
   "cell_type": "code",
   "execution_count": 6,
   "id": "67e97cbf-8845-4d3f-a17d-585de31d3b08",
   "metadata": {},
   "outputs": [
    {
     "data": {},
     "execution_count": 6,
     "metadata": {},
     "output_type": "execute_result"
    }
   ],
   "source": [
    "# ознакомимся с описательной статистикой набора данных\n",
    "data.describe()"
   ]
  },
  {
   "cell_type": "code",
   "execution_count": 7,
   "id": "c57a0d1f-6c68-4b27-bf6e-4a1a28bca51a",
   "metadata": {},
   "outputs": [
    {
     "data": {},
     "execution_count": 7,
     "metadata": {},
     "output_type": "execute_result"
    }
   ],
   "source": [
    "# проверим пропуски в данных\n",
    "data.isna().sum()"
   ]
  },
  {
   "cell_type": "markdown",
   "id": "7cf23b6e-2148-4015-92f9-92d6ebd8b45c",
   "metadata": {},
   "source": [
    "Пропуски присутствуют только столбце 'Tenure'. Количество их значительно, ~ 10% от количества всех данных, поэтому их исключение может негативно сказаться на исследованни. \n",
    "Рациональнее будет заменить пропуски медианным значением."
   ]
  },
  {
   "cell_type": "code",
   "execution_count": 8,
   "id": "adb49fd0-dbed-4a21-a32d-24e81d8027f3",
   "metadata": {},
   "outputs": [
    {
     "data": {},
     "execution_count": 8,
     "metadata": {},
     "output_type": "execute_result"
    }
   ],
   "source": [
    "data.Tenure = data.Tenure.fillna(data.Tenure.median())\n",
    "data.isna().sum()"
   ]
  },
  {
   "cell_type": "markdown",
   "id": "8006529a-d648-457a-9546-0001c66648c1",
   "metadata": {},
   "source": [
    "Так же изменим тип данных столбца, так как год является целочисленным значением, заодно приведем к типу 'int' столбцы 'Balance' и 'EstimatedSalary' так как значения после целой части"
   ]
  },
  {
   "cell_type": "code",
   "execution_count": 9,
   "id": "8ded88a1-6b31-4440-987a-91f69968e3eb",
   "metadata": {},
   "outputs": [],
   "source": [
    "for columns in ['Tenure','Balance','EstimatedSalary']:\n",
    "    data[columns] = data[columns].astype(int)\n",
    "data.info()"
   ]
  },
  {
   "cell_type": "markdown",
   "id": "776a0b64-7c25-42e5-a562-595ef2bff4f6",
   "metadata": {},
   "source": [
    "**Перед нами задача бинарной классификации:** уйдёт клиент из банка в ближайшее время или нет. Значение Exited = 1 или 0 соответственно.\n",
    "\n",
    "Так как моделям для корректной работы в качестве входных данных мы должны передавать только численные признаки, необходимо подготовить датасет, а именно категориальные признаки 'Geography' и 'Gender' преобразовав их в численные универсальной техникой прямого кодирования (One-Hot Encoding). Чтобы не попасть в дамми-ловушку (dummy trap, ловушка фиктивных признаков), в функции pd.get_dummies() укажем аргумент drop_first=True, чтобы отбросить один столбец, который легко восстанавливается по остальным."
   ]
  },
  {
   "cell_type": "code",
   "execution_count": 10,
   "id": "6ba6bcb9-d25c-4b8b-a339-dcda7fdc9e15",
   "metadata": {},
   "outputs": [
    {
     "data": {},
     "execution_count": 10,
     "metadata": {},
     "output_type": "execute_result"
    }
   ],
   "source": [
    "# применим технику прямого кодирования\n",
    "data = pd.get_dummies(data, drop_first=True)\n",
    "# проверим результат\n",
    "data.head()"
   ]
  },
  {
   "cell_type": "markdown",
   "id": "ac25a19e-2a7f-489e-92b8-ec6e14720b78",
   "metadata": {},
   "source": [
    "Отлично, категориальных данных не осталось."
   ]
  },
  {
   "cell_type": "markdown",
   "id": "44c38d49-7950-4ef8-b87b-cc0147c4e8d9",
   "metadata": {},
   "source": [
    "Оценим баланс выборки т.е. соотношение ушедших/не ушедших клиентов от общего количества."
   ]
  },
  {
   "cell_type": "code",
   "execution_count": 11,
   "id": "037c13bf-1d67-4867-a1bf-9b9e82e3800c",
   "metadata": {},
   "outputs": [
    {
     "data": {},
     "execution_count": 11,
     "metadata": {},
     "output_type": "execute_result"
    }
   ],
   "source": [
    "data['Exited'].value_counts()/len(data)"
   ]
  },
  {
   "cell_type": "markdown",
   "id": "3630e1c8-8777-44c6-816c-a08fd8b6a285",
   "metadata": {},
   "source": [
    "Данные не сбалансированны. В исходных данных количество ушедших из банка клиентов составляет ~ 20% от общего числа. Учтем это при разделении выборки используя метод стратификации."
   ]
  },
  {
   "cell_type": "markdown",
   "id": "b0346c11-9a7d-4ad6-ac0e-f68a9a703eb5",
   "metadata": {},
   "source": [
    "Создадим переменные целевого и остальных признаков для обучения моделей."
   ]
  },
  {
   "cell_type": "code",
   "execution_count": 12,
   "id": "3681b4a3-4fb3-48e6-8fbb-e2ca70e94405",
   "metadata": {},
   "outputs": [
    {
     "data": {},
     "execution_count": 12,
     "metadata": {},
     "output_type": "execute_result"
    }
   ],
   "source": [
    "features = data.drop(['Exited'], axis=1)\n",
    "target = data['Exited'] \n",
    "# проверим \n",
    "features.shape, target.shape"
   ]
  },
  {
   "cell_type": "markdown",
   "id": "c5a9c5fc-a584-4aab-9d37-d09af9bdaa7a",
   "metadata": {},
   "source": [
    "Разделим выборку на обучающую, валидационную и тестовую в отношении 3:1:1."
   ]
  },
  {
   "cell_type": "code",
   "execution_count": 13,
   "id": "c0366c9c-29f8-44de-a55c-967a292f7332",
   "metadata": {},
   "outputs": [],
   "source": [
    "# сначала разобъем выборку на обучающую и 'осаточную' в пропорции 60/40,\n",
    "# применим 'stratify' для равномерного разделения значений в признаке.\n",
    "features_train, features_remaining, target_train, target_remaining = train_test_split(\n",
    "    features, target, test_size=0.4, random_state=12345, stratify=target)\n",
    "# разобъем 'остаточную' выборку на тестовую и валидационную в пропорциях 50/50, \n",
    "# так же применив 'stratify' для равномерного разделения значений в 'остаточной' выборке.\n",
    "features_valid, features_test, target_valid, target_test = train_test_split(\n",
    "    features_remaining, target_remaining, test_size=0.5, random_state=12345, stratify=target_remaining)\n",
    "\n",
    "print(f'Размеры выборок:')\n",
    "print(f'Обучающая: {len(features_train)}')\n",
    "print(f'Валидационная: {len(features_valid)}')\n",
    "print(f'Тестовая: {len(features_test)}')"
   ]
  },
  {
   "cell_type": "markdown",
   "id": "90d633c9-5a77-4cac-90ac-22e191520f6a",
   "metadata": {},
   "source": [
    "Отлично, разделение произвели корректно."
   ]
  },
  {
   "cell_type": "code",
   "execution_count": 14,
   "id": "534bcf89-9b93-4ca5-8ef2-3024c1b37a08",
   "metadata": {},
   "outputs": [],
   "source": [
    "# проверим сохранение пропорций равномерного распределения значений в выборках\n",
    "for tr in [target_train, target_valid, target_test]:\n",
    "    print(tr.value_counts()/len(tr))"
   ]
  },
  {
   "cell_type": "markdown",
   "id": "3dc02f04-cedb-4034-9913-f69384068f63",
   "metadata": {},
   "source": [
    "Исходные данные разделены на обучающую, валидационную и тестовую в отношении 3:1:1 с соблюдением пропорции соотношения целевых признаков.\n",
    "\n",
    "Данные готовы к исследованию."
   ]
  },
  {
   "cell_type": "markdown",
   "id": "21dd2156-f97c-4dd2-b3a5-50a84ab72a5a",
   "metadata": {},
   "source": [
    "Взглянув на исходную таблицу, можно заметить, что значения разных объектов имеют существенный разброс, модель будет считать высокие значения более значимыми, это приведет к некорректной работе модели. Воспользуемся масштабированием, а именно методом стандартизации."
   ]
  },
  {
   "cell_type": "code",
   "execution_count": 15,
   "id": "50b1d29e-6c7a-420d-90b7-6de112b636d9",
   "metadata": {},
   "outputs": [
    {
     "data": {},
     "execution_count": 15,
     "metadata": {},
     "output_type": "execute_result"
    }
   ],
   "source": [
    "numeric = ['CreditScore', 'Age', 'Tenure', 'Balance', 'NumOfProducts', 'EstimatedSalary']\n",
    "\n",
    "scaler = StandardScaler()\n",
    "scaler.fit(features_train[numeric])\n",
    "\n",
    "features_train[numeric] = scaler.transform(features_train[numeric])\n",
    "features_valid[numeric] = scaler.transform(features_valid[numeric])\n",
    "features_test[numeric] = scaler.transform(features_test[numeric])\n",
    "features_train"
   ]
  },
  {
   "cell_type": "markdown",
   "id": "cb3194d2-7eed-4ef5-8852-53944c3050ea",
   "metadata": {},
   "source": [
    "Данные готовы для обучения и исследования моделей. Пропуски обработанны, категориальные признаки преобразованы к численным методом (OHE), а численные признаки стандартизированы. Выделен целевой признак, исходная выборка разделена на обучающую, валидационную и тестовую."
   ]
  },
  {
   "cell_type": "markdown",
   "id": "b1885f64-f562-4fa7-ae42-d540b7808f0c",
   "metadata": {},
   "source": [
    "# 2. Исследование баланса классов. "
   ]
  },
  {
   "cell_type": "markdown",
   "id": "8ed0cc06-1bb5-450c-8dd5-99487512ffbf",
   "metadata": {},
   "source": [
    "## 2.1 Обучение модели без учёта дисбаланса."
   ]
  },
  {
   "cell_type": "markdown",
   "id": "2218fa18-9da8-448c-b5ce-3aa76796845b",
   "metadata": {},
   "source": [
    "Обучим модели без учета дисбаланса, и посмотрим на ключевые метрики - Recall, Precision и F1-score.\n",
    "Перед этим подберем оптимальные гиперпараметры для моделей на основании метрики F1-score."
   ]
  },
  {
   "cell_type": "markdown",
   "id": "5678d451-e39a-42fe-8c91-aba48b07fb18",
   "metadata": {},
   "source": [
    "### 2.1.1 Обучение модели 'Дерево решений'."
   ]
  },
  {
   "cell_type": "code",
   "execution_count": 16,
   "id": "62f32324-f7b0-40e2-8b2f-11cf3c2d91c7",
   "metadata": {},
   "outputs": [],
   "source": [
    "%%time\n",
    "# подберем лучшие гиперпараметры\n",
    "best_model = None\n",
    "best_f1 = 0\n",
    "for depth in range(1, 12):\n",
    "    model_tree = DecisionTreeClassifier(random_state=12345,\n",
    "                                        max_depth=depth)\n",
    "    model_tree.fit(features_train, target_train)\n",
    "    predictions_valid_tree = model_tree.predict(features_valid)\n",
    "    f1_tree = f1_score(target_valid, predictions_valid_tree)\n",
    "    if f1_tree > best_f1:\n",
    "        best_model = model_tree\n",
    "        best_depth = depth\n",
    "        best_f1 = f1_tree\n",
    "\n",
    "print('Лучшая глубина дерева =', best_depth) \n",
    "print('Качество метрики F1 - ', f1_tree)"
   ]
  },
  {
   "cell_type": "code",
   "execution_count": 17,
   "id": "0595f0cc-a7d4-4b23-add7-d7c05985cdac",
   "metadata": {},
   "outputs": [],
   "source": [
    "%%time\n",
    "# обучаем модель с оптимальными значениями гиперпараметров\n",
    "model_tree = DecisionTreeClassifier(random_state=12345,\n",
    "                                    max_depth=7)\n",
    "model_tree.fit(features_train, target_train)\n",
    "predictions_valid_tree = model_tree.predict(features_valid)\n",
    "# выведем результаты\n",
    "print(\"Recall score:\", recall_score(target_valid, predictions_valid_tree))\n",
    "print(\"Precision score:\", precision_score(target_valid, predictions_valid_tree))\n",
    "print(\"F1 score:\", f1_score(target_valid, predictions_valid_tree))"
   ]
  },
  {
   "cell_type": "markdown",
   "id": "fb7c0c94-12ba-4eba-a8f4-26d704d02df9",
   "metadata": {},
   "source": [
    "### 2.1.2 Обучение модели 'Случайный лес'."
   ]
  },
  {
   "cell_type": "code",
   "execution_count": 18,
   "id": "a3e847a3-8d7b-4908-9cd8-6ba7f900dc5f",
   "metadata": {},
   "outputs": [],
   "source": [
    "%%time\n",
    "# подберем лучшие гиперпараметры\n",
    "best_model = None\n",
    "for est in range(10, 100, 10):\n",
    "    for depth in range(1, 12):\n",
    "        model_forest = RandomForestClassifier(random_state=12345,\n",
    "                                              n_estimators=est, \n",
    "                                              max_depth=depth)\n",
    "        model_forest.fit(features_train, target_train)\n",
    "        predictions_valid_forest = model_forest.predict(features_valid)\n",
    "        f1_forest = f1_score(target_valid, predictions_valid_forest)\n",
    "        if f1_forest > best_f1:\n",
    "            best_model = model_forest\n",
    "            best_est = est\n",
    "            best_depth = depth\n",
    "\n",
    "print('Лучшее количество деревьев =', best_est)\n",
    "print('Лучшая глубина дерева =', best_depth)\n",
    "print('Качество метрики F1 - ', f1_forest)"
   ]
  },
  {
   "cell_type": "code",
   "execution_count": 19,
   "id": "61340cc8-4f0f-4b06-afdc-af8147d9a12c",
   "metadata": {},
   "outputs": [],
   "source": [
    "%%time\n",
    "# обучаем модель с оптимальными значениями гиперпараметров\n",
    "model_forest = RandomForestClassifier(random_state=12345, \n",
    "                                      n_estimators=90, \n",
    "                                      max_depth=11)\n",
    "model_forest.fit(features_train, target_train)\n",
    "predictions_valid_forest = model_forest.predict(features_valid)\n",
    "# выведем результаты\n",
    "print(\"Recall score:\", recall_score(target_valid, predictions_valid_forest))\n",
    "print(\"Precision score:\", precision_score(target_valid, predictions_valid_forest))\n",
    "print(\"F1 score:\", f1_score(target_valid, predictions_valid_forest))"
   ]
  },
  {
   "cell_type": "markdown",
   "id": "4aa0a239-9d2d-4e57-ae0d-6ff83da0d80e",
   "metadata": {},
   "source": [
    "### 2.1.3 Обучение модели 'Логистическая регрессия'."
   ]
  },
  {
   "cell_type": "code",
   "execution_count": 20,
   "id": "ca7ad640-9649-423c-b01e-fae1cd62c41e",
   "metadata": {},
   "outputs": [],
   "source": [
    "# построим модель\n",
    "model_logr = LogisticRegression(random_state=12345,\n",
    "                               solver='liblinear')\n",
    "model_logr.fit(features_train, target_train)\n",
    "predictions_valid_logr = model_logr.predict(features_valid)\n",
    "\n",
    "print(\"Recall score:\", recall_score(target_valid, predictions_valid_logr))\n",
    "print(\"Precision score:\", precision_score(target_valid, predictions_valid_logr))\n",
    "print(\"F1 score:\", f1_score(target_valid, predictions_valid_logr))"
   ]
  },
  {
   "cell_type": "markdown",
   "id": "dde0c09f-d13f-48cf-a97a-a5fb65d26f0c",
   "metadata": {},
   "source": [
    "Подводя итог работы моделей без учета дисбаланса классов посмотрим на значения F1 метрики каждой модели:\n",
    "\n",
    "1) **'Дерево решений'**(параметры: max_depth=7) | **F1 score = 0.54**\n",
    "2) **'Случайный лес'**(параметры: n_estimators=90, max_depth=11) | **F1 score = 0.60**\n",
    "3) **'Логистическая регрессия'**(параметры: solver='liblinear') | **F1 score = 0.30**\n",
    "\n",
    "Таким образом, наилучшее значение метрики F1-score демонстрирует модель Случайный лес. Фактически цель достигнута."
   ]
  },
  {
   "cell_type": "markdown",
   "id": "9d73b79a-d062-430e-8cee-a74918464df1",
   "metadata": {},
   "source": [
    "## 2.2 Обучение модели с учётом дисбаланса."
   ]
  },
  {
   "cell_type": "markdown",
   "id": "ad75396f-ba00-4d38-84db-995d1cea7c96",
   "metadata": {},
   "source": [
    "### 2.2.1 Обучение модели 'Дерево решений'."
   ]
  },
  {
   "cell_type": "code",
   "execution_count": 21,
   "id": "3dac795a-4c6c-4e08-b3ab-35c31f72ab09",
   "metadata": {},
   "outputs": [],
   "source": [
    "%%time\n",
    "# подберем лучшие гиперпараметры\n",
    "best_model = None\n",
    "best_f1 = 0\n",
    "for depth in range(1, 12):\n",
    "    model_tree = DecisionTreeClassifier(random_state=12345,\n",
    "                                        max_depth=depth,\n",
    "                                        class_weight='balanced'\n",
    "                                       )\n",
    "    model_tree.fit(features_train, target_train)\n",
    "    predictions_valid_tree = model_tree.predict(features_valid)\n",
    "    f1_tree = f1_score(target_valid, predictions_valid_tree)\n",
    "    if f1_tree > best_f1:\n",
    "        best_model = model_tree\n",
    "        best_depth = depth\n",
    "        best_f1 = f1_tree\n",
    "\n",
    "print('Лучшая глубина дерева =', best_depth) \n",
    "print('Качество метрики F1 - ', f1_tree)"
   ]
  },
  {
   "cell_type": "code",
   "execution_count": 22,
   "id": "11169f8f-4800-47ef-9f4f-265efa26a617",
   "metadata": {},
   "outputs": [],
   "source": [
    "%%time\n",
    "# обучаем модель с оптимальными значениями гиперпараметров\n",
    "model_tree = DecisionTreeClassifier(random_state=12345,\n",
    "                                    max_depth=6)\n",
    "model_tree.fit(features_train, target_train)\n",
    "predictions_valid_tree = model_tree.predict(features_valid)\n",
    "# выведем результаты\n",
    "print(\"Recall score:\", recall_score(target_valid, predictions_valid_tree))\n",
    "print(\"Precision score:\", precision_score(target_valid, predictions_valid_tree))\n",
    "print(\"F1 score:\", f1_score(target_valid, predictions_valid_tree))\n",
    "# посчитаем roc_auc score\n",
    "probabilities_valid = model_tree.predict_proba(features_valid)\n",
    "probabilities_one_valid = probabilities_valid[:, 1]\n",
    "print(\"ROC-AUC_tree:\", roc_auc_score(target_valid, probabilities_one_valid))"
   ]
  },
  {
   "cell_type": "markdown",
   "id": "523aa205-fa7b-4a77-8348-bf77c8d13bc0",
   "metadata": {},
   "source": [
    "### 2.2.2 Обучение модели 'Случайный лес'."
   ]
  },
  {
   "cell_type": "code",
   "execution_count": 23,
   "id": "46e0e18e-76fc-4878-96ab-2720998910c5",
   "metadata": {},
   "outputs": [],
   "source": [
    "%%time\n",
    "# подберем лучшие гиперпараметры\n",
    "best_model = None\n",
    "for est in range(10, 100, 10):\n",
    "    for depth in range(1, 12):\n",
    "        model_forest = RandomForestClassifier(random_state=12345,\n",
    "                                              n_estimators=est, \n",
    "                                              max_depth=depth,\n",
    "                                              class_weight='balanced'\n",
    "                                             )\n",
    "        model_forest.fit(features_train, target_train)\n",
    "        predictions_valid_forest = model_forest.predict(features_valid)\n",
    "        f1_forest = f1_score(target_valid, predictions_valid_forest)\n",
    "        if f1_forest > best_f1:\n",
    "            best_model = model_forest\n",
    "            best_est = est\n",
    "            best_depth = depth\n",
    "\n",
    "print('Лучшее количество деревьев =', best_est)\n",
    "print('Лучшая глубина дерева =', best_depth)\n",
    "print('Качество метрики F1 - ', f1_forest)"
   ]
  },
  {
   "cell_type": "code",
   "execution_count": 24,
   "id": "ead17abb-e928-4fd5-b5b7-dd6b6fe43547",
   "metadata": {},
   "outputs": [],
   "source": [
    "%%time\n",
    "# обучаем модель с оптимальными значениями гиперпараметров\n",
    "model_forest = RandomForestClassifier(random_state=12345, \n",
    "                                      n_estimators=90, \n",
    "                                      max_depth=11,\n",
    "                                      class_weight='balanced'\n",
    "                                     )\n",
    "model_forest.fit(features_train, target_train)\n",
    "predictions_valid_forest = model_forest.predict(features_valid)\n",
    "# выведем результаты\n",
    "print(\"Recall score:\", recall_score(target_valid, predictions_valid_forest))\n",
    "print(\"Precision score:\", precision_score(target_valid, predictions_valid_forest))\n",
    "print(\"F1 score:\", f1_score(target_valid, predictions_valid_forest))\n",
    "# посчитаем roc_auc score\n",
    "probabilities_valid = model_forest.predict_proba(features_valid)\n",
    "probabilities_one_valid = probabilities_valid[:, 1]\n",
    "print(\"ROC-AUC_tree:\", roc_auc_score(target_valid, probabilities_one_valid))"
   ]
  },
  {
   "cell_type": "markdown",
   "id": "387c011a-56a2-49df-adf8-5ce333e53d02",
   "metadata": {},
   "source": [
    "### 2.2.3 Обучение модели 'Логистическая регрессия'."
   ]
  },
  {
   "cell_type": "code",
   "execution_count": 25,
   "id": "5a1b3d71-a358-46cd-9cc3-31906f512510",
   "metadata": {},
   "outputs": [],
   "source": [
    "# построим модель\n",
    "model_logr = LogisticRegression(random_state=12345,\n",
    "                               solver='liblinear',\n",
    "                               class_weight='balanced'\n",
    "                               )\n",
    "model_logr.fit(features_train, target_train)\n",
    "predictions_valid_logr = model_logr.predict(features_valid)\n",
    "\n",
    "print(\"Recall score:\", recall_score(target_valid, predictions_valid_logr))\n",
    "print(\"Precision score:\", precision_score(target_valid, predictions_valid_logr))\n",
    "print(\"F1 score:\", f1_score(target_valid, predictions_valid_logr))\n",
    "# посчитаем roc_auc score\n",
    "probabilities_valid = model_logr.predict_proba(features_valid)\n",
    "probabilities_one_valid = probabilities_valid[:, 1]\n",
    "print(\"ROC-AUC_log:\", roc_auc_score(target_valid, probabilities_one_valid))"
   ]
  },
  {
   "cell_type": "markdown",
   "id": "6e9b5fb5-0eee-4843-b9b9-7a74b473b96d",
   "metadata": {},
   "source": [
    "# 3. Обучение моделей и поиск лучшей."
   ]
  },
  {
   "cell_type": "markdown",
   "id": "7c50686f-37cd-451f-abb8-ac93f258f2ec",
   "metadata": {},
   "source": [
    "## 3.1 Уменьшение выборки."
   ]
  },
  {
   "cell_type": "code",
   "execution_count": 26,
   "id": "cd35ae9f-79d3-4440-ba20-18b455f6a594",
   "metadata": {},
   "outputs": [],
   "source": [
    "# уменьшим выборку в 4 раза, так как положительный класс больше отрицательного примерно в 4 раза (доля: 0.7963 / 0.2037)\n",
    "def downsample(features, target, fraction):\n",
    "    features_zeros = features[target == 0]\n",
    "    features_ones = features[target == 1]\n",
    "    target_zeros = target[target == 0]\n",
    "    target_ones = target[target == 1]\n",
    "\n",
    "    # fractioning samples\n",
    "    features_downsampled = pd.concat([features_zeros.sample(frac=fraction, random_state=12345)] +\n",
    "                                     [features_ones])\n",
    "    target_downsampled = pd.concat([target_zeros.sample(frac=fraction, random_state=12345)] +\n",
    "                                   [target_ones])\n",
    "    \n",
    "    features_downsampled = shuffle(features_downsampled, random_state=12345)\n",
    "    target_downsampled = shuffle(target_downsampled, random_state=12345)\n",
    "\n",
    "    return features_downsampled, target_downsampled\n",
    "\n",
    "features_downsampled, target_downsampled = downsample(features_train, target_train, 0.25)\n",
    "\n",
    "print(features_downsampled.shape)\n",
    "print(target_downsampled.shape)"
   ]
  },
  {
   "cell_type": "markdown",
   "id": "779b49c7-4dba-4d83-afad-33b78d00bb11",
   "metadata": {},
   "source": [
    "### 3.1.1 Обучение модели 'Дерево решений'."
   ]
  },
  {
   "cell_type": "code",
   "execution_count": 27,
   "id": "3e03ac9b-f45b-42dd-9cd1-6caad0842a23",
   "metadata": {},
   "outputs": [],
   "source": [
    "%%time\n",
    "# подберем лучшие гиперпараметры\n",
    "best_model = None\n",
    "best_f1 = 0\n",
    "for depth in range(1, 12):\n",
    "    model_tree = DecisionTreeClassifier(random_state=12345,\n",
    "                                        max_depth=depth)\n",
    "    model_tree.fit(features_downsampled, target_downsampled)\n",
    "    predictions_valid_tree = model_tree.predict(features_valid)\n",
    "    f1_tree = f1_score(target_valid, predictions_valid_tree)\n",
    "    if f1_tree > best_f1:\n",
    "        best_model = model_tree\n",
    "        best_depth = depth\n",
    "        best_f1 = f1_tree\n",
    "\n",
    "print('Лучшая глубина дерева =', best_depth) \n",
    "print('Качество метрики F1 - ', f1_tree)"
   ]
  },
  {
   "cell_type": "code",
   "execution_count": 28,
   "id": "f217d2f3-ad2c-464a-a9d1-9adbedf245c2",
   "metadata": {},
   "outputs": [],
   "source": [
    "%%time\n",
    "# обучаем модель с оптимальными значениями гиперпараметров\n",
    "model_tree = DecisionTreeClassifier(random_state=12345,\n",
    "                                    max_depth=6)\n",
    "model_tree.fit(features_downsampled, target_downsampled)\n",
    "predictions_valid_tree = model_tree.predict(features_valid)\n",
    "# выведем результаты\n",
    "print(\"Recall score:\", recall_score(target_valid, predictions_valid_tree))\n",
    "print(\"Precision score:\", precision_score(target_valid, predictions_valid_tree))\n",
    "print(\"F1 score:\", f1_score(target_valid, predictions_valid_tree))\n",
    "# посчитаем roc_auc score\n",
    "probabilities_valid = model_tree.predict_proba(features_valid)\n",
    "probabilities_one_valid = probabilities_valid[:, 1]\n",
    "print(\"ROC-AUC_tree:\", roc_auc_score(target_valid, probabilities_one_valid))"
   ]
  },
  {
   "cell_type": "markdown",
   "id": "06c74ac1-191d-40e3-b2a6-b6902fcea440",
   "metadata": {},
   "source": [
    "### 3.1.2 Обучение модели 'Случайный лес'."
   ]
  },
  {
   "cell_type": "code",
   "execution_count": 29,
   "id": "0680cb1a-b874-412e-bc37-1b5e5174ec68",
   "metadata": {},
   "outputs": [],
   "source": [
    "%%time\n",
    "# подберем лучшие гиперпараметры\n",
    "best_model = None\n",
    "for est in range(10, 100, 10):\n",
    "    for depth in range(1, 12):\n",
    "        model_forest = RandomForestClassifier(random_state=12345,\n",
    "                                              n_estimators=est, \n",
    "                                              max_depth=depth)\n",
    "        model_forest.fit(features_downsampled, target_downsampled)\n",
    "        predictions_valid_forest = model_forest.predict(features_valid)\n",
    "        f1_forest = f1_score(target_valid, predictions_valid_forest)\n",
    "        if f1_forest > best_f1:\n",
    "            best_model = model_forest\n",
    "            best_est = est\n",
    "            best_depth = depth\n",
    "\n",
    "print('Лучшее количество деревьев =', best_est)\n",
    "print('Лучшая глубина дерева =', best_depth)\n",
    "print('Качество метрики F1 - ', f1_forest)"
   ]
  },
  {
   "cell_type": "code",
   "execution_count": 30,
   "id": "a3fe11c0-c565-430c-9802-03f66eb88e08",
   "metadata": {},
   "outputs": [],
   "source": [
    "%%time\n",
    "# обучаем модель с оптимальными значениями гиперпараметров\n",
    "model_forest = RandomForestClassifier(random_state=12345, \n",
    "                                      n_estimators=90, \n",
    "                                      max_depth=11)\n",
    "model_forest.fit(features_downsampled, target_downsampled)\n",
    "predictions_valid_forest = model_forest.predict(features_valid)\n",
    "# выведем результаты\n",
    "print(\"Recall score:\", recall_score(target_valid, predictions_valid_forest))\n",
    "print(\"Precision score:\", precision_score(target_valid, predictions_valid_forest))\n",
    "print(\"F1 score:\", f1_score(target_valid, predictions_valid_forest))\n",
    "# посчитаем roc_auc score\n",
    "probabilities_valid = model_forest.predict_proba(features_valid)\n",
    "probabilities_one_valid = probabilities_valid[:, 1]\n",
    "print(\"ROC-AUC_tree:\", roc_auc_score(target_valid, probabilities_one_valid))"
   ]
  },
  {
   "cell_type": "markdown",
   "id": "02919f6f-7e3c-4137-a234-a797be1fb18d",
   "metadata": {},
   "source": [
    "### 3.1.3 Обучение модели 'Логистическая регрессия'."
   ]
  },
  {
   "cell_type": "code",
   "execution_count": 31,
   "id": "06c9a245-97c3-4a75-aa7a-8c1526291222",
   "metadata": {},
   "outputs": [],
   "source": [
    "# построим модель\n",
    "model_logr = LogisticRegression(random_state=12345,\n",
    "                               solver='liblinear')\n",
    "model_logr.fit(features_downsampled, target_downsampled)\n",
    "predictions_valid_logr = model_logr.predict(features_valid)\n",
    "\n",
    "print(\"Recall score:\", recall_score(target_valid, predictions_valid_logr))\n",
    "print(\"Precision score:\", precision_score(target_valid, predictions_valid_logr))\n",
    "print(\"F1 score:\", f1_score(target_valid, predictions_valid_logr))\n",
    "# посчитаем roc_auc score\n",
    "probabilities_valid = model_logr.predict_proba(features_valid)\n",
    "probabilities_one_valid = probabilities_valid[:, 1]\n",
    "print(\"ROC-AUC_log:\", roc_auc_score(target_valid, probabilities_one_valid))"
   ]
  },
  {
   "cell_type": "markdown",
   "id": "b7dac659-d506-434d-acd5-a922f8324b5d",
   "metadata": {},
   "source": [
    "## 3.2 Увеличение выборки."
   ]
  },
  {
   "cell_type": "code",
   "execution_count": 32,
   "id": "a4e2bfee-6495-479b-9e05-ce296af0bf03",
   "metadata": {},
   "outputs": [],
   "source": [
    "# увеличим выборку в 4 раза, так как отрицательный класс больше положительного в 4 раза (доля: 0.7963 / 0.2037)\n",
    "def upsample(features, target, repeat):\n",
    "    features_zeros = features[target == 0]\n",
    "    features_ones = features[target == 1]\n",
    "    target_zeros = target[target == 0]\n",
    "    target_ones = target[target == 1]\n",
    "    \n",
    "    # сцепляем выборки\n",
    "    features_upsampled = pd.concat([features_zeros] + [features_ones] * repeat)\n",
    "    target_upsampled = pd.concat([target_zeros] + [target_ones] * repeat)\n",
    "    \n",
    "    # перемешиваем значения, чтобы они не шли друг за другом \n",
    "    features_upsampled = shuffle(features_upsampled, random_state=12345)\n",
    "    target_upsampled = shuffle(target_upsampled, random_state=12345)\n",
    "    return features_upsampled, target_upsampled\n",
    "\n",
    "features_upsampled, target_upsampled = upsample(features_train, target_train, 4)\n",
    "\n",
    "print(features_upsampled.shape)\n",
    "print(target_upsampled.shape)"
   ]
  },
  {
   "cell_type": "markdown",
   "id": "7c01d9bb-a621-442b-b0e2-d1c7c17511bd",
   "metadata": {},
   "source": [
    "### 3.2.1 Обучение модели 'Дерево решений'."
   ]
  },
  {
   "cell_type": "code",
   "execution_count": 33,
   "id": "ea83e468-8c96-4a75-b319-470e993b1236",
   "metadata": {},
   "outputs": [],
   "source": [
    "%%time\n",
    "# подберем лучшие гиперпараметры\n",
    "best_model = None\n",
    "best_f1 = 0\n",
    "for depth in range(1, 12):\n",
    "    model_tree = DecisionTreeClassifier(random_state=12345,\n",
    "                                        max_depth=depth)\n",
    "    model_tree.fit(features_upsampled, target_upsampled)\n",
    "    predictions_valid_tree = model_tree.predict(features_valid)\n",
    "    f1_tree = f1_score(target_valid, predictions_valid_tree)\n",
    "    if f1_tree > best_f1:\n",
    "        best_model = model_tree\n",
    "        best_depth = depth\n",
    "        best_f1 = f1_tree\n",
    "\n",
    "print('Лучшая глубина дерева =', best_depth) \n",
    "print('Качество метрики F1 - ', f1_tree)"
   ]
  },
  {
   "cell_type": "code",
   "execution_count": 34,
   "id": "9797213e-f1a6-42cb-b731-08a70d2220f8",
   "metadata": {},
   "outputs": [],
   "source": [
    "%%time\n",
    "# обучаем модель с оптимальными значениями гиперпараметров\n",
    "model_tree = DecisionTreeClassifier(random_state=12345,\n",
    "                                    max_depth=6)\n",
    "model_tree.fit(features_upsampled, target_upsampled)\n",
    "predictions_valid_tree = model_tree.predict(features_valid)\n",
    "# выведем результаты\n",
    "print(\"Recall score:\", recall_score(target_valid, predictions_valid_tree))\n",
    "print(\"Precision score:\", precision_score(target_valid, predictions_valid_tree))\n",
    "print(\"F1 score:\", f1_score(target_valid, predictions_valid_tree))\n",
    "# посчитаем roc_auc score\n",
    "probabilities_valid = model_tree.predict_proba(features_valid)\n",
    "probabilities_one_valid = probabilities_valid[:, 1]\n",
    "print(\"ROC-AUC_tree:\", roc_auc_score(target_valid, probabilities_one_valid))"
   ]
  },
  {
   "cell_type": "markdown",
   "id": "9348700d-b918-491d-bfed-57fa7dee5fe2",
   "metadata": {},
   "source": [
    "### 3.2.2 Обучение модели 'Случайный лес'."
   ]
  },
  {
   "cell_type": "code",
   "execution_count": 35,
   "id": "23590e43-bbff-4915-ac5a-3a7c6b74d6e5",
   "metadata": {},
   "outputs": [],
   "source": [
    "%%time\n",
    "# подберем лучшие гиперпараметры\n",
    "best_model = None\n",
    "for est in range(10, 100, 10):\n",
    "    for depth in range(1, 12):\n",
    "        model_forest = RandomForestClassifier(random_state=12345,\n",
    "                                              n_estimators=est, \n",
    "                                              max_depth=depth)\n",
    "        model_forest.fit(features_upsampled, target_upsampled)\n",
    "        predictions_valid_forest = model_forest.predict(features_valid)\n",
    "        f1_forest = f1_score(target_valid, predictions_valid_forest)\n",
    "        if f1_forest > best_f1:\n",
    "            best_model = model_forest\n",
    "            best_est = est\n",
    "            best_depth = depth\n",
    "\n",
    "print('Лучшее количество деревьев =', best_est)\n",
    "print('Лучшая глубина дерева =', best_depth)\n",
    "print('Качество метрики F1 - ', f1_forest)"
   ]
  },
  {
   "cell_type": "code",
   "execution_count": 36,
   "id": "39287db2-4992-4a69-bdf8-3af9feedcd44",
   "metadata": {},
   "outputs": [],
   "source": [
    "%%time\n",
    "# обучаем модель с оптимальными значениями гиперпараметров\n",
    "model_forest = RandomForestClassifier(random_state=12345, \n",
    "                                      n_estimators=90, \n",
    "                                      max_depth=11)\n",
    "model_forest.fit(features_upsampled, target_upsampled)\n",
    "predictions_valid_forest = model_forest.predict(features_valid)\n",
    "# выведем результаты\n",
    "print(\"Recall score:\", recall_score(target_valid, predictions_valid_forest))\n",
    "print(\"Precision score:\", precision_score(target_valid, predictions_valid_forest))\n",
    "print(\"F1 score:\", f1_score(target_valid, predictions_valid_forest))\n",
    "# посчитаем roc_auc score\n",
    "probabilities_valid = model_forest.predict_proba(features_valid)\n",
    "probabilities_one_valid = probabilities_valid[:, 1]\n",
    "print(\"ROC-AUC_tree:\", roc_auc_score(target_valid, probabilities_one_valid))"
   ]
  },
  {
   "cell_type": "markdown",
   "id": "40083cc7-894a-4e19-a554-a20b2ee7e5b4",
   "metadata": {},
   "source": [
    "### 3.2.3 Обучение модели 'Логистическая регрессия'."
   ]
  },
  {
   "cell_type": "code",
   "execution_count": 37,
   "id": "ab950eed-f653-4af5-85fe-3a5885f2593d",
   "metadata": {},
   "outputs": [],
   "source": [
    "# построим модель\n",
    "model_logr = LogisticRegression(random_state=12345,\n",
    "                               solver='liblinear')\n",
    "model_logr.fit(features_upsampled, target_upsampled)\n",
    "predictions_valid_logr = model_logr.predict(features_valid)\n",
    "\n",
    "print(\"Recall score:\", recall_score(target_valid, predictions_valid_logr))\n",
    "print(\"Precision score:\", precision_score(target_valid, predictions_valid_logr))\n",
    "print(\"F1 score:\", f1_score(target_valid, predictions_valid_logr))\n",
    "# посчитаем roc_auc score\n",
    "probabilities_valid = model_logr.predict_proba(features_valid)\n",
    "probabilities_one_valid = probabilities_valid[:, 1]\n",
    "print(\"ROC-AUC_log:\", roc_auc_score(target_valid, probabilities_one_valid))"
   ]
  },
  {
   "cell_type": "code",
   "execution_count": 38,
   "id": "686fa07c-9b9b-47b1-b829-cb79d7c64307",
   "metadata": {},
   "outputs": [
    {
     "data": {},
     "execution_count": 38,
     "metadata": {},
     "output_type": "execute_result"
    }
   ],
   "source": [
    "# для удобства соберем все полученные значения метрики F1-score в один датафрейм\n",
    "\n",
    "model_name = ['TreeClassifier', 'RandomForest', 'LogReg']\n",
    "initial_values = [0.59, 0.60, 0.30]\n",
    "weighting_values = [0.57, 0.63, 0.52]\n",
    "down_values = [0.59, 0.61, 0.52]\n",
    "up_values = [0.57, 0.64, 0.52]\n",
    "\n",
    "df_metrics = pd.DataFrame({'Model Name': model_name,\n",
    "                           'Initial': initial_values,\n",
    "                           'Weighing': weighting_values,\n",
    "                           'Downsampling': down_values,\n",
    "                           'Upsampling': up_values })\n",
    "\n",
    "df_metrics"
   ]
  },
  {
   "cell_type": "markdown",
   "id": "cb83783b-182c-4548-9576-117ade52e225",
   "metadata": {},
   "source": [
    "**Вывод:**\n",
    "\n",
    "Уменьшение и увеличение выборки позволяют достичь примерно одинаковое значение F1-score.\n",
    "Наибольшее значение метрики F1-score получено на модели Случайный лес при помощи увеличения выборки, соответственно для тестирования будем использовать эту модель.\n",
    "Значение метрики AUC-ROC всегда стабильно выше F1-score и колеблется в районе 80%."
   ]
  },
  {
   "cell_type": "markdown",
   "id": "c806b9a3-6d52-4067-b2c9-1faef17e34d9",
   "metadata": {},
   "source": [
    "# 4. Проведение финальнонго тестирования."
   ]
  },
  {
   "cell_type": "markdown",
   "id": "f1d6a6bd-ec2e-404f-82c9-333fb3a1d778",
   "metadata": {},
   "source": [
    "Наиболее высокое значение F1, которого удалось добиться на валидационной выборке, равно 0.646 и получено с помощью модели RandomForestClassifier, то есть при учете дисбаланса классов с помощью увеличения выборки.\n",
    "\n",
    "Можно сделать вывод, что модель, обученная с учетом увеличения выборки, справляется с прогнозами лучше, так как получает более сбалансированную выборку и уже не склонна всегда отдавать предпочтение более частому классу.\n",
    "\n",
    "Обучим лучшую модель на тренировочной выборке и проведем финальное тестирование на тестовой."
   ]
  },
  {
   "cell_type": "code",
   "execution_count": 39,
   "id": "56d46450-57e5-494b-bd09-fc3e1277a8d6",
   "metadata": {},
   "outputs": [],
   "source": [
    "model_forest = RandomForestClassifier(random_state=12345, max_depth=12, n_estimators=90)\n",
    "model_forest.fit(features_upsampled, target_upsampled)\n",
    "predictions_test = model_forest.predict(features_test)\n",
    "test_probabilities = model_forest.predict_proba(features_test)\n",
    "test_probabilities_one = test_probabilities[:, 1]\n",
    "\n",
    "print(\"Recall forest test:\", recall_score(target_test, predictions_test))\n",
    "print(\"Precision forest test:\", precision_score(target_test, predictions_test))\n",
    "print(\"F1 tree test:\", f1_score(target_test, predictions_test))\n",
    "\n",
    "test_probabilities = model_forest.predict_proba(features_test)\n",
    "test_probabilities_one = test_probabilities[:, 1]\n",
    "print(\"ROC-AUC forest test:\", roc_auc_score(target_test, test_probabilities_one))"
   ]
  },
  {
   "cell_type": "markdown",
   "id": "9c7089d2-0494-4ef6-a15c-4bbb5cc3ed15",
   "metadata": {},
   "source": [
    "На тестовой выборке результат Случайного леса получили ниже, что логично учитывая ее размерность по отношению к общей.\n",
    "\n",
    "Построим ROC-curve график."
   ]
  },
  {
   "cell_type": "code",
   "execution_count": 41,
   "id": "1f04eff4-dcac-4299-b859-fa1574acd751",
   "metadata": {},
   "outputs": [
    {
     "data": {
      "image/png": "[encoded data removed]"
     },
     "metadata": {},
     "output_type": "display_data"
    }
   ],
   "source": [
    "fpr, tpr, thresholds = roc_curve(target_test, test_probabilities_one) \n",
    "\n",
    "plt.figure()\n",
    "plt.plot(fpr, tpr, linestyle='solid')\n",
    "plt.plot([0, 1], [0, 1], linestyle='--')\n",
    "plt.xlim([0.0, 1.0])\n",
    "plt.ylim([0.0, 1.0])\n",
    "plt.xlabel('False Positive Rate')\n",
    "plt.ylabel('True Positive Rate')\n",
    "plt.title('ROC-кривая')\n",
    "plt.show()"
   ]
  },
  {
   "cell_type": "markdown",
   "id": "7abb0f0a-e1cd-47a2-bcd2-c0f090111707",
   "metadata": {},
   "source": [
    "График показывает хорошее качество работы выбранной модели."
   ]
  },
  {
   "cell_type": "markdown",
   "id": "1772be3e-dc9a-4df6-b9e4-58856f8e6f7d",
   "metadata": {},
   "source": [
    "# 5. Общий вывод."
   ]
  },
  {
   "cell_type": "markdown",
   "id": "48f829f8-e0d4-4a34-9755-7a830c2f9945",
   "metadata": {},
   "source": [
    "Для проведения данного исследования была произведена предварительная подготовка данных.\n",
    "\n",
    "Произведено заполнение пропусков в данных столбца 'Tenure' на медианное значение.\\\n",
    "Удалены 3 категориальных столбца CustomerId, Surname и RowNumber, так как они никак позитивно не влияют на качество обучения.\\\n",
    "Категориальные признаки (Gender, Geography) были преобразованы в бинарные при помощи техники OHE.\\\n",
    "К признакам (CreditScore, Balance и EstimatedSalary) было применено масштабирование для уравнения их значимости.\n",
    "Проверка датасета на наличие дисбаланса показала, что в целевом признаке наблюдается достаточно сильный дисбаланс классов - только 20% отражают факт ухода клиента.\n",
    "\n",
    "В рамках борьбы с дисбалансом классов было рассмотрено 3 метода:\n",
    "\n",
    "Взвешивание классов\\\n",
    "Увеличение выборки (upsampling)\\\n",
    "Уменьшение выборки (downsampling)\\\n",
    "Значения метрики F1-score, полученные на первом этапе исследования:\n",
    "\n",
    "**'Дерево решений'(параметры: max_depth=7) | F1 score = 0.54** \\\n",
    "**'Случайный лес'(параметры: n_estimators=90, max_depth=11) | F1 score = 0.60** \\\n",
    "**'Логистическая регрессия'(параметры: solver='liblinear') | F1 score = 0.30**\n",
    "\n",
    "В результате борьбы с дисбанансом классов были получены следующие выводы:\n",
    "\n",
    "**'Дерево решений'(параметры: max_depth=6) | F1 score = 0.57** \\\n",
    "**'Случайный лес'(параметры: n_estimators=90, max_depth=11) | F1 score = 0.63** \\\n",
    "**'Логистическая регрессия'(параметры: solver='liblinear') | F1 score = 0.52**\n",
    "\n",
    "Уменьшение и увеличение выборки позволяют достичь примерно одинаковое значение F1-score, однако наилучшие значения метрик получились при увеличении выборки (upsampled):\n",
    "\n",
    "**'Дерево решений'(параметры: max_depth=6) | F1 score = 0.57** \\\n",
    "**'Случайный лес'(параметры: n_estimators=90, max_depth=11) | F1 score = 0.64** \\\n",
    "**'Логистическая регрессия'(параметры: solver='liblinear') | F1 score = 0.52**\n",
    "\n",
    "Наибольшее значение метрики F1-score получено на модели Случайный лес при помощи увеличения выборки. Поэтому для финального тестирования была использована именно она.\n",
    "Значение метрики AUC-ROC всегда стабильно выше F1-score и колеблется в районе 80%.\n",
    "Далее, наилучшая модель была протестирована на тестовой выборке.\n",
    "\n",
    "**F1-score = 0.594 (выше необходимого значения)** \\\n",
    "**AUC-ROC = 0.849 (достаточно близко к единице)**\n",
    "\n",
    "При этом полнота лучше точности (0.60 против 0.58), то есть модель довольно неплохо находит объекты положительного класса, но при этом ошибается, называя отрицательные объекты положительными. Устраивают ли такие значения точности и полноты зависит от требований заказчика."
   ]
  }
 ],
 "metadata": {
  "kernelspec": {
   "display_name": "Python 3 (ipykernel)",
   "language": "python",
   "name": "python3"
  },
  "language_info": {
   "codemirror_mode": {
    "name": "ipython",
    "version": 3
   },
   "file_extension": ".py",
   "mimetype": "text/x-python",
   "name": "python",
   "nbconvert_exporter": "python",
   "pygments_lexer": "ipython3",
   "version": "3.11.5"
  },
  "toc": {
   "base_numbering": 1,
   "nav_menu": {},
   "number_sections": true,
   "sideBar": true,
   "skip_h1_title": true,
   "title_cell": "Table of Contents",
   "title_sidebar": "Contents",
   "toc_cell": false,
   "toc_position": {},
   "toc_section_display": true,
   "toc_window_display": false
  }
 },
 "nbformat": 4,
 "nbformat_minor": 5
}
