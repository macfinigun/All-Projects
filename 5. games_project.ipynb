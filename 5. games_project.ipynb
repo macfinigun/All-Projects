{
 "cells": [
  {
   "cell_type": "markdown",
   "id": "d4494887-55d5-4e21-a215-0183d939e674",
   "metadata": {},
   "source": [
    "# Исследование интернет-магазина по продаже компьютерных игр."
   ]
  },
  {
   "cell_type": "markdown",
   "id": "0c7e3c73-d19a-4159-b9b6-f15f37dc05af",
   "metadata": {},
   "source": [
    "Мы работаем в интернет-магазине «Стримчик», который продаёт по всему миру компьютерные игры и нам необходимо провести исследование. Из открытых источников доступны исторические данные о продажах игр, оценки пользователей и экспертов, жанры и платформы (например, Xbox или PlayStation). Необходимо выявить определяющие успешность игры закономерности. Это позволит сделать ставку на потенциально популярный продукт и спланировать рекламные кампании.\n",
    "\n",
    "В нашем распоряжении данные до 2016 года и мы планируем кампанию на 2017-й. Нужно отработать принцип работы с данными.\n",
    "\n",
    "В наборе данных попадается аббревиатура **ESRB (Entertainment Software Rating Board)** — это ассоциация, определяющая возрастной рейтинг компьютерных игр. ESRB оценивает игровой контент и присваивает ему подходящую возрастную категорию, например, «Для взрослых», «Для детей младшего возраста» или «Для подростков».\n",
    "\n",
    "**Датафрейм имеет следующую структуру:**\n",
    "\n",
    "**Name** — название игры.\\\n",
    "**Platform** — платформа.\\\n",
    "**Year_of_Release** — год выпуска.\\\n",
    "**Genre** — жанр игры.\\\n",
    "**NA_sales** — продажи в Северной Америке.(миллионы проданных копий)\\\n",
    "**EU_sales** — продажи в Европе.(миллионы проданных копий)\\\n",
    "**JP_sales** — продажи в Японии.(миллионы проданных копий)\\\n",
    "**Other_sales** — продажи в других странах.(миллионы проданных копий)\\\n",
    "**Critic_Score** — оценка критиков.(максимум 100)\\\n",
    "**User_Score** — оценка пользователей.(максимум 10)\\\n",
    "**Rating** — рейтинг от организации ESRB.\n",
    "\n",
    "**Цель исследования:** Нам необходимо выявить определяющие успешность игры закономерности. Это позволит сделать ставку на потенциально популярный продукт и спланировать рекламные кампании.\n",
    "\n",
    "**Ход исследоввания:** Изучим файлы с данными games.csv, оценим качество. Найдем и изучим пропущенные значения в столбцах, рассмотрим типы данных в каждом столбце, проверим уникальные значения в столбце с названиями и устраним неявные дубликаты, проведем исследовательский и статистический анализы данных, проверим несколько гипотез для подведения итогов и возможности сделать акцент на потенциально коммерчески успешный продукт.\n",
    "\n",
    "**Исследование пройдет в шесть этапов:**\n",
    "\n",
    "1) Предобработка данных.\n",
    "2) Добавление в таблицу новых столбцов по необходимым параметрам.\n",
    "3) Проведение исследовательского анализа данных.\n",
    "4) Проведение статистического анализа данных.\n",
    "5) Проверка гипотез.\n",
    "6) Подведение итогов, фиксация итоговых выводов."
   ]
  },
  {
   "cell_type": "markdown",
   "id": "0f6c3216-9d67-41d6-89f0-4202f5f4ee80",
   "metadata": {},
   "source": [
    "# 1. Откроем файл с данными и изучим общую информацию. "
   ]
  },
  {
   "cell_type": "markdown",
   "id": "4755e13e-cd85-465d-b858-3679ea071337",
   "metadata": {},
   "source": [
    "Импортируем необходимые библиотеки. Считаем данные из csv-файла в датафрейм и сохраним в переменную data_games. Путь к файлам: /Users/Slava/Desktop/Яндекс Практикум учебные материалы/Проекты/Проект5."
   ]
  },
  {
   "cell_type": "code",
   "execution_count": 1,
   "id": "f6fe5b95-86e6-4d4c-9c58-268da6be7f89",
   "metadata": {},
   "outputs": [],
   "source": [
    "# импортируем библиотеки\n",
    "import pandas as pd\n",
    "import seaborn as sns\n",
    "import matplotlib.pyplot as plt\n",
    "import numpy as np\n",
    "from IPython.display import display\n",
    "from scipy import stats as st"
   ]
  },
  {
   "cell_type": "markdown",
   "id": "016a12e2",
   "metadata": {},
   "source": []
  },
  {
   "cell_type": "code",
   "execution_count": 2,
   "id": "976be35e-cf47-4aa6-99b0-b379a71d779b",
   "metadata": {},
   "outputs": [],
   "source": [
    "# прочитаем данные из csv-файла в датафрейм и сохраним в переменную \n",
    "try:\n",
    "    data_games = pd.read_csv('/Users/Slava/Desktop/Яндекс Практикум учебные материалы/Проекты/Проект5./games.csv', sep = ',')\n",
    "except: \n",
    "     data_games = pd.read_csv('/datasets/games.csv', sep = ',') "
   ]
  },
  {
   "cell_type": "code",
   "execution_count": 3,
   "id": "7dc15b33-7139-49d8-a6b6-00e32e4eac31",
   "metadata": {},
   "outputs": [
    {
     "name": "stdout",
     "output_type": "stream",
     "text": [
      "<class 'pandas.core.frame.DataFrame'>\n",
      "RangeIndex: 16715 entries, 0 to 16714\n",
      "Data columns (total 11 columns):\n",
      " #   Column           Non-Null Count  Dtype  \n",
      "---  ------           --------------  -----  \n",
      " 0   Name             16713 non-null  object \n",
      " 1   Platform         16715 non-null  object \n",
      " 2   Year_of_Release  16446 non-null  float64\n",
      " 3   Genre            16713 non-null  object \n",
      " 4   NA_sales         16715 non-null  float64\n",
      " 5   EU_sales         16715 non-null  float64\n",
      " 6   JP_sales         16715 non-null  float64\n",
      " 7   Other_sales      16715 non-null  float64\n",
      " 8   Critic_Score     8137 non-null   float64\n",
      " 9   User_Score       10014 non-null  object \n",
      " 10  Rating           9949 non-null   object \n",
      "dtypes: float64(6), object(5)\n",
      "memory usage: 1.4+ MB\n"
     ]
    }
   ],
   "source": [
    "# ознакомимся с общей информацией о данных\n",
    "data_games.info()"
   ]
  },
  {
   "cell_type": "code",
   "execution_count": 4,
   "id": "d7ca7bc1-5403-42a6-9ff8-58e6deb4c1d7",
   "metadata": {},
   "outputs": [
    {
     "data": {
      "text/html": [
       "<div>\n",
       "<style scoped>\n",
       "    .dataframe tbody tr th:only-of-type {\n",
       "        vertical-align: middle;\n",
       "    }\n",
       "\n",
       "    .dataframe tbody tr th {\n",
       "        vertical-align: top;\n",
       "    }\n",
       "\n",
       "    .dataframe thead th {\n",
       "        text-align: right;\n",
       "    }\n",
       "</style>\n",
       "<table border=\"1\" class=\"dataframe\">\n",
       "  <thead>\n",
       "    <tr style=\"text-align: right;\">\n",
       "      <th></th>\n",
       "      <th>Name</th>\n",
       "      <th>Platform</th>\n",
       "      <th>Year_of_Release</th>\n",
       "      <th>Genre</th>\n",
       "      <th>NA_sales</th>\n",
       "      <th>EU_sales</th>\n",
       "      <th>JP_sales</th>\n",
       "      <th>Other_sales</th>\n",
       "      <th>Critic_Score</th>\n",
       "      <th>User_Score</th>\n",
       "      <th>Rating</th>\n",
       "    </tr>\n",
       "  </thead>\n",
       "  <tbody>\n",
       "    <tr>\n",
       "      <th>0</th>\n",
       "      <td>Wii Sports</td>\n",
       "      <td>Wii</td>\n",
       "      <td>2006.0</td>\n",
       "      <td>Sports</td>\n",
       "      <td>41.36</td>\n",
       "      <td>28.96</td>\n",
       "      <td>3.77</td>\n",
       "      <td>8.45</td>\n",
       "      <td>76.0</td>\n",
       "      <td>8</td>\n",
       "      <td>E</td>\n",
       "    </tr>\n",
       "    <tr>\n",
       "      <th>1</th>\n",
       "      <td>Super Mario Bros.</td>\n",
       "      <td>NES</td>\n",
       "      <td>1985.0</td>\n",
       "      <td>Platform</td>\n",
       "      <td>29.08</td>\n",
       "      <td>3.58</td>\n",
       "      <td>6.81</td>\n",
       "      <td>0.77</td>\n",
       "      <td>NaN</td>\n",
       "      <td>NaN</td>\n",
       "      <td>NaN</td>\n",
       "    </tr>\n",
       "    <tr>\n",
       "      <th>2</th>\n",
       "      <td>Mario Kart Wii</td>\n",
       "      <td>Wii</td>\n",
       "      <td>2008.0</td>\n",
       "      <td>Racing</td>\n",
       "      <td>15.68</td>\n",
       "      <td>12.76</td>\n",
       "      <td>3.79</td>\n",
       "      <td>3.29</td>\n",
       "      <td>82.0</td>\n",
       "      <td>8.3</td>\n",
       "      <td>E</td>\n",
       "    </tr>\n",
       "    <tr>\n",
       "      <th>3</th>\n",
       "      <td>Wii Sports Resort</td>\n",
       "      <td>Wii</td>\n",
       "      <td>2009.0</td>\n",
       "      <td>Sports</td>\n",
       "      <td>15.61</td>\n",
       "      <td>10.93</td>\n",
       "      <td>3.28</td>\n",
       "      <td>2.95</td>\n",
       "      <td>80.0</td>\n",
       "      <td>8</td>\n",
       "      <td>E</td>\n",
       "    </tr>\n",
       "    <tr>\n",
       "      <th>4</th>\n",
       "      <td>Pokemon Red/Pokemon Blue</td>\n",
       "      <td>GB</td>\n",
       "      <td>1996.0</td>\n",
       "      <td>Role-Playing</td>\n",
       "      <td>11.27</td>\n",
       "      <td>8.89</td>\n",
       "      <td>10.22</td>\n",
       "      <td>1.00</td>\n",
       "      <td>NaN</td>\n",
       "      <td>NaN</td>\n",
       "      <td>NaN</td>\n",
       "    </tr>\n",
       "    <tr>\n",
       "      <th>5</th>\n",
       "      <td>Tetris</td>\n",
       "      <td>GB</td>\n",
       "      <td>1989.0</td>\n",
       "      <td>Puzzle</td>\n",
       "      <td>23.20</td>\n",
       "      <td>2.26</td>\n",
       "      <td>4.22</td>\n",
       "      <td>0.58</td>\n",
       "      <td>NaN</td>\n",
       "      <td>NaN</td>\n",
       "      <td>NaN</td>\n",
       "    </tr>\n",
       "    <tr>\n",
       "      <th>6</th>\n",
       "      <td>New Super Mario Bros.</td>\n",
       "      <td>DS</td>\n",
       "      <td>2006.0</td>\n",
       "      <td>Platform</td>\n",
       "      <td>11.28</td>\n",
       "      <td>9.14</td>\n",
       "      <td>6.50</td>\n",
       "      <td>2.88</td>\n",
       "      <td>89.0</td>\n",
       "      <td>8.5</td>\n",
       "      <td>E</td>\n",
       "    </tr>\n",
       "    <tr>\n",
       "      <th>7</th>\n",
       "      <td>Wii Play</td>\n",
       "      <td>Wii</td>\n",
       "      <td>2006.0</td>\n",
       "      <td>Misc</td>\n",
       "      <td>13.96</td>\n",
       "      <td>9.18</td>\n",
       "      <td>2.93</td>\n",
       "      <td>2.84</td>\n",
       "      <td>58.0</td>\n",
       "      <td>6.6</td>\n",
       "      <td>E</td>\n",
       "    </tr>\n",
       "    <tr>\n",
       "      <th>8</th>\n",
       "      <td>New Super Mario Bros. Wii</td>\n",
       "      <td>Wii</td>\n",
       "      <td>2009.0</td>\n",
       "      <td>Platform</td>\n",
       "      <td>14.44</td>\n",
       "      <td>6.94</td>\n",
       "      <td>4.70</td>\n",
       "      <td>2.24</td>\n",
       "      <td>87.0</td>\n",
       "      <td>8.4</td>\n",
       "      <td>E</td>\n",
       "    </tr>\n",
       "    <tr>\n",
       "      <th>9</th>\n",
       "      <td>Duck Hunt</td>\n",
       "      <td>NES</td>\n",
       "      <td>1984.0</td>\n",
       "      <td>Shooter</td>\n",
       "      <td>26.93</td>\n",
       "      <td>0.63</td>\n",
       "      <td>0.28</td>\n",
       "      <td>0.47</td>\n",
       "      <td>NaN</td>\n",
       "      <td>NaN</td>\n",
       "      <td>NaN</td>\n",
       "    </tr>\n",
       "  </tbody>\n",
       "</table>\n",
       "</div>"
      ],
      "text/plain": [
       "                        Name Platform  Year_of_Release         Genre  \\\n",
       "0                 Wii Sports      Wii           2006.0        Sports   \n",
       "1          Super Mario Bros.      NES           1985.0      Platform   \n",
       "2             Mario Kart Wii      Wii           2008.0        Racing   \n",
       "3          Wii Sports Resort      Wii           2009.0        Sports   \n",
       "4   Pokemon Red/Pokemon Blue       GB           1996.0  Role-Playing   \n",
       "5                     Tetris       GB           1989.0        Puzzle   \n",
       "6      New Super Mario Bros.       DS           2006.0      Platform   \n",
       "7                   Wii Play      Wii           2006.0          Misc   \n",
       "8  New Super Mario Bros. Wii      Wii           2009.0      Platform   \n",
       "9                  Duck Hunt      NES           1984.0       Shooter   \n",
       "\n",
       "   NA_sales  EU_sales  JP_sales  Other_sales  Critic_Score User_Score Rating  \n",
       "0     41.36     28.96      3.77         8.45          76.0          8      E  \n",
       "1     29.08      3.58      6.81         0.77           NaN        NaN    NaN  \n",
       "2     15.68     12.76      3.79         3.29          82.0        8.3      E  \n",
       "3     15.61     10.93      3.28         2.95          80.0          8      E  \n",
       "4     11.27      8.89     10.22         1.00           NaN        NaN    NaN  \n",
       "5     23.20      2.26      4.22         0.58           NaN        NaN    NaN  \n",
       "6     11.28      9.14      6.50         2.88          89.0        8.5      E  \n",
       "7     13.96      9.18      2.93         2.84          58.0        6.6      E  \n",
       "8     14.44      6.94      4.70         2.24          87.0        8.4      E  \n",
       "9     26.93      0.63      0.28         0.47           NaN        NaN    NaN  "
      ]
     },
     "execution_count": 4,
     "metadata": {},
     "output_type": "execute_result"
    }
   ],
   "source": [
    "# выведем первые 10 строк датафрейма с информацией о играх\n",
    "data_games.head(10)"
   ]
  },
  {
   "cell_type": "code",
   "execution_count": 5,
   "id": "6beaecf2-d0f5-4f4b-bff7-904bf6293f2e",
   "metadata": {},
   "outputs": [
    {
     "data": {
      "text/plain": [
       "Name                  2\n",
       "Platform              0\n",
       "Year_of_Release     269\n",
       "Genre                 2\n",
       "NA_sales              0\n",
       "EU_sales              0\n",
       "JP_sales              0\n",
       "Other_sales           0\n",
       "Critic_Score       8578\n",
       "User_Score         6701\n",
       "Rating             6766\n",
       "dtype: int64"
      ]
     },
     "execution_count": 5,
     "metadata": {},
     "output_type": "execute_result"
    }
   ],
   "source": [
    "# посмотрим наличие и количество пропусков в данных\n",
    "data_games.isna().sum()"
   ]
  },
  {
   "cell_type": "markdown",
   "id": "e24c71a0-280f-47ba-a2c4-7022e74339d2",
   "metadata": {},
   "source": [
    "Выведем уникальные значения столбцов. "
   ]
  },
  {
   "cell_type": "code",
   "execution_count": 6,
   "id": "46dc167f-3652-4a17-900f-f17836bcaf9b",
   "metadata": {},
   "outputs": [
    {
     "data": {
      "text/html": [
       "<div>\n",
       "<style scoped>\n",
       "    .dataframe tbody tr th:only-of-type {\n",
       "        vertical-align: middle;\n",
       "    }\n",
       "\n",
       "    .dataframe tbody tr th {\n",
       "        vertical-align: top;\n",
       "    }\n",
       "\n",
       "    .dataframe thead th {\n",
       "        text-align: right;\n",
       "    }\n",
       "</style>\n",
       "<table border=\"1\" class=\"dataframe\">\n",
       "  <thead>\n",
       "    <tr style=\"text-align: right;\">\n",
       "      <th></th>\n",
       "      <th>Уникальные значения столбцов</th>\n",
       "    </tr>\n",
       "  </thead>\n",
       "  <tbody>\n",
       "    <tr>\n",
       "      <th>Name</th>\n",
       "      <td>[Wii Sports, Super Mario Bros., Mario Kart Wii, Wii Sports Resort, Pokemon Red/Pokemon Blue, Tetris, New Super Mario Bros., Wii Play, New Super Mario Bros. Wii, Duck Hunt, Nintendogs, Mario Kart D...</td>\n",
       "    </tr>\n",
       "    <tr>\n",
       "      <th>Platform</th>\n",
       "      <td>[Wii, NES, GB, DS, X360, PS3, PS2, SNES, GBA, PS4, 3DS, N64, PS, XB, PC, 2600, PSP, XOne, WiiU, GC, GEN, DC, PSV, SAT, SCD, WS, NG, TG16, 3DO, GG, PCFX]</td>\n",
       "    </tr>\n",
       "    <tr>\n",
       "      <th>Year_of_Release</th>\n",
       "      <td>[2006.0, 1985.0, 2008.0, 2009.0, 1996.0, 1989.0, 1984.0, 2005.0, 1999.0, 2007.0, 2010.0, 2013.0, 2004.0, 1990.0, 1988.0, 2002.0, 2001.0, 2011.0, 1998.0, 2015.0, 2012.0, 2014.0, 1992.0, 1997.0, 199...</td>\n",
       "    </tr>\n",
       "    <tr>\n",
       "      <th>Genre</th>\n",
       "      <td>[Sports, Platform, Racing, Role-Playing, Puzzle, Misc, Shooter, Simulation, Action, Fighting, Adventure, Strategy, nan]</td>\n",
       "    </tr>\n",
       "    <tr>\n",
       "      <th>NA_sales</th>\n",
       "      <td>[41.36, 29.08, 15.68, 15.61, 11.27, 23.2, 11.28, 13.96, 14.44, 26.93, 9.05, 9.71, 9.0, 8.92, 15.0, 9.01, 7.02, 9.43, 12.78, 4.74, 6.38, 10.83, 9.54, 9.66, 8.41, 6.06, 3.43, 5.51, 6.85, 9.04, 5.89,...</td>\n",
       "    </tr>\n",
       "    <tr>\n",
       "      <th>EU_sales</th>\n",
       "      <td>[28.96, 3.58, 12.76, 10.93, 8.89, 2.26, 9.14, 9.18, 6.94, 0.63, 10.95, 7.47, 6.18, 8.03, 4.89, 8.49, 9.09, 0.4, 3.75, 9.2, 4.46, 2.71, 3.44, 5.14, 5.49, 3.9, 5.35, 3.17, 5.09, 4.24, 5.04, 5.86, 3....</td>\n",
       "    </tr>\n",
       "    <tr>\n",
       "      <th>JP_sales</th>\n",
       "      <td>[3.77, 6.81, 3.79, 3.28, 10.22, 4.22, 6.5, 2.93, 4.7, 0.28, 1.93, 4.13, 7.2, 3.6, 0.24, 2.53, 0.98, 0.41, 3.54, 4.16, 6.04, 4.18, 3.84, 0.06, 0.47, 5.38, 5.32, 5.65, 1.87, 0.13, 3.12, 0.36, 0.11, ...</td>\n",
       "    </tr>\n",
       "    <tr>\n",
       "      <th>Other_sales</th>\n",
       "      <td>[8.45, 0.77, 3.29, 2.95, 1.0, 0.58, 2.88, 2.84, 2.24, 0.47, 2.74, 1.9, 0.71, 2.15, 1.69, 1.77, 3.96, 10.57, 0.55, 2.04, 1.36, 0.42, 0.46, 1.41, 1.78, 0.5, 1.18, 0.8, 1.16, 1.32, 0.59, 2.38, 1.13, ...</td>\n",
       "    </tr>\n",
       "    <tr>\n",
       "      <th>Critic_Score</th>\n",
       "      <td>[76.0, nan, 82.0, 80.0, 89.0, 58.0, 87.0, 91.0, 61.0, 97.0, 95.0, 77.0, 88.0, 83.0, 94.0, 93.0, 85.0, 86.0, 98.0, 96.0, 90.0, 84.0, 73.0, 74.0, 78.0, 92.0, 71.0, 72.0, 68.0, 62.0, 49.0, 67.0, 81.0...</td>\n",
       "    </tr>\n",
       "    <tr>\n",
       "      <th>User_Score</th>\n",
       "      <td>[8, nan, 8.3, 8.5, 6.6, 8.4, 8.6, 7.7, 6.3, 7.4, 8.2, 9, 7.9, 8.1, 8.7, 7.1, 3.4, 5.3, 4.8, 3.2, 8.9, 6.4, 7.8, 7.5, 2.6, 7.2, 9.2, 7, 7.3, 4.3, 7.6, 5.7, 5, 9.1, 6.5, tbd, 8.8, 6.9, 9.4, 6.8, 6.1...</td>\n",
       "    </tr>\n",
       "    <tr>\n",
       "      <th>Rating</th>\n",
       "      <td>[E, nan, M, T, E10+, K-A, AO, EC, RP]</td>\n",
       "    </tr>\n",
       "  </tbody>\n",
       "</table>\n",
       "</div>"
      ],
      "text/plain": [
       "                                                                                                                                                                                            Уникальные значения столбцов\n",
       "Name             [Wii Sports, Super Mario Bros., Mario Kart Wii, Wii Sports Resort, Pokemon Red/Pokemon Blue, Tetris, New Super Mario Bros., Wii Play, New Super Mario Bros. Wii, Duck Hunt, Nintendogs, Mario Kart D...\n",
       "Platform                                                        [Wii, NES, GB, DS, X360, PS3, PS2, SNES, GBA, PS4, 3DS, N64, PS, XB, PC, 2600, PSP, XOne, WiiU, GC, GEN, DC, PSV, SAT, SCD, WS, NG, TG16, 3DO, GG, PCFX]\n",
       "Year_of_Release  [2006.0, 1985.0, 2008.0, 2009.0, 1996.0, 1989.0, 1984.0, 2005.0, 1999.0, 2007.0, 2010.0, 2013.0, 2004.0, 1990.0, 1988.0, 2002.0, 2001.0, 2011.0, 1998.0, 2015.0, 2012.0, 2014.0, 1992.0, 1997.0, 199...\n",
       "Genre                                                                                            [Sports, Platform, Racing, Role-Playing, Puzzle, Misc, Shooter, Simulation, Action, Fighting, Adventure, Strategy, nan]\n",
       "NA_sales         [41.36, 29.08, 15.68, 15.61, 11.27, 23.2, 11.28, 13.96, 14.44, 26.93, 9.05, 9.71, 9.0, 8.92, 15.0, 9.01, 7.02, 9.43, 12.78, 4.74, 6.38, 10.83, 9.54, 9.66, 8.41, 6.06, 3.43, 5.51, 6.85, 9.04, 5.89,...\n",
       "EU_sales         [28.96, 3.58, 12.76, 10.93, 8.89, 2.26, 9.14, 9.18, 6.94, 0.63, 10.95, 7.47, 6.18, 8.03, 4.89, 8.49, 9.09, 0.4, 3.75, 9.2, 4.46, 2.71, 3.44, 5.14, 5.49, 3.9, 5.35, 3.17, 5.09, 4.24, 5.04, 5.86, 3....\n",
       "JP_sales         [3.77, 6.81, 3.79, 3.28, 10.22, 4.22, 6.5, 2.93, 4.7, 0.28, 1.93, 4.13, 7.2, 3.6, 0.24, 2.53, 0.98, 0.41, 3.54, 4.16, 6.04, 4.18, 3.84, 0.06, 0.47, 5.38, 5.32, 5.65, 1.87, 0.13, 3.12, 0.36, 0.11, ...\n",
       "Other_sales      [8.45, 0.77, 3.29, 2.95, 1.0, 0.58, 2.88, 2.84, 2.24, 0.47, 2.74, 1.9, 0.71, 2.15, 1.69, 1.77, 3.96, 10.57, 0.55, 2.04, 1.36, 0.42, 0.46, 1.41, 1.78, 0.5, 1.18, 0.8, 1.16, 1.32, 0.59, 2.38, 1.13, ...\n",
       "Critic_Score     [76.0, nan, 82.0, 80.0, 89.0, 58.0, 87.0, 91.0, 61.0, 97.0, 95.0, 77.0, 88.0, 83.0, 94.0, 93.0, 85.0, 86.0, 98.0, 96.0, 90.0, 84.0, 73.0, 74.0, 78.0, 92.0, 71.0, 72.0, 68.0, 62.0, 49.0, 67.0, 81.0...\n",
       "User_Score       [8, nan, 8.3, 8.5, 6.6, 8.4, 8.6, 7.7, 6.3, 7.4, 8.2, 9, 7.9, 8.1, 8.7, 7.1, 3.4, 5.3, 4.8, 3.2, 8.9, 6.4, 7.8, 7.5, 2.6, 7.2, 9.2, 7, 7.3, 4.3, 7.6, 5.7, 5, 9.1, 6.5, tbd, 8.8, 6.9, 9.4, 6.8, 6.1...\n",
       "Rating                                                                                                                                                                             [E, nan, M, T, E10+, K-A, AO, EC, RP]"
      ]
     },
     "execution_count": 6,
     "metadata": {},
     "output_type": "execute_result"
    }
   ],
   "source": [
    "pd.set_option('max_colwidth', 200)\n",
    "pd.DataFrame(data_games.apply(pd.unique)).rename(columns={0:'Уникальные значения столбцов'})"
   ]
  },
  {
   "cell_type": "markdown",
   "id": "268be160-6cb9-4899-b2d9-570169280529",
   "metadata": {},
   "source": [
    "### Вывод:\n",
    "\n",
    "По результату вывода информации о датафрейме видим, что присутствуют пропуски.\\\n",
    "Наименование столбцов необходимо привести к нижниму регистру.\n",
    "\n",
    "Столбец 'Year_of_Release' содержит год издания игры, соответственно год - целое число. Столбец необходимо привести к целочисленному типу - int.\\\n",
    "Судя по данным в столбце 'Critic_Score' содержатся только целые числа, так же приведем его к целочисленному типу - int.\\\n",
    "Столбец 'User_Score' содержит оценку пользователей, необходимо приветсти к вещественному типу данных - float.\n",
    "\n",
    "В столбце User_Score помимо пропусков присутствует значение 'tbd' ('to be determined' - 'будет определено'), означающее, что оценка игры на момент занесения в БД отсутствовала.\n",
    "\n",
    "Значительное количество пропусков в столбцах 'year_of_release', 'critic_score', 'user_score', 'rating'. Изучим их поподробнее."
   ]
  },
  {
   "cell_type": "markdown",
   "id": "03794040-e378-4663-8387-96e86b206be7",
   "metadata": {},
   "source": [
    "# 2. Предобработка данных"
   ]
  },
  {
   "cell_type": "markdown",
   "id": "5b9bc8b7-5748-4452-87e4-3de1cf493615",
   "metadata": {},
   "source": [
    "## 2.1 Приведем названия столбцов к нижнему регистру."
   ]
  },
  {
   "cell_type": "code",
   "execution_count": 7,
   "id": "330888b7-9412-4845-8e72-92afc9a40f05",
   "metadata": {},
   "outputs": [
    {
     "data": {
      "text/html": [
       "<div>\n",
       "<style scoped>\n",
       "    .dataframe tbody tr th:only-of-type {\n",
       "        vertical-align: middle;\n",
       "    }\n",
       "\n",
       "    .dataframe tbody tr th {\n",
       "        vertical-align: top;\n",
       "    }\n",
       "\n",
       "    .dataframe thead th {\n",
       "        text-align: right;\n",
       "    }\n",
       "</style>\n",
       "<table border=\"1\" class=\"dataframe\">\n",
       "  <thead>\n",
       "    <tr style=\"text-align: right;\">\n",
       "      <th></th>\n",
       "      <th>name</th>\n",
       "      <th>platform</th>\n",
       "      <th>year_of_release</th>\n",
       "      <th>genre</th>\n",
       "      <th>na_sales</th>\n",
       "      <th>eu_sales</th>\n",
       "      <th>jp_sales</th>\n",
       "      <th>other_sales</th>\n",
       "      <th>critic_score</th>\n",
       "      <th>user_score</th>\n",
       "      <th>rating</th>\n",
       "    </tr>\n",
       "  </thead>\n",
       "  <tbody>\n",
       "    <tr>\n",
       "      <th>0</th>\n",
       "      <td>Wii Sports</td>\n",
       "      <td>Wii</td>\n",
       "      <td>2006.0</td>\n",
       "      <td>Sports</td>\n",
       "      <td>41.36</td>\n",
       "      <td>28.96</td>\n",
       "      <td>3.77</td>\n",
       "      <td>8.45</td>\n",
       "      <td>76.0</td>\n",
       "      <td>8</td>\n",
       "      <td>E</td>\n",
       "    </tr>\n",
       "    <tr>\n",
       "      <th>1</th>\n",
       "      <td>Super Mario Bros.</td>\n",
       "      <td>NES</td>\n",
       "      <td>1985.0</td>\n",
       "      <td>Platform</td>\n",
       "      <td>29.08</td>\n",
       "      <td>3.58</td>\n",
       "      <td>6.81</td>\n",
       "      <td>0.77</td>\n",
       "      <td>NaN</td>\n",
       "      <td>NaN</td>\n",
       "      <td>NaN</td>\n",
       "    </tr>\n",
       "    <tr>\n",
       "      <th>2</th>\n",
       "      <td>Mario Kart Wii</td>\n",
       "      <td>Wii</td>\n",
       "      <td>2008.0</td>\n",
       "      <td>Racing</td>\n",
       "      <td>15.68</td>\n",
       "      <td>12.76</td>\n",
       "      <td>3.79</td>\n",
       "      <td>3.29</td>\n",
       "      <td>82.0</td>\n",
       "      <td>8.3</td>\n",
       "      <td>E</td>\n",
       "    </tr>\n",
       "    <tr>\n",
       "      <th>3</th>\n",
       "      <td>Wii Sports Resort</td>\n",
       "      <td>Wii</td>\n",
       "      <td>2009.0</td>\n",
       "      <td>Sports</td>\n",
       "      <td>15.61</td>\n",
       "      <td>10.93</td>\n",
       "      <td>3.28</td>\n",
       "      <td>2.95</td>\n",
       "      <td>80.0</td>\n",
       "      <td>8</td>\n",
       "      <td>E</td>\n",
       "    </tr>\n",
       "    <tr>\n",
       "      <th>4</th>\n",
       "      <td>Pokemon Red/Pokemon Blue</td>\n",
       "      <td>GB</td>\n",
       "      <td>1996.0</td>\n",
       "      <td>Role-Playing</td>\n",
       "      <td>11.27</td>\n",
       "      <td>8.89</td>\n",
       "      <td>10.22</td>\n",
       "      <td>1.00</td>\n",
       "      <td>NaN</td>\n",
       "      <td>NaN</td>\n",
       "      <td>NaN</td>\n",
       "    </tr>\n",
       "    <tr>\n",
       "      <th>...</th>\n",
       "      <td>...</td>\n",
       "      <td>...</td>\n",
       "      <td>...</td>\n",
       "      <td>...</td>\n",
       "      <td>...</td>\n",
       "      <td>...</td>\n",
       "      <td>...</td>\n",
       "      <td>...</td>\n",
       "      <td>...</td>\n",
       "      <td>...</td>\n",
       "      <td>...</td>\n",
       "    </tr>\n",
       "    <tr>\n",
       "      <th>16710</th>\n",
       "      <td>Samurai Warriors: Sanada Maru</td>\n",
       "      <td>PS3</td>\n",
       "      <td>2016.0</td>\n",
       "      <td>Action</td>\n",
       "      <td>0.00</td>\n",
       "      <td>0.00</td>\n",
       "      <td>0.01</td>\n",
       "      <td>0.00</td>\n",
       "      <td>NaN</td>\n",
       "      <td>NaN</td>\n",
       "      <td>NaN</td>\n",
       "    </tr>\n",
       "    <tr>\n",
       "      <th>16711</th>\n",
       "      <td>LMA Manager 2007</td>\n",
       "      <td>X360</td>\n",
       "      <td>2006.0</td>\n",
       "      <td>Sports</td>\n",
       "      <td>0.00</td>\n",
       "      <td>0.01</td>\n",
       "      <td>0.00</td>\n",
       "      <td>0.00</td>\n",
       "      <td>NaN</td>\n",
       "      <td>NaN</td>\n",
       "      <td>NaN</td>\n",
       "    </tr>\n",
       "    <tr>\n",
       "      <th>16712</th>\n",
       "      <td>Haitaka no Psychedelica</td>\n",
       "      <td>PSV</td>\n",
       "      <td>2016.0</td>\n",
       "      <td>Adventure</td>\n",
       "      <td>0.00</td>\n",
       "      <td>0.00</td>\n",
       "      <td>0.01</td>\n",
       "      <td>0.00</td>\n",
       "      <td>NaN</td>\n",
       "      <td>NaN</td>\n",
       "      <td>NaN</td>\n",
       "    </tr>\n",
       "    <tr>\n",
       "      <th>16713</th>\n",
       "      <td>Spirits &amp; Spells</td>\n",
       "      <td>GBA</td>\n",
       "      <td>2003.0</td>\n",
       "      <td>Platform</td>\n",
       "      <td>0.01</td>\n",
       "      <td>0.00</td>\n",
       "      <td>0.00</td>\n",
       "      <td>0.00</td>\n",
       "      <td>NaN</td>\n",
       "      <td>NaN</td>\n",
       "      <td>NaN</td>\n",
       "    </tr>\n",
       "    <tr>\n",
       "      <th>16714</th>\n",
       "      <td>Winning Post 8 2016</td>\n",
       "      <td>PSV</td>\n",
       "      <td>2016.0</td>\n",
       "      <td>Simulation</td>\n",
       "      <td>0.00</td>\n",
       "      <td>0.00</td>\n",
       "      <td>0.01</td>\n",
       "      <td>0.00</td>\n",
       "      <td>NaN</td>\n",
       "      <td>NaN</td>\n",
       "      <td>NaN</td>\n",
       "    </tr>\n",
       "  </tbody>\n",
       "</table>\n",
       "<p>16715 rows × 11 columns</p>\n",
       "</div>"
      ],
      "text/plain": [
       "                                name platform  year_of_release         genre  \\\n",
       "0                         Wii Sports      Wii           2006.0        Sports   \n",
       "1                  Super Mario Bros.      NES           1985.0      Platform   \n",
       "2                     Mario Kart Wii      Wii           2008.0        Racing   \n",
       "3                  Wii Sports Resort      Wii           2009.0        Sports   \n",
       "4           Pokemon Red/Pokemon Blue       GB           1996.0  Role-Playing   \n",
       "...                              ...      ...              ...           ...   \n",
       "16710  Samurai Warriors: Sanada Maru      PS3           2016.0        Action   \n",
       "16711               LMA Manager 2007     X360           2006.0        Sports   \n",
       "16712        Haitaka no Psychedelica      PSV           2016.0     Adventure   \n",
       "16713               Spirits & Spells      GBA           2003.0      Platform   \n",
       "16714            Winning Post 8 2016      PSV           2016.0    Simulation   \n",
       "\n",
       "       na_sales  eu_sales  jp_sales  other_sales  critic_score user_score  \\\n",
       "0         41.36     28.96      3.77         8.45          76.0          8   \n",
       "1         29.08      3.58      6.81         0.77           NaN        NaN   \n",
       "2         15.68     12.76      3.79         3.29          82.0        8.3   \n",
       "3         15.61     10.93      3.28         2.95          80.0          8   \n",
       "4         11.27      8.89     10.22         1.00           NaN        NaN   \n",
       "...         ...       ...       ...          ...           ...        ...   \n",
       "16710      0.00      0.00      0.01         0.00           NaN        NaN   \n",
       "16711      0.00      0.01      0.00         0.00           NaN        NaN   \n",
       "16712      0.00      0.00      0.01         0.00           NaN        NaN   \n",
       "16713      0.01      0.00      0.00         0.00           NaN        NaN   \n",
       "16714      0.00      0.00      0.01         0.00           NaN        NaN   \n",
       "\n",
       "      rating  \n",
       "0          E  \n",
       "1        NaN  \n",
       "2          E  \n",
       "3          E  \n",
       "4        NaN  \n",
       "...      ...  \n",
       "16710    NaN  \n",
       "16711    NaN  \n",
       "16712    NaN  \n",
       "16713    NaN  \n",
       "16714    NaN  \n",
       "\n",
       "[16715 rows x 11 columns]"
      ]
     },
     "execution_count": 7,
     "metadata": {},
     "output_type": "execute_result"
    }
   ],
   "source": [
    "columns_lower = [column.lower() for column in data_games.columns]\n",
    "data_games.columns = columns_lower\n",
    "data_games"
   ]
  },
  {
   "cell_type": "markdown",
   "id": "0edd98f1-cf68-44dc-b483-ba6e15291f01",
   "metadata": {},
   "source": [
    "## 2.2 Обработка пропусков."
   ]
  },
  {
   "cell_type": "code",
   "execution_count": 8,
   "id": "3f9afafd-1a78-4a57-8985-5587e5b60b94",
   "metadata": {},
   "outputs": [
    {
     "data": {
      "text/html": [
       "<style  type=\"text/css\" >\n",
       "#T_3cd44_row0_col0,#T_3cd44_row1_col0,#T_3cd44_row3_col0,#T_3cd44_row4_col0,#T_3cd44_row5_col0,#T_3cd44_row6_col0,#T_3cd44_row7_col0{\n",
       "            background-color:  #3b4cc0;\n",
       "            color:  #f1f1f1;\n",
       "        }#T_3cd44_row2_col0{\n",
       "            background-color:  #465ecf;\n",
       "            color:  #f1f1f1;\n",
       "        }#T_3cd44_row8_col0{\n",
       "            background-color:  #b40426;\n",
       "            color:  #f1f1f1;\n",
       "        }#T_3cd44_row9_col0,#T_3cd44_row10_col0{\n",
       "            background-color:  #f08b6e;\n",
       "            color:  #000000;\n",
       "        }</style><table id=\"T_3cd44_\" ><thead>    <tr>        <th class=\"blank level0\" ></th>        <th class=\"col_heading level0 col0\" >0</th>    </tr></thead><tbody>\n",
       "                <tr>\n",
       "                        <th id=\"T_3cd44_level0_row0\" class=\"row_heading level0 row0\" >name</th>\n",
       "                        <td id=\"T_3cd44_row0_col0\" class=\"data row0 col0\" >0.000000</td>\n",
       "            </tr>\n",
       "            <tr>\n",
       "                        <th id=\"T_3cd44_level0_row1\" class=\"row_heading level0 row1\" >platform</th>\n",
       "                        <td id=\"T_3cd44_row1_col0\" class=\"data row1 col0\" >0.000000</td>\n",
       "            </tr>\n",
       "            <tr>\n",
       "                        <th id=\"T_3cd44_level0_row2\" class=\"row_heading level0 row2\" >year_of_release</th>\n",
       "                        <td id=\"T_3cd44_row2_col0\" class=\"data row2 col0\" >2.000000</td>\n",
       "            </tr>\n",
       "            <tr>\n",
       "                        <th id=\"T_3cd44_level0_row3\" class=\"row_heading level0 row3\" >genre</th>\n",
       "                        <td id=\"T_3cd44_row3_col0\" class=\"data row3 col0\" >0.000000</td>\n",
       "            </tr>\n",
       "            <tr>\n",
       "                        <th id=\"T_3cd44_level0_row4\" class=\"row_heading level0 row4\" >na_sales</th>\n",
       "                        <td id=\"T_3cd44_row4_col0\" class=\"data row4 col0\" >0.000000</td>\n",
       "            </tr>\n",
       "            <tr>\n",
       "                        <th id=\"T_3cd44_level0_row5\" class=\"row_heading level0 row5\" >eu_sales</th>\n",
       "                        <td id=\"T_3cd44_row5_col0\" class=\"data row5 col0\" >0.000000</td>\n",
       "            </tr>\n",
       "            <tr>\n",
       "                        <th id=\"T_3cd44_level0_row6\" class=\"row_heading level0 row6\" >jp_sales</th>\n",
       "                        <td id=\"T_3cd44_row6_col0\" class=\"data row6 col0\" >0.000000</td>\n",
       "            </tr>\n",
       "            <tr>\n",
       "                        <th id=\"T_3cd44_level0_row7\" class=\"row_heading level0 row7\" >other_sales</th>\n",
       "                        <td id=\"T_3cd44_row7_col0\" class=\"data row7 col0\" >0.000000</td>\n",
       "            </tr>\n",
       "            <tr>\n",
       "                        <th id=\"T_3cd44_level0_row8\" class=\"row_heading level0 row8\" >critic_score</th>\n",
       "                        <td id=\"T_3cd44_row8_col0\" class=\"data row8 col0\" >51.000000</td>\n",
       "            </tr>\n",
       "            <tr>\n",
       "                        <th id=\"T_3cd44_level0_row9\" class=\"row_heading level0 row9\" >user_score</th>\n",
       "                        <td id=\"T_3cd44_row9_col0\" class=\"data row9 col0\" >40.000000</td>\n",
       "            </tr>\n",
       "            <tr>\n",
       "                        <th id=\"T_3cd44_level0_row10\" class=\"row_heading level0 row10\" >rating</th>\n",
       "                        <td id=\"T_3cd44_row10_col0\" class=\"data row10 col0\" >40.000000</td>\n",
       "            </tr>\n",
       "    </tbody></table>"
      ],
      "text/plain": [
       "<pandas.io.formats.style.Styler at 0x7f87bc3f2430>"
      ]
     },
     "execution_count": 8,
     "metadata": {},
     "output_type": "execute_result"
    }
   ],
   "source": [
    "# построим тепловую карту пропусков\n",
    "pd.DataFrame(round(data_games.isna().mean()*100,)).style.background_gradient('coolwarm')"
   ]
  },
  {
   "cell_type": "markdown",
   "id": "0a83e2db-f347-475b-a522-a997d5ee1419",
   "metadata": {},
   "source": [
    "По результату видим, что пропуски имеются в большей части столбцов: 'name', 'year_of_release', 'genre', 'critic_score', 'user_score', 'rating'.\n",
    "\n",
    "Пропуски в столбце 'name' вероятно связаны с ошибками в процессе заполнения данных, в столбце 'genre' возможно с тем, что жанр данных игр трудно определить. Информацию о пропущенных значениях в данных стобцах попробуем найти на просторах интернета, так как их всего по два в каждом, но прежде найдем данные строки и оценим остальную информацию в них.\n",
    "\n",
    "Пропуски в столбцах 'critic_score', 'user_score', 'rating': рейтинг и оценки критиков являются уникальными данными, присваиваемые каждой игре индивидуально. Такие данные невозможно восстановить с учетом их количества.\n"
   ]
  },
  {
   "cell_type": "markdown",
   "id": "7aff2a11-448d-4a4b-bb8a-b466ef547c57",
   "metadata": {},
   "source": [
    "### 2.2.1 Пропуски столбцов 'name' и 'genre'."
   ]
  },
  {
   "cell_type": "code",
   "execution_count": 9,
   "id": "eba7ccac-85de-43d7-80d7-b0db32f9b87d",
   "metadata": {},
   "outputs": [
    {
     "data": {
      "text/html": [
       "<div>\n",
       "<style scoped>\n",
       "    .dataframe tbody tr th:only-of-type {\n",
       "        vertical-align: middle;\n",
       "    }\n",
       "\n",
       "    .dataframe tbody tr th {\n",
       "        vertical-align: top;\n",
       "    }\n",
       "\n",
       "    .dataframe thead th {\n",
       "        text-align: right;\n",
       "    }\n",
       "</style>\n",
       "<table border=\"1\" class=\"dataframe\">\n",
       "  <thead>\n",
       "    <tr style=\"text-align: right;\">\n",
       "      <th></th>\n",
       "      <th>name</th>\n",
       "      <th>platform</th>\n",
       "      <th>year_of_release</th>\n",
       "      <th>genre</th>\n",
       "      <th>na_sales</th>\n",
       "      <th>eu_sales</th>\n",
       "      <th>jp_sales</th>\n",
       "      <th>other_sales</th>\n",
       "      <th>critic_score</th>\n",
       "      <th>user_score</th>\n",
       "      <th>rating</th>\n",
       "    </tr>\n",
       "  </thead>\n",
       "  <tbody>\n",
       "    <tr>\n",
       "      <th>659</th>\n",
       "      <td>NaN</td>\n",
       "      <td>GEN</td>\n",
       "      <td>1993.0</td>\n",
       "      <td>NaN</td>\n",
       "      <td>1.78</td>\n",
       "      <td>0.53</td>\n",
       "      <td>0.00</td>\n",
       "      <td>0.08</td>\n",
       "      <td>NaN</td>\n",
       "      <td>NaN</td>\n",
       "      <td>NaN</td>\n",
       "    </tr>\n",
       "    <tr>\n",
       "      <th>14244</th>\n",
       "      <td>NaN</td>\n",
       "      <td>GEN</td>\n",
       "      <td>1993.0</td>\n",
       "      <td>NaN</td>\n",
       "      <td>0.00</td>\n",
       "      <td>0.00</td>\n",
       "      <td>0.03</td>\n",
       "      <td>0.00</td>\n",
       "      <td>NaN</td>\n",
       "      <td>NaN</td>\n",
       "      <td>NaN</td>\n",
       "    </tr>\n",
       "  </tbody>\n",
       "</table>\n",
       "</div>"
      ],
      "text/plain": [
       "      name platform  year_of_release genre  na_sales  eu_sales  jp_sales  \\\n",
       "659    NaN      GEN           1993.0   NaN      1.78      0.53      0.00   \n",
       "14244  NaN      GEN           1993.0   NaN      0.00      0.00      0.03   \n",
       "\n",
       "       other_sales  critic_score user_score rating  \n",
       "659           0.08           NaN        NaN    NaN  \n",
       "14244         0.00           NaN        NaN    NaN  "
      ]
     },
     "execution_count": 9,
     "metadata": {},
     "output_type": "execute_result"
    }
   ],
   "source": [
    "# выведем строки с пропусками столбца 'name'\n",
    "data_games[data_games['name'].isna()]"
   ]
  },
  {
   "cell_type": "markdown",
   "id": "8fccba47-d857-4720-95ea-2f554ef29527",
   "metadata": {},
   "source": [
    "Найденные строки так же имеют пропуски в столбце 'genre', именно их мы и увидели ранее.\n",
    "Учитывая тот факт, что в строках пропусков столбца 'name' и 'genre' отсутствует и остальная информация: 'critic_score', 'user_score', 'rating', найти информацию и заполнить пропуски не представляется возможным. Исключим данные строки из датафрейма."
   ]
  },
  {
   "cell_type": "code",
   "execution_count": 10,
   "id": "a4383ecc-e1bc-40fb-81a7-306d7776a55f",
   "metadata": {},
   "outputs": [
    {
     "data": {
      "text/plain": [
       "0"
      ]
     },
     "execution_count": 10,
     "metadata": {},
     "output_type": "execute_result"
    }
   ],
   "source": [
    "data_games = data_games.dropna(subset=['name']).reset_index(drop=True)\n",
    "# проверим\n",
    "data_games['name'].isna().sum()"
   ]
  },
  {
   "cell_type": "markdown",
   "id": "8629665b-dfe5-4245-9072-b16bb62eeee1",
   "metadata": {},
   "source": [
    "### 2.2.2 Пропуски столбца 'year_of_release'."
   ]
  },
  {
   "cell_type": "code",
   "execution_count": 11,
   "id": "6f1e8f4b-e8c2-452d-b296-aedcf18afc63",
   "metadata": {},
   "outputs": [
    {
     "data": {
      "text/html": [
       "<div>\n",
       "<style scoped>\n",
       "    .dataframe tbody tr th:only-of-type {\n",
       "        vertical-align: middle;\n",
       "    }\n",
       "\n",
       "    .dataframe tbody tr th {\n",
       "        vertical-align: top;\n",
       "    }\n",
       "\n",
       "    .dataframe thead th {\n",
       "        text-align: right;\n",
       "    }\n",
       "</style>\n",
       "<table border=\"1\" class=\"dataframe\">\n",
       "  <thead>\n",
       "    <tr style=\"text-align: right;\">\n",
       "      <th></th>\n",
       "      <th>name</th>\n",
       "      <th>platform</th>\n",
       "      <th>year_of_release</th>\n",
       "      <th>genre</th>\n",
       "      <th>na_sales</th>\n",
       "      <th>eu_sales</th>\n",
       "      <th>jp_sales</th>\n",
       "      <th>other_sales</th>\n",
       "      <th>critic_score</th>\n",
       "      <th>user_score</th>\n",
       "      <th>rating</th>\n",
       "    </tr>\n",
       "  </thead>\n",
       "  <tbody>\n",
       "    <tr>\n",
       "      <th>183</th>\n",
       "      <td>Madden NFL 2004</td>\n",
       "      <td>PS2</td>\n",
       "      <td>NaN</td>\n",
       "      <td>Sports</td>\n",
       "      <td>4.26</td>\n",
       "      <td>0.26</td>\n",
       "      <td>0.01</td>\n",
       "      <td>0.71</td>\n",
       "      <td>94.0</td>\n",
       "      <td>8.5</td>\n",
       "      <td>E</td>\n",
       "    </tr>\n",
       "    <tr>\n",
       "      <th>377</th>\n",
       "      <td>FIFA Soccer 2004</td>\n",
       "      <td>PS2</td>\n",
       "      <td>NaN</td>\n",
       "      <td>Sports</td>\n",
       "      <td>0.59</td>\n",
       "      <td>2.36</td>\n",
       "      <td>0.04</td>\n",
       "      <td>0.51</td>\n",
       "      <td>84.0</td>\n",
       "      <td>6.4</td>\n",
       "      <td>E</td>\n",
       "    </tr>\n",
       "    <tr>\n",
       "      <th>456</th>\n",
       "      <td>LEGO Batman: The Videogame</td>\n",
       "      <td>Wii</td>\n",
       "      <td>NaN</td>\n",
       "      <td>Action</td>\n",
       "      <td>1.80</td>\n",
       "      <td>0.97</td>\n",
       "      <td>0.00</td>\n",
       "      <td>0.29</td>\n",
       "      <td>74.0</td>\n",
       "      <td>7.9</td>\n",
       "      <td>E10+</td>\n",
       "    </tr>\n",
       "    <tr>\n",
       "      <th>475</th>\n",
       "      <td>wwe Smackdown vs. Raw 2006</td>\n",
       "      <td>PS2</td>\n",
       "      <td>NaN</td>\n",
       "      <td>Fighting</td>\n",
       "      <td>1.57</td>\n",
       "      <td>1.02</td>\n",
       "      <td>0.00</td>\n",
       "      <td>0.41</td>\n",
       "      <td>NaN</td>\n",
       "      <td>NaN</td>\n",
       "      <td>NaN</td>\n",
       "    </tr>\n",
       "    <tr>\n",
       "      <th>609</th>\n",
       "      <td>Space Invaders</td>\n",
       "      <td>2600</td>\n",
       "      <td>NaN</td>\n",
       "      <td>Shooter</td>\n",
       "      <td>2.36</td>\n",
       "      <td>0.14</td>\n",
       "      <td>0.00</td>\n",
       "      <td>0.03</td>\n",
       "      <td>NaN</td>\n",
       "      <td>NaN</td>\n",
       "      <td>NaN</td>\n",
       "    </tr>\n",
       "    <tr>\n",
       "      <th>627</th>\n",
       "      <td>Rock Band</td>\n",
       "      <td>X360</td>\n",
       "      <td>NaN</td>\n",
       "      <td>Misc</td>\n",
       "      <td>1.93</td>\n",
       "      <td>0.33</td>\n",
       "      <td>0.00</td>\n",
       "      <td>0.21</td>\n",
       "      <td>92.0</td>\n",
       "      <td>8.2</td>\n",
       "      <td>T</td>\n",
       "    </tr>\n",
       "    <tr>\n",
       "      <th>657</th>\n",
       "      <td>Frogger's Adventures: Temple of the Frog</td>\n",
       "      <td>GBA</td>\n",
       "      <td>NaN</td>\n",
       "      <td>Adventure</td>\n",
       "      <td>2.15</td>\n",
       "      <td>0.18</td>\n",
       "      <td>0.00</td>\n",
       "      <td>0.07</td>\n",
       "      <td>73.0</td>\n",
       "      <td>tbd</td>\n",
       "      <td>E</td>\n",
       "    </tr>\n",
       "    <tr>\n",
       "      <th>677</th>\n",
       "      <td>LEGO Indiana Jones: The Original Adventures</td>\n",
       "      <td>Wii</td>\n",
       "      <td>NaN</td>\n",
       "      <td>Action</td>\n",
       "      <td>1.51</td>\n",
       "      <td>0.61</td>\n",
       "      <td>0.00</td>\n",
       "      <td>0.21</td>\n",
       "      <td>78.0</td>\n",
       "      <td>6.6</td>\n",
       "      <td>E10+</td>\n",
       "    </tr>\n",
       "    <tr>\n",
       "      <th>718</th>\n",
       "      <td>Call of Duty 3</td>\n",
       "      <td>Wii</td>\n",
       "      <td>NaN</td>\n",
       "      <td>Shooter</td>\n",
       "      <td>1.17</td>\n",
       "      <td>0.84</td>\n",
       "      <td>0.00</td>\n",
       "      <td>0.23</td>\n",
       "      <td>69.0</td>\n",
       "      <td>6.7</td>\n",
       "      <td>T</td>\n",
       "    </tr>\n",
       "    <tr>\n",
       "      <th>804</th>\n",
       "      <td>Rock Band</td>\n",
       "      <td>Wii</td>\n",
       "      <td>NaN</td>\n",
       "      <td>Misc</td>\n",
       "      <td>1.33</td>\n",
       "      <td>0.56</td>\n",
       "      <td>0.00</td>\n",
       "      <td>0.20</td>\n",
       "      <td>80.0</td>\n",
       "      <td>6.3</td>\n",
       "      <td>T</td>\n",
       "    </tr>\n",
       "  </tbody>\n",
       "</table>\n",
       "</div>"
      ],
      "text/plain": [
       "                                            name platform  year_of_release  \\\n",
       "183                              Madden NFL 2004      PS2              NaN   \n",
       "377                             FIFA Soccer 2004      PS2              NaN   \n",
       "456                   LEGO Batman: The Videogame      Wii              NaN   \n",
       "475                   wwe Smackdown vs. Raw 2006      PS2              NaN   \n",
       "609                               Space Invaders     2600              NaN   \n",
       "627                                    Rock Band     X360              NaN   \n",
       "657     Frogger's Adventures: Temple of the Frog      GBA              NaN   \n",
       "677  LEGO Indiana Jones: The Original Adventures      Wii              NaN   \n",
       "718                               Call of Duty 3      Wii              NaN   \n",
       "804                                    Rock Band      Wii              NaN   \n",
       "\n",
       "         genre  na_sales  eu_sales  jp_sales  other_sales  critic_score  \\\n",
       "183     Sports      4.26      0.26      0.01         0.71          94.0   \n",
       "377     Sports      0.59      2.36      0.04         0.51          84.0   \n",
       "456     Action      1.80      0.97      0.00         0.29          74.0   \n",
       "475   Fighting      1.57      1.02      0.00         0.41           NaN   \n",
       "609    Shooter      2.36      0.14      0.00         0.03           NaN   \n",
       "627       Misc      1.93      0.33      0.00         0.21          92.0   \n",
       "657  Adventure      2.15      0.18      0.00         0.07          73.0   \n",
       "677     Action      1.51      0.61      0.00         0.21          78.0   \n",
       "718    Shooter      1.17      0.84      0.00         0.23          69.0   \n",
       "804       Misc      1.33      0.56      0.00         0.20          80.0   \n",
       "\n",
       "    user_score rating  \n",
       "183        8.5      E  \n",
       "377        6.4      E  \n",
       "456        7.9   E10+  \n",
       "475        NaN    NaN  \n",
       "609        NaN    NaN  \n",
       "627        8.2      T  \n",
       "657        tbd      E  \n",
       "677        6.6   E10+  \n",
       "718        6.7      T  \n",
       "804        6.3      T  "
      ]
     },
     "execution_count": 11,
     "metadata": {},
     "output_type": "execute_result"
    }
   ],
   "source": [
    "# выведем строки с пропусками столбца 'year_of_release'\n",
    "data_games[data_games['year_of_release'].isna()].head(10)"
   ]
  },
  {
   "cell_type": "markdown",
   "id": "5b7464b5-b496-42a1-b82b-0a697181b984",
   "metadata": {},
   "source": [
    "Можно обратить внимание, что в столбце названия спортивных игр часто встречается упоминание года или сезона, соответственно релиз игры происходит накануне года указанного в названии. Этим можно воспользоваться и заполнить пропуски столбца 'year_of_release', однако вариаций написания очень много: Madden NFL 11, MLB SlugFest 20-03, NASCAR Thunder 2003. В своём большинестве пропуски относятся к 'вымершим' платформам на 2006 год.\n",
    "\n",
    "К тому же пропусков менее 1%, а игры без года создания не нужны, отбросим их."
   ]
  },
  {
   "cell_type": "code",
   "execution_count": 12,
   "id": "f48109db-e0fb-4808-999a-6308c051e3ff",
   "metadata": {},
   "outputs": [
    {
     "data": {
      "text/plain": [
       "0"
      ]
     },
     "execution_count": 12,
     "metadata": {},
     "output_type": "execute_result"
    }
   ],
   "source": [
    "data_games = data_games.dropna(subset=['year_of_release']).reset_index(drop=True)\n",
    "# проверим\n",
    "data_games['year_of_release'].isna().sum()"
   ]
  },
  {
   "cell_type": "markdown",
   "id": "70efb824-5726-45ae-ac5a-20fa229dbd61",
   "metadata": {},
   "source": [
    "### 2.2.3 Пропуски столбца 'user_score'."
   ]
  },
  {
   "cell_type": "markdown",
   "id": "4f79ae2d-2039-4ec0-82cf-49b600356182",
   "metadata": {},
   "source": [
    "В столбце большое количество пропусков, так же некоторое количество оценок имеют значение 'tbd'. Заменим пропуски индикаторным значением -1. Таким образом и от пропусков избавимся и данные сохраним."
   ]
  },
  {
   "cell_type": "code",
   "execution_count": 13,
   "id": "d73cd7b9-f8d6-4048-83fa-b38354ac260f",
   "metadata": {},
   "outputs": [
    {
     "data": {
      "text/plain": [
       "array([-1. ,  0. ,  0.2,  0.3,  0.5,  0.6,  0.7,  0.9,  1. ,  1.1,  1.2,\n",
       "        1.3,  1.4,  1.5,  1.6,  1.7,  1.8,  1.9,  2. ,  2.1,  2.2,  2.3,\n",
       "        2.4,  2.5,  2.6,  2.7,  2.8,  2.9,  3. ,  3.1,  3.2,  3.3,  3.4,\n",
       "        3.5,  3.6,  3.7,  3.8,  3.9,  4. ,  4.1,  4.2,  4.3,  4.4,  4.5,\n",
       "        4.6,  4.7,  4.8,  4.9,  5. ,  5.1,  5.2,  5.3,  5.4,  5.5,  5.6,\n",
       "        5.7,  5.8,  5.9,  6. ,  6.1,  6.2,  6.3,  6.4,  6.5,  6.6,  6.7,\n",
       "        6.8,  6.9,  7. ,  7.1,  7.2,  7.3,  7.4,  7.5,  7.6,  7.7,  7.8,\n",
       "        7.9,  8. ,  8.1,  8.2,  8.3,  8.4,  8.5,  8.6,  8.7,  8.8,  8.9,\n",
       "        9. ,  9.1,  9.2,  9.3,  9.4,  9.5,  9.6,  9.7], dtype=float32)"
      ]
     },
     "execution_count": 13,
     "metadata": {},
     "output_type": "execute_result"
    }
   ],
   "source": [
    "# преобразуем тип данных перед внесением изменений\n",
    "data_games['user_score'] = pd.to_numeric(data_games['user_score'], downcast='float', errors ='coerce')\n",
    "# заменим значения на -1\n",
    "data_games.loc[(data_games['user_score'] == 'tbd') | (data_games['user_score'].isna()), 'user_score'] = -1\n",
    "# проверим результат\n",
    "data_games.user_score.sort_values().unique()"
   ]
  },
  {
   "cell_type": "markdown",
   "id": "55f9296e-8ecd-4b44-a68f-da02881e5b3c",
   "metadata": {},
   "source": [
    "### 2.2.4 Пропуски столбцов 'rating', 'critic_score'."
   ]
  },
  {
   "cell_type": "markdown",
   "id": "16418cab-690f-4eb1-a108-76c318917c82",
   "metadata": {},
   "source": [
    "Учитывая, что пропущенные значения оценок критиков и рейтингов ESRB точно заменить не представляется возможным, заменим пропущенные значения так же на -1."
   ]
  },
  {
   "cell_type": "code",
   "execution_count": 14,
   "id": "be7caa62-887b-4c78-ae4f-ac200c00d760",
   "metadata": {},
   "outputs": [
    {
     "data": {
      "text/html": [
       "<div>\n",
       "<style scoped>\n",
       "    .dataframe tbody tr th:only-of-type {\n",
       "        vertical-align: middle;\n",
       "    }\n",
       "\n",
       "    .dataframe tbody tr th {\n",
       "        vertical-align: top;\n",
       "    }\n",
       "\n",
       "    .dataframe thead th {\n",
       "        text-align: right;\n",
       "    }\n",
       "</style>\n",
       "<table border=\"1\" class=\"dataframe\">\n",
       "  <thead>\n",
       "    <tr style=\"text-align: right;\">\n",
       "      <th></th>\n",
       "      <th>name</th>\n",
       "      <th>platform</th>\n",
       "      <th>year_of_release</th>\n",
       "      <th>genre</th>\n",
       "      <th>na_sales</th>\n",
       "      <th>eu_sales</th>\n",
       "      <th>jp_sales</th>\n",
       "      <th>other_sales</th>\n",
       "      <th>critic_score</th>\n",
       "      <th>user_score</th>\n",
       "      <th>rating</th>\n",
       "    </tr>\n",
       "  </thead>\n",
       "  <tbody>\n",
       "    <tr>\n",
       "      <th>0</th>\n",
       "      <td>Wii Sports</td>\n",
       "      <td>Wii</td>\n",
       "      <td>2006.0</td>\n",
       "      <td>Sports</td>\n",
       "      <td>41.36</td>\n",
       "      <td>28.96</td>\n",
       "      <td>3.77</td>\n",
       "      <td>8.45</td>\n",
       "      <td>76.0</td>\n",
       "      <td>8.0</td>\n",
       "      <td>E</td>\n",
       "    </tr>\n",
       "    <tr>\n",
       "      <th>1</th>\n",
       "      <td>Super Mario Bros.</td>\n",
       "      <td>NES</td>\n",
       "      <td>1985.0</td>\n",
       "      <td>Platform</td>\n",
       "      <td>29.08</td>\n",
       "      <td>3.58</td>\n",
       "      <td>6.81</td>\n",
       "      <td>0.77</td>\n",
       "      <td>-1.0</td>\n",
       "      <td>-1.0</td>\n",
       "      <td>-1</td>\n",
       "    </tr>\n",
       "    <tr>\n",
       "      <th>2</th>\n",
       "      <td>Mario Kart Wii</td>\n",
       "      <td>Wii</td>\n",
       "      <td>2008.0</td>\n",
       "      <td>Racing</td>\n",
       "      <td>15.68</td>\n",
       "      <td>12.76</td>\n",
       "      <td>3.79</td>\n",
       "      <td>3.29</td>\n",
       "      <td>82.0</td>\n",
       "      <td>8.3</td>\n",
       "      <td>E</td>\n",
       "    </tr>\n",
       "    <tr>\n",
       "      <th>3</th>\n",
       "      <td>Wii Sports Resort</td>\n",
       "      <td>Wii</td>\n",
       "      <td>2009.0</td>\n",
       "      <td>Sports</td>\n",
       "      <td>15.61</td>\n",
       "      <td>10.93</td>\n",
       "      <td>3.28</td>\n",
       "      <td>2.95</td>\n",
       "      <td>80.0</td>\n",
       "      <td>8.0</td>\n",
       "      <td>E</td>\n",
       "    </tr>\n",
       "    <tr>\n",
       "      <th>4</th>\n",
       "      <td>Pokemon Red/Pokemon Blue</td>\n",
       "      <td>GB</td>\n",
       "      <td>1996.0</td>\n",
       "      <td>Role-Playing</td>\n",
       "      <td>11.27</td>\n",
       "      <td>8.89</td>\n",
       "      <td>10.22</td>\n",
       "      <td>1.00</td>\n",
       "      <td>-1.0</td>\n",
       "      <td>-1.0</td>\n",
       "      <td>-1</td>\n",
       "    </tr>\n",
       "    <tr>\n",
       "      <th>5</th>\n",
       "      <td>Tetris</td>\n",
       "      <td>GB</td>\n",
       "      <td>1989.0</td>\n",
       "      <td>Puzzle</td>\n",
       "      <td>23.20</td>\n",
       "      <td>2.26</td>\n",
       "      <td>4.22</td>\n",
       "      <td>0.58</td>\n",
       "      <td>-1.0</td>\n",
       "      <td>-1.0</td>\n",
       "      <td>-1</td>\n",
       "    </tr>\n",
       "    <tr>\n",
       "      <th>6</th>\n",
       "      <td>New Super Mario Bros.</td>\n",
       "      <td>DS</td>\n",
       "      <td>2006.0</td>\n",
       "      <td>Platform</td>\n",
       "      <td>11.28</td>\n",
       "      <td>9.14</td>\n",
       "      <td>6.50</td>\n",
       "      <td>2.88</td>\n",
       "      <td>89.0</td>\n",
       "      <td>8.5</td>\n",
       "      <td>E</td>\n",
       "    </tr>\n",
       "    <tr>\n",
       "      <th>7</th>\n",
       "      <td>Wii Play</td>\n",
       "      <td>Wii</td>\n",
       "      <td>2006.0</td>\n",
       "      <td>Misc</td>\n",
       "      <td>13.96</td>\n",
       "      <td>9.18</td>\n",
       "      <td>2.93</td>\n",
       "      <td>2.84</td>\n",
       "      <td>58.0</td>\n",
       "      <td>6.6</td>\n",
       "      <td>E</td>\n",
       "    </tr>\n",
       "    <tr>\n",
       "      <th>8</th>\n",
       "      <td>New Super Mario Bros. Wii</td>\n",
       "      <td>Wii</td>\n",
       "      <td>2009.0</td>\n",
       "      <td>Platform</td>\n",
       "      <td>14.44</td>\n",
       "      <td>6.94</td>\n",
       "      <td>4.70</td>\n",
       "      <td>2.24</td>\n",
       "      <td>87.0</td>\n",
       "      <td>8.4</td>\n",
       "      <td>E</td>\n",
       "    </tr>\n",
       "    <tr>\n",
       "      <th>9</th>\n",
       "      <td>Duck Hunt</td>\n",
       "      <td>NES</td>\n",
       "      <td>1984.0</td>\n",
       "      <td>Shooter</td>\n",
       "      <td>26.93</td>\n",
       "      <td>0.63</td>\n",
       "      <td>0.28</td>\n",
       "      <td>0.47</td>\n",
       "      <td>-1.0</td>\n",
       "      <td>-1.0</td>\n",
       "      <td>-1</td>\n",
       "    </tr>\n",
       "  </tbody>\n",
       "</table>\n",
       "</div>"
      ],
      "text/plain": [
       "                        name platform  year_of_release         genre  \\\n",
       "0                 Wii Sports      Wii           2006.0        Sports   \n",
       "1          Super Mario Bros.      NES           1985.0      Platform   \n",
       "2             Mario Kart Wii      Wii           2008.0        Racing   \n",
       "3          Wii Sports Resort      Wii           2009.0        Sports   \n",
       "4   Pokemon Red/Pokemon Blue       GB           1996.0  Role-Playing   \n",
       "5                     Tetris       GB           1989.0        Puzzle   \n",
       "6      New Super Mario Bros.       DS           2006.0      Platform   \n",
       "7                   Wii Play      Wii           2006.0          Misc   \n",
       "8  New Super Mario Bros. Wii      Wii           2009.0      Platform   \n",
       "9                  Duck Hunt      NES           1984.0       Shooter   \n",
       "\n",
       "   na_sales  eu_sales  jp_sales  other_sales  critic_score  user_score rating  \n",
       "0     41.36     28.96      3.77         8.45          76.0         8.0      E  \n",
       "1     29.08      3.58      6.81         0.77          -1.0        -1.0     -1  \n",
       "2     15.68     12.76      3.79         3.29          82.0         8.3      E  \n",
       "3     15.61     10.93      3.28         2.95          80.0         8.0      E  \n",
       "4     11.27      8.89     10.22         1.00          -1.0        -1.0     -1  \n",
       "5     23.20      2.26      4.22         0.58          -1.0        -1.0     -1  \n",
       "6     11.28      9.14      6.50         2.88          89.0         8.5      E  \n",
       "7     13.96      9.18      2.93         2.84          58.0         6.6      E  \n",
       "8     14.44      6.94      4.70         2.24          87.0         8.4      E  \n",
       "9     26.93      0.63      0.28         0.47          -1.0        -1.0     -1  "
      ]
     },
     "execution_count": 14,
     "metadata": {},
     "output_type": "execute_result"
    }
   ],
   "source": [
    "for column in ['critic_score', 'rating']:\n",
    "    data_games.loc[data_games[column].isna(), column] = -1\n",
    "data_games.head(10)"
   ]
  },
  {
   "cell_type": "code",
   "execution_count": 15,
   "id": "0b59a627-36a6-4cac-9f27-51a070a338c8",
   "metadata": {},
   "outputs": [
    {
     "data": {
      "text/plain": [
       "name               0\n",
       "platform           0\n",
       "year_of_release    0\n",
       "genre              0\n",
       "na_sales           0\n",
       "eu_sales           0\n",
       "jp_sales           0\n",
       "other_sales        0\n",
       "critic_score       0\n",
       "user_score         0\n",
       "rating             0\n",
       "dtype: int64"
      ]
     },
     "execution_count": 15,
     "metadata": {},
     "output_type": "execute_result"
    }
   ],
   "source": [
    "# проверим датасет в на пропуски\n",
    "data_games.isna().sum()"
   ]
  },
  {
   "cell_type": "markdown",
   "id": "e54d9a02",
   "metadata": {},
   "source": []
  },
  {
   "cell_type": "markdown",
   "id": "75b970f7-3f9e-4aae-ae42-76fb50fab4c1",
   "metadata": {},
   "source": [
    "## 2.3 Преобразуем типы данных."
   ]
  },
  {
   "cell_type": "code",
   "execution_count": 16,
   "id": "7f16a20a-6f8b-4b4d-ae58-c27724383f66",
   "metadata": {},
   "outputs": [
    {
     "name": "stdout",
     "output_type": "stream",
     "text": [
      "<class 'pandas.core.frame.DataFrame'>\n",
      "RangeIndex: 16444 entries, 0 to 16443\n",
      "Data columns (total 11 columns):\n",
      " #   Column           Non-Null Count  Dtype  \n",
      "---  ------           --------------  -----  \n",
      " 0   name             16444 non-null  object \n",
      " 1   platform         16444 non-null  object \n",
      " 2   year_of_release  16444 non-null  int16  \n",
      " 3   genre            16444 non-null  object \n",
      " 4   na_sales         16444 non-null  float64\n",
      " 5   eu_sales         16444 non-null  float64\n",
      " 6   jp_sales         16444 non-null  float64\n",
      " 7   other_sales      16444 non-null  float64\n",
      " 8   critic_score     16444 non-null  int8   \n",
      " 9   user_score       16444 non-null  float32\n",
      " 10  rating           16444 non-null  object \n",
      "dtypes: float32(1), float64(4), int16(1), int8(1), object(4)\n",
      "memory usage: 1.1+ MB\n"
     ]
    }
   ],
   "source": [
    "# изменим тип данных столбца 'year_of_release'\n",
    "data_games['year_of_release'] = pd.to_numeric(data_games['year_of_release'], downcast='integer')\n",
    "data_games['critic_score'] = pd.to_numeric(data_games['critic_score'], downcast='integer')\n",
    "data_games.info()"
   ]
  },
  {
   "cell_type": "markdown",
   "id": "26c6ea7e-9862-4931-8a29-7d9e75ece142",
   "metadata": {},
   "source": [
    "## 2.4 Обработка дубликатов."
   ]
  },
  {
   "cell_type": "markdown",
   "id": "87863a43-e51e-459d-b6ed-bf51ef7cd651",
   "metadata": {},
   "source": [
    "### 2.4.1 Проверим наличие явных дубликатов."
   ]
  },
  {
   "cell_type": "code",
   "execution_count": 17,
   "id": "84b94cab-c6e2-4594-b017-0f2c73ae2eba",
   "metadata": {},
   "outputs": [
    {
     "data": {
      "text/plain": [
       "0"
      ]
     },
     "execution_count": 17,
     "metadata": {},
     "output_type": "execute_result"
    }
   ],
   "source": [
    "data_games.duplicated().sum()"
   ]
  },
  {
   "cell_type": "markdown",
   "id": "451c7844-a769-487d-b106-5ee414199f75",
   "metadata": {},
   "source": [
    "**Явные дубликаты отсутствуют.**"
   ]
  },
  {
   "cell_type": "markdown",
   "id": "ac307a7c-04c6-421a-be99-70b0b6997d49",
   "metadata": {},
   "source": [
    "### 2.4.2 Проверим наличие неявных дубликатов."
   ]
  },
  {
   "cell_type": "code",
   "execution_count": 18,
   "id": "fe33f97a-7502-4970-91ee-fedb61089ebe",
   "metadata": {},
   "outputs": [
    {
     "data": {
      "text/plain": [
       "name           platform  year_of_release  genre   na_sales  eu_sales  jp_sales  other_sales  critic_score  user_score  rating\n",
       "Madden NFL 13  PS3       2012             Sports  0.0       0.01      0.0       0.0          83            5.5         E         1\n",
       "dtype: int64"
      ]
     },
     "execution_count": 18,
     "metadata": {},
     "output_type": "execute_result"
    }
   ],
   "source": [
    "# проверим наличие неявных дубликатов\n",
    "data_games[data_games.duplicated(subset=['name', 'platform', 'year_of_release'])].value_counts()"
   ]
  },
  {
   "cell_type": "markdown",
   "id": "e727eb84-9a3d-444c-86c6-ba3198d0fad2",
   "metadata": {},
   "source": [
    "Найден один очевидный дубликат, так как значения повторяются в 3 столбцах 'name', 'platform', 'year_of_release'."
   ]
  },
  {
   "cell_type": "code",
   "execution_count": 19,
   "id": "67848254-181d-45d5-8e12-83845335e07f",
   "metadata": {},
   "outputs": [
    {
     "data": {
      "text/plain": [
       "Series([], dtype: int64)"
      ]
     },
     "execution_count": 19,
     "metadata": {},
     "output_type": "execute_result"
    }
   ],
   "source": [
    "# удалим найденную строку, повторяющую свои значения в столбцах 'name', 'platform', 'year_of_release'\n",
    "data_games = data_games.drop_duplicates(subset=['name', 'platform', 'year_of_release'])\n",
    "# проверим\n",
    "data_games[data_games.duplicated(subset=['name', 'platform', 'year_of_release'])].value_counts()"
   ]
  },
  {
   "cell_type": "markdown",
   "id": "f7f8062a-7947-456d-91d1-84709f8578ee",
   "metadata": {},
   "source": [
    "## 2.5 Расчёт суммарных продаж."
   ]
  },
  {
   "cell_type": "code",
   "execution_count": 20,
   "id": "b5775199-4b91-41c7-b6af-2a1c55487222",
   "metadata": {},
   "outputs": [],
   "source": [
    "data_games['total_sales'] = data_games.loc[:, ('na_sales', 'eu_sales', 'jp_sales', 'other_sales')].sum(axis=1)"
   ]
  },
  {
   "cell_type": "code",
   "execution_count": 21,
   "id": "a24afc93-0902-4c7f-85e5-708516ac0cf1",
   "metadata": {},
   "outputs": [
    {
     "data": {
      "text/html": [
       "<div>\n",
       "<style scoped>\n",
       "    .dataframe tbody tr th:only-of-type {\n",
       "        vertical-align: middle;\n",
       "    }\n",
       "\n",
       "    .dataframe tbody tr th {\n",
       "        vertical-align: top;\n",
       "    }\n",
       "\n",
       "    .dataframe thead th {\n",
       "        text-align: right;\n",
       "    }\n",
       "</style>\n",
       "<table border=\"1\" class=\"dataframe\">\n",
       "  <thead>\n",
       "    <tr style=\"text-align: right;\">\n",
       "      <th></th>\n",
       "      <th>name</th>\n",
       "      <th>platform</th>\n",
       "      <th>year_of_release</th>\n",
       "      <th>genre</th>\n",
       "      <th>na_sales</th>\n",
       "      <th>eu_sales</th>\n",
       "      <th>jp_sales</th>\n",
       "      <th>other_sales</th>\n",
       "      <th>critic_score</th>\n",
       "      <th>user_score</th>\n",
       "      <th>rating</th>\n",
       "      <th>total_sales</th>\n",
       "    </tr>\n",
       "  </thead>\n",
       "  <tbody>\n",
       "    <tr>\n",
       "      <th>8105</th>\n",
       "      <td>The King of Fighters '97</td>\n",
       "      <td>PS</td>\n",
       "      <td>1998</td>\n",
       "      <td>Fighting</td>\n",
       "      <td>0.00</td>\n",
       "      <td>0.00</td>\n",
       "      <td>0.16</td>\n",
       "      <td>0.01</td>\n",
       "      <td>-1</td>\n",
       "      <td>-1.0</td>\n",
       "      <td>-1</td>\n",
       "      <td>0.17</td>\n",
       "    </tr>\n",
       "    <tr>\n",
       "      <th>14123</th>\n",
       "      <td>The Sims 2: Glamour Life Stuff</td>\n",
       "      <td>PC</td>\n",
       "      <td>2006</td>\n",
       "      <td>Simulation</td>\n",
       "      <td>0.00</td>\n",
       "      <td>0.03</td>\n",
       "      <td>0.00</td>\n",
       "      <td>0.01</td>\n",
       "      <td>-1</td>\n",
       "      <td>6.7</td>\n",
       "      <td>T</td>\n",
       "      <td>0.04</td>\n",
       "    </tr>\n",
       "    <tr>\n",
       "      <th>2846</th>\n",
       "      <td>Madden NFL 09</td>\n",
       "      <td>PSP</td>\n",
       "      <td>2008</td>\n",
       "      <td>Sports</td>\n",
       "      <td>0.65</td>\n",
       "      <td>0.00</td>\n",
       "      <td>0.00</td>\n",
       "      <td>0.06</td>\n",
       "      <td>68</td>\n",
       "      <td>6.5</td>\n",
       "      <td>E</td>\n",
       "      <td>0.71</td>\n",
       "    </tr>\n",
       "    <tr>\n",
       "      <th>451</th>\n",
       "      <td>World Class Track Meet</td>\n",
       "      <td>NES</td>\n",
       "      <td>1986</td>\n",
       "      <td>Sports</td>\n",
       "      <td>1.92</td>\n",
       "      <td>0.45</td>\n",
       "      <td>0.64</td>\n",
       "      <td>0.07</td>\n",
       "      <td>-1</td>\n",
       "      <td>-1.0</td>\n",
       "      <td>-1</td>\n",
       "      <td>3.08</td>\n",
       "    </tr>\n",
       "    <tr>\n",
       "      <th>16065</th>\n",
       "      <td>MXGP 2</td>\n",
       "      <td>PC</td>\n",
       "      <td>2016</td>\n",
       "      <td>Racing</td>\n",
       "      <td>0.00</td>\n",
       "      <td>0.01</td>\n",
       "      <td>0.00</td>\n",
       "      <td>0.00</td>\n",
       "      <td>-1</td>\n",
       "      <td>-1.0</td>\n",
       "      <td>-1</td>\n",
       "      <td>0.01</td>\n",
       "    </tr>\n",
       "    <tr>\n",
       "      <th>1082</th>\n",
       "      <td>NCAA Football 2004</td>\n",
       "      <td>PS2</td>\n",
       "      <td>2003</td>\n",
       "      <td>Sports</td>\n",
       "      <td>1.35</td>\n",
       "      <td>0.09</td>\n",
       "      <td>0.00</td>\n",
       "      <td>0.23</td>\n",
       "      <td>94</td>\n",
       "      <td>8.8</td>\n",
       "      <td>E</td>\n",
       "      <td>1.67</td>\n",
       "    </tr>\n",
       "    <tr>\n",
       "      <th>11581</th>\n",
       "      <td>Wizardry: Llylgamyn Saga</td>\n",
       "      <td>PS</td>\n",
       "      <td>1998</td>\n",
       "      <td>Role-Playing</td>\n",
       "      <td>0.00</td>\n",
       "      <td>0.00</td>\n",
       "      <td>0.07</td>\n",
       "      <td>0.00</td>\n",
       "      <td>-1</td>\n",
       "      <td>-1.0</td>\n",
       "      <td>-1</td>\n",
       "      <td>0.07</td>\n",
       "    </tr>\n",
       "    <tr>\n",
       "      <th>1877</th>\n",
       "      <td>Virtua Fighter 5</td>\n",
       "      <td>PS3</td>\n",
       "      <td>2007</td>\n",
       "      <td>Fighting</td>\n",
       "      <td>0.29</td>\n",
       "      <td>0.51</td>\n",
       "      <td>0.08</td>\n",
       "      <td>0.20</td>\n",
       "      <td>85</td>\n",
       "      <td>7.4</td>\n",
       "      <td>T</td>\n",
       "      <td>1.08</td>\n",
       "    </tr>\n",
       "    <tr>\n",
       "      <th>10353</th>\n",
       "      <td>NASCAR The Game: Inside Line</td>\n",
       "      <td>X360</td>\n",
       "      <td>2012</td>\n",
       "      <td>Racing</td>\n",
       "      <td>0.09</td>\n",
       "      <td>0.00</td>\n",
       "      <td>0.00</td>\n",
       "      <td>0.01</td>\n",
       "      <td>72</td>\n",
       "      <td>3.4</td>\n",
       "      <td>E</td>\n",
       "      <td>0.10</td>\n",
       "    </tr>\n",
       "    <tr>\n",
       "      <th>7852</th>\n",
       "      <td>Treasures of the Deep</td>\n",
       "      <td>PS</td>\n",
       "      <td>1997</td>\n",
       "      <td>Action</td>\n",
       "      <td>0.10</td>\n",
       "      <td>0.07</td>\n",
       "      <td>0.00</td>\n",
       "      <td>0.01</td>\n",
       "      <td>-1</td>\n",
       "      <td>-1.0</td>\n",
       "      <td>-1</td>\n",
       "      <td>0.18</td>\n",
       "    </tr>\n",
       "  </tbody>\n",
       "</table>\n",
       "</div>"
      ],
      "text/plain": [
       "                                 name platform  year_of_release         genre  \\\n",
       "8105         The King of Fighters '97       PS             1998      Fighting   \n",
       "14123  The Sims 2: Glamour Life Stuff       PC             2006    Simulation   \n",
       "2846                    Madden NFL 09      PSP             2008        Sports   \n",
       "451            World Class Track Meet      NES             1986        Sports   \n",
       "16065                          MXGP 2       PC             2016        Racing   \n",
       "1082               NCAA Football 2004      PS2             2003        Sports   \n",
       "11581        Wizardry: Llylgamyn Saga       PS             1998  Role-Playing   \n",
       "1877                 Virtua Fighter 5      PS3             2007      Fighting   \n",
       "10353    NASCAR The Game: Inside Line     X360             2012        Racing   \n",
       "7852            Treasures of the Deep       PS             1997        Action   \n",
       "\n",
       "       na_sales  eu_sales  jp_sales  other_sales  critic_score  user_score  \\\n",
       "8105       0.00      0.00      0.16         0.01            -1        -1.0   \n",
       "14123      0.00      0.03      0.00         0.01            -1         6.7   \n",
       "2846       0.65      0.00      0.00         0.06            68         6.5   \n",
       "451        1.92      0.45      0.64         0.07            -1        -1.0   \n",
       "16065      0.00      0.01      0.00         0.00            -1        -1.0   \n",
       "1082       1.35      0.09      0.00         0.23            94         8.8   \n",
       "11581      0.00      0.00      0.07         0.00            -1        -1.0   \n",
       "1877       0.29      0.51      0.08         0.20            85         7.4   \n",
       "10353      0.09      0.00      0.00         0.01            72         3.4   \n",
       "7852       0.10      0.07      0.00         0.01            -1        -1.0   \n",
       "\n",
       "      rating  total_sales  \n",
       "8105      -1         0.17  \n",
       "14123      T         0.04  \n",
       "2846       E         0.71  \n",
       "451       -1         3.08  \n",
       "16065     -1         0.01  \n",
       "1082       E         1.67  \n",
       "11581     -1         0.07  \n",
       "1877       T         1.08  \n",
       "10353      E         0.10  \n",
       "7852      -1         0.18  "
      ]
     },
     "execution_count": 21,
     "metadata": {},
     "output_type": "execute_result"
    }
   ],
   "source": [
    "data_games.sample(10)"
   ]
  },
  {
   "cell_type": "markdown",
   "id": "d37f306e-6f96-472f-a9fa-b4878c999389",
   "metadata": {},
   "source": [
    "Вывод:\n",
    "\n",
    "Данные подготовлены к анализу.\n",
    "\n",
    "Наименование столбцов приведен к нижниму регистру.\n",
    "\n",
    "Проверено наличие явных и неявных дубликатов.\n",
    "Явные дубликаты отсутствовали, однако нашли один неявный дубликат и исключили его из датасета.\n",
    "\n",
    "В данных присутствовало значительное количество пропусков, вероятно возникшее в процессе сбора данных из разных источников или в системе были какие-то сбои при логировании.\n",
    "Так же, возможно, возникли технические проблемы при передаче или хранении данных. Ко всему прочему, пропуски в рейтинговых столбцах может быть связано с отсутствием на момент выхода игры (если игра вышла до 1995) развитых рейтинговых площадок.\n",
    "\n",
    "Строки с пропусками в столбцах 'name' и 'genre' были исключены.\\\n",
    "Строки столбца 'year_of_release' в которых отсутствует год так же исключены, т.к. пропусков менее 1% и нет главного признака - год, что не позволяет сделать анализ в принципе.  \n",
    "Лучше работать с меньшим количеством данных хорошего качества.\n",
    "\n",
    "Тип столбца 'Year_of_Release' приведен к целочисленному типу - int.\\\n",
    "Тип столбца 'User_Score' приведен к вещественному типу данных - float.\n",
    "\n",
    "В столбце User_Score присутствует значение 'tbd' ('to be determined' - 'будет определено'), означающее, что оценка игры на момент занесения в БД отсутствовала. Для проведения корректного анализа, мы заменили данные значение и 'Nan' на -1 для отсутствия пиков на графиках для данных значений. Учитем это в процессе анализа.\\\n",
    "Аналогичным образом поступили с пропущенными значениями столбцов 'rating', 'critic_score'.\n",
    "\n",
    "Создан дополнительный столбец с данными о суммарных продажах по всем регионам. "
   ]
  },
  {
   "cell_type": "markdown",
   "id": "2b668ef9-d215-4c04-bfff-ea2f0a629ea4",
   "metadata": {},
   "source": [
    "# 3. Исследовательский анализ данных"
   ]
  },
  {
   "cell_type": "markdown",
   "id": "c6f3d45e-fddb-402d-91a4-eb6e80693883",
   "metadata": {},
   "source": [
    "Для проведения исследовательского анализа, нам необходимо предпринять следующие действия и ответить на следующие вопросы:\n",
    "\n",
    "1) **Проанализировать сколько игр выпускалось в разные годы.** Выяснить важны ли данные за все периоды.\n",
    "2) **Проанализировать, как менялись продажи по платформам.** Необходимо выберать платформы с наибольшими суммарными продажами и построить распределение по годам. Выяснить за какой характерный срок появляются новые и исчезают старые платформы.\n",
    "3) **Сделать срез за соответствующий актуальный период, без учета в работе данных за предыдущие годы.**\n",
    "4) **Выяснить какие платформы лидируют по продажам, какие растут и какие падают.** Выбрать несколько потенциально прибыльных платформ.\n",
    "5) **Построить график boxplot по глобальным продажам игр в разбивке по платформам.** Описать результат.\n",
    "6) **Проанализировать, как влияют на продажи внутри одной популярной платформы отзывы пользователей и критиков.** Построить диаграмму рассеяния и посчитать корреляцию между отзывами и продажами. Сформулировать выводы.\n",
    "7) **Соотнести выводы с продажами игр на других платформах.**\n",
    "8) **Проанализировать общее распределение игр по жанрам.** Сделать выводы о самых прибыльных жанрах. Проанализировать выделяются ли жанры с высокими и низкими продажами."
   ]
  },
  {
   "cell_type": "markdown",
   "id": "5f9169e0-664a-4d31-b891-dde73e3cd951",
   "metadata": {},
   "source": [
    "## 3.1 Проанализируем сколько игр выпускалось в разные годы."
   ]
  },
  {
   "cell_type": "code",
   "execution_count": 22,
   "id": "dce0d799-9280-42e9-9ccb-6f7ef0378b63",
   "metadata": {},
   "outputs": [
    {
     "data": {
      "image/png": "[encoded data removed]",
      "text/plain": [
       "<Figure size 1584x576 with 1 Axes>"
      ]
     },
     "metadata": {
      "needs_background": "light"
     },
     "output_type": "display_data"
    }
   ],
   "source": [
    "# создадим сводную таблицу sales_in_diff_years\n",
    "sales_in_diff_years = data_games.pivot_table(index = 'year_of_release', values = 'total_sales', aggfunc = ('count'))\n",
    "sales_in_diff_years.columns = ['count']\n",
    "# построим столбчатую диаграмму и оценим результат\n",
    "f, ax = plt.subplots(figsize=(22, 8))\n",
    "ax = sns.barplot(x=sales_in_diff_years.index, y='count', data=sales_in_diff_years, palette='rocket')\n",
    "plt.xlabel('Количество проданных игр, годы')\n",
    "plt.ylabel('')\n",
    "plt.show()"
   ]
  },
  {
   "cell_type": "markdown",
   "id": "e35ee3a6-1629-49b2-b328-707f1c8ae4dd",
   "metadata": {},
   "source": [
    "По диаграмме видно, что начиная с 1993 года в мире растет число продаж игр и игровая индустрия интенсивно равивается. Тенденция выпускать больше игр пришла вместе с технологическим прорывом: появлением почти в каждом доме персонального компьютера и технологий языков программирования. \n",
    "\n",
    "После 2009 года наблюдаентся резкий спад спроса. К 2012 году количество продаж снизилось вдвое по сравнению с успехами 2008 - 2009 годов. Вероятнее всего это связано с долгосрочными последствиями мирового экономического кризиса начавшимся в конце 2007 - начале 2008 годов. \n",
    "\n",
    "Данные до 1994 года, на заре развития индустрии не несут в себе необходимой для анализа информации."
   ]
  },
  {
   "cell_type": "markdown",
   "id": "43f8347f-2926-43ff-95b6-6707c2d9cd83",
   "metadata": {},
   "source": [
    "## 3.2 Проанализируем, как менялись продажи по платформам."
   ]
  },
  {
   "cell_type": "markdown",
   "id": "31446b28-f8f0-4c7e-8e1f-07c030f185c1",
   "metadata": {},
   "source": [
    "### 3.2.1 Выясним за какой характерный срок появляются новые и исчезают старые платформы."
   ]
  },
  {
   "cell_type": "code",
   "execution_count": 23,
   "id": "7f53db80-2040-416c-8c78-57d446b4d13b",
   "metadata": {},
   "outputs": [
    {
     "data": {
      "text/html": [
       "<div>\n",
       "<style scoped>\n",
       "    .dataframe tbody tr th:only-of-type {\n",
       "        vertical-align: middle;\n",
       "    }\n",
       "\n",
       "    .dataframe tbody tr th {\n",
       "        vertical-align: top;\n",
       "    }\n",
       "\n",
       "    .dataframe thead th {\n",
       "        text-align: right;\n",
       "    }\n",
       "</style>\n",
       "<table border=\"1\" class=\"dataframe\">\n",
       "  <thead>\n",
       "    <tr style=\"text-align: right;\">\n",
       "      <th></th>\n",
       "      <th>year_of_release</th>\n",
       "    </tr>\n",
       "    <tr>\n",
       "      <th>platform</th>\n",
       "      <th></th>\n",
       "    </tr>\n",
       "  </thead>\n",
       "  <tbody>\n",
       "    <tr>\n",
       "      <th>2600</th>\n",
       "      <td>10</td>\n",
       "    </tr>\n",
       "    <tr>\n",
       "      <th>3DO</th>\n",
       "      <td>2</td>\n",
       "    </tr>\n",
       "    <tr>\n",
       "      <th>3DS</th>\n",
       "      <td>6</td>\n",
       "    </tr>\n",
       "    <tr>\n",
       "      <th>DC</th>\n",
       "      <td>7</td>\n",
       "    </tr>\n",
       "    <tr>\n",
       "      <th>DS</th>\n",
       "      <td>11</td>\n",
       "    </tr>\n",
       "    <tr>\n",
       "      <th>GB</th>\n",
       "      <td>13</td>\n",
       "    </tr>\n",
       "    <tr>\n",
       "      <th>GBA</th>\n",
       "      <td>8</td>\n",
       "    </tr>\n",
       "    <tr>\n",
       "      <th>GC</th>\n",
       "      <td>7</td>\n",
       "    </tr>\n",
       "    <tr>\n",
       "      <th>GEN</th>\n",
       "      <td>5</td>\n",
       "    </tr>\n",
       "    <tr>\n",
       "      <th>GG</th>\n",
       "      <td>1</td>\n",
       "    </tr>\n",
       "    <tr>\n",
       "      <th>N64</th>\n",
       "      <td>7</td>\n",
       "    </tr>\n",
       "    <tr>\n",
       "      <th>NES</th>\n",
       "      <td>12</td>\n",
       "    </tr>\n",
       "    <tr>\n",
       "      <th>NG</th>\n",
       "      <td>4</td>\n",
       "    </tr>\n",
       "    <tr>\n",
       "      <th>PC</th>\n",
       "      <td>26</td>\n",
       "    </tr>\n",
       "    <tr>\n",
       "      <th>PCFX</th>\n",
       "      <td>1</td>\n",
       "    </tr>\n",
       "    <tr>\n",
       "      <th>PS</th>\n",
       "      <td>10</td>\n",
       "    </tr>\n",
       "    <tr>\n",
       "      <th>PS2</th>\n",
       "      <td>12</td>\n",
       "    </tr>\n",
       "    <tr>\n",
       "      <th>PS3</th>\n",
       "      <td>11</td>\n",
       "    </tr>\n",
       "    <tr>\n",
       "      <th>PS4</th>\n",
       "      <td>4</td>\n",
       "    </tr>\n",
       "    <tr>\n",
       "      <th>PSP</th>\n",
       "      <td>12</td>\n",
       "    </tr>\n",
       "    <tr>\n",
       "      <th>PSV</th>\n",
       "      <td>6</td>\n",
       "    </tr>\n",
       "    <tr>\n",
       "      <th>SAT</th>\n",
       "      <td>6</td>\n",
       "    </tr>\n",
       "    <tr>\n",
       "      <th>SCD</th>\n",
       "      <td>2</td>\n",
       "    </tr>\n",
       "    <tr>\n",
       "      <th>SNES</th>\n",
       "      <td>10</td>\n",
       "    </tr>\n",
       "    <tr>\n",
       "      <th>TG16</th>\n",
       "      <td>1</td>\n",
       "    </tr>\n",
       "    <tr>\n",
       "      <th>WS</th>\n",
       "      <td>3</td>\n",
       "    </tr>\n",
       "    <tr>\n",
       "      <th>Wii</th>\n",
       "      <td>11</td>\n",
       "    </tr>\n",
       "    <tr>\n",
       "      <th>WiiU</th>\n",
       "      <td>5</td>\n",
       "    </tr>\n",
       "    <tr>\n",
       "      <th>X360</th>\n",
       "      <td>12</td>\n",
       "    </tr>\n",
       "    <tr>\n",
       "      <th>XB</th>\n",
       "      <td>9</td>\n",
       "    </tr>\n",
       "    <tr>\n",
       "      <th>XOne</th>\n",
       "      <td>4</td>\n",
       "    </tr>\n",
       "  </tbody>\n",
       "</table>\n",
       "</div>"
      ],
      "text/plain": [
       "          year_of_release\n",
       "platform                 \n",
       "2600                   10\n",
       "3DO                     2\n",
       "3DS                     6\n",
       "DC                      7\n",
       "DS                     11\n",
       "GB                     13\n",
       "GBA                     8\n",
       "GC                      7\n",
       "GEN                     5\n",
       "GG                      1\n",
       "N64                     7\n",
       "NES                    12\n",
       "NG                      4\n",
       "PC                     26\n",
       "PCFX                    1\n",
       "PS                     10\n",
       "PS2                    12\n",
       "PS3                    11\n",
       "PS4                     4\n",
       "PSP                    12\n",
       "PSV                     6\n",
       "SAT                     6\n",
       "SCD                     2\n",
       "SNES                   10\n",
       "TG16                    1\n",
       "WS                      3\n",
       "Wii                    11\n",
       "WiiU                    5\n",
       "X360                   12\n",
       "XB                      9\n",
       "XOne                    4"
      ]
     },
     "execution_count": 23,
     "metadata": {},
     "output_type": "execute_result"
    }
   ],
   "source": [
    "# создадим сводную таблицу с количеством упоминаний платформ по годам\n",
    "lifetime_platform = (data_games.loc[:,['year_of_release', 'platform']]\n",
    "        .drop_duplicates()\n",
    "        .pivot_table(index=['platform'], values='year_of_release', aggfunc='count')\n",
    "       )\n",
    "# проверим результат\n",
    "lifetime_platform"
   ]
  },
  {
   "cell_type": "code",
   "execution_count": 24,
   "id": "e927f624-7280-4ba9-9e2f-a6dade0b2d8e",
   "metadata": {},
   "outputs": [
    {
     "data": {
      "image/png": "[encoded data removed]",
      "text/plain": [
       "<Figure size 432x288 with 1 Axes>"
      ]
     },
     "metadata": {
      "needs_background": "light"
     },
     "output_type": "display_data"
    }
   ],
   "source": [
    "# построим диаграмму размаха\n",
    "sns.boxplot(\n",
    "x=lifetime_platform.year_of_release,\n",
    "width=.3\n",
    ")\n",
    "plt.xlabel('Актуальность платформы, годы')\n",
    "plt.show()"
   ]
  },
  {
   "cell_type": "code",
   "execution_count": 25,
   "id": "d585588f-ebe7-4eb0-a4ff-f8484eba1e2e",
   "metadata": {},
   "outputs": [
    {
     "data": {
      "text/plain": [
       "count    31.000000\n",
       "mean      7.677419\n",
       "std       5.081910\n",
       "min       1.000000\n",
       "25%       4.000000\n",
       "50%       7.000000\n",
       "75%      11.000000\n",
       "max      26.000000\n",
       "Name: year_of_release, dtype: float64"
      ]
     },
     "execution_count": 25,
     "metadata": {},
     "output_type": "execute_result"
    }
   ],
   "source": [
    "# посмотрим информацю о полученных данных\n",
    "lifetime_platform.year_of_release.describe()"
   ]
  },
  {
   "cell_type": "markdown",
   "id": "df4265ae-aa02-4422-9962-e080ec6684c4",
   "metadata": {},
   "source": [
    "Таким образом, средняя продолжительность жизни игровой платформы, в течение которого она приносит деньги, составляет 7 лет. Далее она теряет свою актуальность в связи с выпуском новых игровых платформ."
   ]
  },
  {
   "cell_type": "markdown",
   "id": "90994b00-f76b-4a98-a4da-4b2018ee0dd5",
   "metadata": {},
   "source": [
    "### 3.2.2 Найдем платформы с наибольшими суммарными продажами и построим распределение по годам. "
   ]
  },
  {
   "cell_type": "markdown",
   "id": "bb544ee7-3e3f-4aa5-ab46-25c719729353",
   "metadata": {},
   "source": [
    "Посмотрим топ 10 платформ по количеству продаж."
   ]
  },
  {
   "cell_type": "code",
   "execution_count": 26,
   "id": "88157d40-3384-4603-aaf0-6ab6b81ddeb0",
   "metadata": {},
   "outputs": [
    {
     "data": {
      "text/html": [
       "<div>\n",
       "<style scoped>\n",
       "    .dataframe tbody tr th:only-of-type {\n",
       "        vertical-align: middle;\n",
       "    }\n",
       "\n",
       "    .dataframe tbody tr th {\n",
       "        vertical-align: top;\n",
       "    }\n",
       "\n",
       "    .dataframe thead th {\n",
       "        text-align: right;\n",
       "    }\n",
       "</style>\n",
       "<table border=\"1\" class=\"dataframe\">\n",
       "  <thead>\n",
       "    <tr style=\"text-align: right;\">\n",
       "      <th></th>\n",
       "      <th>total_sales</th>\n",
       "    </tr>\n",
       "    <tr>\n",
       "      <th>platform</th>\n",
       "      <th></th>\n",
       "    </tr>\n",
       "  </thead>\n",
       "  <tbody>\n",
       "    <tr>\n",
       "      <th>PS2</th>\n",
       "      <td>1233.56</td>\n",
       "    </tr>\n",
       "    <tr>\n",
       "      <th>X360</th>\n",
       "      <td>961.24</td>\n",
       "    </tr>\n",
       "    <tr>\n",
       "      <th>PS3</th>\n",
       "      <td>931.33</td>\n",
       "    </tr>\n",
       "    <tr>\n",
       "      <th>Wii</th>\n",
       "      <td>891.18</td>\n",
       "    </tr>\n",
       "    <tr>\n",
       "      <th>DS</th>\n",
       "      <td>802.78</td>\n",
       "    </tr>\n",
       "    <tr>\n",
       "      <th>PS</th>\n",
       "      <td>727.58</td>\n",
       "    </tr>\n",
       "    <tr>\n",
       "      <th>PS4</th>\n",
       "      <td>314.14</td>\n",
       "    </tr>\n",
       "    <tr>\n",
       "      <th>GBA</th>\n",
       "      <td>312.88</td>\n",
       "    </tr>\n",
       "    <tr>\n",
       "      <th>PSP</th>\n",
       "      <td>289.53</td>\n",
       "    </tr>\n",
       "    <tr>\n",
       "      <th>3DS</th>\n",
       "      <td>257.81</td>\n",
       "    </tr>\n",
       "  </tbody>\n",
       "</table>\n",
       "</div>"
      ],
      "text/plain": [
       "          total_sales\n",
       "platform             \n",
       "PS2           1233.56\n",
       "X360           961.24\n",
       "PS3            931.33\n",
       "Wii            891.18\n",
       "DS             802.78\n",
       "PS             727.58\n",
       "PS4            314.14\n",
       "GBA            312.88\n",
       "PSP            289.53\n",
       "3DS            257.81"
      ]
     },
     "execution_count": 26,
     "metadata": {},
     "output_type": "execute_result"
    }
   ],
   "source": [
    "# создадим сводную таблицу sales_by_platform\n",
    "top_sales_by_platform = pd.pivot_table(data_games, index = 'platform', values = 'total_sales', aggfunc = 'sum').nlargest(10, 'total_sales')\n",
    "# посмотрим результат\n",
    "top_sales_by_platform"
   ]
  },
  {
   "cell_type": "markdown",
   "id": "33774639-d174-4e69-99e8-6eb32177d798",
   "metadata": {},
   "source": [
    "Видим, что в тройке лидеров такие платформы как: PS2, X360, PS3. Так же мы наблюдали, что и продолжительность актуальности данных платформ так же высока."
   ]
  },
  {
   "cell_type": "markdown",
   "id": "3ea19bc6-edda-44c5-93cf-773c0ee6ad78",
   "metadata": {},
   "source": [
    "Обратимся к ранее созданной сводной таблице 'sales_in_diff_years' и рассмотрим разбиение продаж по каждой платформе из топ-10 по годам, предварительно отбросим неинтересующий нас период до 1994 года."
   ]
  },
  {
   "cell_type": "code",
   "execution_count": 27,
   "id": "9756bdbe-2695-43b4-8f96-2d1f54d117dd",
   "metadata": {},
   "outputs": [
    {
     "data": {
      "text/html": [
       "<div>\n",
       "<style scoped>\n",
       "    .dataframe tbody tr th:only-of-type {\n",
       "        vertical-align: middle;\n",
       "    }\n",
       "\n",
       "    .dataframe tbody tr th {\n",
       "        vertical-align: top;\n",
       "    }\n",
       "\n",
       "    .dataframe thead th {\n",
       "        text-align: right;\n",
       "    }\n",
       "</style>\n",
       "<table border=\"1\" class=\"dataframe\">\n",
       "  <thead>\n",
       "    <tr style=\"text-align: right;\">\n",
       "      <th>platform</th>\n",
       "      <th>3DS</th>\n",
       "      <th>DS</th>\n",
       "      <th>GBA</th>\n",
       "      <th>PS</th>\n",
       "      <th>PS2</th>\n",
       "      <th>PS3</th>\n",
       "      <th>PS4</th>\n",
       "      <th>PSP</th>\n",
       "      <th>Wii</th>\n",
       "      <th>X360</th>\n",
       "    </tr>\n",
       "    <tr>\n",
       "      <th>year_of_release</th>\n",
       "      <th></th>\n",
       "      <th></th>\n",
       "      <th></th>\n",
       "      <th></th>\n",
       "      <th></th>\n",
       "      <th></th>\n",
       "      <th></th>\n",
       "      <th></th>\n",
       "      <th></th>\n",
       "      <th></th>\n",
       "    </tr>\n",
       "  </thead>\n",
       "  <tbody>\n",
       "    <tr>\n",
       "      <th>1994</th>\n",
       "      <td>0.00</td>\n",
       "      <td>0.00</td>\n",
       "      <td>0.00</td>\n",
       "      <td>6.03</td>\n",
       "      <td>0.00</td>\n",
       "      <td>0.00</td>\n",
       "      <td>0.00</td>\n",
       "      <td>0.00</td>\n",
       "      <td>0.00</td>\n",
       "      <td>0.00</td>\n",
       "    </tr>\n",
       "    <tr>\n",
       "      <th>1995</th>\n",
       "      <td>0.00</td>\n",
       "      <td>0.00</td>\n",
       "      <td>0.00</td>\n",
       "      <td>35.96</td>\n",
       "      <td>0.00</td>\n",
       "      <td>0.00</td>\n",
       "      <td>0.00</td>\n",
       "      <td>0.00</td>\n",
       "      <td>0.00</td>\n",
       "      <td>0.00</td>\n",
       "    </tr>\n",
       "    <tr>\n",
       "      <th>1996</th>\n",
       "      <td>0.00</td>\n",
       "      <td>0.00</td>\n",
       "      <td>0.00</td>\n",
       "      <td>94.70</td>\n",
       "      <td>0.00</td>\n",
       "      <td>0.00</td>\n",
       "      <td>0.00</td>\n",
       "      <td>0.00</td>\n",
       "      <td>0.00</td>\n",
       "      <td>0.00</td>\n",
       "    </tr>\n",
       "    <tr>\n",
       "      <th>1997</th>\n",
       "      <td>0.00</td>\n",
       "      <td>0.00</td>\n",
       "      <td>0.00</td>\n",
       "      <td>136.17</td>\n",
       "      <td>0.00</td>\n",
       "      <td>0.00</td>\n",
       "      <td>0.00</td>\n",
       "      <td>0.00</td>\n",
       "      <td>0.00</td>\n",
       "      <td>0.00</td>\n",
       "    </tr>\n",
       "    <tr>\n",
       "      <th>1998</th>\n",
       "      <td>0.00</td>\n",
       "      <td>0.00</td>\n",
       "      <td>0.00</td>\n",
       "      <td>169.49</td>\n",
       "      <td>0.00</td>\n",
       "      <td>0.00</td>\n",
       "      <td>0.00</td>\n",
       "      <td>0.00</td>\n",
       "      <td>0.00</td>\n",
       "      <td>0.00</td>\n",
       "    </tr>\n",
       "    <tr>\n",
       "      <th>1999</th>\n",
       "      <td>0.00</td>\n",
       "      <td>0.00</td>\n",
       "      <td>0.00</td>\n",
       "      <td>144.53</td>\n",
       "      <td>0.00</td>\n",
       "      <td>0.00</td>\n",
       "      <td>0.00</td>\n",
       "      <td>0.00</td>\n",
       "      <td>0.00</td>\n",
       "      <td>0.00</td>\n",
       "    </tr>\n",
       "    <tr>\n",
       "      <th>2000</th>\n",
       "      <td>0.00</td>\n",
       "      <td>0.00</td>\n",
       "      <td>0.07</td>\n",
       "      <td>96.37</td>\n",
       "      <td>39.17</td>\n",
       "      <td>0.00</td>\n",
       "      <td>0.00</td>\n",
       "      <td>0.00</td>\n",
       "      <td>0.00</td>\n",
       "      <td>0.00</td>\n",
       "    </tr>\n",
       "    <tr>\n",
       "      <th>2001</th>\n",
       "      <td>0.00</td>\n",
       "      <td>0.00</td>\n",
       "      <td>61.53</td>\n",
       "      <td>35.59</td>\n",
       "      <td>166.43</td>\n",
       "      <td>0.00</td>\n",
       "      <td>0.00</td>\n",
       "      <td>0.00</td>\n",
       "      <td>0.00</td>\n",
       "      <td>0.00</td>\n",
       "    </tr>\n",
       "    <tr>\n",
       "      <th>2002</th>\n",
       "      <td>0.00</td>\n",
       "      <td>0.00</td>\n",
       "      <td>74.16</td>\n",
       "      <td>6.67</td>\n",
       "      <td>205.38</td>\n",
       "      <td>0.00</td>\n",
       "      <td>0.00</td>\n",
       "      <td>0.00</td>\n",
       "      <td>0.00</td>\n",
       "      <td>0.00</td>\n",
       "    </tr>\n",
       "    <tr>\n",
       "      <th>2003</th>\n",
       "      <td>0.00</td>\n",
       "      <td>0.00</td>\n",
       "      <td>56.67</td>\n",
       "      <td>2.07</td>\n",
       "      <td>184.31</td>\n",
       "      <td>0.00</td>\n",
       "      <td>0.00</td>\n",
       "      <td>0.00</td>\n",
       "      <td>0.00</td>\n",
       "      <td>0.00</td>\n",
       "    </tr>\n",
       "    <tr>\n",
       "      <th>2004</th>\n",
       "      <td>0.00</td>\n",
       "      <td>17.27</td>\n",
       "      <td>77.91</td>\n",
       "      <td>0.00</td>\n",
       "      <td>211.81</td>\n",
       "      <td>0.00</td>\n",
       "      <td>0.00</td>\n",
       "      <td>7.06</td>\n",
       "      <td>0.00</td>\n",
       "      <td>0.00</td>\n",
       "    </tr>\n",
       "    <tr>\n",
       "      <th>2005</th>\n",
       "      <td>0.00</td>\n",
       "      <td>130.14</td>\n",
       "      <td>33.86</td>\n",
       "      <td>0.00</td>\n",
       "      <td>160.66</td>\n",
       "      <td>0.00</td>\n",
       "      <td>0.00</td>\n",
       "      <td>43.84</td>\n",
       "      <td>0.00</td>\n",
       "      <td>8.25</td>\n",
       "    </tr>\n",
       "    <tr>\n",
       "      <th>2006</th>\n",
       "      <td>0.00</td>\n",
       "      <td>119.81</td>\n",
       "      <td>5.28</td>\n",
       "      <td>0.00</td>\n",
       "      <td>103.42</td>\n",
       "      <td>20.96</td>\n",
       "      <td>0.00</td>\n",
       "      <td>55.32</td>\n",
       "      <td>137.15</td>\n",
       "      <td>51.62</td>\n",
       "    </tr>\n",
       "    <tr>\n",
       "      <th>2007</th>\n",
       "      <td>0.00</td>\n",
       "      <td>146.94</td>\n",
       "      <td>3.40</td>\n",
       "      <td>0.00</td>\n",
       "      <td>75.99</td>\n",
       "      <td>73.19</td>\n",
       "      <td>0.00</td>\n",
       "      <td>46.93</td>\n",
       "      <td>152.77</td>\n",
       "      <td>95.41</td>\n",
       "    </tr>\n",
       "    <tr>\n",
       "      <th>2008</th>\n",
       "      <td>0.00</td>\n",
       "      <td>145.31</td>\n",
       "      <td>0.00</td>\n",
       "      <td>0.00</td>\n",
       "      <td>53.90</td>\n",
       "      <td>118.52</td>\n",
       "      <td>0.00</td>\n",
       "      <td>34.55</td>\n",
       "      <td>171.32</td>\n",
       "      <td>135.26</td>\n",
       "    </tr>\n",
       "    <tr>\n",
       "      <th>2009</th>\n",
       "      <td>0.00</td>\n",
       "      <td>119.54</td>\n",
       "      <td>0.00</td>\n",
       "      <td>0.00</td>\n",
       "      <td>26.40</td>\n",
       "      <td>130.93</td>\n",
       "      <td>0.00</td>\n",
       "      <td>37.78</td>\n",
       "      <td>206.97</td>\n",
       "      <td>120.29</td>\n",
       "    </tr>\n",
       "    <tr>\n",
       "      <th>2010</th>\n",
       "      <td>0.00</td>\n",
       "      <td>85.02</td>\n",
       "      <td>0.00</td>\n",
       "      <td>0.00</td>\n",
       "      <td>5.64</td>\n",
       "      <td>142.17</td>\n",
       "      <td>0.00</td>\n",
       "      <td>35.04</td>\n",
       "      <td>127.95</td>\n",
       "      <td>170.03</td>\n",
       "    </tr>\n",
       "    <tr>\n",
       "      <th>2011</th>\n",
       "      <td>63.20</td>\n",
       "      <td>26.18</td>\n",
       "      <td>0.00</td>\n",
       "      <td>0.00</td>\n",
       "      <td>0.45</td>\n",
       "      <td>156.78</td>\n",
       "      <td>0.00</td>\n",
       "      <td>17.82</td>\n",
       "      <td>59.65</td>\n",
       "      <td>143.84</td>\n",
       "    </tr>\n",
       "    <tr>\n",
       "      <th>2012</th>\n",
       "      <td>51.36</td>\n",
       "      <td>11.01</td>\n",
       "      <td>0.00</td>\n",
       "      <td>0.00</td>\n",
       "      <td>0.00</td>\n",
       "      <td>107.35</td>\n",
       "      <td>0.00</td>\n",
       "      <td>7.69</td>\n",
       "      <td>21.71</td>\n",
       "      <td>99.74</td>\n",
       "    </tr>\n",
       "    <tr>\n",
       "      <th>2013</th>\n",
       "      <td>56.57</td>\n",
       "      <td>1.54</td>\n",
       "      <td>0.00</td>\n",
       "      <td>0.00</td>\n",
       "      <td>0.00</td>\n",
       "      <td>113.25</td>\n",
       "      <td>25.99</td>\n",
       "      <td>3.14</td>\n",
       "      <td>8.59</td>\n",
       "      <td>88.58</td>\n",
       "    </tr>\n",
       "    <tr>\n",
       "      <th>2014</th>\n",
       "      <td>43.76</td>\n",
       "      <td>0.00</td>\n",
       "      <td>0.00</td>\n",
       "      <td>0.00</td>\n",
       "      <td>0.00</td>\n",
       "      <td>47.76</td>\n",
       "      <td>100.00</td>\n",
       "      <td>0.24</td>\n",
       "      <td>3.75</td>\n",
       "      <td>34.74</td>\n",
       "    </tr>\n",
       "    <tr>\n",
       "      <th>2015</th>\n",
       "      <td>27.78</td>\n",
       "      <td>0.00</td>\n",
       "      <td>0.00</td>\n",
       "      <td>0.00</td>\n",
       "      <td>0.00</td>\n",
       "      <td>16.82</td>\n",
       "      <td>118.90</td>\n",
       "      <td>0.12</td>\n",
       "      <td>1.14</td>\n",
       "      <td>11.96</td>\n",
       "    </tr>\n",
       "    <tr>\n",
       "      <th>2016</th>\n",
       "      <td>15.14</td>\n",
       "      <td>0.00</td>\n",
       "      <td>0.00</td>\n",
       "      <td>0.00</td>\n",
       "      <td>0.00</td>\n",
       "      <td>3.60</td>\n",
       "      <td>69.25</td>\n",
       "      <td>0.00</td>\n",
       "      <td>0.18</td>\n",
       "      <td>1.52</td>\n",
       "    </tr>\n",
       "  </tbody>\n",
       "</table>\n",
       "</div>"
      ],
      "text/plain": [
       "platform           3DS      DS    GBA      PS     PS2     PS3     PS4    PSP  \\\n",
       "year_of_release                                                                \n",
       "1994              0.00    0.00   0.00    6.03    0.00    0.00    0.00   0.00   \n",
       "1995              0.00    0.00   0.00   35.96    0.00    0.00    0.00   0.00   \n",
       "1996              0.00    0.00   0.00   94.70    0.00    0.00    0.00   0.00   \n",
       "1997              0.00    0.00   0.00  136.17    0.00    0.00    0.00   0.00   \n",
       "1998              0.00    0.00   0.00  169.49    0.00    0.00    0.00   0.00   \n",
       "1999              0.00    0.00   0.00  144.53    0.00    0.00    0.00   0.00   \n",
       "2000              0.00    0.00   0.07   96.37   39.17    0.00    0.00   0.00   \n",
       "2001              0.00    0.00  61.53   35.59  166.43    0.00    0.00   0.00   \n",
       "2002              0.00    0.00  74.16    6.67  205.38    0.00    0.00   0.00   \n",
       "2003              0.00    0.00  56.67    2.07  184.31    0.00    0.00   0.00   \n",
       "2004              0.00   17.27  77.91    0.00  211.81    0.00    0.00   7.06   \n",
       "2005              0.00  130.14  33.86    0.00  160.66    0.00    0.00  43.84   \n",
       "2006              0.00  119.81   5.28    0.00  103.42   20.96    0.00  55.32   \n",
       "2007              0.00  146.94   3.40    0.00   75.99   73.19    0.00  46.93   \n",
       "2008              0.00  145.31   0.00    0.00   53.90  118.52    0.00  34.55   \n",
       "2009              0.00  119.54   0.00    0.00   26.40  130.93    0.00  37.78   \n",
       "2010              0.00   85.02   0.00    0.00    5.64  142.17    0.00  35.04   \n",
       "2011             63.20   26.18   0.00    0.00    0.45  156.78    0.00  17.82   \n",
       "2012             51.36   11.01   0.00    0.00    0.00  107.35    0.00   7.69   \n",
       "2013             56.57    1.54   0.00    0.00    0.00  113.25   25.99   3.14   \n",
       "2014             43.76    0.00   0.00    0.00    0.00   47.76  100.00   0.24   \n",
       "2015             27.78    0.00   0.00    0.00    0.00   16.82  118.90   0.12   \n",
       "2016             15.14    0.00   0.00    0.00    0.00    3.60   69.25   0.00   \n",
       "\n",
       "platform            Wii    X360  \n",
       "year_of_release                  \n",
       "1994               0.00    0.00  \n",
       "1995               0.00    0.00  \n",
       "1996               0.00    0.00  \n",
       "1997               0.00    0.00  \n",
       "1998               0.00    0.00  \n",
       "1999               0.00    0.00  \n",
       "2000               0.00    0.00  \n",
       "2001               0.00    0.00  \n",
       "2002               0.00    0.00  \n",
       "2003               0.00    0.00  \n",
       "2004               0.00    0.00  \n",
       "2005               0.00    8.25  \n",
       "2006             137.15   51.62  \n",
       "2007             152.77   95.41  \n",
       "2008             171.32  135.26  \n",
       "2009             206.97  120.29  \n",
       "2010             127.95  170.03  \n",
       "2011              59.65  143.84  \n",
       "2012              21.71   99.74  \n",
       "2013               8.59   88.58  \n",
       "2014               3.75   34.74  \n",
       "2015               1.14   11.96  \n",
       "2016               0.18    1.52  "
      ]
     },
     "execution_count": 27,
     "metadata": {},
     "output_type": "execute_result"
    }
   ],
   "source": [
    "sales_in_diff_years = data_games.pivot_table(index='year_of_release', columns='platform', values='total_sales', aggfunc='sum')\n",
    "sales_in_diff_years.fillna(0, inplace=True)\n",
    "# создадим цикл который вернёт все значения из переменной 'sales_in_diff_years' с учетом топ-10 платформ.\n",
    "for platform in sales_in_diff_years.columns:\n",
    "    if platform not in top_sales_by_platform.index:\n",
    "        sales_in_diff_years.drop(platform, axis=1, inplace=True)\n",
    "sales_in_diff_years = sales_in_diff_years[sales_in_diff_years.index >= 1994]\n",
    "# проверим результат\n",
    "sales_in_diff_years"
   ]
  },
  {
   "cell_type": "code",
   "execution_count": 28,
   "id": "d431c2af-f02c-44bf-96dc-879a86264b07",
   "metadata": {},
   "outputs": [
    {
     "data": {
      "image/png": "[encoded data removed]",
      "text/plain": [
       "<Figure size 1080x288 with 1 Axes>"
      ]
     },
     "metadata": {
      "needs_background": "light"
     },
     "output_type": "display_data"
    }
   ],
   "source": [
    "# построим график зависимости количества продаж от типа платформы и года\n",
    "sales_in_diff_years.plot(marker='o', linewidth = 3, figsize=(15, 4), alpha= 0.8)\n",
    "plt.title('Зависимость продаж игр от типа платформы по годам')\n",
    "plt.legend(title='Платформа')\n",
    "plt.xlabel('Год')\n",
    "plt.ylabel('Количество продаж')\n",
    "plt.show()"
   ]
  },
  {
   "cell_type": "markdown",
   "id": "b56e47ac-40c0-4912-b314-861b7c9099f8",
   "metadata": {},
   "source": [
    "По графику видно, что единственной платформой имеющей коммерческий успех это PS4, остальные платформы находятся в своей конечной фазе коммерческого существования."
   ]
  },
  {
   "cell_type": "markdown",
   "id": "620c73d6-25dd-4bde-97cd-e31f2c04ca59",
   "metadata": {},
   "source": [
    "## 3.3 Сделем срез данных за соответствующий актуальный период."
   ]
  },
  {
   "cell_type": "markdown",
   "id": "76939db5-7ee5-448e-aa32-ea788bd5c930",
   "metadata": {},
   "source": [
    "Как было сказано выше, в своей активной коммерческой фазе пребывает платформа PS4, тогда как лидеры по продажам 2011 - 2013 гг: PS3 и X360, — к 2015-2016 гг. уже исчерпали свой коммерческий ресурс."
   ]
  },
  {
   "cell_type": "code",
   "execution_count": 29,
   "id": "4da355c4-55de-4e30-a481-415cba4484dc",
   "metadata": {},
   "outputs": [],
   "source": [
    "# cделем срез за соответствующий актуальный период\n",
    "sales_in_diff_years = sales_in_diff_years[sales_in_diff_years.index >= 2013]"
   ]
  },
  {
   "cell_type": "markdown",
   "id": "56e154b8-8aaa-4255-98be-16ff82afb92e",
   "metadata": {},
   "source": [
    "## 3.4 Выбор платформ лидирующих по продажам."
   ]
  },
  {
   "cell_type": "markdown",
   "id": "1effa660-58ac-4aac-b0b2-4f8b5749af5e",
   "metadata": {},
   "source": [
    "Поскольку мы выяснили, что в среднем платформа живет около 7 лет, то за актуальный период можно взять 2013-2016 гг. Это период активной фазы платформы PS4, вклад остальных платформ в прогноз 2017 года не значителен. Выберем её как потенциально прибыльную."
   ]
  },
  {
   "cell_type": "markdown",
   "id": "f9d1feec-752c-4d28-8470-54d72a414b67",
   "metadata": {},
   "source": [
    "## 3.5 Глобальные продажам игр в разбивке по платформам."
   ]
  },
  {
   "cell_type": "markdown",
   "id": "11c06da0-13b7-46a7-b231-fa61472bcae3",
   "metadata": {},
   "source": [
    "Построим график boxplot по глобальным продажам игр в разбивке по платформам и опишем результат."
   ]
  },
  {
   "cell_type": "code",
   "execution_count": 30,
   "id": "395decea-c89e-4d8b-b9a6-b720930c1ae1",
   "metadata": {},
   "outputs": [
    {
     "data": {
      "image/png": "[encoded data removed]",
      "text/plain": [
       "<Figure size 432x288 with 1 Axes>"
      ]
     },
     "metadata": {
      "needs_background": "light"
     },
     "output_type": "display_data"
    }
   ],
   "source": [
    "# сделаем срез данных исходного датасета по году\n",
    "actual_target_data = data_games.query('year_of_release >= 2013')\n",
    "# построим график\n",
    "sns.boxplot(x=\"platform\", \n",
    "            y='total_sales', \n",
    "            data=actual_target_data\n",
    ")\n",
    "plt.title('Зависимость продаж игр от типа платформы')\n",
    "plt.xlabel('Платформа')\n",
    "plt.ylabel('Количество продаж')\n",
    "plt.tight_layout(rect=(0,0,2,1))\n",
    "plt.ylim(0, 2)\n",
    "plt.show()"
   ]
  },
  {
   "cell_type": "code",
   "execution_count": 31,
   "id": "ef98ea41-79b6-4996-b276-756be9a6c458",
   "metadata": {},
   "outputs": [
    {
     "data": {
      "image/png": "[encoded data removed]",
      "text/plain": [
       "<Figure size 432x288 with 1 Axes>"
      ]
     },
     "metadata": {
      "needs_background": "light"
     },
     "output_type": "display_data"
    }
   ],
   "source": [
    "# построим график без ограничений по оси 'y', что бы оценить разброс значений\n",
    "sns.boxplot(x=\"platform\", \n",
    "            y='total_sales', \n",
    "            data=actual_target_data\n",
    ")\n",
    "plt.title('Зависимость продаж игр от типа платформы')\n",
    "plt.xlabel('Платформа')\n",
    "plt.ylabel('Количество продаж')\n",
    "plt.tight_layout(rect=(0,0,2,1))\n",
    "plt.show()"
   ]
  },
  {
   "cell_type": "markdown",
   "id": "e289e06a-bbbd-4f46-bc4f-9bac3293696f",
   "metadata": {},
   "source": [
    "Важно заметить, что на платформы PS3, X360, PS4 и 3DS есть игры-бестселлеры, копий которых продано очень большое количество."
   ]
  },
  {
   "cell_type": "code",
   "execution_count": 32,
   "id": "dfe8b6fd-2515-479f-bc31-3d30230cf324",
   "metadata": {},
   "outputs": [
    {
     "data": {
      "text/html": [
       "<div>\n",
       "<style scoped>\n",
       "    .dataframe tbody tr th:only-of-type {\n",
       "        vertical-align: middle;\n",
       "    }\n",
       "\n",
       "    .dataframe tbody tr th {\n",
       "        vertical-align: top;\n",
       "    }\n",
       "\n",
       "    .dataframe thead th {\n",
       "        text-align: right;\n",
       "    }\n",
       "</style>\n",
       "<table border=\"1\" class=\"dataframe\">\n",
       "  <thead>\n",
       "    <tr style=\"text-align: right;\">\n",
       "      <th></th>\n",
       "      <th>total_sales</th>\n",
       "    </tr>\n",
       "    <tr>\n",
       "      <th>platform</th>\n",
       "      <th></th>\n",
       "    </tr>\n",
       "  </thead>\n",
       "  <tbody>\n",
       "    <tr>\n",
       "      <th>PS4</th>\n",
       "      <td>314.14</td>\n",
       "    </tr>\n",
       "    <tr>\n",
       "      <th>PS3</th>\n",
       "      <td>181.43</td>\n",
       "    </tr>\n",
       "    <tr>\n",
       "      <th>XOne</th>\n",
       "      <td>159.32</td>\n",
       "    </tr>\n",
       "    <tr>\n",
       "      <th>3DS</th>\n",
       "      <td>143.25</td>\n",
       "    </tr>\n",
       "    <tr>\n",
       "      <th>X360</th>\n",
       "      <td>136.80</td>\n",
       "    </tr>\n",
       "    <tr>\n",
       "      <th>WiiU</th>\n",
       "      <td>64.63</td>\n",
       "    </tr>\n",
       "    <tr>\n",
       "      <th>PC</th>\n",
       "      <td>39.43</td>\n",
       "    </tr>\n",
       "    <tr>\n",
       "      <th>PSV</th>\n",
       "      <td>32.99</td>\n",
       "    </tr>\n",
       "    <tr>\n",
       "      <th>Wii</th>\n",
       "      <td>13.66</td>\n",
       "    </tr>\n",
       "    <tr>\n",
       "      <th>PSP</th>\n",
       "      <td>3.50</td>\n",
       "    </tr>\n",
       "  </tbody>\n",
       "</table>\n",
       "</div>"
      ],
      "text/plain": [
       "          total_sales\n",
       "platform             \n",
       "PS4            314.14\n",
       "PS3            181.43\n",
       "XOne           159.32\n",
       "3DS            143.25\n",
       "X360           136.80\n",
       "WiiU            64.63\n",
       "PC              39.43\n",
       "PSV             32.99\n",
       "Wii             13.66\n",
       "PSP              3.50"
      ]
     },
     "execution_count": 32,
     "metadata": {},
     "output_type": "execute_result"
    }
   ],
   "source": [
    "# посмотрим топ-10 продаж по платформам начиная с 2013 года\n",
    "actual_target_data.pivot_table(index='platform', values='total_sales', aggfunc='sum').nlargest(10, 'total_sales')"
   ]
  },
  {
   "cell_type": "markdown",
   "id": "370e53e4-9989-45f0-ba3d-58980cff13a6",
   "metadata": {},
   "source": [
    "К лидерам по продажам за выбранный период времени(2013-2016 гг.) относятся PS4, PS3 и XOne. Самые низкие доходы от продаж игр на PSP, Wii, PSV, продажи игр на PSP составляют 1,3% от лидирующей консоли — PS4. При этом к лидерам по средним продажам относятся X360, XOne, WiiU и Wii."
   ]
  },
  {
   "cell_type": "markdown",
   "id": "2086762e-6e66-4026-b229-4acfaf657474",
   "metadata": {},
   "source": [
    "## 3.6 Влияние отзывов пользователей и критиков на продажи внутри одной популярной платформы."
   ]
  },
  {
   "cell_type": "markdown",
   "id": "858574f7-ba81-45de-9172-c16119832335",
   "metadata": {},
   "source": [
    "Рассмотрим влияние отзывов пользователей и критиков на продажи игр на примере платформы PS4 - лидера по продажам в период 2013-2016 гг."
   ]
  },
  {
   "cell_type": "code",
   "execution_count": 33,
   "id": "750c924d-5c04-49a2-9ad9-5db69e29bce8",
   "metadata": {},
   "outputs": [
    {
     "data": {
      "image/png": "[encoded data removed]",
      "text/plain": [
       "<Figure size 432x288 with 2 Axes>"
      ]
     },
     "metadata": {
      "needs_background": "light"
     },
     "output_type": "display_data"
    }
   ],
   "source": [
    "# сделаем срез данных по лидирующей платформе\n",
    "ps_four = actual_target_data.query('platform == \"PS4\" and (user_score != -1) and (critic_score != -1)')\n",
    "# посчитаем коэффициент корреляции для отзывов пользователей и критиков относительно объема продаж\n",
    "sns.heatmap(ps_four.loc[:,['total_sales', 'user_score', 'critic_score']].corr(),annot=True);   "
   ]
  },
  {
   "cell_type": "markdown",
   "id": "7d208295-81a0-48e6-bf80-d64aa6676167",
   "metadata": {},
   "source": [
    "Построим диаграмму рассеяния между отзывами и продажами."
   ]
  },
  {
   "cell_type": "code",
   "execution_count": 34,
   "id": "f0e4d761-147d-4fc9-bf24-edef4c21ff3d",
   "metadata": {},
   "outputs": [
    {
     "data": {
      "image/png": "[encoded data removed]",
      "text/plain": [
       "<Figure size 432x288 with 1 Axes>"
      ]
     },
     "metadata": {
      "needs_background": "light"
     },
     "output_type": "display_data"
    }
   ],
   "source": [
    "# построим диаграмму рассеяния\n",
    "sns.scatterplot(data=ps_four, x='user_score', y='total_sales', hue = 'critic_score',size = 'critic_score')\n",
    "plt.title('Диаграмма рассеяния')\n",
    "plt.xlabel('Оценка пользователей')\n",
    "plt.ylabel('Общие продажи')\n",
    "plt.ylim(0,2)\n",
    "plt.show()"
   ]
  },
  {
   "cell_type": "code",
   "execution_count": 35,
   "id": "76334261-8b05-4977-bf99-cf577977c91d",
   "metadata": {},
   "outputs": [
    {
     "data": {
      "image/png": "[encoded data removed]",
      "text/plain": [
       "<Figure size 432x288 with 1 Axes>"
      ]
     },
     "metadata": {
      "needs_background": "light"
     },
     "output_type": "display_data"
    }
   ],
   "source": [
    "sns.scatterplot(data=ps_four, x='critic_score', y='total_sales', hue = 'user_score', size = 'user_score')\n",
    "plt.title('Диаграмма рассеяния')\n",
    "plt.xlabel('Оценка критиков')\n",
    "plt.ylabel('Общие продажи')\n",
    "plt.ylim(0,2)\n",
    "plt.show()"
   ]
  },
  {
   "cell_type": "markdown",
   "id": "0226e0ef-3a5c-4c85-b192-078493a010f9",
   "metadata": {},
   "source": [
    "По корреляционной матрице видно, что отзывы пользователей никак не влияют на продажи игр (связь отсутствует), в то время как отзывы критиков имеют некоторое влияние на продажи: коэффициенты корреляции -0,03 и 0,41 соответственно."
   ]
  },
  {
   "cell_type": "markdown",
   "id": "a11bdc02-f235-4f62-8c88-f8d19ec0cf29",
   "metadata": {},
   "source": [
    "## 3.7 Сравнение влияния отзывов пользователей и критиков на продажи в других платформах."
   ]
  },
  {
   "cell_type": "markdown",
   "id": "1fa95ab6-3f1d-46ef-9183-c16bb4b8b579",
   "metadata": {},
   "source": [
    "Сравним влияние отзывов пользователей и критиков на продажи лидирующих платформ PS3 и XOne за выбранный период времени(2013-2016 гг.)"
   ]
  },
  {
   "cell_type": "code",
   "execution_count": 36,
   "id": "54718719-620e-48ab-8702-7155f4bbcdaf",
   "metadata": {},
   "outputs": [
    {
     "data": {
      "image/png": "[encoded data removed]",
      "text/plain": [
       "<Figure size 432x288 with 2 Axes>"
      ]
     },
     "metadata": {
      "needs_background": "light"
     },
     "output_type": "display_data"
    }
   ],
   "source": [
    "# сделаем срез данных по платформе PS3\n",
    "ps_four = actual_target_data.query('platform == \"PS3\" and (user_score != -1) and (critic_score != -1)')\n",
    "# посчитаем коэффициент корреляции для отзывов пользователей и критиков относительно объема продаж\n",
    "sns.heatmap(ps_four.loc[:,['total_sales', 'user_score', 'critic_score']].corr(),annot=True);  "
   ]
  },
  {
   "cell_type": "markdown",
   "id": "92d6f985-06c4-4a14-b01b-18113c0d9d26",
   "metadata": {},
   "source": [
    "Результат более менее аналогичный. Можно наблюдать зависимость отзывов критиков и отзывами пользователей."
   ]
  },
  {
   "cell_type": "code",
   "execution_count": 37,
   "id": "a7f27695-af42-4a08-b576-af8f9095c9fc",
   "metadata": {},
   "outputs": [
    {
     "data": {
      "image/png": "[encoded data removed]",
      "text/plain": [
       "<Figure size 432x288 with 2 Axes>"
      ]
     },
     "metadata": {
      "needs_background": "light"
     },
     "output_type": "display_data"
    }
   ],
   "source": [
    "# сделаем срез данных по платформе XOne\n",
    "ps_four = actual_target_data.query('platform == \"XOne\" and (user_score != -1) and (critic_score != -1)')\n",
    "# посчитаем коэффициент корреляции для отзывов пользователей и критиков относительно объема продаж\n",
    "sns.heatmap(ps_four.loc[:,['total_sales', 'user_score', 'critic_score']].corr(),annot=True);  "
   ]
  },
  {
   "cell_type": "markdown",
   "id": "5a543353-8660-4e38-a70e-23bca71f26a0",
   "metadata": {},
   "source": [
    "Выводы для других платформ аналогичны. Следовательно, для всех платформ характерно среднее влияние отзывов критиков на продажи и отсутствие влияния отзывов пользователей."
   ]
  },
  {
   "cell_type": "markdown",
   "id": "99ba0aff-0618-440f-8ac5-94855af05397",
   "metadata": {},
   "source": [
    "## 3.8 Проанализируем общее распределение игр по жанрам и о самых прибыльных жанрах."
   ]
  },
  {
   "cell_type": "code",
   "execution_count": 38,
   "id": "8eb505f4-6d4b-44c2-8d7b-14cfad328753",
   "metadata": {},
   "outputs": [
    {
     "data": {
      "text/html": [
       "<div>\n",
       "<style scoped>\n",
       "    .dataframe tbody tr th:only-of-type {\n",
       "        vertical-align: middle;\n",
       "    }\n",
       "\n",
       "    .dataframe tbody tr th {\n",
       "        vertical-align: top;\n",
       "    }\n",
       "\n",
       "    .dataframe thead th {\n",
       "        text-align: right;\n",
       "    }\n",
       "</style>\n",
       "<table border=\"1\" class=\"dataframe\">\n",
       "  <thead>\n",
       "    <tr style=\"text-align: right;\">\n",
       "      <th></th>\n",
       "      <th>total_sales</th>\n",
       "    </tr>\n",
       "    <tr>\n",
       "      <th>genre</th>\n",
       "      <th></th>\n",
       "    </tr>\n",
       "  </thead>\n",
       "  <tbody>\n",
       "    <tr>\n",
       "      <th>Action</th>\n",
       "      <td>321.87</td>\n",
       "    </tr>\n",
       "    <tr>\n",
       "      <th>Shooter</th>\n",
       "      <td>232.98</td>\n",
       "    </tr>\n",
       "    <tr>\n",
       "      <th>Sports</th>\n",
       "      <td>150.65</td>\n",
       "    </tr>\n",
       "    <tr>\n",
       "      <th>Role-Playing</th>\n",
       "      <td>145.89</td>\n",
       "    </tr>\n",
       "    <tr>\n",
       "      <th>Misc</th>\n",
       "      <td>62.82</td>\n",
       "    </tr>\n",
       "    <tr>\n",
       "      <th>Platform</th>\n",
       "      <td>42.63</td>\n",
       "    </tr>\n",
       "    <tr>\n",
       "      <th>Racing</th>\n",
       "      <td>39.89</td>\n",
       "    </tr>\n",
       "    <tr>\n",
       "      <th>Fighting</th>\n",
       "      <td>35.31</td>\n",
       "    </tr>\n",
       "    <tr>\n",
       "      <th>Adventure</th>\n",
       "      <td>23.64</td>\n",
       "    </tr>\n",
       "    <tr>\n",
       "      <th>Simulation</th>\n",
       "      <td>21.76</td>\n",
       "    </tr>\n",
       "    <tr>\n",
       "      <th>Strategy</th>\n",
       "      <td>10.08</td>\n",
       "    </tr>\n",
       "    <tr>\n",
       "      <th>Puzzle</th>\n",
       "      <td>3.17</td>\n",
       "    </tr>\n",
       "  </tbody>\n",
       "</table>\n",
       "</div>"
      ],
      "text/plain": [
       "              total_sales\n",
       "genre                    \n",
       "Action             321.87\n",
       "Shooter            232.98\n",
       "Sports             150.65\n",
       "Role-Playing       145.89\n",
       "Misc                62.82\n",
       "Platform            42.63\n",
       "Racing              39.89\n",
       "Fighting            35.31\n",
       "Adventure           23.64\n",
       "Simulation          21.76\n",
       "Strategy            10.08\n",
       "Puzzle               3.17"
      ]
     },
     "execution_count": 38,
     "metadata": {},
     "output_type": "execute_result"
    }
   ],
   "source": [
    "# построим сводную таблицу популярности жанров, отсортированную по убыванию\n",
    "genre_sales = actual_target_data.pivot_table(index='genre', values='total_sales', aggfunc='sum')\n",
    "genre_sales.sort_values('total_sales', ascending=False)"
   ]
  },
  {
   "cell_type": "code",
   "execution_count": 39,
   "id": "2a653010-972a-4f1b-8fc8-0e269510b579",
   "metadata": {},
   "outputs": [
    {
     "data": {
      "image/png": "[encoded data removed]",
      "text/plain": [
       "<Figure size 432x288 with 1 Axes>"
      ]
     },
     "metadata": {
      "needs_background": "light"
     },
     "output_type": "display_data"
    }
   ],
   "source": [
    "# построим график\n",
    "sns.boxplot(x='genre', \n",
    "            y='total_sales', \n",
    "            data=actual_target_data\n",
    ")\n",
    "plt.title('Распределение игр по жанрам в зависимости от количества продаж')\n",
    "plt.xlabel('Жанр')\n",
    "plt.ylabel('Количество продаж')\n",
    "plt.tight_layout(rect=(0,0,2,1))\n",
    "plt.ylim(0,2)\n",
    "plt.show()"
   ]
  },
  {
   "cell_type": "markdown",
   "id": "7af229b2-8a62-4ac4-9984-127f07b160c0",
   "metadata": {},
   "source": [
    "По таблице и графику видно, что жанр 'shooter' по средним продажам лидирует по сравнению с остальными жанрами игр. Спортивные игры 'sports' и платформеры 'platform' так же имеют высокие продажи в среднем.\\\n",
    "Жанр 'action', наоборот, по этому критерию отстает, в тоже время является в целом самым популярным жанром из-за наибольшего объема продаж. Приключенческие игры 'adventure' и игры-головоломки 'puzzle' вызывают наименьший интерес среди пользователей. Их абсолютные и средние продажи одни из самых низких среди всех жанров."
   ]
  },
  {
   "cell_type": "markdown",
   "id": "19071487-19b8-471a-aa9a-e522ef6ec3b3",
   "metadata": {},
   "source": [
    "Посмотрим, жанры самых продаваемых игр за все время:"
   ]
  },
  {
   "cell_type": "code",
   "execution_count": 40,
   "id": "23974d3f-825b-4765-9737-f4c509ee4427",
   "metadata": {},
   "outputs": [
    {
     "data": {
      "text/html": [
       "<div>\n",
       "<style scoped>\n",
       "    .dataframe tbody tr th:only-of-type {\n",
       "        vertical-align: middle;\n",
       "    }\n",
       "\n",
       "    .dataframe tbody tr th {\n",
       "        vertical-align: top;\n",
       "    }\n",
       "\n",
       "    .dataframe thead th {\n",
       "        text-align: right;\n",
       "    }\n",
       "</style>\n",
       "<table border=\"1\" class=\"dataframe\">\n",
       "  <thead>\n",
       "    <tr style=\"text-align: right;\">\n",
       "      <th></th>\n",
       "      <th></th>\n",
       "      <th>total_sales</th>\n",
       "    </tr>\n",
       "    <tr>\n",
       "      <th>name</th>\n",
       "      <th>genre</th>\n",
       "      <th></th>\n",
       "    </tr>\n",
       "  </thead>\n",
       "  <tbody>\n",
       "    <tr>\n",
       "      <th>Wii Sports</th>\n",
       "      <th>Sports</th>\n",
       "      <td>82.54</td>\n",
       "    </tr>\n",
       "    <tr>\n",
       "      <th>Grand Theft Auto V</th>\n",
       "      <th>Action</th>\n",
       "      <td>56.58</td>\n",
       "    </tr>\n",
       "    <tr>\n",
       "      <th>Super Mario Bros.</th>\n",
       "      <th>Platform</th>\n",
       "      <td>45.31</td>\n",
       "    </tr>\n",
       "    <tr>\n",
       "      <th>Tetris</th>\n",
       "      <th>Puzzle</th>\n",
       "      <td>35.84</td>\n",
       "    </tr>\n",
       "    <tr>\n",
       "      <th>Mario Kart Wii</th>\n",
       "      <th>Racing</th>\n",
       "      <td>35.52</td>\n",
       "    </tr>\n",
       "    <tr>\n",
       "      <th>Wii Sports Resort</th>\n",
       "      <th>Sports</th>\n",
       "      <td>32.77</td>\n",
       "    </tr>\n",
       "    <tr>\n",
       "      <th>Pokemon Red/Pokemon Blue</th>\n",
       "      <th>Role-Playing</th>\n",
       "      <td>31.38</td>\n",
       "    </tr>\n",
       "    <tr>\n",
       "      <th>Call of Duty: Modern Warfare 3</th>\n",
       "      <th>Shooter</th>\n",
       "      <td>30.60</td>\n",
       "    </tr>\n",
       "    <tr>\n",
       "      <th>New Super Mario Bros.</th>\n",
       "      <th>Platform</th>\n",
       "      <td>29.80</td>\n",
       "    </tr>\n",
       "    <tr>\n",
       "      <th>Call of Duty: Black Ops II</th>\n",
       "      <th>Shooter</th>\n",
       "      <td>29.40</td>\n",
       "    </tr>\n",
       "  </tbody>\n",
       "</table>\n",
       "</div>"
      ],
      "text/plain": [
       "                                             total_sales\n",
       "name                           genre                    \n",
       "Wii Sports                     Sports              82.54\n",
       "Grand Theft Auto V             Action              56.58\n",
       "Super Mario Bros.              Platform            45.31\n",
       "Tetris                         Puzzle              35.84\n",
       "Mario Kart Wii                 Racing              35.52\n",
       "Wii Sports Resort              Sports              32.77\n",
       "Pokemon Red/Pokemon Blue       Role-Playing        31.38\n",
       "Call of Duty: Modern Warfare 3 Shooter             30.60\n",
       "New Super Mario Bros.          Platform            29.80\n",
       "Call of Duty: Black Ops II     Shooter             29.40"
      ]
     },
     "execution_count": 40,
     "metadata": {},
     "output_type": "execute_result"
    }
   ],
   "source": [
    "# построим сводную таблицу популярности жанров самых продаваемых игр за все время\n",
    "top_sales_genre = data_games.pivot_table(index=['name','genre'], values='total_sales', aggfunc='sum').nlargest(10, 'total_sales')\n",
    "top_sales_genre.sort_values('total_sales', ascending=False)"
   ]
  },
  {
   "cell_type": "markdown",
   "id": "676d99b2-a9c7-4ad4-8bbf-7e2bde13a052",
   "metadata": {},
   "source": [
    "Интересно, что в первой тройке отсутствует жанр 'shooter', а наоборот является одим из самых непродаваемых за все время. Вероятно, это связано с тем, что жанр 'shooter' в том виде, в котором мы его знаем на сегодняшней день относительно молодой и появился с развитием компьютерных технологий.\\\n",
    "В свою очередь самые популярные жанры самых продаваемых игр за все время: 'sports', 'action' и 'platform.\n"
   ]
  },
  {
   "cell_type": "markdown",
   "id": "432b7e14-63f2-4625-8fc7-10e004c5e063",
   "metadata": {},
   "source": [
    "**Вывод:**\n",
    "\n",
    "Начиная с 1993 года в мире растет число продаж игр и игровая индустрия интенсивно равивается. Тенденция выпускать больше игр пришла вместе с технологическим прорывом: появлением почти в каждом доме персонального компьютера и технологий языков программирования. После 2009 года наблюдаентся резкий спад спроса. К 2012 году количество продаж снизилось вдвое по сравнению с успехами 2008 - 2009 годов. Вероятнее всего это связано с долгосрочными последствиями мирового экономического кризиса начавшимся в конце 2007 - начале 2008 годов.\n",
    "\n",
    "Данные до 1994 года, на заре развития индустрии не несут в себе необходимой для анализа информации.\n",
    "В тройке лидеров по исходным данным такие платформы как: PS2, X360, PS3. Так же мы наблюдали, что и продолжительность актуальности данных платформ так же высока. По данным актуальным для проведения анализа, в своей активной коммерческой фазе на текущей момент пребывает платформа PS4, тогда как лидеры по продажам 2011 - 2013 гг: PS3 и X360, — к 2015-2016 гг. уже исчерпали свой коммерческий ресурс.\n",
    "\n",
    "Мы выяснили, что в среднем платформа живет около 7 лет и за интересующий нас период взяли 2013-2016 гг. Это период активной фазы платформы PS4, поэтому выбрали её как потенциально прибыльную, вклад остальных платформ в прогноз 2017 года не значителен.\n",
    "В целом к лидерам по продажам за выбранный период времени(2013-2016 гг.) относятся PS4, PS3 и XOne. Самые низкие доходы от продаж игр на PSP, Wii, PSV. При этом к лидерам по средним продажам относятся X360, XOne, WiiU и Wii.\n",
    "Выяснили, что отзывы пользователей никак не влияют на продажи игр, в то время как отзывы критиков имеют некоторое влияние на продажи. Заметили зависимость отзывов критиков и отзывами пользователей.\n",
    "Проверили, что для всех платформ характерно среднее влияние отзывов критиков на продажи и отсутствие влияния отзывов пользователей.\n",
    "Определили, что жанр 'shooter' по средним продажам лидирует по сравнению с остальными жанрами игр. Спортивные игры 'sports' и платформеры 'platform' так же имеют высокие продажи в среднем.\n",
    "Жанр 'action', наоборот, по этому критерию отстает, в тоже время является в целом самым популярным жанром из-за наибольшего объема продаж. Приключенческие игры 'adventure' и игры-головоломки 'puzzle' вызывают наименьший интерес среди пользователей. Их абсолютные и средние продажи одни из самых низких среди всех жанров.\n",
    "\n",
    "Выяснили жанры самых продаваемых игр за все время:\n",
    "Обнаружили что первой тройке отсутствует жанр 'shooter', а наоборот является одим из самых непродаваемых за все время. Вероятно, это связано с тем, что жанр 'shooter' в том виде, в котором мы его знаем на сегодняшней день относительно молодой и появился с развитием компьютерных технологий.\n",
    "В свою очередь самые популярные жанры самых продаваемых игр за все время: 'sports', 'action' и 'platform."
   ]
  },
  {
   "cell_type": "markdown",
   "id": "539c5e9f-3246-4e59-8922-60ffeed77ba5",
   "metadata": {},
   "source": [
    "# 4. Портрет пользователя каждого региона"
   ]
  },
  {
   "cell_type": "markdown",
   "id": "441fb914-2d6c-4222-968f-60eb14ae9126",
   "metadata": {},
   "source": [
    "## 4.1 Количество продаж игр по платформам в зависимости от региона."
   ]
  },
  {
   "cell_type": "markdown",
   "id": "c37490de-d289-4349-8ed8-6cf24e38bf7d",
   "metadata": {},
   "source": [
    "Посмотрим количество продаж игр по платформам в зависимости от региона за выбранный актуальный период."
   ]
  },
  {
   "cell_type": "markdown",
   "id": "7a285c59-927a-4c19-a1af-91709e076662",
   "metadata": {},
   "source": [
    "### 4.1.1 Северная Америка."
   ]
  },
  {
   "cell_type": "code",
   "execution_count": 41,
   "id": "db95c400-38da-46b6-b24e-1d0c7c709a45",
   "metadata": {},
   "outputs": [
    {
     "data": {
      "text/html": [
       "<div>\n",
       "<style scoped>\n",
       "    .dataframe tbody tr th:only-of-type {\n",
       "        vertical-align: middle;\n",
       "    }\n",
       "\n",
       "    .dataframe tbody tr th {\n",
       "        vertical-align: top;\n",
       "    }\n",
       "\n",
       "    .dataframe thead th {\n",
       "        text-align: right;\n",
       "    }\n",
       "</style>\n",
       "<table border=\"1\" class=\"dataframe\">\n",
       "  <thead>\n",
       "    <tr style=\"text-align: right;\">\n",
       "      <th></th>\n",
       "      <th>na_sales</th>\n",
       "    </tr>\n",
       "    <tr>\n",
       "      <th>platform</th>\n",
       "      <th></th>\n",
       "    </tr>\n",
       "  </thead>\n",
       "  <tbody>\n",
       "    <tr>\n",
       "      <th>PS4</th>\n",
       "      <td>108.74</td>\n",
       "    </tr>\n",
       "    <tr>\n",
       "      <th>XOne</th>\n",
       "      <td>93.12</td>\n",
       "    </tr>\n",
       "    <tr>\n",
       "      <th>X360</th>\n",
       "      <td>81.66</td>\n",
       "    </tr>\n",
       "    <tr>\n",
       "      <th>PS3</th>\n",
       "      <td>63.50</td>\n",
       "    </tr>\n",
       "    <tr>\n",
       "      <th>3DS</th>\n",
       "      <td>38.20</td>\n",
       "    </tr>\n",
       "  </tbody>\n",
       "</table>\n",
       "</div>"
      ],
      "text/plain": [
       "          na_sales\n",
       "platform          \n",
       "PS4         108.74\n",
       "XOne         93.12\n",
       "X360         81.66\n",
       "PS3          63.50\n",
       "3DS          38.20"
      ]
     },
     "execution_count": 41,
     "metadata": {},
     "output_type": "execute_result"
    }
   ],
   "source": [
    "# построим сводную таблицу количества проданных копий игр по платформам с учётом региона\n",
    "na_sales = actual_target_data.pivot_table(index='platform', values='na_sales', aggfunc='sum').nlargest(5,'na_sales')\n",
    "na_sales.sort_values('na_sales', ascending=False)"
   ]
  },
  {
   "cell_type": "code",
   "execution_count": 42,
   "id": "adb7b74a-d5ba-4cd6-8e7c-aaa324db3328",
   "metadata": {},
   "outputs": [
    {
     "data": {
      "image/png": "[encoded data removed]",
      "text/plain": [
       "<Figure size 432x288 with 1 Axes>"
      ]
     },
     "metadata": {
      "needs_background": "light"
     },
     "output_type": "display_data"
    }
   ],
   "source": [
    "# визуализируем на графике полученную информацию\n",
    "na_sales.plot(kind='barh', legend=True, grid=True, ec='black', figsize=(6, 4))\n",
    "plt.title('Количество проданных копий игр по платформам с учётом региона')\n",
    "plt.legend(title='Платформа')\n",
    "plt.xlabel('Платформа')\n",
    "plt.ylabel('Количество продаж')\n",
    "plt.show()"
   ]
  },
  {
   "cell_type": "markdown",
   "id": "25b2275a-9f89-4650-8b89-1fb1ef3e1825",
   "metadata": {},
   "source": [
    "В Cеверной Америке наибольшим спросом пользуются игры на полатформу PS4, что логично, так как в актуальном периоде данная платформа является самой популярной в мире."
   ]
  },
  {
   "cell_type": "markdown",
   "id": "ab2b343a-75d8-4035-8d4c-cef2db9fa574",
   "metadata": {},
   "source": [
    "### 4.1.2 Европа."
   ]
  },
  {
   "cell_type": "code",
   "execution_count": 43,
   "id": "39302362-2c9a-465f-bd76-b36daf28f1f4",
   "metadata": {},
   "outputs": [
    {
     "data": {
      "text/html": [
       "<div>\n",
       "<style scoped>\n",
       "    .dataframe tbody tr th:only-of-type {\n",
       "        vertical-align: middle;\n",
       "    }\n",
       "\n",
       "    .dataframe tbody tr th {\n",
       "        vertical-align: top;\n",
       "    }\n",
       "\n",
       "    .dataframe thead th {\n",
       "        text-align: right;\n",
       "    }\n",
       "</style>\n",
       "<table border=\"1\" class=\"dataframe\">\n",
       "  <thead>\n",
       "    <tr style=\"text-align: right;\">\n",
       "      <th></th>\n",
       "      <th>eu_sales</th>\n",
       "    </tr>\n",
       "    <tr>\n",
       "      <th>platform</th>\n",
       "      <th></th>\n",
       "    </tr>\n",
       "  </thead>\n",
       "  <tbody>\n",
       "    <tr>\n",
       "      <th>PS4</th>\n",
       "      <td>141.09</td>\n",
       "    </tr>\n",
       "    <tr>\n",
       "      <th>PS3</th>\n",
       "      <td>67.81</td>\n",
       "    </tr>\n",
       "    <tr>\n",
       "      <th>XOne</th>\n",
       "      <td>51.59</td>\n",
       "    </tr>\n",
       "    <tr>\n",
       "      <th>X360</th>\n",
       "      <td>42.52</td>\n",
       "    </tr>\n",
       "    <tr>\n",
       "      <th>3DS</th>\n",
       "      <td>30.96</td>\n",
       "    </tr>\n",
       "  </tbody>\n",
       "</table>\n",
       "</div>"
      ],
      "text/plain": [
       "          eu_sales\n",
       "platform          \n",
       "PS4         141.09\n",
       "PS3          67.81\n",
       "XOne         51.59\n",
       "X360         42.52\n",
       "3DS          30.96"
      ]
     },
     "execution_count": 43,
     "metadata": {},
     "output_type": "execute_result"
    }
   ],
   "source": [
    "# построим сводную таблицу количества проданных копий игр по платформам с учётом региона\n",
    "eu_sales = actual_target_data.pivot_table(index='platform', values='eu_sales', aggfunc='sum').nlargest(5,'eu_sales')\n",
    "eu_sales.sort_values('eu_sales', ascending=False)"
   ]
  },
  {
   "cell_type": "code",
   "execution_count": 44,
   "id": "5075aacf-1d46-4670-8dc8-4e70ee59e9d6",
   "metadata": {},
   "outputs": [
    {
     "data": {
      "image/png": "[encoded data removed]",
      "text/plain": [
       "<Figure size 432x288 with 1 Axes>"
      ]
     },
     "metadata": {
      "needs_background": "light"
     },
     "output_type": "display_data"
    }
   ],
   "source": [
    "# визуализируем на графике полученную информацию\n",
    "eu_sales.plot(kind='barh', legend=True, grid=True, ec='black', figsize=(6, 4))\n",
    "plt.title('Количество проданных копий игр по платформам с учётом региона')\n",
    "plt.legend(title='Платформа')\n",
    "plt.xlabel('Платформа')\n",
    "plt.ylabel('Количество продаж')\n",
    "plt.show()"
   ]
  },
  {
   "cell_type": "raw",
   "id": "7cddfd1a-3850-4569-8c84-6afe6ace22ae",
   "metadata": {},
   "source": [
    "В Европе наибольшим спросом так же пользуются игры на полатформу PS4."
   ]
  },
  {
   "cell_type": "markdown",
   "id": "084dcd17-90bd-4440-952f-b5d61bb4fe64",
   "metadata": {},
   "source": [
    "### 4.1.3 Азия."
   ]
  },
  {
   "cell_type": "code",
   "execution_count": 45,
   "id": "cd04912f-3e30-477f-b834-b608429d9508",
   "metadata": {},
   "outputs": [
    {
     "data": {
      "text/html": [
       "<div>\n",
       "<style scoped>\n",
       "    .dataframe tbody tr th:only-of-type {\n",
       "        vertical-align: middle;\n",
       "    }\n",
       "\n",
       "    .dataframe tbody tr th {\n",
       "        vertical-align: top;\n",
       "    }\n",
       "\n",
       "    .dataframe thead th {\n",
       "        text-align: right;\n",
       "    }\n",
       "</style>\n",
       "<table border=\"1\" class=\"dataframe\">\n",
       "  <thead>\n",
       "    <tr style=\"text-align: right;\">\n",
       "      <th></th>\n",
       "      <th>jp_sales</th>\n",
       "    </tr>\n",
       "    <tr>\n",
       "      <th>platform</th>\n",
       "      <th></th>\n",
       "    </tr>\n",
       "  </thead>\n",
       "  <tbody>\n",
       "    <tr>\n",
       "      <th>3DS</th>\n",
       "      <td>67.81</td>\n",
       "    </tr>\n",
       "    <tr>\n",
       "      <th>PS3</th>\n",
       "      <td>23.35</td>\n",
       "    </tr>\n",
       "    <tr>\n",
       "      <th>PSV</th>\n",
       "      <td>18.59</td>\n",
       "    </tr>\n",
       "    <tr>\n",
       "      <th>PS4</th>\n",
       "      <td>15.96</td>\n",
       "    </tr>\n",
       "    <tr>\n",
       "      <th>WiiU</th>\n",
       "      <td>10.88</td>\n",
       "    </tr>\n",
       "  </tbody>\n",
       "</table>\n",
       "</div>"
      ],
      "text/plain": [
       "          jp_sales\n",
       "platform          \n",
       "3DS          67.81\n",
       "PS3          23.35\n",
       "PSV          18.59\n",
       "PS4          15.96\n",
       "WiiU         10.88"
      ]
     },
     "execution_count": 45,
     "metadata": {},
     "output_type": "execute_result"
    }
   ],
   "source": [
    "# построим сводную таблицу количества проданных копий игр по платформам с учётом региона\n",
    "jp_sales = actual_target_data.pivot_table(index='platform', values='jp_sales', aggfunc='sum').nlargest(5,'jp_sales')\n",
    "jp_sales.sort_values('jp_sales', ascending=False)"
   ]
  },
  {
   "cell_type": "code",
   "execution_count": 46,
   "id": "bae429c9-4d8c-4f60-91c9-6f0ae423c779",
   "metadata": {},
   "outputs": [
    {
     "data": {
      "image/png": "[encoded data removed]",
      "text/plain": [
       "<Figure size 432x288 with 1 Axes>"
      ]
     },
     "metadata": {
      "needs_background": "light"
     },
     "output_type": "display_data"
    }
   ],
   "source": [
    "# визуализируем на графике полученную информацию\n",
    "jp_sales.plot(kind='barh', legend=True, grid=True, ec='black', figsize=(6, 4))\n",
    "plt.title('Количество проданных копий игр по платформам с учётом региона')\n",
    "plt.legend(title='Платформа')\n",
    "plt.xlabel('Платформа')\n",
    "plt.ylabel('Количество продаж')\n",
    "plt.show()"
   ]
  },
  {
   "cell_type": "markdown",
   "id": "3ae5b80f-d653-4ce2-90ea-d68fdc86429e",
   "metadata": {},
   "source": [
    "В Азии наибольшим спросом пользуются игры на полатформу 3DS."
   ]
  },
  {
   "cell_type": "markdown",
   "id": "1d47d17a-bdc2-4bec-b908-bc9bbd0d523f",
   "metadata": {},
   "source": [
    "Интересно, что если в Америке и Европе набор топ-5 платформ одинаковый и различается незначительно, то в Японии топ-5 кардинально другой.\n",
    "\n",
    "В Америке и Европе самой популярной платформой является PS4, в то время как в Японии эта платформа занимает лишь четвертон место.\n",
    "На первом месте в Японии платформа 3DS, которая на Западе, напротив, занимает по популярности последнее место из пяти."
   ]
  },
  {
   "cell_type": "markdown",
   "id": "163e597d-5dd6-408a-b11e-94d7ec0d938c",
   "metadata": {},
   "source": [
    "## 4.2 Популярность жанров в зависимости от региона."
   ]
  },
  {
   "cell_type": "markdown",
   "id": "efbf4892-289d-4b7a-8ff3-b3877b847cc1",
   "metadata": {},
   "source": [
    "Посмотрим самые апопулярные жанры в зависимости от региона за выбранный актуальный период."
   ]
  },
  {
   "cell_type": "markdown",
   "id": "bf3480de-992b-4fb0-8594-6246013de3c4",
   "metadata": {},
   "source": [
    "### 4.2.1 Северная Америка."
   ]
  },
  {
   "cell_type": "code",
   "execution_count": 47,
   "id": "cae64401-2d27-4eee-b249-05ba0bee0a77",
   "metadata": {},
   "outputs": [
    {
     "data": {
      "text/html": [
       "<div>\n",
       "<style scoped>\n",
       "    .dataframe tbody tr th:only-of-type {\n",
       "        vertical-align: middle;\n",
       "    }\n",
       "\n",
       "    .dataframe tbody tr th {\n",
       "        vertical-align: top;\n",
       "    }\n",
       "\n",
       "    .dataframe thead th {\n",
       "        text-align: right;\n",
       "    }\n",
       "</style>\n",
       "<table border=\"1\" class=\"dataframe\">\n",
       "  <thead>\n",
       "    <tr style=\"text-align: right;\">\n",
       "      <th></th>\n",
       "      <th>na_sales</th>\n",
       "    </tr>\n",
       "    <tr>\n",
       "      <th>platform</th>\n",
       "      <th></th>\n",
       "    </tr>\n",
       "  </thead>\n",
       "  <tbody>\n",
       "    <tr>\n",
       "      <th>PS4</th>\n",
       "      <td>108.74</td>\n",
       "    </tr>\n",
       "    <tr>\n",
       "      <th>XOne</th>\n",
       "      <td>93.12</td>\n",
       "    </tr>\n",
       "    <tr>\n",
       "      <th>X360</th>\n",
       "      <td>81.66</td>\n",
       "    </tr>\n",
       "    <tr>\n",
       "      <th>PS3</th>\n",
       "      <td>63.50</td>\n",
       "    </tr>\n",
       "    <tr>\n",
       "      <th>3DS</th>\n",
       "      <td>38.20</td>\n",
       "    </tr>\n",
       "  </tbody>\n",
       "</table>\n",
       "</div>"
      ],
      "text/plain": [
       "          na_sales\n",
       "platform          \n",
       "PS4         108.74\n",
       "XOne         93.12\n",
       "X360         81.66\n",
       "PS3          63.50\n",
       "3DS          38.20"
      ]
     },
     "execution_count": 47,
     "metadata": {},
     "output_type": "execute_result"
    }
   ],
   "source": [
    "# построим сводную таблицу жанров игр с учётом региона\n",
    "na_genre = actual_target_data.pivot_table(index='genre', values='na_sales', aggfunc='sum').nlargest(5,'na_sales')\n",
    "na_sales.sort_values('na_sales', ascending=False)"
   ]
  },
  {
   "cell_type": "code",
   "execution_count": 48,
   "id": "6b0674aa-6439-4501-be9d-3b3da90bfdc6",
   "metadata": {},
   "outputs": [
    {
     "data": {
      "image/png": "[encoded data removed]",
      "text/plain": [
       "<Figure size 432x288 with 1 Axes>"
      ]
     },
     "metadata": {
      "needs_background": "light"
     },
     "output_type": "display_data"
    }
   ],
   "source": [
    "# визуализируем на графике полученную информацию\n",
    "na_genre.plot(kind='barh', legend=True, grid=True, ec='black', figsize=(6, 4))\n",
    "plt.title('Количество проданных копий игр по платформам с учётом региона')\n",
    "plt.legend(title='Платформа')\n",
    "plt.xlabel('Платформа')\n",
    "plt.ylabel('Количество продаж')\n",
    "plt.show()"
   ]
  },
  {
   "cell_type": "markdown",
   "id": "0734a7f7-cf74-449c-a71b-62b4674d5929",
   "metadata": {},
   "source": [
    "В Cеверной Америке наибольшим спросом пользуются жанры 'action' и 'shooter'."
   ]
  },
  {
   "cell_type": "markdown",
   "id": "03c8cb74-3bf8-489d-af13-2d3ff5662b5c",
   "metadata": {},
   "source": [
    "### 4.2.2 Европа."
   ]
  },
  {
   "cell_type": "code",
   "execution_count": 49,
   "id": "65b16169-ec7b-4869-b63a-6b65baf9b4f6",
   "metadata": {},
   "outputs": [
    {
     "data": {
      "text/html": [
       "<div>\n",
       "<style scoped>\n",
       "    .dataframe tbody tr th:only-of-type {\n",
       "        vertical-align: middle;\n",
       "    }\n",
       "\n",
       "    .dataframe tbody tr th {\n",
       "        vertical-align: top;\n",
       "    }\n",
       "\n",
       "    .dataframe thead th {\n",
       "        text-align: right;\n",
       "    }\n",
       "</style>\n",
       "<table border=\"1\" class=\"dataframe\">\n",
       "  <thead>\n",
       "    <tr style=\"text-align: right;\">\n",
       "      <th></th>\n",
       "      <th>eu_sales</th>\n",
       "    </tr>\n",
       "    <tr>\n",
       "      <th>platform</th>\n",
       "      <th></th>\n",
       "    </tr>\n",
       "  </thead>\n",
       "  <tbody>\n",
       "    <tr>\n",
       "      <th>PS4</th>\n",
       "      <td>141.09</td>\n",
       "    </tr>\n",
       "    <tr>\n",
       "      <th>PS3</th>\n",
       "      <td>67.81</td>\n",
       "    </tr>\n",
       "    <tr>\n",
       "      <th>XOne</th>\n",
       "      <td>51.59</td>\n",
       "    </tr>\n",
       "    <tr>\n",
       "      <th>X360</th>\n",
       "      <td>42.52</td>\n",
       "    </tr>\n",
       "    <tr>\n",
       "      <th>3DS</th>\n",
       "      <td>30.96</td>\n",
       "    </tr>\n",
       "  </tbody>\n",
       "</table>\n",
       "</div>"
      ],
      "text/plain": [
       "          eu_sales\n",
       "platform          \n",
       "PS4         141.09\n",
       "PS3          67.81\n",
       "XOne         51.59\n",
       "X360         42.52\n",
       "3DS          30.96"
      ]
     },
     "execution_count": 49,
     "metadata": {},
     "output_type": "execute_result"
    }
   ],
   "source": [
    "# построим сводную таблицу жанров игр с учётом региона\n",
    "eu_genre = actual_target_data.pivot_table(index='genre', values='eu_sales', aggfunc='sum').nlargest(5,'eu_sales')\n",
    "eu_sales.sort_values('eu_sales', ascending=False)"
   ]
  },
  {
   "cell_type": "code",
   "execution_count": 50,
   "id": "094a24fa-2017-4185-972a-670ba095ea75",
   "metadata": {},
   "outputs": [
    {
     "data": {
      "image/png": "[encoded data removed]",
      "text/plain": [
       "<Figure size 432x288 with 1 Axes>"
      ]
     },
     "metadata": {
      "needs_background": "light"
     },
     "output_type": "display_data"
    }
   ],
   "source": [
    "# визуализируем на графике полученную информацию\n",
    "eu_genre.plot(kind='barh', legend=True, grid=True, ec='black', figsize=(6, 4))\n",
    "plt.title('Количество проданных копий игр по платформам с учётом региона')\n",
    "plt.legend(title='Платформа')\n",
    "plt.xlabel('Платформа')\n",
    "plt.ylabel('Количество продаж')\n",
    "plt.show()"
   ]
  },
  {
   "cell_type": "markdown",
   "id": "4d1f1438-2b0d-4b89-99b7-d2bd8874a98f",
   "metadata": {},
   "source": [
    "В Европе можно наблюдать аналогичную ситуацию с популяронстью жанров. В Европе более популяерн жанр авто-симуляторов ('racing'), с Америке жанр 'разное' (misc)."
   ]
  },
  {
   "cell_type": "markdown",
   "id": "124216a2-a104-4f2f-9211-e7b171ce83ca",
   "metadata": {},
   "source": [
    "### 4.2.3 Азия."
   ]
  },
  {
   "cell_type": "code",
   "execution_count": 51,
   "id": "ada633cf-0194-4f92-a085-d089519b3961",
   "metadata": {},
   "outputs": [
    {
     "data": {
      "text/html": [
       "<div>\n",
       "<style scoped>\n",
       "    .dataframe tbody tr th:only-of-type {\n",
       "        vertical-align: middle;\n",
       "    }\n",
       "\n",
       "    .dataframe tbody tr th {\n",
       "        vertical-align: top;\n",
       "    }\n",
       "\n",
       "    .dataframe thead th {\n",
       "        text-align: right;\n",
       "    }\n",
       "</style>\n",
       "<table border=\"1\" class=\"dataframe\">\n",
       "  <thead>\n",
       "    <tr style=\"text-align: right;\">\n",
       "      <th></th>\n",
       "      <th>jp_sales</th>\n",
       "    </tr>\n",
       "    <tr>\n",
       "      <th>platform</th>\n",
       "      <th></th>\n",
       "    </tr>\n",
       "  </thead>\n",
       "  <tbody>\n",
       "    <tr>\n",
       "      <th>3DS</th>\n",
       "      <td>67.81</td>\n",
       "    </tr>\n",
       "    <tr>\n",
       "      <th>PS3</th>\n",
       "      <td>23.35</td>\n",
       "    </tr>\n",
       "    <tr>\n",
       "      <th>PSV</th>\n",
       "      <td>18.59</td>\n",
       "    </tr>\n",
       "    <tr>\n",
       "      <th>PS4</th>\n",
       "      <td>15.96</td>\n",
       "    </tr>\n",
       "    <tr>\n",
       "      <th>WiiU</th>\n",
       "      <td>10.88</td>\n",
       "    </tr>\n",
       "  </tbody>\n",
       "</table>\n",
       "</div>"
      ],
      "text/plain": [
       "          jp_sales\n",
       "platform          \n",
       "3DS          67.81\n",
       "PS3          23.35\n",
       "PSV          18.59\n",
       "PS4          15.96\n",
       "WiiU         10.88"
      ]
     },
     "execution_count": 51,
     "metadata": {},
     "output_type": "execute_result"
    }
   ],
   "source": [
    "# построим сводную таблицу жанров игр с учётом региона\n",
    "jp_genre = actual_target_data.pivot_table(index='genre', values='jp_sales', aggfunc='sum').nlargest(5,'jp_sales')\n",
    "jp_sales.sort_values('jp_sales', ascending=False)"
   ]
  },
  {
   "cell_type": "code",
   "execution_count": 52,
   "id": "5dc2a989-77e9-4eae-be09-18659a67eaec",
   "metadata": {},
   "outputs": [
    {
     "data": {
      "image/png": "[encoded data removed]",
      "text/plain": [
       "<Figure size 432x288 with 1 Axes>"
      ]
     },
     "metadata": {
      "needs_background": "light"
     },
     "output_type": "display_data"
    }
   ],
   "source": [
    "# визуализируем на графике полученную информацию\n",
    "jp_genre.plot(kind='barh', legend=True, grid=True, ec='black', figsize=(6, 4))\n",
    "plt.title('Количество проданных копий игр по платформам с учётом региона')\n",
    "plt.legend(title='Платформа')\n",
    "plt.xlabel('Платформа')\n",
    "plt.ylabel('Количество продаж')\n",
    "plt.show()"
   ]
  },
  {
   "cell_type": "markdown",
   "id": "04f3990a-8e71-42e0-9be1-9792ae4b33e8",
   "metadata": {},
   "source": [
    "В Азии как и с типом популярных платформ, абсолютное расхождение в популярности жанров. Наиболее популярные жанры ролевых игр ('role-playing') и экшенов ('action'), наименее популярным жанром является шутер ('shooter')\t"
   ]
  },
  {
   "cell_type": "markdown",
   "id": "68037230-f3f0-40e2-9261-9d3c9476f07f",
   "metadata": {},
   "source": [
    "Жанр Action, очевидно, на первых местах на Западе и Европе, в Японии - второе место. Отличительная черта топ-5 жанров по продажам в Америке и Европе это 5 место: жанр Misc в Америке и  жанр Racing в Европе. Кроме того, в Японии на первом месте по популярности не свойственный другим регионам жанр Role-Playing."
   ]
  },
  {
   "cell_type": "markdown",
   "id": "6f6c929a-5a50-4f64-b2e2-1cf0a0fa3b1c",
   "metadata": {},
   "source": [
    "## 4.3 Влияние рейтинга ESRB на продажи в отдельном регионе."
   ]
  },
  {
   "cell_type": "markdown",
   "id": "430971be-406f-4b39-bc9f-92d62a60e56c",
   "metadata": {},
   "source": [
    "Посмотрим как влияет рейтинг ESRB на продажи в отдельных регионах. Для этого создадим сводные таблицы. "
   ]
  },
  {
   "cell_type": "markdown",
   "id": "3ed745e6-e7bd-40d5-9e4f-3926faa5b19a",
   "metadata": {},
   "source": [
    "**EC** - Для детей младшего возраста. Подходит для детей от 3 лет, неприемлемое содержание отсутствует.\\\n",
    "**E** - Подходит для всех возрастных категорий. Игра не должна содержать звуков или изображений, которые могут напугать маленьких детей. Не должна использоваться ненормативная лексика.\\\n",
    "**E 10+** - Подходит для лиц старше 10 лет. Игра может содержать умеренные формы насилия, а некоторые сцены могут пугать детей.\\\n",
    "**T** - Подходит для лиц старше 13 лет. Игра может содержать более реалистичные и натуралистические сцены насилия.\\\n",
    "**M** - Подходит для лиц старше 17 лет. Этот рейтинг используется, когда насилие становится реалистичным и похожим на реальную жизнь. Также может присутствовать ненормативная лексика, употребление табака, алкоголя или запрещенных наркотиков.\\\n",
    "**AO** - Подходит для взрослых старше 18 лет. Классификация «для взрослых» используется, когда в игре присутствует крайний уровень насилия и немотивированного убийства. Также может присутствовать романтизация наркотиков, азартных игр и сексуальной активности.\\\n",
    "**RP** - Категория ещё не присвоена. Играм с категорией RP еще не присвоен окончательный рейтинг ESRB.\n",
    "\n",
    "Источник: (https://www.esrb.org/ratings-guide/) "
   ]
  },
  {
   "cell_type": "code",
   "execution_count": 53,
   "id": "128749b8-184a-4363-a74f-fff25d6fe029",
   "metadata": {},
   "outputs": [
    {
     "data": {
      "text/html": [
       "<div>\n",
       "<style scoped>\n",
       "    .dataframe tbody tr th:only-of-type {\n",
       "        vertical-align: middle;\n",
       "    }\n",
       "\n",
       "    .dataframe tbody tr th {\n",
       "        vertical-align: top;\n",
       "    }\n",
       "\n",
       "    .dataframe thead th {\n",
       "        text-align: right;\n",
       "    }\n",
       "</style>\n",
       "<table border=\"1\" class=\"dataframe\">\n",
       "  <thead>\n",
       "    <tr style=\"text-align: right;\">\n",
       "      <th></th>\n",
       "      <th>na_sales</th>\n",
       "      <th>ratio</th>\n",
       "    </tr>\n",
       "    <tr>\n",
       "      <th>rating</th>\n",
       "      <th></th>\n",
       "      <th></th>\n",
       "    </tr>\n",
       "  </thead>\n",
       "  <tbody>\n",
       "    <tr>\n",
       "      <th>M</th>\n",
       "      <td>165.21</td>\n",
       "      <td>0.47</td>\n",
       "    </tr>\n",
       "    <tr>\n",
       "      <th>E</th>\n",
       "      <td>79.05</td>\n",
       "      <td>0.23</td>\n",
       "    </tr>\n",
       "    <tr>\n",
       "      <th>E10+</th>\n",
       "      <td>54.24</td>\n",
       "      <td>0.16</td>\n",
       "    </tr>\n",
       "    <tr>\n",
       "      <th>T</th>\n",
       "      <td>49.79</td>\n",
       "      <td>0.14</td>\n",
       "    </tr>\n",
       "  </tbody>\n",
       "</table>\n",
       "</div>"
      ],
      "text/plain": [
       "        na_sales  ratio\n",
       "rating                 \n",
       "M         165.21   0.47\n",
       "E          79.05   0.23\n",
       "E10+       54.24   0.16\n",
       "T          49.79   0.14"
      ]
     },
     "metadata": {},
     "output_type": "display_data"
    },
    {
     "data": {
      "text/html": [
       "<div>\n",
       "<style scoped>\n",
       "    .dataframe tbody tr th:only-of-type {\n",
       "        vertical-align: middle;\n",
       "    }\n",
       "\n",
       "    .dataframe tbody tr th {\n",
       "        vertical-align: top;\n",
       "    }\n",
       "\n",
       "    .dataframe thead th {\n",
       "        text-align: right;\n",
       "    }\n",
       "</style>\n",
       "<table border=\"1\" class=\"dataframe\">\n",
       "  <thead>\n",
       "    <tr style=\"text-align: right;\">\n",
       "      <th></th>\n",
       "      <th>eu_sales</th>\n",
       "      <th>ratio</th>\n",
       "    </tr>\n",
       "    <tr>\n",
       "      <th>rating</th>\n",
       "      <th></th>\n",
       "      <th></th>\n",
       "    </tr>\n",
       "  </thead>\n",
       "  <tbody>\n",
       "    <tr>\n",
       "      <th>M</th>\n",
       "      <td>145.32</td>\n",
       "      <td>0.46</td>\n",
       "    </tr>\n",
       "    <tr>\n",
       "      <th>E</th>\n",
       "      <td>83.36</td>\n",
       "      <td>0.27</td>\n",
       "    </tr>\n",
       "    <tr>\n",
       "      <th>E10+</th>\n",
       "      <td>42.69</td>\n",
       "      <td>0.14</td>\n",
       "    </tr>\n",
       "    <tr>\n",
       "      <th>T</th>\n",
       "      <td>41.95</td>\n",
       "      <td>0.13</td>\n",
       "    </tr>\n",
       "  </tbody>\n",
       "</table>\n",
       "</div>"
      ],
      "text/plain": [
       "        eu_sales  ratio\n",
       "rating                 \n",
       "M         145.32   0.46\n",
       "E          83.36   0.27\n",
       "E10+       42.69   0.14\n",
       "T          41.95   0.13"
      ]
     },
     "metadata": {},
     "output_type": "display_data"
    },
    {
     "data": {
      "text/html": [
       "<div>\n",
       "<style scoped>\n",
       "    .dataframe tbody tr th:only-of-type {\n",
       "        vertical-align: middle;\n",
       "    }\n",
       "\n",
       "    .dataframe tbody tr th {\n",
       "        vertical-align: top;\n",
       "    }\n",
       "\n",
       "    .dataframe thead th {\n",
       "        text-align: right;\n",
       "    }\n",
       "</style>\n",
       "<table border=\"1\" class=\"dataframe\">\n",
       "  <thead>\n",
       "    <tr style=\"text-align: right;\">\n",
       "      <th></th>\n",
       "      <th>jp_sales</th>\n",
       "      <th>ratio</th>\n",
       "    </tr>\n",
       "    <tr>\n",
       "      <th>rating</th>\n",
       "      <th></th>\n",
       "      <th></th>\n",
       "    </tr>\n",
       "  </thead>\n",
       "  <tbody>\n",
       "    <tr>\n",
       "      <th>T</th>\n",
       "      <td>20.59</td>\n",
       "      <td>0.37</td>\n",
       "    </tr>\n",
       "    <tr>\n",
       "      <th>E</th>\n",
       "      <td>15.14</td>\n",
       "      <td>0.27</td>\n",
       "    </tr>\n",
       "    <tr>\n",
       "      <th>M</th>\n",
       "      <td>14.11</td>\n",
       "      <td>0.25</td>\n",
       "    </tr>\n",
       "    <tr>\n",
       "      <th>E10+</th>\n",
       "      <td>5.89</td>\n",
       "      <td>0.11</td>\n",
       "    </tr>\n",
       "  </tbody>\n",
       "</table>\n",
       "</div>"
      ],
      "text/plain": [
       "        jp_sales  ratio\n",
       "rating                 \n",
       "T          20.59   0.37\n",
       "E          15.14   0.27\n",
       "M          14.11   0.25\n",
       "E10+        5.89   0.11"
      ]
     },
     "metadata": {},
     "output_type": "display_data"
    }
   ],
   "source": [
    "# создадим цикл, который исключит значения с -1 из столбца 'rating' и создаст таблицы\n",
    "# регионов с соответствием оценок и количества проданых игр с данными оценками\n",
    "for column in ['na_sales', 'eu_sales', 'jp_sales']:\n",
    "    region = (actual_target_data[actual_target_data['rating'] != -1].\n",
    "              pivot_table(index='rating', values=column, aggfunc='sum').\n",
    "              sort_values(column, ascending=False)\n",
    "             )\n",
    "# посчитаем долю оценок от их общего количества по регионам    \n",
    "    region['ratio'] = round(region[column] / region[column].sum(), 2)\n",
    "    display(region)"
   ]
  },
  {
   "cell_type": "markdown",
   "id": "5359bf63-0248-4f80-8ec3-0ad4a564f54a",
   "metadata": {},
   "source": [
    "Части света снова отличаются по популярности рейтингов. В Америке и Европе популярностью пользуются игры для лиц старше 17 лет, тогда как на Востоке первое место по продажам принадлежит играм для подростков. Взрослые игры в Азии лишь на третьем месте по популярности. Второе местро во всех регионах принадлежит рейтингу E."
   ]
  },
  {
   "cell_type": "markdown",
   "id": "c8d8ff15-4497-4b73-b167-c0c2d28d54f1",
   "metadata": {},
   "source": [
    "**Вывод:** \n",
    "\n",
    "По анализу регионов можно составить портрет игрока.\n",
    "\n",
    "Пользователь из Северной Америки -  со средним возрастом 17 лет, в основном отдаёт предпочтение PS4, наибольшим спросом пользуются игры в жанрах 'action' и 'shooter'. Пользователь из Европы - со средним возрастом 17 лет, в основном отдаёт предпочтение PS4, наибольшим спросом пользуются игры так же в жанрах 'action' и 'shooter'. Пользователь из Азии - со средним возрастом 13 лет, наибольшим спросом пользуется полатформа 3DS, предпочтение отдаёт таким жанрам как 'role-playing' и экшенов 'action'."
   ]
  },
  {
   "cell_type": "markdown",
   "id": "29a185fd-88ba-4444-ae69-f241907cd643",
   "metadata": {},
   "source": [
    "# 5. Проверка гипотез."
   ]
  },
  {
   "cell_type": "markdown",
   "id": "2147509c-7cec-4db0-991f-4503c5c7d089",
   "metadata": {},
   "source": [
    "Так как гипотезы будем проверять в отношении пользовательских рейтингов, исключим из расчета ранее проставленные маркеты '-1' в данном стобце."
   ]
  },
  {
   "cell_type": "markdown",
   "id": "76b03eaa-f061-4a5e-b207-a92eee669b78",
   "metadata": {},
   "source": [
    "## 5.1 Гипотеза 1."
   ]
  },
  {
   "cell_type": "markdown",
   "id": "09d4abae-a07b-4c6b-a444-2a61a1e765d7",
   "metadata": {},
   "source": [
    "Средние пользовательские рейтинги платформ Xbox One и PC одинаковые?"
   ]
  },
  {
   "cell_type": "markdown",
   "id": "23ab1e8e-ed06-4963-bfa8-844bbe6cad23",
   "metadata": {},
   "source": [
    "Проверим гипотезу: **средние пользовательские рейтинги платформ Xbox One и PC одинаковые.** \n",
    "\n",
    "**H_0:** Средние пользовательские рейтинги платформы Xbox One = средние пользовательские рейтинги PC \n",
    "\n",
    "**H_1:** Средние пользовательские рейтинги платформы Xbox One != средние пользовательские рейтинги PC \n",
    "\n",
    "**Уровень стат. значимости alpha = 0.05**"
   ]
  },
  {
   "cell_type": "code",
   "execution_count": 54,
   "id": "6acec374-eb4f-4e5e-99a3-8e3d2a603fad",
   "metadata": {},
   "outputs": [
    {
     "name": "stdout",
     "output_type": "stream",
     "text": [
      "p-value равно: 0.147597032047728\n",
      "Не получилось отвергнуть нулевую гипотезу\n"
     ]
    }
   ],
   "source": [
    "xone = actual_target_data.query('platform == \"XOne\" and (user_score != -1)')['user_score']\n",
    "pc = actual_target_data.query('platform == \"PC\" and (user_score != -1)')['user_score']\n",
    "\n",
    "alpha = .05 # уровень статистической значимости\n",
    "# если p-value окажется меньше него, отвергнем гипотезу\n",
    "\n",
    "results = st.ttest_ind(xone, pc, equal_var=False)\n",
    "\n",
    "print('p-value равно:', results.pvalue)\n",
    "\n",
    "if (results.pvalue < alpha):\n",
    "    print('Отвергаем нулевую гипотезу')\n",
    "else:\n",
    "    print('Не получилось отвергнуть нулевую гипотезу')"
   ]
  },
  {
   "cell_type": "markdown",
   "id": "cf0bb988-da25-4dfd-a662-df4f88d0b09e",
   "metadata": {},
   "source": [
    "**Вывод**\n",
    "\n",
    "Нулевую гипотезу отвергнуть не получилось, вероятнее всего средние пользовательские рейтинги платформ очень близки. "
   ]
  },
  {
   "cell_type": "markdown",
   "id": "a73b593d-1588-42fd-be4b-5b7fb1e0a147",
   "metadata": {},
   "source": [
    "## 5.2 Гипотеза 2."
   ]
  },
  {
   "cell_type": "markdown",
   "id": "d604b1d3-dbcc-4033-a691-2c1bcb32cdb3",
   "metadata": {},
   "source": [
    "Средние пользовательские рейтинги жанров Action (англ. «действие», экшен-игры) и Sports (англ. «спортивные соревнования») разные?"
   ]
  },
  {
   "cell_type": "markdown",
   "id": "110ca1de-73de-41dc-b6de-c91566fc1d13",
   "metadata": {},
   "source": [
    "Проверим гипотезу: **средние пользовательские рейтинги жанров Action и Sports разные** \n",
    "\n",
    "**H_0:** Средние пользовательские рейтинги жанра Action = средние пользовательские рейтинги жанра Sports\n",
    "\n",
    "**H_1:** Средние пользовательские рейтинги жанра Action != средние пользовательские рейтинги жанра Sports  \n",
    "\n",
    "**Уровень стат. значимости alpha = 0.05**"
   ]
  },
  {
   "cell_type": "code",
   "execution_count": 55,
   "id": "ad8a2d69-6e8a-4cb3-b75f-60d334e111fb",
   "metadata": {},
   "outputs": [
    {
     "name": "stdout",
     "output_type": "stream",
     "text": [
      "p-значение: 1.4459989209941613e-20\n",
      "Отвергаем нулевую гипотезу\n"
     ]
    }
   ],
   "source": [
    "action = actual_target_data.query('genre == \"Action\" and (user_score != -1)')['user_score']\n",
    "sports = actual_target_data.query('genre == \"Sports\" and (user_score != -1)')['user_score']\n",
    "\n",
    "alpha = .05 # уровень статистической значимости\n",
    "# если p-value окажется меньше него, отвергнем гипотезу\n",
    "\n",
    "results = st.ttest_ind(action, sports, equal_var=False)\n",
    "\n",
    "print('p-значение:', results.pvalue)\n",
    "\n",
    "if (results.pvalue < alpha):\n",
    "    print(\"Отвергаем нулевую гипотезу\")\n",
    "else:\n",
    "    print(\"Не получилось отвергнуть нулевую гипотезу\")"
   ]
  },
  {
   "cell_type": "markdown",
   "id": "8865e733-f21a-45e1-a5b7-87f4addab526",
   "metadata": {},
   "source": [
    "Нулевая гипотеза не подтвердилась, cредние пользовательские рейтинги жанров имеют статистически значимое различие. "
   ]
  },
  {
   "cell_type": "markdown",
   "id": "73de2d04-0c3e-4c41-9676-8ab60f60f493",
   "metadata": {},
   "source": [
    "# 6. Общий вывод: "
   ]
  },
  {
   "cell_type": "markdown",
   "id": "e4f97373-17cb-4292-a9bd-25948420244b",
   "metadata": {},
   "source": [
    "Мы работаем в интернет-магазине «Стримчик», который продаёт по всему миру компьютерные игры и нам необходимо было провести исследование. Из открытых источников нам были доступны исторические данные о продажах игр, оценки пользователей и экспертов, жанры и платформы (например, Xbox или PlayStation). Необходимо было выявить определяющие успешность игры закономерности. Это позволит сделать ставку на потенциально популярный продукт и спланировать рекламные кампании.\n",
    "\n",
    "По результату вывода информации о датафрейме увидели, что присутствуют пропуски, вероятно возникшие в процессе сбора данных из разных источников или в системе были какие-либо сбои при логировании.\n",
    "Так же, возможно, возникли технические проблемы при передаче или хранении данных. Ко всему прочему, пропуски в рейтинговых столбцах может быть связано с отсутствием на момент выхода игры (если игра вышла до 1995) развитых рейтинговых площадок.\n",
    "\n",
    "Проверено наличие явных и неявных дубликатов. Явные дубликаты отсутствовали, однако нашли один неявный дубликат и исключили его из датасета.\n",
    "\n",
    "Наименование столбцов привели к нижниму регистру.\n",
    "\n",
    "Для проведения анализа изменили тип данных некоторых столбцов.\\\n",
    "Столбец 'Year_of_Release' привели к целочисленному типу - int.\\\n",
    "Столбец 'Critic_Score' так же привели к целочисленному типу - int.\\\n",
    "Столбец 'User_Score' привели к вещественному типу данных - float.\n",
    "\n",
    "В столбце User_Score помимо пропусков присутствовало значение 'tbd' ('to be determined' - 'будет определено'), означающее, что оценка игры на момент занесения в БД отсутствовала.\n",
    "Для проведения корректного анализа, мы заменили данные значение и 'Nan' на -1 для отсутствия пиков на графиках для данных значений и учли это в процессе анализа.\\\n",
    "Аналогичным образом поступили с пропущенными значениями столбцов 'rating', 'critic_score'.\n",
    "\n",
    "Пропуски в столбцах  'name' и 'genre' исключили, тк найти информацию и заполнить пропуски не представляется возможным. \n",
    "\n",
    "Обратили внимание, что в столбце названия спортивных игр часто встречается упоминание года или сезона, соответственно релиз игры происходит накануне года указанного в названии. Этим можно было воспользоваться и заполнить пропуски столбца 'year_of_release', однако вариаций написания очень много: Madden NFL 11, MLB SlugFest 20-03, NASCAR Thunder 2003. В своём большинестве пропуски относятся к 'вымершим' платформам на 2006 год, к тому же пропусков менее 1%, а игры без года создания не нужны поэтому отбросили их.\n",
    "\n",
    "Создан дополнительный столбец с данными о суммарных продажах по всем регионам 'total_sales'. \n",
    "\n",
    "Был проведен статистический анализ данных и мы выяснили, что начиная с 1993 года в мире растет число продаж игр и игровая индустрия интенсивно равивается. Тенденция выпускать больше игр пришла вместе с технологическим прорывом: появлением почти в каждом доме персонального компьютера и технологий языков программирования. После 2009 года наблюдаентся резкий спад спроса. К 2012 году количество продаж снизилось вдвое по сравнению с успехами 2008 - 2009 годов. Вероятнее всего это связано с долгосрочными последствиями мирового экономического кризиса начавшимся в конце 2007 - начале 2008 годов.\n",
    "\n",
    "Данные до 1994 года, на заре развития индустрии не несут в себе необходимой для анализа информации.\\\n",
    "В тройке лидеров по исходным данным такие платформы как: PS2, X360, PS3. Так же мы наблюдали, что и продолжительность актуальности данных платформ так же высока. По данным актуальным для проведения анализа, в своей активной коммерческой фазе на текущей момент пребывает платформа PS4, тогда как лидеры по продажам 2011 - 2013 гг: PS3 и X360, — к 2015-2016 гг. уже исчерпали свой коммерческий ресурс.\n",
    "\n",
    "Мы выяснили, что в среднем платформа живет около 7 лет и за интересующий нас период взяли 2013-2016 гг. Это период активной фазы платформы PS4, поэтому выбрали её как потенциально прибыльную, вклад остальных платформ в прогноз 2017 года не значителен.\\\n",
    "В целом к лидерам по продажам за выбранный период времени(2013-2016 гг.) относятся PS4, PS3 и XOne. Самые низкие доходы от продаж игр на PSP, Wii, PSV. При этом к лидерам по средним продажам относятся X360, XOne, WiiU и Wii.\\\n",
    "Выяснили, что отзывы пользователей никак не влияют на продажи игр, в то время как отзывы критиков имеют некоторое влияние на продажи. Заметили зависимость отзывов критиков и отзывами пользователей.\\\n",
    "Проверили, что для всех платформ характерно среднее влияние отзывов критиков на продажи и отсутствие влияния отзывов пользователей.\\\n",
    "Определили, что жанр 'shooter' по средним продажам лидирует по сравнению с остальными жанрами игр. Спортивные игры 'sports' и платформеры 'platform' так же имеют высокие продажи в среднем.\\\n",
    "Жанр 'action', наоборот, по этому критерию отстает, в тоже время является в целом самым популярным жанром из-за наибольшего объема продаж. Приключенческие игры 'adventure' и игры-головоломки 'puzzle' вызывают наименьший интерес среди пользователей. Их абсолютные и средние продажи одни из самых низких среди всех жанров.\n",
    "\n",
    "**Выяснили жанры самых продаваемых игр за все время:**\n",
    "Обнаружили что первой тройке отсутствует жанр 'shooter', а наоборот является одим из самых непродаваемых за все время. Вероятно, это связано с тем, что жанр 'shooter' в том виде, в котором мы его знаем на сегодняшней день относительно молодой и появился с развитием компьютерных технологий.\\\n",
    "В свою очередь самые популярные жанры самых продаваемых игр за все время: 'sports', 'action' и 'platform.\n",
    "\n",
    "**По анализу регионов составили портреты пользователей:**\n",
    "Пользователь из Северной Америки - со средним возрастом 17 лет, в основном отдаёт предпочтение PS4, наибольшим спросом пользуются игры в жанрах 'action' и 'shooter'.\\\n",
    "Пользователь из Европы - со средним возрастом 17 лет, в основном отдаёт предпочтение PS4, наибольшим спросом пользуются игры так же в жанрах 'action' и 'shooter'.\\\n",
    "Пользователь из Азии - со средним возрастом 13 лет, наибольшим спросом пользуется полатформа 3DS, предпочтение отдаёт таким жанрам как 'role-playing' и экшенов 'action'.\n",
    "\n",
    "**Проверили гипотезы:**\n",
    "\n",
    "1) Гипотеза 1: **Средние пользовательские рейтинги платформ Xbox One и PC одинаковые.** Нулевую гипотезу отвергнуть не удалось, сделали выводы, что вероятнее всего средние пользовательские рейтинги платформ очень близки. \n",
    "\n",
    "2) Гипотеза 2: **Cредние пользовательские рейтинги жанров Action и Sports разные.** Нулевая гипотеза не подтвердилась, сделали выводы, что cредние пользовательские рейтинги жанров имеют статистически значимое различие.\n",
    "\n",
    "По проведенному анализу и выявленным закономерностям определяющим успешность игры можно сделать выводы:\n",
    "1) Игры должны быть разработаны для набирающих популярность платформ PS4 или XOne, если речь идет о западном рынке, и — для платформы 3DS, если игры планируется продавать в Японии.\n",
    "2) самыми популярными жанрами являются: Action или Shooter для западного рынка и Role-Playing — для азиатского.\n",
    "3) Учесть ограничение по возрасту по рейтингу ESRB: для аудитории от 17 лет (для Америки и Европы) или от 13 лет (для Японии).\n",
    "\n",
    "Необходимо учитывать, что не стоит ориентироваться на оценки пользователей прошлих лет так как на продажи это не оказывает существенного влияния. В тоже время отзывы критиков не стоит упускать из внимания, их отзывы имеют значение. Тем не менее, если пользовательский рейтинг все-таки будет важен создателям игры, то необходимо знать, что в жанре 'Sports' рейтинг пользователей, как правило, выше, чем в жанре 'Action'."
   ]
  }
 ],
 "metadata": {
  "ExecuteTimeLog": [
   {
    "duration": 1440,
    "start_time": "2023-11-07T11:32:55.157Z"
   },
   {
    "duration": 201,
    "start_time": "2023-11-07T11:32:56.599Z"
   },
   {
    "duration": 21,
    "start_time": "2023-11-07T11:32:56.802Z"
   },
   {
    "duration": 44,
    "start_time": "2023-11-07T11:32:56.825Z"
   },
   {
    "duration": 17,
    "start_time": "2023-11-07T11:32:56.871Z"
   },
   {
    "duration": 68,
    "start_time": "2023-11-07T11:32:56.890Z"
   },
   {
    "duration": 25,
    "start_time": "2023-11-07T11:32:56.960Z"
   },
   {
    "duration": 98,
    "start_time": "2023-11-07T11:32:56.988Z"
   },
   {
    "duration": 16,
    "start_time": "2023-11-07T11:32:57.087Z"
   },
   {
    "duration": 63,
    "start_time": "2023-11-07T11:32:57.105Z"
   },
   {
    "duration": 46,
    "start_time": "2023-11-07T11:32:57.169Z"
   },
   {
    "duration": 29,
    "start_time": "2023-11-07T11:32:57.217Z"
   },
   {
    "duration": 38,
    "start_time": "2023-11-07T11:32:57.248Z"
   },
   {
    "duration": 90,
    "start_time": "2023-11-07T11:32:57.288Z"
   },
   {
    "duration": 26,
    "start_time": "2023-11-07T11:32:57.381Z"
   },
   {
    "duration": 72,
    "start_time": "2023-11-07T11:32:57.409Z"
   },
   {
    "duration": 35,
    "start_time": "2023-11-07T11:32:57.484Z"
   },
   {
    "duration": 30,
    "start_time": "2023-11-07T11:32:57.521Z"
   },
   {
    "duration": 62,
    "start_time": "2023-11-07T11:32:57.553Z"
   },
   {
    "duration": 477,
    "start_time": "2023-11-07T11:32:57.617Z"
   },
   {
    "duration": 293,
    "start_time": "2023-11-07T11:32:58.096Z"
   },
   {
    "duration": 146,
    "start_time": "2023-11-07T11:32:58.390Z"
   },
   {
    "duration": 10,
    "start_time": "2023-11-07T11:32:58.540Z"
   },
   {
    "duration": 25,
    "start_time": "2023-11-07T11:32:58.553Z"
   },
   {
    "duration": 49,
    "start_time": "2023-11-07T11:32:58.580Z"
   },
   {
    "duration": 325,
    "start_time": "2023-11-07T11:32:58.630Z"
   },
   {
    "duration": 5,
    "start_time": "2023-11-07T11:32:58.957Z"
   },
   {
    "duration": 499,
    "start_time": "2023-11-07T11:32:58.966Z"
   },
   {
    "duration": 18,
    "start_time": "2023-11-07T11:32:59.467Z"
   },
   {
    "duration": 332,
    "start_time": "2023-11-07T11:32:59.491Z"
   },
   {
    "duration": 397,
    "start_time": "2023-11-07T11:32:59.825Z"
   },
   {
    "duration": 323,
    "start_time": "2023-11-07T11:33:00.224Z"
   },
   {
    "duration": 325,
    "start_time": "2023-11-07T11:33:00.548Z"
   },
   {
    "duration": 297,
    "start_time": "2023-11-07T11:33:00.875Z"
   },
   {
    "duration": 15,
    "start_time": "2023-11-07T11:33:01.174Z"
   },
   {
    "duration": 553,
    "start_time": "2023-11-07T11:33:01.191Z"
   },
   {
    "duration": 57,
    "start_time": "2023-11-07T11:33:01.745Z"
   },
   {
    "duration": 19,
    "start_time": "2023-11-07T11:33:01.804Z"
   },
   {
    "duration": 25,
    "start_time": "2023-11-07T11:33:01.825Z"
   },
   {
    "duration": 58,
    "start_time": "2023-11-07T11:33:01.853Z"
   },
   {
    "duration": 20,
    "start_time": "2023-11-07T11:33:01.913Z"
   },
   {
    "duration": 70,
    "start_time": "2023-11-07T11:33:01.935Z"
   },
   {
    "duration": 55,
    "start_time": "2023-11-07T11:33:02.007Z"
   },
   {
    "duration": 378,
    "start_time": "2023-11-07T11:33:02.064Z"
   },
   {
    "duration": 17,
    "start_time": "2023-11-07T11:33:02.443Z"
   },
   {
    "duration": 40,
    "start_time": "2023-11-07T11:33:02.463Z"
   },
   {
    "duration": 24,
    "start_time": "2023-11-07T11:54:05.887Z"
   },
   {
    "duration": 6,
    "start_time": "2023-11-07T11:54:12.744Z"
   },
   {
    "duration": 1517,
    "start_time": "2023-11-07T19:42:31.776Z"
   },
   {
    "duration": 92,
    "start_time": "2023-11-07T19:42:33.295Z"
   },
   {
    "duration": 26,
    "start_time": "2023-11-07T19:42:33.390Z"
   },
   {
    "duration": 30,
    "start_time": "2023-11-07T19:42:33.418Z"
   },
   {
    "duration": 24,
    "start_time": "2023-11-07T19:42:33.452Z"
   },
   {
    "duration": 58,
    "start_time": "2023-11-07T19:42:33.482Z"
   },
   {
    "duration": 27,
    "start_time": "2023-11-07T19:42:33.543Z"
   },
   {
    "duration": 73,
    "start_time": "2023-11-07T19:42:33.572Z"
   },
   {
    "duration": 16,
    "start_time": "2023-11-07T19:42:33.647Z"
   },
   {
    "duration": 27,
    "start_time": "2023-11-07T19:42:33.665Z"
   },
   {
    "duration": 44,
    "start_time": "2023-11-07T19:42:33.694Z"
   },
   {
    "duration": 21,
    "start_time": "2023-11-07T19:42:33.740Z"
   },
   {
    "duration": 20,
    "start_time": "2023-11-07T19:42:33.762Z"
   },
   {
    "duration": 18,
    "start_time": "2023-11-07T19:42:33.785Z"
   },
   {
    "duration": 19,
    "start_time": "2023-11-07T19:42:33.805Z"
   },
   {
    "duration": 33,
    "start_time": "2023-11-07T19:42:33.825Z"
   },
   {
    "duration": 18,
    "start_time": "2023-11-07T19:42:33.859Z"
   },
   {
    "duration": 17,
    "start_time": "2023-11-07T19:42:33.879Z"
   },
   {
    "duration": 55,
    "start_time": "2023-11-07T19:42:33.897Z"
   },
   {
    "duration": 10,
    "start_time": "2023-11-07T19:42:33.954Z"
   },
   {
    "duration": 29,
    "start_time": "2023-11-07T19:42:33.966Z"
   },
   {
    "duration": 530,
    "start_time": "2023-11-07T19:42:33.996Z"
   },
   {
    "duration": 22,
    "start_time": "2023-11-07T19:42:34.528Z"
   },
   {
    "duration": 127,
    "start_time": "2023-11-07T19:42:34.551Z"
   },
   {
    "duration": 8,
    "start_time": "2023-11-07T19:42:34.680Z"
   },
   {
    "duration": 31,
    "start_time": "2023-11-07T19:42:34.690Z"
   },
   {
    "duration": 67,
    "start_time": "2023-11-07T19:42:34.722Z"
   },
   {
    "duration": 361,
    "start_time": "2023-11-07T19:42:34.791Z"
   },
   {
    "duration": 4,
    "start_time": "2023-11-07T19:42:35.155Z"
   },
   {
    "duration": 556,
    "start_time": "2023-11-07T19:42:35.161Z"
   },
   {
    "duration": 605,
    "start_time": "2023-11-07T19:42:35.719Z"
   },
   {
    "duration": 31,
    "start_time": "2023-11-07T19:42:36.331Z"
   },
   {
    "duration": 338,
    "start_time": "2023-11-07T19:42:36.363Z"
   },
   {
    "duration": 465,
    "start_time": "2023-11-07T19:42:36.702Z"
   },
   {
    "duration": 475,
    "start_time": "2023-11-07T19:42:37.169Z"
   },
   {
    "duration": 305,
    "start_time": "2023-11-07T19:42:37.661Z"
   },
   {
    "duration": 363,
    "start_time": "2023-11-07T19:42:37.969Z"
   },
   {
    "duration": 25,
    "start_time": "2023-11-07T19:42:38.337Z"
   },
   {
    "duration": 585,
    "start_time": "2023-11-07T19:42:38.368Z"
   },
   {
    "duration": 44,
    "start_time": "2023-11-07T19:42:38.955Z"
   },
   {
    "duration": 34,
    "start_time": "2023-11-07T19:42:39.003Z"
   },
   {
    "duration": 239,
    "start_time": "2023-11-07T19:42:39.038Z"
   },
   {
    "duration": 15,
    "start_time": "2023-11-07T19:42:39.279Z"
   },
   {
    "duration": 265,
    "start_time": "2023-11-07T19:42:39.296Z"
   },
   {
    "duration": 19,
    "start_time": "2023-11-07T19:42:39.565Z"
   },
   {
    "duration": 250,
    "start_time": "2023-11-07T19:42:39.586Z"
   },
   {
    "duration": 18,
    "start_time": "2023-11-07T19:42:39.843Z"
   },
   {
    "duration": 429,
    "start_time": "2023-11-07T19:42:39.863Z"
   },
   {
    "duration": 21,
    "start_time": "2023-11-07T19:42:40.294Z"
   },
   {
    "duration": 226,
    "start_time": "2023-11-07T19:42:40.317Z"
   },
   {
    "duration": 26,
    "start_time": "2023-11-07T19:42:40.548Z"
   },
   {
    "duration": 213,
    "start_time": "2023-11-07T19:42:40.581Z"
   },
   {
    "duration": 81,
    "start_time": "2023-11-07T19:42:40.796Z"
   },
   {
    "duration": 16,
    "start_time": "2023-11-07T19:42:40.879Z"
   },
   {
    "duration": 22,
    "start_time": "2023-11-07T19:42:40.897Z"
   }
  ],
  "kernelspec": {
   "display_name": "Python 3 (ipykernel)",
   "language": "python",
   "name": "python3"
  },
  "language_info": {
   "codemirror_mode": {
    "name": "ipython",
    "version": 3
   },
   "file_extension": ".py",
   "mimetype": "text/x-python",
   "name": "python",
   "nbconvert_exporter": "python",
   "pygments_lexer": "ipython3",
   "version": "3.11.5"
  },
  "toc": {
   "base_numbering": 1,
   "nav_menu": {},
   "number_sections": true,
   "sideBar": true,
   "skip_h1_title": true,
   "title_cell": "Table of Contents",
   "title_sidebar": "Contents",
   "toc_cell": false,
   "toc_position": {},
   "toc_section_display": true,
   "toc_window_display": true
  }
 },
 "nbformat": 4,
 "nbformat_minor": 5
}
